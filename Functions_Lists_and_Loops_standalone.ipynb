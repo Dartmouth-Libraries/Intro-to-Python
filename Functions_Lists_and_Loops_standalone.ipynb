{
 "cells": [
  {
   "cell_type": "markdown",
   "metadata": {},
   "source": [
    "# Functions, Lists and Loops\n",
    "\n",
    "**A Reproducible Research Workshop**\n",
    "\n",
    "(A Collaboration between Dartmouth Library and Research Computing)\n",
    "\n",
    "[*Click here to view or register for our current list of workshops*](http://dartgo.org/RRADworkshops)\n",
    "\n",
    "*Created by*:\n",
    "+ Version 1.0: Jeremy Mikecz, Research Data Services (Dartmouth Library)\n",
    "+ Version 2.0: revised, rewritten, and updated by Mansa Krishna (Earth Science) - (*much thanks Mansa!)\n",
    "+ Some of the inspiration for the code and information in this notebook was taken from https://www.w3schools.com/python/python_intro.asp -- This is a great resource if you want to learn more about Python!\n",
    "\n",
    "## I. Indentation\n",
    "\n",
    "1. Before we dive into functions, lists and loops, we need to talk about an important aspect of Python syntax: **indentation**. Indentation refers to the space at the beginning of a line of code. In other programming languages, indentation is usually aesthetic, but in Python it's super important!\n",
    "\n",
    "To indent you could either use four spaces or press the tab key. "
   ]
  },
  {
   "cell_type": "code",
   "execution_count": null,
   "metadata": {},
   "outputs": [],
   "source": [
    "# Indentation can indicate a block of code. \n",
    "if 50 > 2: \n",
    "    print('Fifty is greater than two') # notice the indent here!"
   ]
  },
  {
   "cell_type": "code",
   "execution_count": null,
   "metadata": {},
   "outputs": [],
   "source": [
    "# Python will give you an error if you miss the indent. \n",
    "if 50 > 2: \n",
    "print('Fifty is greater than two') "
   ]
  },
  {
   "cell_type": "markdown",
   "metadata": {},
   "source": [
    "## II. Functions\n",
    "\n",
    "At times, we want Python to perform a specific task, but it doesn't have the built-in function that we need. Fortunately, we can write our own functions. \n",
    "\n",
    "A function is a piece of code that only runs when it is called (this will make a bit more sense after we see an example). We can pass parameters (data) into a function, which will perform operations on them. \n",
    "\n",
    "2. In Python, we use the `def` keyword to define a function. "
   ]
  },
  {
   "cell_type": "code",
   "execution_count": null,
   "metadata": {},
   "outputs": [],
   "source": [
    "# First, create a function\n",
    "def print_hello():\n",
    "    print('Hello!')"
   ]
  },
  {
   "cell_type": "markdown",
   "metadata": {},
   "source": [
    "3. The above function does not do anything until called:"
   ]
  },
  {
   "cell_type": "code",
   "execution_count": null,
   "metadata": {},
   "outputs": [],
   "source": [
    "# Next, call the function\n",
    "print_hello()"
   ]
  },
  {
   "cell_type": "code",
   "execution_count": null,
   "metadata": {},
   "outputs": [],
   "source": [
    "# Now, let's try adding some arguments/parameters to our functions\n",
    "def add(x, y):\n",
    "    # we want to add these numbers and\n",
    "    # return the result\n",
    "    sum = x + y\n",
    "    \n",
    "    return sum\n",
    "    \n",
    "add(7, 3)"
   ]
  },
  {
   "cell_type": "markdown",
   "metadata": {},
   "source": [
    "<h3 style=\"color:blue;\">Exercises for Part II</h3>\n",
    "    \n",
    "<p style=\"color:blue;\">4. Try calling our add() function, but this time with 3 numbers. What happens?</p>"
   ]
  },
  {
   "cell_type": "code",
   "execution_count": null,
   "metadata": {},
   "outputs": [],
   "source": []
  },
  {
   "cell_type": "markdown",
   "metadata": {},
   "source": [
    "## III. Creating Lists\n",
    "\n",
    "5. Storing data in individual variables makes sense when you have a few unique values. \n",
    "\n",
    "However, operating on many individual variables would be tedious and time-consuming. \n",
    "\n",
    "Instead, we can store multiple values under one variable using lists. Say, for example, you want to store quiz scores for a class or multiple race results for a single track athlete. You could store them in a list.\n",
    "\n",
    "```\n",
    "**Scores - Quiz 1**   \n",
    "73.5\n",
    "86.2\n",
    "81.9\n",
    "90.1\n",
    "67.8\n",
    "88.0\n",
    "```/"
   ]
  },
  {
   "cell_type": "markdown",
   "metadata": {},
   "source": [
    "6. Lists require two principal symbols:\n",
    "\n",
    "* ```[]``` to store values\n",
    "* ```,``` to separate values\n",
    "\n",
    ". So the list of scores for the first quiz could be stored by:"
   ]
  },
  {
   "cell_type": "code",
   "execution_count": null,
   "metadata": {},
   "outputs": [],
   "source": [
    "# Run this cell by pressing Ctrl+Enter or pressing the play button while selecting this cell.\n",
    "quiz1 = [73.5, 86.2, 81.9, 90.1, 57.8, 88.0]"
   ]
  },
  {
   "cell_type": "markdown",
   "metadata": {},
   "source": [
    "7. Lists can contain any type of data. For example, a list of strings may look like this:"
   ]
  },
  {
   "cell_type": "code",
   "execution_count": null,
   "metadata": {},
   "outputs": [],
   "source": [
    "student_names = [\"Ezekiel\", \"Maura\", \"Aly\", \"Xavi\", \"Donato\", \"Jenny\"]"
   ]
  },
  {
   "cell_type": "markdown",
   "metadata": {},
   "source": [
    "8. Or booleans, like:"
   ]
  },
  {
   "cell_type": "code",
   "execution_count": null,
   "metadata": {},
   "outputs": [],
   "source": [
    "passed = [True, True, True, True, False, True]"
   ]
  },
  {
   "cell_type": "markdown",
   "metadata": {},
   "source": [
    "Note: Python only recognizes \"True\" and \"False\" as booleans, not \"TRUE\" or \"false\"."
   ]
  },
  {
   "cell_type": "markdown",
   "metadata": {},
   "source": [
    "9. You can print out the contents of these lists using the built-in function **print()**."
   ]
  },
  {
   "cell_type": "code",
   "execution_count": null,
   "metadata": {},
   "outputs": [],
   "source": [
    "print(quiz1)"
   ]
  },
  {
   "cell_type": "markdown",
   "metadata": {},
   "source": [
    "10. To check to see if a variable name contains a list, use the **type()** function."
   ]
  },
  {
   "cell_type": "code",
   "execution_count": null,
   "metadata": {},
   "outputs": [],
   "source": [
    "type(passed)"
   ]
  },
  {
   "cell_type": "markdown",
   "metadata": {},
   "source": [
    "11. You can also calculate the total number of items in a list using the built-in function **len()**. Run the following code:"
   ]
  },
  {
   "cell_type": "code",
   "execution_count": null,
   "metadata": {},
   "outputs": [],
   "source": [
    "len(quiz1)"
   ]
  },
  {
   "cell_type": "markdown",
   "metadata": {},
   "source": [
    "11b. We can run some basic functions to retrieve other information from a list."
   ]
  },
  {
   "cell_type": "code",
   "execution_count": null,
   "metadata": {},
   "outputs": [],
   "source": [
    "print(max(quiz1))\n",
    "print(min(quiz1))\n",
    "print(max(student_names))\n",
    "min(student_names)         #no print function necessary for last line in a cell"
   ]
  },
  {
   "cell_type": "markdown",
   "metadata": {},
   "source": [
    "12. *As we already learned, **len()** works on characters strings as well as lists.* But, it counts characters differently. Run the following code and then calculate the length of each variable. What do you notice?"
   ]
  },
  {
   "cell_type": "code",
   "execution_count": null,
   "metadata": {},
   "outputs": [],
   "source": [
    "sent = \"This is a sentence.\"\n",
    "words = [\"This\", \"is\", \"a\", \"sentence.\"]"
   ]
  },
  {
   "cell_type": "code",
   "execution_count": null,
   "metadata": {},
   "outputs": [],
   "source": [
    "#calculate the length of \"sent\" and \"words\".\n",
    "print(len(sent))\n",
    "print(len(words))"
   ]
  },
  {
   "cell_type": "code",
   "execution_count": null,
   "metadata": {},
   "outputs": [],
   "source": [
    "\n"
   ]
  },
  {
   "cell_type": "markdown",
   "metadata": {},
   "source": [
    "<h3 style=\"color:blue;\">Exercises for Part III</h3>\n",
    "    \n",
    "<p style=\"color:blue;\">13. Create a list of at least five of your favorite numbers (or numbers that recall a significant event, person, or stage of your life). Save to the variable **fav_numbers**.</p>"
   ]
  },
  {
   "cell_type": "code",
   "execution_count": null,
   "metadata": {},
   "outputs": [],
   "source": []
  },
  {
   "cell_type": "markdown",
   "metadata": {},
   "source": [
    "<p style=\"color:blue;\">14. Create a list of at least five people that have inspired you. Save to the variable **inspirational_people**.</p>"
   ]
  },
  {
   "cell_type": "code",
   "execution_count": null,
   "metadata": {},
   "outputs": [],
   "source": []
  },
  {
   "cell_type": "markdown",
   "metadata": {},
   "source": [
    "<p style=\"color:blue;\">15. Now, print out each of these lists.</p>"
   ]
  },
  {
   "cell_type": "code",
   "execution_count": null,
   "metadata": {},
   "outputs": [],
   "source": []
  },
  {
   "cell_type": "markdown",
   "metadata": {},
   "source": [
    "<p style=\"color:blue;\">16. Print out the length of each of these lists.</p>"
   ]
  },
  {
   "cell_type": "code",
   "execution_count": null,
   "metadata": {},
   "outputs": [],
   "source": []
  },
  {
   "cell_type": "markdown",
   "metadata": {},
   "source": [
    "<p style=\"color:blue;\">16b. Print out the maximum value from each list.</p>"
   ]
  },
  {
   "cell_type": "code",
   "execution_count": null,
   "metadata": {},
   "outputs": [],
   "source": []
  },
  {
   "cell_type": "markdown",
   "metadata": {},
   "source": [
    "## IV. List Indexes"
   ]
  },
  {
   "cell_type": "markdown",
   "metadata": {},
   "source": [
    "We can retrieve portions of the list using indexes and slices. \n",
    "\n",
    "One important note: in Python the first item in a series is always considered number 0.\n",
    "\n",
    "17. Thus, to retrieve the first item in our list (that is, the first quiz score), you would simply run:"
   ]
  },
  {
   "cell_type": "code",
   "execution_count": null,
   "metadata": {},
   "outputs": [],
   "source": [
    "quiz1[0]"
   ]
  },
  {
   "cell_type": "markdown",
   "metadata": {},
   "source": [
    "<div class=\"alert alert-success\" role=\"alert\">\n",
    "    <p style=\"color:green\"><b>18. Code Together</b>: Using the same format, now try retrieving the 3rd person from your list of inspirational people.</p>\n",
    "</div>"
   ]
  },
  {
   "cell_type": "code",
   "execution_count": null,
   "metadata": {},
   "outputs": [],
   "source": []
  },
  {
   "cell_type": "markdown",
   "metadata": {},
   "source": [
    "Now imagine you have a long list. You can identify the last item in a list by using the index [-1]. For example:\n",
    "\n",
    "```\n",
    "name-of-list[-1]\n",
    "```\n",
    "\n",
    "<div class=\"alert alert-success\" role=\"alert\">\n",
    "    <p style=\"color:green\"><b>19. Code Together</b>: Try that below with our list of quiz scores.</p>\n",
    "</div>"
   ]
  },
  {
   "cell_type": "code",
   "execution_count": null,
   "metadata": {},
   "outputs": [],
   "source": []
  },
  {
   "cell_type": "markdown",
   "metadata": {},
   "source": [
    "<div class=\"alert alert-success\" role=\"alert\">\n",
    "    <p style=\"color:green\"><b>20. Code Together</b>: Indexing beyond the end of the list will produce an \"IndexError\". Try, for example, retrieving the 100th item in our list of quiz scores.</p>\n",
    "</div>"
   ]
  },
  {
   "cell_type": "code",
   "execution_count": null,
   "metadata": {},
   "outputs": [],
   "source": []
  },
  {
   "cell_type": "markdown",
   "metadata": {},
   "source": [
    "## V. List Slices"
   ]
  },
  {
   "cell_type": "markdown",
   "metadata": {},
   "source": [
    "To retrieve multiple, consecutive items from a list, we can use slices.\n",
    "\n",
    "The format is as follows:\n",
    "\n",
    "```\n",
    "name-of-list[start:end]\n",
    "\n",
    "```\n",
    "\n",
    "List slices begin with the start number but end one number before the end number.\n",
    "\n",
    "So, **\"start\"** is the index of the first item of the list (starting with zero) and\n",
    "**\"end\"** is the index of the last item in the list + 1.\n",
    "\n",
    "21. Run the cell below"
   ]
  },
  {
   "cell_type": "code",
   "execution_count": null,
   "metadata": {},
   "outputs": [],
   "source": [
    "quiz1[0:2]"
   ]
  },
  {
   "cell_type": "markdown",
   "metadata": {},
   "source": [
    "<div class=\"alert alert-success\" role=\"alert\">\n",
    "    <p style=\"color:green\"><b>22. Code Together</b>: Using this format, retrieve the second through fourth item in our list. Compare the results to our original list. If you did it wrong, adjust the indices you are using.</p>\n",
    "</div>"
   ]
  },
  {
   "cell_type": "code",
   "execution_count": null,
   "metadata": {},
   "outputs": [],
   "source": [
    "\n",
    "# remember that incrementing starts at 0!"
   ]
  },
  {
   "cell_type": "markdown",
   "metadata": {},
   "source": [
    "## VI. Modifying a List\n",
    "\n",
    "There are multiple ways to modify a list. \n",
    "\n",
    "23. Run the following code and see what each does. Then finish the text cell below."
   ]
  },
  {
   "cell_type": "code",
   "execution_count": null,
   "metadata": {},
   "outputs": [],
   "source": [
    "print(quiz1)\n",
    "quiz1.append(96.6) # appending an element to the list\n",
    "print(quiz1)\n",
    "\n",
    "#run this cell multiple times to see what happens"
   ]
  },
  {
   "cell_type": "markdown",
   "metadata": {},
   "source": [
    "The **append** method modifies a list by [*insert your explanation here*].\n",
    "\n",
    "24. Now, let's compare it to the extend method."
   ]
  },
  {
   "cell_type": "code",
   "execution_count": null,
   "metadata": {},
   "outputs": [],
   "source": [
    "print(quiz1)\n",
    "quiz_group2 = [78.7, 94.0, 89.3]\n",
    "quiz1.extend(quiz_group2)\n",
    "print(quiz1)"
   ]
  },
  {
   "cell_type": "markdown",
   "metadata": {},
   "source": [
    "The **extend** method modifies a list by ....\n",
    "\n",
    "25. Can you guess what pop does?"
   ]
  },
  {
   "cell_type": "code",
   "execution_count": null,
   "metadata": {},
   "outputs": [],
   "source": [
    "print(quiz1)\n",
    "quiz1.pop()\n",
    "print(quiz1)"
   ]
  },
  {
   "cell_type": "markdown",
   "metadata": {},
   "source": [
    "The **pop** method modifies a list by ...\n",
    "\n",
    "26. Often, there are multiple ways to accomplished the same thing. For example:"
   ]
  },
  {
   "cell_type": "code",
   "execution_count": null,
   "metadata": {},
   "outputs": [],
   "source": [
    "print(quiz1)\n",
    "quiz_group3 = [88.9, 93.3, 98.6]\n",
    "quiz1 = quiz1 + quiz_group3 # notice that we've used '+' here!\n",
    "print(quiz1)"
   ]
  },
  {
   "cell_type": "code",
   "execution_count": null,
   "metadata": {},
   "outputs": [],
   "source": [
    "# We can also use built-in functions with lists\n",
    "max(quiz1) # returns the maximum value in a list"
   ]
  },
  {
   "cell_type": "code",
   "execution_count": null,
   "metadata": {},
   "outputs": [],
   "source": [
    "# sorting a list\n",
    "sorted(student_names, reverse=True)"
   ]
  },
  {
   "cell_type": "markdown",
   "metadata": {},
   "source": [
    "<h3 style=\"color:blue;\">Exercises for Part VI</h3>\n",
    "    \n",
    "<p style=\"color:blue;\">27. Create a list of some of your favorite musicians, actors, or writers (at least 4).</p>"
   ]
  },
  {
   "cell_type": "code",
   "execution_count": null,
   "metadata": {},
   "outputs": [],
   "source": []
  },
  {
   "cell_type": "markdown",
   "metadata": {},
   "source": [
    "<p style=\"color:blue;\">28. Add that list to your list of inspirational people. Print out this new list.</p>"
   ]
  },
  {
   "cell_type": "code",
   "execution_count": null,
   "metadata": {},
   "outputs": [],
   "source": []
  },
  {
   "cell_type": "markdown",
   "metadata": {},
   "source": [
    "<p style=\"color:blue;\">29. Calculate the number of people in your inspirational_people list. Then replace the 3rd to last person with another important person to you.</p>"
   ]
  },
  {
   "cell_type": "code",
   "execution_count": null,
   "metadata": {},
   "outputs": [],
   "source": []
  },
  {
   "cell_type": "code",
   "execution_count": null,
   "metadata": {},
   "outputs": [],
   "source": []
  },
  {
   "cell_type": "markdown",
   "metadata": {},
   "source": [
    "<p style=\"color:blue;\">30. Multiply your list of inspirational_people by two:</p>\n",
    "\n",
    "```\n",
    "print(inspirational_people * 2)\n",
    "```\n",
    "\n",
    "What happens?"
   ]
  },
  {
   "cell_type": "code",
   "execution_count": null,
   "metadata": {},
   "outputs": [],
   "source": []
  },
  {
   "cell_type": "markdown",
   "metadata": {},
   "source": [
    "31. Run the following code. What does the **set()** function do?"
   ]
  },
  {
   "cell_type": "code",
   "execution_count": null,
   "metadata": {},
   "outputs": [],
   "source": [
    "numbers = [12,4,5,2,3,2,2,4,7,8,9,2,3,1,2,1,1,2,1,4,67,3,5,3,5,7,4,1,3,2,4,1,7,2,16,23,4,5]\n",
    "print(set(numbers))"
   ]
  },
  {
   "cell_type": "markdown",
   "metadata": {},
   "source": [
    "32. We can also sort lists. Run the following. How do they differ?"
   ]
  },
  {
   "cell_type": "code",
   "execution_count": null,
   "metadata": {},
   "outputs": [],
   "source": [
    "print(sorted(numbers))\n",
    "print(sorted(numbers, reverse = True))\n",
    "print(set(sorted(numbers)))\n",
    "print(sorted(set(numbers)))"
   ]
  },
  {
   "cell_type": "markdown",
   "metadata": {},
   "source": [
    "<h3 style=\"color:blue;\">Exercises for Part VI (continued)</h3>\n",
    "    \n",
    "<p style=\"color:blue;\">33. Print out a list of your inspirational people, sorted in descending order.</p>"
   ]
  },
  {
   "cell_type": "code",
   "execution_count": null,
   "metadata": {},
   "outputs": [],
   "source": []
  },
  {
   "cell_type": "markdown",
   "metadata": {},
   "source": [
    "<p style=\"color:blue;\">34. Calculate the class's average quiz score using functions and methods introduced in this lesson.</p>"
   ]
  },
  {
   "cell_type": "code",
   "execution_count": null,
   "metadata": {},
   "outputs": [],
   "source": [
    "\n"
   ]
  },
  {
   "cell_type": "markdown",
   "metadata": {},
   "source": [
    "<p style=\"color:blue;\">35. Apply the **min()** and **max()** functions to your list of inspirational_people. What happens?</p>"
   ]
  },
  {
   "cell_type": "code",
   "execution_count": null,
   "metadata": {},
   "outputs": [],
   "source": []
  },
  {
   "cell_type": "markdown",
   "metadata": {},
   "source": [
    "## VII. Loops\n",
    "\n",
    "Often we want to examine or modify each individual item in a list. An easy way to iterate over a list is using a **for loop**. The general structure of a for loop is:\n",
    "\n",
    "```\n",
    "for item in named_list:\n",
    "    [instructions for what to do with each item]\n",
    "```\n",
    "\n",
    "In such for loops, named_list must be an already established list. \"item\", however, is an arbitrary variable name we are assigning to each item in the list. \n",
    "\n",
    "36. Run the simple for loop below:\n"
   ]
  },
  {
   "cell_type": "code",
   "execution_count": null,
   "metadata": {},
   "outputs": [],
   "source": [
    "for name in student_names:  #note: student_names is an already defined list; *name* is assigned here to each individual item in this list\n",
    "    print(name)"
   ]
  },
  {
   "cell_type": "markdown",
   "metadata": {},
   "source": [
    "37. We can use for loops to modify items in a list. \n",
    "\n",
    "For example, see what happens when we apply the **.lower()** method to each item in our student_names_sorted list."
   ]
  },
  {
   "cell_type": "code",
   "execution_count": null,
   "metadata": {},
   "outputs": [],
   "source": [
    "sorted_names = sorted(student_names)\n",
    "for name in sorted_names:\n",
    "    print(name.lower())"
   ]
  },
  {
   "cell_type": "markdown",
   "metadata": {},
   "source": [
    "<h3 style=\"color:blue;\">Exercises for Part VII </h3>\n",
    "    \n",
    "<p style=\"color:blue;\">38. Can you guess how to convert all student names into uppercase? Try to do so below:</p>"
   ]
  },
  {
   "cell_type": "code",
   "execution_count": null,
   "metadata": {},
   "outputs": [],
   "source": []
  },
  {
   "cell_type": "markdown",
   "metadata": {},
   "source": [
    "39. To save these variations, we need to save them to a new list. We can do so using the following formula:\n",
    "\n",
    "```\n",
    "new_list = []  #creates a new, empty list\n",
    "for item in existing_list:\n",
    "    new_item = [modify original item]\n",
    "    new_list.append(new_item)\n",
    "```"
   ]
  },
  {
   "cell_type": "code",
   "execution_count": null,
   "metadata": {},
   "outputs": [],
   "source": [
    "student_names_lower = []\n",
    "for name in sorted_names:\n",
    "    lower_name = name.lower()\n",
    "    student_names_lower.append(lower_name)"
   ]
  },
  {
   "cell_type": "markdown",
   "metadata": {},
   "source": [
    "40. Print out this new list:"
   ]
  },
  {
   "cell_type": "code",
   "execution_count": null,
   "metadata": {},
   "outputs": [],
   "source": [
    "print(student_names_lower)"
   ]
  },
  {
   "cell_type": "markdown",
   "metadata": {},
   "source": [
    "<h3 style=\"color:blue;\">Exercises for Part VII (continued)</h3>\n",
    "    \n",
    "<p style=\"color:blue;\">41. Create a new list of your inspirational people, but converted to upper case.</p>"
   ]
  },
  {
   "cell_type": "code",
   "execution_count": null,
   "metadata": {},
   "outputs": [],
   "source": [
    "\n"
   ]
  },
  {
   "cell_type": "code",
   "execution_count": null,
   "metadata": {},
   "outputs": [],
   "source": []
  },
  {
   "cell_type": "markdown",
   "metadata": {},
   "source": [
    "<p style=\"color:blue;\">42. You are the students' instructor. You have decided to grade their quizzes on a curve (see variable \"quiz1\" from the beginning of this lesson), increasing each grade by 10%. Create a new list storing students' updated scores.</p>"
   ]
  },
  {
   "cell_type": "code",
   "execution_count": null,
   "metadata": {},
   "outputs": [],
   "source": [
    "\n"
   ]
  },
  {
   "cell_type": "markdown",
   "metadata": {},
   "source": [
    "<p style=\"color:blue;\">43. Create a list that stores the number of characters found in the name of each of your inspiration people. Then, calculate the average name length of these people.</p>"
   ]
  },
  {
   "cell_type": "code",
   "execution_count": null,
   "metadata": {},
   "outputs": [],
   "source": []
  },
  {
   "cell_type": "code",
   "execution_count": null,
   "metadata": {},
   "outputs": [],
   "source": []
  }
 ],
 "metadata": {
  "kernelspec": {
   "display_name": "Python 3 (ipykernel)",
   "language": "python",
   "name": "python3"
  },
  "language_info": {
   "codemirror_mode": {
    "name": "ipython",
    "version": 3
   },
   "file_extension": ".py",
   "mimetype": "text/x-python",
   "name": "python",
   "nbconvert_exporter": "python",
   "pygments_lexer": "ipython3",
   "version": "3.9.13"
  },
  "vscode": {
   "interpreter": {
    "hash": "92ccb6e3f8e1ba46ac70611fe300a00d231540f34c9f821035b67580ebdf166e"
   }
  }
 },
 "nbformat": 4,
 "nbformat_minor": 2
}
