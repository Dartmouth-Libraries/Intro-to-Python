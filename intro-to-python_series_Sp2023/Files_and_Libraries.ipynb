{
 "cells": [
  {
   "attachments": {},
   "cell_type": "markdown",
   "metadata": {},
   "source": [
    "# Files and Libraries\n",
    "\n",
    "## I. Libraries, Modules, and Functions\n",
    "\n",
    "With Python alone, a programmer can perform some basic operations using simple functions like **print()**, **len()**, **max()**, **min()**, **sorted()** as well as some methods applied directly to particular data types (like **.lower()** and **.upper()** for strings).\n",
    "\n",
    "However, to do more advanced or specialized things we need to install and import Python **Libraries** also known as **packages**. \n",
    "\n",
    "A **Python library** is a collection of files (known as **modules**) that each contain **functions** to complete a set of related tasks. \n",
    "\n",
    "*Confused?* \n",
    "\n",
    "*This can get confusing as some large libraries have multiple sub-packages each with many different modules. In other cases a library consists of a single module.* ***The important thing to know is that you need to import each library or module you want to use.***\n",
    "\n",
    "Some commonly used modules are found in [Python's Standard Library](https://docs.python.org/3/library/). \n",
    "\n",
    "\n"
   ]
  },
  {
   "attachments": {},
   "cell_type": "markdown",
   "metadata": {},
   "source": [
    "## II. Working with Libraries\n",
    "\n",
    "For more on functions, we can refer to a more detailed lesson provided by [**Constellate's** Python 4 lesson](https://lab.constellate.org/perfusion-stearns-eliot/notebooks/tdm-notebooks-2023-04-03T23%3A17%3A07.601Z/python-basics-4.ipynb):\n",
    "\n",
    "```\n",
    "**Functions**\n",
    "\n",
    "You can identify a function by the fact that it ends with a set of parentheses () where arguments can be passed into the function. Depending on the function (and your goals for using it), a function may accept no arguments, a single argument, or many arguments. For example, when we use the print() function, a string (or a variable containing a string) is passed as an argument.\n",
    "\n",
    "Functions are a convenient shorthand, like a mini-program, that makes our code more modular. We don't need to know all the details of how the print() function works in order to use it. Functions are sometimes called \"black boxes\", in that we can put an argument into the box and a return value comes out. We don't need to know the inner details of the \"black box\" to use it. (Of course, as you advance your programming skills, you may become curious about how certain functions work. And if you work with sensitive data, you may need to peer in the black box to ensure the security and accuracy of the output.)\n",
    "\n",
    "**Libraries & Modules**\n",
    "\n",
    "While Python comes with many functions, there are thousands more that others have written. Adding them all to Python would create mass confusion, since many people could use the same name for functions that do different things. The solution then is that functions are stored in modules that can be imported for use. A module is a Python file (extension \".py\") that contains the definitions for the functions written in Python. These modules (individual Python files) can then be collected into even larger groups called packages and libraries. Depending on how many functions you need for the program you are writing, you may import a single module, a package of modules, or a whole library.\n",
    "```\n",
    "\n",
    "1. First, we will import the [**math module**](https://docs.python.org/3/library/math.html).\n",
    "\n",
    "\n"
   ]
  },
  {
   "attachments": {},
   "cell_type": "markdown",
   "metadata": {},
   "source": [
    "The formula for importing a module is:\n",
    "\n",
    "```\n",
    "import module_name\n",
    "```"
   ]
  },
  {
   "cell_type": "code",
   "execution_count": null,
   "metadata": {},
   "outputs": [],
   "source": [
    "import math"
   ]
  },
  {
   "attachments": {},
   "cell_type": "markdown",
   "metadata": {},
   "source": [
    "By importing the math module, for example, we have access to a wide range of mathematical functions (see the [math module documentation here](https://docs.python.org/3/library/math.html)). \n",
    "\n",
    "2. For example, we can calculate the square root of a large number (by using the **math** module's **sqrt** function) or identify the value of pi (as well as more advanced mathematical operations)."
   ]
  },
  {
   "cell_type": "code",
   "execution_count": null,
   "metadata": {},
   "outputs": [],
   "source": [
    "print(math.sqrt(34785739923))"
   ]
  },
  {
   "cell_type": "code",
   "execution_count": null,
   "metadata": {},
   "outputs": [],
   "source": [
    "print(math.pi)"
   ]
  },
  {
   "attachments": {},
   "cell_type": "markdown",
   "metadata": {},
   "source": [
    "3. Use the **help()** function to learn more about the math module."
   ]
  },
  {
   "cell_type": "code",
   "execution_count": null,
   "metadata": {},
   "outputs": [],
   "source": []
  },
  {
   "attachments": {},
   "cell_type": "markdown",
   "metadata": {},
   "source": [
    "We can also import the [time module](https://docs.python.org/3/library/time.html) to apply different time functions. \n",
    "\n"
   ]
  },
  {
   "attachments": {},
   "cell_type": "markdown",
   "metadata": {},
   "source": [
    "4. Import the **time** module and use the **help** function to learn more about what it can do."
   ]
  },
  {
   "cell_type": "code",
   "execution_count": null,
   "metadata": {},
   "outputs": [],
   "source": [
    "import time\n",
    "help(time) "
   ]
  },
  {
   "attachments": {},
   "cell_type": "markdown",
   "metadata": {},
   "source": [
    "5. Run the following: "
   ]
  },
  {
   "cell_type": "code",
   "execution_count": null,
   "metadata": {},
   "outputs": [],
   "source": [
    "# A program that waits 3 seconds then prints \"Done\"\n",
    "\n",
    "import time # We import all the functions in the `time` module\n",
    "\n",
    "print('Waiting 3 seconds...')\n",
    "time.sleep(3) # We run the sleep() function from the time module using `time.sleep()`\n",
    "print('Done')"
   ]
  },
  {
   "attachments": {},
   "cell_type": "markdown",
   "metadata": {},
   "source": [
    "We can also just import the sleep() function without importing the whole time module. The syntax is:\n",
    "\n",
    "```\n",
    "from module import function\n",
    "```\n",
    "\n",
    "6. Run the following, but change the wait time to 4 seconds:\n"
   ]
  },
  {
   "cell_type": "code",
   "execution_count": null,
   "metadata": {},
   "outputs": [],
   "source": [
    "# A program that waits 3 seconds then prints \"Done\"\n",
    "\n",
    "from time import sleep # We import just the sleep() function from the time module\n",
    "\n",
    "\n",
    "print('Waiting 3 seconds...')\n",
    "\n",
    "sleep(3) # Notice that we just call the sleep() function, not time.sleep()\n",
    "print('Done')"
   ]
  },
  {
   "attachments": {},
   "cell_type": "markdown",
   "metadata": {},
   "source": [
    "When writing code in Python, it helps immensely to use descriptive variable names. Python is fine if you named all your variables \"x012b\" and \"2xAyn\". But, it helps the human readers of your code to be as descriptive as possible with variable names. And, with auto-complete, you don't have to worry about typing your descriptive variable names in their entirety. Just type the first few letters of the variable name and a menu of pre-defined variables and functions will appear.\n",
    "\n",
    "7. Read the code below. What does it do? Distinguish between the names of variables, functions, and modules."
   ]
  },
  {
   "cell_type": "code",
   "execution_count": null,
   "metadata": {},
   "outputs": [],
   "source": [
    "import time\n",
    "start_time = time.time()\n",
    "large_num = 9027905973792487678342070492070492704992341896198123931989\n",
    "sq_root = math.sqrt(large_num)\n",
    "end_time = time.time()\n",
    "elapsed_time = end_time - start_time\n",
    "print(f\"On this machine / server, Python has calculated that the square root of {large_num} is {sq_root} in just {elapsed_time} seconds.\")\n",
    "print(sq_root ** 2)  ##double-checking the answer"
   ]
  },
  {
   "attachments": {},
   "cell_type": "markdown",
   "metadata": {},
   "source": [
    "8. Notice above, the use of an \"f\" before a string. This denotes a **formatted string**. With formatted strings, we can insert variable_names using \"{}\" and Python will replace the variable name with the value stored in the variable. For example try changing all the string values assigned to variables below:"
   ]
  },
  {
   "cell_type": "code",
   "execution_count": null,
   "metadata": {},
   "outputs": [],
   "source": [
    "person = \"\"  \n",
    "adj = \"\"\n",
    "adv = \"\"\n",
    "verb = \"\"\n",
    "obj = \"\"\n",
    "time_period = \"\"\n",
    "print(f\"During {time_period}, {person} {verb} the {adj} {obj} {adv}.\")"
   ]
  },
  {
   "attachments": {},
   "cell_type": "markdown",
   "metadata": {},
   "source": [
    "Or we can work with Python's [datetime library](https://docs.python.org/3/library/datetime.html) to work with... you guessed it, dates and times. It does some of the same things as **time** but also does some different things.\n",
    "\n",
    "Sometimes, for larger libraries we may want to only import individual modules following the formula:\n",
    "\n",
    "```\n",
    "from [library name] import module1, module2, etc.\n",
    "```\n",
    "\n",
    "9. Try:"
   ]
  },
  {
   "cell_type": "code",
   "execution_count": null,
   "metadata": {},
   "outputs": [],
   "source": [
    "from datetime import date, datetime"
   ]
  },
  {
   "cell_type": "code",
   "execution_count": null,
   "metadata": {},
   "outputs": [],
   "source": [
    "date.today()"
   ]
  },
  {
   "cell_type": "code",
   "execution_count": null,
   "metadata": {},
   "outputs": [],
   "source": [
    "now = datetime.now()\n",
    "print(now)"
   ]
  },
  {
   "cell_type": "markdown",
   "metadata": {},
   "source": [
    "## III. Additional Practice with Libraries and Modules"
   ]
  },
  {
   "attachments": {},
   "cell_type": "markdown",
   "metadata": {},
   "source": [
    "There are also many modules and libraries designed to work with strings and texts. \n",
    "\n",
    "For example:\n",
    "+ [string](https://docs.python.org/3/library/string.html?highlight=string) - for common string functions\n",
    "+ [re](https://docs.python.org/3/library/re.html?highlight=re#module-re) - regular expression operations (regular expressions allow you to search for particular patterns in texts. I.e. if you want to search for phone numbers in a text you would to search for all texts that match the pattern ###-###-#### or ###-####. Or to find an email you may want to search for continuous strings that include an \"@\" sign followed by a \".com\", \".edu\", or \".edu\". Regular expressions help you do this.)\n",
    "\n",
    "10. Run the following"
   ]
  },
  {
   "cell_type": "code",
   "execution_count": null,
   "metadata": {},
   "outputs": [],
   "source": [
    "import string, re\n",
    "print(string.punctuation)"
   ]
  },
  {
   "attachments": {},
   "cell_type": "markdown",
   "metadata": {},
   "source": [
    "11. Run and read the code below, it uses functions from both the **re** and **string** libraries. Can you figure out what it did? How it works?"
   ]
  },
  {
   "cell_type": "code",
   "execution_count": null,
   "metadata": {},
   "outputs": [],
   "source": [
    "sent = \"[To be or not to be]: that is the question?!?\"\n",
    "punct = string.punctuation\n",
    "new_sent = re.sub(f\"[{punct}]\", \"\", sent)\n",
    "print(new_sent)\n"
   ]
  },
  {
   "attachments": {},
   "cell_type": "markdown",
   "metadata": {},
   "source": [
    "## IV. Working with Files\n",
    "\n",
    "An essential skill in Python is to be able to navigate through files on your computer to either read in existing files into Python or to output new files. \n",
    "\n",
    "To enable navigating through files on your computer, we will use the **os** and **pathlib** libraries. \n",
    "\n",
    "12. Let's import them now."
   ]
  },
  {
   "cell_type": "code",
   "execution_count": null,
   "metadata": {},
   "outputs": [],
   "source": [
    "#import os\n",
    "from pathlib import Path"
   ]
  },
  {
   "attachments": {},
   "cell_type": "markdown",
   "metadata": {},
   "source": [
    "13. Examine what the following functions do. Hint: **cwd()** means \"current working directory.\""
   ]
  },
  {
   "cell_type": "code",
   "execution_count": null,
   "metadata": {},
   "outputs": [],
   "source": [
    "print(Path.cwd())\n",
    "print(Path.cwd().parent)\n",
    "print(Path.cwd().parent.parent)"
   ]
  },
  {
   "attachments": {},
   "cell_type": "markdown",
   "metadata": {},
   "source": [
    "14. We can open a dataset of texts using the following code:"
   ]
  },
  {
   "cell_type": "code",
   "execution_count": null,
   "metadata": {},
   "outputs": [],
   "source": [
    "#sotudir = Path(Path.cwd().parent, \"state-of-the-union-dataset\", \"txt\")\n",
    "sotudir = Path(\"~/shared/RR-workshop-data/state-of-the-union-dataset/txt\").expanduser()\n",
    "print(sotudir)"
   ]
  },
  {
   "attachments": {},
   "cell_type": "markdown",
   "metadata": {},
   "source": [
    "15. Note, \"sotudir\" merely saves a filepath. To see if this filepath actually links to a real folder, try:"
   ]
  },
  {
   "cell_type": "code",
   "execution_count": null,
   "metadata": {},
   "outputs": [],
   "source": [
    "sotudir.exists()"
   ]
  },
  {
   "attachments": {},
   "cell_type": "markdown",
   "metadata": {},
   "source": [
    "16. We can then print out all files ending in the \".txt\" extension using:"
   ]
  },
  {
   "cell_type": "code",
   "execution_count": null,
   "metadata": {},
   "outputs": [],
   "source": [
    "pathlist = sorted(sotudir.glob(\"*.txt\")) \n",
    "print(pathlist)"
   ]
  },
  {
   "attachments": {},
   "cell_type": "markdown",
   "metadata": {},
   "source": [
    "17. For each path in the pathlist, we can extract only the name of the file (rather than the whole path) using the **.name** method. For more on pathlib functions and methods see [pathlib documentation](https://docs.python.org/3/library/pathlib.html)."
   ]
  },
  {
   "cell_type": "code",
   "execution_count": null,
   "metadata": {},
   "outputs": [],
   "source": [
    "print([path.name for path in pathlist])"
   ]
  },
  {
   "attachments": {},
   "cell_type": "markdown",
   "metadata": {},
   "source": [
    "18. We can also extract just the file extension from each file, using the **.suffix** method. To extract only unique file types, we can then wrap the file extension list in a **set()** function. Try:"
   ]
  },
  {
   "cell_type": "code",
   "execution_count": null,
   "metadata": {},
   "outputs": [],
   "source": [
    "print(set([path.suffix for path in pathlist]))\n",
    "print(set([1,2,3,2,3,2,4,2,1,5,8,9,9,1]))"
   ]
  },
  {
   "attachments": {},
   "cell_type": "markdown",
   "metadata": {},
   "source": [
    "19. We can open an individual file using the **open()** function. \n",
    "\n",
    "*Note*: In Python, it is recommended that you always close your files after finishing with them. One way to do this is to place an **open()** command within a **with statement**. This way, the files is closed as soon as we exit the indented block underneath the with statement. Another way is to immediately **close()** the file after extracting the information you need from it. Run either or both options below. See [Why Close Python Files](https://realpython.com/why-close-file-python/). "
   ]
  },
  {
   "cell_type": "code",
   "execution_count": null,
   "metadata": {},
   "outputs": [],
   "source": [
    "with open(Path(sotudir, 'Washington_1794.txt')) as f:\n",
    "    wash94 = f.read()\n",
    "print(wash94[:300])"
   ]
  },
  {
   "attachments": {},
   "cell_type": "markdown",
   "metadata": {},
   "source": [
    "## Exercise\n",
    "\n",
    "20. Choose another State of the Union Address of your choosing (see #17 above for a list of filenames). Read it in (within a **with** statement), and print out the last 400 characters of this address."
   ]
  },
  {
   "cell_type": "code",
   "execution_count": null,
   "metadata": {},
   "outputs": [],
   "source": []
  },
  {
   "attachments": {},
   "cell_type": "markdown",
   "metadata": {},
   "source": [
    "21. Now calculate the length of this address. "
   ]
  },
  {
   "cell_type": "code",
   "execution_count": null,
   "metadata": {},
   "outputs": [],
   "source": []
  },
  {
   "attachments": {},
   "cell_type": "markdown",
   "metadata": {},
   "source": [
    "## V. Iterating through Multiple Files using For Loops\n",
    "\n",
    "22. Using a for loop, we can then iterate through each file (whose path is saved in pathlist) and extract information from each:"
   ]
  },
  {
   "cell_type": "code",
   "execution_count": null,
   "metadata": {},
   "outputs": [],
   "source": [
    "pathlist = sorted(sotudir.glob('*.txt'))       # .glob only stores the pathlist temporarily (for some reason), so you need to call it again!2\n",
    "for path in pathlist:\n",
    "    fn=path.stem\n",
    "    print(fn)\n",
    "    with open(path) as f:\n",
    "        txt = f.read()\n",
    "    print(len(txt))"
   ]
  },
  {
   "attachments": {},
   "cell_type": "markdown",
   "metadata": {},
   "source": [
    "## Exercises (Part V)\n",
    "\n",
    "23. Using the **pathlib** module, create a filepath to the U.S. Inaugural Addresses dataset."
   ]
  },
  {
   "cell_type": "code",
   "execution_count": null,
   "metadata": {},
   "outputs": [],
   "source": []
  },
  {
   "attachments": {},
   "cell_type": "markdown",
   "metadata": {},
   "source": [
    "24. Create a \"pathlist\" of all files in the U.S. Inaugural Addresses folder that are plain text (.txt) files. Then, print out the names of each of these files."
   ]
  },
  {
   "cell_type": "code",
   "execution_count": null,
   "metadata": {},
   "outputs": [],
   "source": []
  },
  {
   "attachments": {},
   "cell_type": "markdown",
   "metadata": {},
   "source": [
    "25. Iterate through the Inaugural Addresses using a for loop. Print out the first 250 characters of each address. "
   ]
  },
  {
   "cell_type": "code",
   "execution_count": null,
   "metadata": {},
   "outputs": [],
   "source": []
  }
 ],
 "metadata": {
  "kernelspec": {
   "display_name": "base",
   "language": "python",
   "name": "python3"
  },
  "language_info": {
   "codemirror_mode": {
    "name": "ipython",
    "version": 3
   },
   "file_extension": ".py",
   "mimetype": "text/x-python",
   "name": "python",
   "nbconvert_exporter": "python",
   "pygments_lexer": "ipython3",
   "version": "3.9.13"
  },
  "orig_nbformat": 4,
  "vscode": {
   "interpreter": {
    "hash": "92ccb6e3f8e1ba46ac70611fe300a00d231540f34c9f821035b67580ebdf166e"
   }
  }
 },
 "nbformat": 4,
 "nbformat_minor": 2
}
