{
 "cells": [
  {
   "attachments": {},
   "cell_type": "markdown",
   "metadata": {},
   "source": [
    "# Lists and Loops\n",
    "\n",
    "## I. Creating Lists\n",
    "\n",
    "Storing data in individual variables makes sense when you have a few unique values. \n",
    "\n",
    "However, operating on many individual variables would be tedious and time-consuming. \n",
    "\n",
    "Instead, we can store multiple values under one variable using lists. Say, for example, you want to store quiz scores for a class or multiple race results for a single track athlete. You could store them in a list.\n",
    "\n",
    "```\n",
    "**Scores - Quiz 1**   \n",
    "73.5\n",
    "86.2\n",
    "81.9\n",
    "90.1\n",
    "67.8\n",
    "88.0\n",
    "```\n",
    "\n"
   ]
  },
  {
   "attachments": {},
   "cell_type": "markdown",
   "metadata": {},
   "source": [
    "Lists require two principal symbols:\n",
    "* ```[]``` to store values\n",
    "* ```,``` to separate values\n",
    "\n",
    "1. So the list of scores for the first quiz could be stored by:"
   ]
  },
  {
   "cell_type": "code",
   "execution_count": 156,
   "metadata": {},
   "outputs": [],
   "source": [
    "# Run this cell by pressing Ctrl+Enter or pressing the play button while selecting this cell.\n",
    "quiz1 = [73.5, 86.2, 81.9, 90.1, 67.8, 88.0]"
   ]
  },
  {
   "attachments": {},
   "cell_type": "markdown",
   "metadata": {},
   "source": [
    "2. Lists can contain any type of data. For example, a list of strings may look like this:"
   ]
  },
  {
   "cell_type": "code",
   "execution_count": 157,
   "metadata": {},
   "outputs": [],
   "source": [
    "student_names = [\"Ezekiel\", \"Maura\", \"Aly\", \"Xavi\", \"Donato\", \"Jenny\"]"
   ]
  },
  {
   "attachments": {},
   "cell_type": "markdown",
   "metadata": {},
   "source": [
    "3. Or booleans, like:"
   ]
  },
  {
   "cell_type": "code",
   "execution_count": 158,
   "metadata": {},
   "outputs": [],
   "source": [
    "pass_fail_student = [False, False, False, True, False, True]"
   ]
  },
  {
   "attachments": {},
   "cell_type": "markdown",
   "metadata": {},
   "source": [
    "Note: Python only recognizes \"True\" and \"False\" as booleans, not \"TRUE\" or \"false\"."
   ]
  },
  {
   "attachments": {},
   "cell_type": "markdown",
   "metadata": {},
   "source": [
    "4. You can print out the contents of these lists using the built-in function **print()**."
   ]
  },
  {
   "cell_type": "code",
   "execution_count": 159,
   "metadata": {},
   "outputs": [
    {
     "name": "stdout",
     "output_type": "stream",
     "text": [
      "[73.5, 86.2, 81.9, 90.1, 67.8, 88.0]\n",
      "['Ezekiel', 'Maura', 'Aly', 'Xavi', 'Donato', 'Jenny']\n",
      "[False, False, False, True, False, True]\n"
     ]
    }
   ],
   "source": [
    "print(quiz1)  #!!\n",
    "print(student_names) #!!\n",
    "print(pass_fail_student)  #!!"
   ]
  },
  {
   "attachments": {},
   "cell_type": "markdown",
   "metadata": {},
   "source": [
    "5. To check to see if a variable name contains a list, use the **type()** function."
   ]
  },
  {
   "cell_type": "code",
   "execution_count": 115,
   "metadata": {},
   "outputs": [
    {
     "data": {
      "text/plain": [
       "list"
      ]
     },
     "execution_count": 115,
     "metadata": {},
     "output_type": "execute_result"
    }
   ],
   "source": [
    "type(quiz1)   #!!"
   ]
  },
  {
   "attachments": {},
   "cell_type": "markdown",
   "metadata": {},
   "source": [
    "6. You can also calculate the total number of items in a list using the built-in function **len()**. Run the following code:"
   ]
  },
  {
   "cell_type": "code",
   "execution_count": 116,
   "metadata": {},
   "outputs": [
    {
     "data": {
      "text/plain": [
       "6"
      ]
     },
     "execution_count": 116,
     "metadata": {},
     "output_type": "execute_result"
    }
   ],
   "source": [
    "len(quiz1)"
   ]
  },
  {
   "attachments": {},
   "cell_type": "markdown",
   "metadata": {},
   "source": [
    "7. *As we already learned, **len()** works on characters strings as well as lists.* But, it counts characters differently. Run the following code and then calculate the length of each variable. What do you notice?"
   ]
  },
  {
   "cell_type": "code",
   "execution_count": 117,
   "metadata": {},
   "outputs": [],
   "source": [
    "sent = \"This is a sentence.\"\n",
    "words = [\"This\", \"is\", \"a\", \"sentence.\"]\n"
   ]
  },
  {
   "cell_type": "code",
   "execution_count": 118,
   "metadata": {},
   "outputs": [
    {
     "name": "stdout",
     "output_type": "stream",
     "text": [
      "19\n"
     ]
    },
    {
     "data": {
      "text/plain": [
       "4"
      ]
     },
     "execution_count": 118,
     "metadata": {},
     "output_type": "execute_result"
    }
   ],
   "source": [
    "#calculate the length of \"sent\" and \"words\".\n",
    "print(len(sent)) #!!\n",
    "len(words) #!!"
   ]
  },
  {
   "attachments": {},
   "cell_type": "markdown",
   "metadata": {},
   "source": [
    "## Exercises for Part I\n",
    "\n",
    "8. Create a list of at least five of your favorite numbers (or numbers that recall a significant event, person, or stage of your life). Save to the variable **fav_numbers**."
   ]
  },
  {
   "cell_type": "code",
   "execution_count": 119,
   "metadata": {},
   "outputs": [],
   "source": [
    "fav_numbers = [1, 7, 10, 33, 83, 1983, 1122, 949, -99]  #!!"
   ]
  },
  {
   "attachments": {},
   "cell_type": "markdown",
   "metadata": {},
   "source": [
    "9. Create a list of at least five people that have inspired you. Save to the variable **inspirational_people**."
   ]
  },
  {
   "cell_type": "code",
   "execution_count": 120,
   "metadata": {},
   "outputs": [],
   "source": [
    "#!!\n",
    "inspirational_people = [\"Harriet Tubman\", \"Homer Simpson\", \"Nelson Mandela\", \"Big Bird\", \"Crazy Horse\", \"Mr. Rogers\", \"Buffy the Vampire Slayer\"]"
   ]
  },
  {
   "attachments": {},
   "cell_type": "markdown",
   "metadata": {},
   "source": [
    "## II. List Indexes and Slices"
   ]
  },
  {
   "attachments": {},
   "cell_type": "markdown",
   "metadata": {},
   "source": [
    "We can retrieve portions of the list using indexes and slices. \n",
    "\n",
    "One important note: in Python the first item in a series is always considered number 0.\n",
    "\n",
    "10. Thus, to retrieve the first item in our list (that is, the first quiz score), you would simply run:"
   ]
  },
  {
   "cell_type": "code",
   "execution_count": 160,
   "metadata": {},
   "outputs": [
    {
     "data": {
      "text/plain": [
       "73.5"
      ]
     },
     "execution_count": 160,
     "metadata": {},
     "output_type": "execute_result"
    }
   ],
   "source": [
    "quiz1[0]"
   ]
  },
  {
   "attachments": {},
   "cell_type": "markdown",
   "metadata": {},
   "source": [
    "11. Using the same format, now try retrieving the 3rd person from your list of inspirational people."
   ]
  },
  {
   "cell_type": "code",
   "execution_count": 122,
   "metadata": {},
   "outputs": [
    {
     "data": {
      "text/plain": [
       "'Nelson Mandela'"
      ]
     },
     "execution_count": 122,
     "metadata": {},
     "output_type": "execute_result"
    }
   ],
   "source": [
    "inspirational_people[2]     #!!"
   ]
  },
  {
   "attachments": {},
   "cell_type": "markdown",
   "metadata": {},
   "source": [
    "Now imagine you have a long list. You can identify the last item in a list by using the index [-1]. For example:\n",
    "\n",
    "```\n",
    "name-of-list[-1]\n",
    "```\n",
    "\n",
    "12. Try that below with our list of quiz scores."
   ]
  },
  {
   "cell_type": "code",
   "execution_count": 123,
   "metadata": {},
   "outputs": [
    {
     "data": {
      "text/plain": [
       "88.0"
      ]
     },
     "execution_count": 123,
     "metadata": {},
     "output_type": "execute_result"
    }
   ],
   "source": [
    "quiz1[-1]  #!!"
   ]
  },
  {
   "attachments": {},
   "cell_type": "markdown",
   "metadata": {},
   "source": [
    "13. Now, retrieve the second to last quiz score."
   ]
  },
  {
   "cell_type": "code",
   "execution_count": 124,
   "metadata": {},
   "outputs": [
    {
     "data": {
      "text/plain": [
       "67.8"
      ]
     },
     "execution_count": 124,
     "metadata": {},
     "output_type": "execute_result"
    }
   ],
   "source": [
    "quiz1[-2] #!!"
   ]
  },
  {
   "attachments": {},
   "cell_type": "markdown",
   "metadata": {},
   "source": [
    "14. Indexing beyond the end of the list will produce an \"IndexError\". Try, for example, retrieving the 100th item in our list of quiz scores."
   ]
  },
  {
   "cell_type": "code",
   "execution_count": 125,
   "metadata": {},
   "outputs": [],
   "source": [
    "# quiz1[99] #!!"
   ]
  },
  {
   "attachments": {},
   "cell_type": "markdown",
   "metadata": {},
   "source": [
    "### IIb. Slices"
   ]
  },
  {
   "attachments": {},
   "cell_type": "markdown",
   "metadata": {},
   "source": [
    "To retrieve multiple, consecutive items from a list, we can use slices.\n",
    "\n",
    "The format is as follows:\n",
    "\n",
    "```\n",
    "name-of-list[start:end]\n",
    "\n",
    "```\n",
    "\n",
    "List slices begin with the start number but end one number before the end number.\n",
    "\n",
    "So, **\"start\"** is the index of the first item of the list (starting with zero) and\n",
    "**\"end\"** is the \n",
    "\n",
    "15. Using this format, retrieve the second through fourth item in our list. Compare the results to our original list. If you did it wrong, adjust the indices you are using."
   ]
  },
  {
   "cell_type": "code",
   "execution_count": 126,
   "metadata": {},
   "outputs": [
    {
     "data": {
      "text/plain": [
       "[86.2, 81.9]"
      ]
     },
     "execution_count": 126,
     "metadata": {},
     "output_type": "execute_result"
    }
   ],
   "source": [
    "quiz1[1:3]  #!!"
   ]
  },
  {
   "attachments": {},
   "cell_type": "markdown",
   "metadata": {},
   "source": [
    "16. Now, see if you can create a slice of your inspirational people list by counting back from the end of the list. Does it work?"
   ]
  },
  {
   "cell_type": "code",
   "execution_count": 127,
   "metadata": {},
   "outputs": [
    {
     "data": {
      "text/plain": [
       "['Nelson Mandela', 'Big Bird', 'Crazy Horse']"
      ]
     },
     "execution_count": 127,
     "metadata": {},
     "output_type": "execute_result"
    }
   ],
   "source": [
    "inspirational_people[2:-2]  #!!"
   ]
  },
  {
   "attachments": {},
   "cell_type": "markdown",
   "metadata": {},
   "source": [
    "## III. Modifying a List\n",
    "\n",
    "There are multiple ways to modify a list. \n",
    "\n",
    "17. Run the following code and see what each does. Then finish the text cell below."
   ]
  },
  {
   "cell_type": "code",
   "execution_count": 128,
   "metadata": {},
   "outputs": [
    {
     "name": "stdout",
     "output_type": "stream",
     "text": [
      "[73.5, 86.2, 81.9, 90.1, 67.8, 88.0]\n",
      "[73.5, 86.2, 81.9, 90.1, 67.8, 88.0, 96.6]\n"
     ]
    }
   ],
   "source": [
    "print(quiz1)\n",
    "quiz1.append(96.6)\n",
    "print(quiz1)"
   ]
  },
  {
   "attachments": {},
   "cell_type": "markdown",
   "metadata": {},
   "source": [
    "The **append** method modifies a list by [*insert your explanation here*].\n",
    "\n",
    "18. Now, let's compare it to the extend method."
   ]
  },
  {
   "cell_type": "code",
   "execution_count": 129,
   "metadata": {},
   "outputs": [
    {
     "name": "stdout",
     "output_type": "stream",
     "text": [
      "[73.5, 86.2, 81.9, 90.1, 67.8, 88.0, 96.6]\n",
      "[73.5, 86.2, 81.9, 90.1, 67.8, 88.0, 96.6, 78.7, 94.0, 89.3]\n"
     ]
    }
   ],
   "source": [
    "print(quiz1)\n",
    "quiz_group2 = [78.7, 94.0, 89.3]\n",
    "quiz1.extend(quiz_group2)\n",
    "print(quiz1)"
   ]
  },
  {
   "attachments": {},
   "cell_type": "markdown",
   "metadata": {},
   "source": [
    "The **extend** method modifies a list by ....\n",
    "\n",
    "19. Can you guess what pop does?"
   ]
  },
  {
   "cell_type": "code",
   "execution_count": 130,
   "metadata": {},
   "outputs": [
    {
     "name": "stdout",
     "output_type": "stream",
     "text": [
      "[73.5, 86.2, 81.9, 90.1, 67.8, 88.0, 96.6, 78.7, 94.0, 89.3]\n",
      "[73.5, 86.2, 81.9, 90.1, 67.8, 88.0, 96.6, 78.7, 94.0]\n"
     ]
    }
   ],
   "source": [
    "print(quiz1)\n",
    "quiz1.pop()\n",
    "print(quiz1)"
   ]
  },
  {
   "attachments": {},
   "cell_type": "markdown",
   "metadata": {},
   "source": [
    "The **pop** method modifies a list by ...\n",
    "\n",
    "20. Often, there are multiple ways to accomplished the same thing. For example:"
   ]
  },
  {
   "cell_type": "code",
   "execution_count": 131,
   "metadata": {},
   "outputs": [
    {
     "name": "stdout",
     "output_type": "stream",
     "text": [
      "[73.5, 86.2, 81.9, 90.1, 67.8, 88.0, 96.6, 78.7, 94.0]\n",
      "[73.5, 86.2, 81.9, 90.1, 67.8, 88.0, 96.6, 78.7, 94.0, 88.9, 93.3, 98.6]\n"
     ]
    }
   ],
   "source": [
    "print(quiz1)\n",
    "quiz_group3 = [88.9, 93.3, 98.6]\n",
    "quiz1 = quiz1 + quiz_group3\n",
    "print(quiz1)"
   ]
  },
  {
   "attachments": {},
   "cell_type": "markdown",
   "metadata": {},
   "source": [
    "Using **+** with two lists is the same as [what method?].\n",
    "\n",
    "21. Run the following."
   ]
  },
  {
   "cell_type": "code",
   "execution_count": 132,
   "metadata": {},
   "outputs": [
    {
     "name": "stdout",
     "output_type": "stream",
     "text": [
      "[73.5, 86.2, 81.9, 90.1, 67.8, 88.0, 96.6, 78.7, 94.0, 88.9, 93.3, 98.6]\n",
      "[99.3, 86.2, 81.9, 90.1, 67.8, 88.0, 96.6, 78.7, 94.0, 88.9, 93.3, 98.6]\n"
     ]
    }
   ],
   "source": [
    "print(quiz1)\n",
    "quiz1[0] = 99.3\n",
    "print(quiz1)"
   ]
  },
  {
   "cell_type": "markdown",
   "metadata": {},
   "source": [
    "What does the above do? "
   ]
  },
  {
   "attachments": {},
   "cell_type": "markdown",
   "metadata": {},
   "source": [
    "## Exercises (Parts II and III)\n",
    "\n",
    "22. Create a list of some of your favorite musicians, actors, or writers (at least 4)."
   ]
  },
  {
   "cell_type": "code",
   "execution_count": 133,
   "metadata": {},
   "outputs": [],
   "source": [
    "#!!\n",
    "favs = [\"Denzel\", \"Beyonce\", \"Madonna\", \"Elvis\", \"Snoop\", \"Meryl\"]"
   ]
  },
  {
   "attachments": {},
   "cell_type": "markdown",
   "metadata": {},
   "source": [
    "23. Add that list to your list of inspirational people. Print out this new list."
   ]
  },
  {
   "cell_type": "code",
   "execution_count": 134,
   "metadata": {},
   "outputs": [
    {
     "name": "stdout",
     "output_type": "stream",
     "text": [
      "['Harriet Tubman', 'Homer Simpson', 'Nelson Mandela', 'Big Bird', 'Crazy Horse', 'Mr. Rogers', 'Buffy the Vampire Slayer', 'Denzel', 'Beyonce', 'Madonna', 'Elvis', 'Snoop', 'Meryl']\n"
     ]
    }
   ],
   "source": [
    "#!!\n",
    "inspirational_people.extend(favs)\n",
    "print(inspirational_people)"
   ]
  },
  {
   "attachments": {},
   "cell_type": "markdown",
   "metadata": {},
   "source": [
    "24. Calculate the number of people in your inspirational_people list. Then replace the 3rd to last person with another important person to you. "
   ]
  },
  {
   "cell_type": "code",
   "execution_count": 135,
   "metadata": {},
   "outputs": [
    {
     "name": "stdout",
     "output_type": "stream",
     "text": [
      "13\n"
     ]
    }
   ],
   "source": [
    "print(len(inspirational_people))\n",
    "inspirational_people[-3] = \"Giannis\""
   ]
  },
  {
   "attachments": {},
   "cell_type": "markdown",
   "metadata": {},
   "source": [
    "25. Multiply your list of inspirational_people by two:\n",
    "\n",
    "```\n",
    "print(inspirational_people * 2)\n",
    "```\n",
    "\n",
    "What happens?"
   ]
  },
  {
   "cell_type": "code",
   "execution_count": 136,
   "metadata": {},
   "outputs": [
    {
     "name": "stdout",
     "output_type": "stream",
     "text": [
      "['Harriet Tubman', 'Homer Simpson', 'Nelson Mandela', 'Big Bird', 'Crazy Horse', 'Mr. Rogers', 'Buffy the Vampire Slayer', 'Denzel', 'Beyonce', 'Madonna', 'Giannis', 'Snoop', 'Meryl', 'Harriet Tubman', 'Homer Simpson', 'Nelson Mandela', 'Big Bird', 'Crazy Horse', 'Mr. Rogers', 'Buffy the Vampire Slayer', 'Denzel', 'Beyonce', 'Madonna', 'Giannis', 'Snoop', 'Meryl']\n"
     ]
    }
   ],
   "source": [
    "#!!\n",
    "print(inspirational_people * 2)"
   ]
  },
  {
   "attachments": {},
   "cell_type": "markdown",
   "metadata": {},
   "source": [
    "26. Run the following code. What does the **set()** function do?"
   ]
  },
  {
   "cell_type": "code",
   "execution_count": 137,
   "metadata": {},
   "outputs": [
    {
     "name": "stdout",
     "output_type": "stream",
     "text": [
      "{1, 2, 3, 4, 5, 67, 7, 8, 9, 12, 16, 23}\n"
     ]
    }
   ],
   "source": [
    "numbers = [12,4,5,2,3,2,2,4,7,8,9,2,3,1,2,1,1,2,1,4,67,3,5,3,5,7,4,1,3,2,4,1,7,2,16,23,4,5]\n",
    "print(set(numbers))"
   ]
  },
  {
   "attachments": {},
   "cell_type": "markdown",
   "metadata": {},
   "source": [
    "27. What does the **Counter()** function from the **collections library appear to do?"
   ]
  },
  {
   "cell_type": "code",
   "execution_count": 138,
   "metadata": {},
   "outputs": [
    {
     "data": {
      "text/plain": [
       "Counter({12: 1,\n",
       "         4: 6,\n",
       "         5: 4,\n",
       "         2: 8,\n",
       "         3: 5,\n",
       "         7: 3,\n",
       "         8: 1,\n",
       "         9: 1,\n",
       "         1: 6,\n",
       "         67: 1,\n",
       "         16: 1,\n",
       "         23: 1})"
      ]
     },
     "execution_count": 138,
     "metadata": {},
     "output_type": "execute_result"
    }
   ],
   "source": [
    "import collections\n",
    "collections.Counter(numbers)"
   ]
  },
  {
   "attachments": {},
   "cell_type": "markdown",
   "metadata": {},
   "source": [
    "## IV. Functions\n",
    "\n",
    "For lists of numbers, we can run the following basic functions:\n",
    "\n",
    "+ **max()**\n",
    "+ **min()**\n",
    "+ **sum()**\n",
    "\n",
    "28. Below, calculate retrieve the maximum and minimum values as well as the sum of our list of student quiz scores."
   ]
  },
  {
   "cell_type": "code",
   "execution_count": 139,
   "metadata": {},
   "outputs": [
    {
     "data": {
      "text/plain": [
       "99.3"
      ]
     },
     "execution_count": 139,
     "metadata": {},
     "output_type": "execute_result"
    }
   ],
   "source": [
    "max(quiz1) #!!"
   ]
  },
  {
   "cell_type": "code",
   "execution_count": 140,
   "metadata": {},
   "outputs": [
    {
     "data": {
      "text/plain": [
       "67.8"
      ]
     },
     "execution_count": 140,
     "metadata": {},
     "output_type": "execute_result"
    }
   ],
   "source": [
    "min(quiz1) #!!"
   ]
  },
  {
   "cell_type": "code",
   "execution_count": 141,
   "metadata": {},
   "outputs": [
    {
     "data": {
      "text/plain": [
       "1063.3999999999999"
      ]
     },
     "execution_count": 141,
     "metadata": {},
     "output_type": "execute_result"
    }
   ],
   "source": [
    "sum(quiz1) #!!"
   ]
  },
  {
   "attachments": {},
   "cell_type": "markdown",
   "metadata": {},
   "source": [
    "29. We can also sort lists. Run the following. How do they differ?"
   ]
  },
  {
   "cell_type": "code",
   "execution_count": 142,
   "metadata": {},
   "outputs": [
    {
     "data": {
      "text/plain": [
       "['Aly', 'Donato', 'Ezekiel', 'Jenny', 'Maura', 'Xavi']"
      ]
     },
     "execution_count": 142,
     "metadata": {},
     "output_type": "execute_result"
    }
   ],
   "source": [
    "sorted(student_names)"
   ]
  },
  {
   "cell_type": "code",
   "execution_count": 143,
   "metadata": {},
   "outputs": [
    {
     "data": {
      "text/plain": [
       "['Xavi', 'Maura', 'Jenny', 'Ezekiel', 'Donato', 'Aly']"
      ]
     },
     "execution_count": 143,
     "metadata": {},
     "output_type": "execute_result"
    }
   ],
   "source": [
    "sorted(student_names, reverse = True)"
   ]
  },
  {
   "attachments": {},
   "cell_type": "markdown",
   "metadata": {},
   "source": [
    "Note: The **sorted()** function just temporarily sorts a list. To save this new list, we need to assign it to a variable.\n",
    "\n",
    "30. Alternatively, we could use the **.sort()** method to sort the original list. For example:"
   ]
  },
  {
   "cell_type": "code",
   "execution_count": 144,
   "metadata": {},
   "outputs": [
    {
     "name": "stdout",
     "output_type": "stream",
     "text": [
      "['Aly', 'Donato', 'Ezekiel', 'Jenny', 'Maura', 'Xavi']\n"
     ]
    }
   ],
   "source": [
    "student_names_sorted = sorted(student_names)\n",
    "print(student_names_sorted)"
   ]
  },
  {
   "cell_type": "code",
   "execution_count": 145,
   "metadata": {},
   "outputs": [
    {
     "name": "stdout",
     "output_type": "stream",
     "text": [
      "['Aly', 'Donato', 'Ezekiel', 'Jenny', 'Maura', 'Xavi']\n",
      "['Ezekiel', 'Maura', 'Aly', 'Xavi', 'Donato', 'Jenny']\n"
     ]
    }
   ],
   "source": [
    "copy_names = student_names.copy()\n",
    "copy_names.sort()\n",
    "print(copy_names)\n",
    "print(student_names)"
   ]
  },
  {
   "attachments": {},
   "cell_type": "markdown",
   "metadata": {},
   "source": [
    "## Exercises (Part IV)\n",
    "\n",
    "31. Print out a list of your inspirational people, sorted in descending order.\n",
    "\n"
   ]
  },
  {
   "cell_type": "code",
   "execution_count": null,
   "metadata": {},
   "outputs": [],
   "source": []
  },
  {
   "attachments": {},
   "cell_type": "markdown",
   "metadata": {},
   "source": [
    "32. Calculate the class's average quiz score using functions and methods introduced in this lesson."
   ]
  },
  {
   "cell_type": "code",
   "execution_count": null,
   "metadata": {},
   "outputs": [],
   "source": []
  },
  {
   "attachments": {},
   "cell_type": "markdown",
   "metadata": {},
   "source": [
    "33. Apply the **min()** and **max()** functions to your list of inspirational_people. What happens?"
   ]
  },
  {
   "cell_type": "code",
   "execution_count": 146,
   "metadata": {},
   "outputs": [
    {
     "data": {
      "text/plain": [
       "'Beyonce'"
      ]
     },
     "execution_count": 146,
     "metadata": {},
     "output_type": "execute_result"
    }
   ],
   "source": [
    "min(inspirational_people) #!!"
   ]
  },
  {
   "attachments": {},
   "cell_type": "markdown",
   "metadata": {},
   "source": [
    "## V. Loops\n",
    "\n",
    "Often we want to examine or modify each individual item in a list. An easy way to iterate over a list is using a **for loop**. The general structure of a for loop is:\n",
    "\n",
    "```\n",
    "for item in named_list:\n",
    "    [instructions for what to do with each item]\n",
    "```\n",
    "\n",
    "In such for loops, named_list must be an already established list. \"item\", however, is an arbitrary variable name we are assigning to each item in the list. \n",
    "\n",
    "34. Run the simple for loop below:\n"
   ]
  },
  {
   "cell_type": "code",
   "execution_count": 147,
   "metadata": {},
   "outputs": [
    {
     "name": "stdout",
     "output_type": "stream",
     "text": [
      "Ezekiel\n",
      "Maura\n",
      "Aly\n",
      "Xavi\n",
      "Donato\n",
      "Jenny\n"
     ]
    }
   ],
   "source": [
    "for name in student_names:  #note: student_names is an already defined list; *name* is assigned here to each individual item in this list\n",
    "    print(name)"
   ]
  },
  {
   "attachments": {},
   "cell_type": "markdown",
   "metadata": {},
   "source": [
    "We can use for loops to modify items in a list. \n",
    "\n",
    "35. For example, see what happens when we apply the **.lower()** method to each item in our student_names_sorted list."
   ]
  },
  {
   "cell_type": "code",
   "execution_count": 148,
   "metadata": {},
   "outputs": [
    {
     "name": "stdout",
     "output_type": "stream",
     "text": [
      "aly\n",
      "donato\n",
      "ezekiel\n",
      "jenny\n",
      "maura\n",
      "xavi\n"
     ]
    }
   ],
   "source": [
    "for name in student_names_sorted:\n",
    "    print(name.lower())"
   ]
  },
  {
   "attachments": {},
   "cell_type": "markdown",
   "metadata": {},
   "source": [
    "36. Can you guess how to convert all student names into uppercase? Try to do so below:"
   ]
  },
  {
   "cell_type": "code",
   "execution_count": 149,
   "metadata": {},
   "outputs": [
    {
     "name": "stdout",
     "output_type": "stream",
     "text": [
      "ALY\n",
      "DONATO\n",
      "EZEKIEL\n",
      "JENNY\n",
      "MAURA\n",
      "XAVI\n"
     ]
    }
   ],
   "source": [
    "for name in student_names_sorted: #!!\n",
    "    print(name.upper())"
   ]
  },
  {
   "attachments": {},
   "cell_type": "markdown",
   "metadata": {},
   "source": [
    "37. To save these variations, we need to save them to a new list. We can do so using the following formula:\n",
    "\n",
    "```\n",
    "new_list = []  #creates a new, empty list\n",
    "for item in existing_list:\n",
    "    new_item = [modify original item]\n",
    "    new_list.append(new_item)\n",
    "```"
   ]
  },
  {
   "cell_type": "code",
   "execution_count": 150,
   "metadata": {},
   "outputs": [],
   "source": [
    "student_names_lower = []\n",
    "for name in student_names_sorted:\n",
    "    lower_name = name.lower()\n",
    "    student_names_lower.append(lower_name)\n"
   ]
  },
  {
   "attachments": {},
   "cell_type": "markdown",
   "metadata": {},
   "source": [
    "38. Print out this new list:"
   ]
  },
  {
   "cell_type": "code",
   "execution_count": 151,
   "metadata": {},
   "outputs": [
    {
     "name": "stdout",
     "output_type": "stream",
     "text": [
      "['aly', 'donato', 'ezekiel', 'jenny', 'maura', 'xavi']\n"
     ]
    }
   ],
   "source": [
    "print(student_names_lower)  #!!"
   ]
  },
  {
   "attachments": {},
   "cell_type": "markdown",
   "metadata": {},
   "source": [
    "## Exercises (V)\n",
    "\n",
    "39. Create a new list of your inspirational people, but converted to upper case."
   ]
  },
  {
   "cell_type": "code",
   "execution_count": 152,
   "metadata": {},
   "outputs": [
    {
     "name": "stdout",
     "output_type": "stream",
     "text": [
      "['ALY', 'DONATO', 'EZEKIEL', 'JENNY', 'MAURA', 'XAVI']\n"
     ]
    }
   ],
   "source": [
    "student_names_upper = []        #!!\n",
    "for name in student_names_sorted:\n",
    "    upper_name = name.upper()\n",
    "    student_names_upper.append(upper_name)\n",
    "print(student_names_upper)\n"
   ]
  },
  {
   "attachments": {},
   "cell_type": "markdown",
   "metadata": {},
   "source": [
    "40. You are the students' instructor. You have decided to grade their quizzes on a curve, increasing each grade by 10%. Create a new list storing students updated scores."
   ]
  },
  {
   "cell_type": "code",
   "execution_count": 153,
   "metadata": {},
   "outputs": [
    {
     "name": "stdout",
     "output_type": "stream",
     "text": [
      "[99.3, 86.2, 81.9, 90.1, 67.8, 88.0, 96.6, 78.7, 94.0, 88.9, 93.3, 98.6]\n",
      "[109.23, 94.82000000000001, 90.09000000000002, 99.11, 74.58, 96.80000000000001, 106.26, 86.57000000000001, 103.4, 97.79000000000002, 102.63000000000001, 108.46000000000001]\n"
     ]
    }
   ],
   "source": [
    "print(quiz1)     #!!\n",
    "new_scores = []\n",
    "for score in quiz1:\n",
    "    new_score = score * 1.1\n",
    "    new_scores.append(new_score)\n",
    "print(new_scores)"
   ]
  },
  {
   "attachments": {},
   "cell_type": "markdown",
   "metadata": {},
   "source": [
    "42. Create a list that stores the number of characters found in the name of each of your inspiration people. Then, calculate the average name length of these people."
   ]
  },
  {
   "cell_type": "code",
   "execution_count": 154,
   "metadata": {},
   "outputs": [
    {
     "name": "stdout",
     "output_type": "stream",
     "text": [
      "[14, 13, 14, 8, 11, 10, 24, 6, 7, 7, 7, 5, 5]\n",
      "10.076923076923077\n"
     ]
    }
   ],
   "source": [
    "name_lengths = []               #!!\n",
    "for name in inspirational_people:\n",
    "    name_len = len(name)\n",
    "    name_lengths.append(name_len)\n",
    "print(name_lengths)\n",
    "print(sum(name_lengths) / len(inspirational_people))\n"
   ]
  }
 ],
 "metadata": {
  "kernelspec": {
   "display_name": "base",
   "language": "python",
   "name": "python3"
  },
  "language_info": {
   "codemirror_mode": {
    "name": "ipython",
    "version": 3
   },
   "file_extension": ".py",
   "mimetype": "text/x-python",
   "name": "python",
   "nbconvert_exporter": "python",
   "pygments_lexer": "ipython3",
   "version": "3.9.13"
  },
  "orig_nbformat": 4,
  "vscode": {
   "interpreter": {
    "hash": "92ccb6e3f8e1ba46ac70611fe300a00d231540f34c9f821035b67580ebdf166e"
   }
  }
 },
 "nbformat": 4,
 "nbformat_minor": 2
}
