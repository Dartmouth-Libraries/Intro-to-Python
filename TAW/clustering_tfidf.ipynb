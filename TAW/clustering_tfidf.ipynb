{
 "cells": [
  {
   "cell_type": "code",
   "execution_count": 3,
   "metadata": {},
   "outputs": [],
   "source": [
    "import pandas as pd\n",
    "from pathlib import Path"
   ]
  },
  {
   "cell_type": "code",
   "execution_count": 4,
   "metadata": {},
   "outputs": [
    {
     "data": {
      "text/html": [
       "<div>\n",
       "<style scoped>\n",
       "    .dataframe tbody tr th:only-of-type {\n",
       "        vertical-align: middle;\n",
       "    }\n",
       "\n",
       "    .dataframe tbody tr th {\n",
       "        vertical-align: top;\n",
       "    }\n",
       "\n",
       "    .dataframe thead th {\n",
       "        text-align: right;\n",
       "    }\n",
       "</style>\n",
       "<table border=\"1\" class=\"dataframe\">\n",
       "  <thead>\n",
       "    <tr style=\"text-align: right;\">\n",
       "      <th></th>\n",
       "      <th>Unnamed: 0</th>\n",
       "      <th>abstract</th>\n",
       "      <th>web_url</th>\n",
       "      <th>snippet</th>\n",
       "      <th>lead_paragraph</th>\n",
       "      <th>source</th>\n",
       "      <th>multimedia</th>\n",
       "      <th>keywords</th>\n",
       "      <th>pub_date</th>\n",
       "      <th>document_type</th>\n",
       "      <th>...</th>\n",
       "      <th>headline.content_kicker</th>\n",
       "      <th>headline.print_headline</th>\n",
       "      <th>headline.name</th>\n",
       "      <th>headline.seo</th>\n",
       "      <th>headline.sub</th>\n",
       "      <th>byline.original</th>\n",
       "      <th>byline.person</th>\n",
       "      <th>byline.organization</th>\n",
       "      <th>print_section</th>\n",
       "      <th>print_page</th>\n",
       "    </tr>\n",
       "  </thead>\n",
       "  <tbody>\n",
       "    <tr>\n",
       "      <th>0</th>\n",
       "      <td>0</td>\n",
       "      <td>The new chairman of the Senate Foreign Relatio...</td>\n",
       "      <td>https://www.nytimes.com/2023/09/30/us/politics...</td>\n",
       "      <td>The new chairman of the Senate Foreign Relatio...</td>\n",
       "      <td>Senator Ben Cardin of Maryland, the new chairm...</td>\n",
       "      <td>The New York Times</td>\n",
       "      <td>[{'rank': 0, 'subtype': 'xlarge', 'caption': N...</td>\n",
       "      <td>[{'name': 'glocations', 'value': 'Egypt', 'ran...</td>\n",
       "      <td>2023-10-01T00:06:00+0000</td>\n",
       "      <td>article</td>\n",
       "      <td>...</td>\n",
       "      <td>NaN</td>\n",
       "      <td>NaN</td>\n",
       "      <td>NaN</td>\n",
       "      <td>NaN</td>\n",
       "      <td>NaN</td>\n",
       "      <td>By Karoun Demirjian</td>\n",
       "      <td>[{'firstname': 'Karoun', 'middlename': None, '...</td>\n",
       "      <td>NaN</td>\n",
       "      <td>NaN</td>\n",
       "      <td>NaN</td>\n",
       "    </tr>\n",
       "    <tr>\n",
       "      <th>1</th>\n",
       "      <td>1</td>\n",
       "      <td>The Senate overwhelmingly passed a bill to fun...</td>\n",
       "      <td>https://www.nytimes.com/interactive/2023/09/30...</td>\n",
       "      <td>The Senate overwhelmingly passed a bill to fun...</td>\n",
       "      <td>The Senate overwhelmingly passed a bill to fun...</td>\n",
       "      <td>The New York Times</td>\n",
       "      <td>[{'rank': 0, 'subtype': 'xlarge', 'caption': N...</td>\n",
       "      <td>[{'name': 'subject', 'value': 'Shutdowns (Inst...</td>\n",
       "      <td>2023-10-01T00:06:25+0000</td>\n",
       "      <td>multimedia</td>\n",
       "      <td>...</td>\n",
       "      <td>NaN</td>\n",
       "      <td>NaN</td>\n",
       "      <td>NaN</td>\n",
       "      <td>NaN</td>\n",
       "      <td>NaN</td>\n",
       "      <td>By Lazaro Gamio, Alicia Parlapiano, Jasmine C....</td>\n",
       "      <td>[{'firstname': 'Lazaro', 'middlename': None, '...</td>\n",
       "      <td>NaN</td>\n",
       "      <td>NaN</td>\n",
       "      <td>NaN</td>\n",
       "    </tr>\n",
       "    <tr>\n",
       "      <th>2</th>\n",
       "      <td>2</td>\n",
       "      <td>In much of Europe, the election in Slovakia wa...</td>\n",
       "      <td>https://www.nytimes.com/2023/09/30/world/europ...</td>\n",
       "      <td>In much of Europe, the election in Slovakia wa...</td>\n",
       "      <td>A Russia-friendly populist party finished firs...</td>\n",
       "      <td>The New York Times</td>\n",
       "      <td>[{'rank': 0, 'subtype': 'xlarge', 'caption': N...</td>\n",
       "      <td>[{'name': 'glocations', 'value': 'Slovakia', '...</td>\n",
       "      <td>2023-10-01T00:18:47+0000</td>\n",
       "      <td>article</td>\n",
       "      <td>...</td>\n",
       "      <td>NaN</td>\n",
       "      <td>NaN</td>\n",
       "      <td>NaN</td>\n",
       "      <td>NaN</td>\n",
       "      <td>NaN</td>\n",
       "      <td>By Andrew Higgins</td>\n",
       "      <td>[{'firstname': 'Andrew', 'middlename': None, '...</td>\n",
       "      <td>NaN</td>\n",
       "      <td>NaN</td>\n",
       "      <td>NaN</td>\n",
       "    </tr>\n",
       "    <tr>\n",
       "      <th>3</th>\n",
       "      <td>3</td>\n",
       "      <td>Gideon Cody, who orchestrated a widely critici...</td>\n",
       "      <td>https://www.nytimes.com/2023/09/30/us/marion-k...</td>\n",
       "      <td>Gideon Cody, who orchestrated a widely critici...</td>\n",
       "      <td>The police chief of Marion, Kansas, was suspen...</td>\n",
       "      <td>The New York Times</td>\n",
       "      <td>[{'rank': 0, 'subtype': 'xlarge', 'caption': N...</td>\n",
       "      <td>[{'name': 'subject', 'value': 'Newspapers', 'r...</td>\n",
       "      <td>2023-10-01T00:47:45+0000</td>\n",
       "      <td>article</td>\n",
       "      <td>...</td>\n",
       "      <td>NaN</td>\n",
       "      <td>Police Chief Who Ordered Newspaper Raid Is Sus...</td>\n",
       "      <td>NaN</td>\n",
       "      <td>NaN</td>\n",
       "      <td>NaN</td>\n",
       "      <td>By Orlando Mayorquin</td>\n",
       "      <td>[{'firstname': 'Orlando', 'middlename': None, ...</td>\n",
       "      <td>NaN</td>\n",
       "      <td>A</td>\n",
       "      <td>21.0</td>\n",
       "    </tr>\n",
       "    <tr>\n",
       "      <th>4</th>\n",
       "      <td>4</td>\n",
       "      <td>The assistant general manager of the Calgary F...</td>\n",
       "      <td>https://www.nytimes.com/2023/09/30/sports/chri...</td>\n",
       "      <td>The assistant general manager of the Calgary F...</td>\n",
       "      <td>Chris Snow, the assistant general manager of t...</td>\n",
       "      <td>The New York Times</td>\n",
       "      <td>[{'rank': 0, 'subtype': 'xlarge', 'caption': N...</td>\n",
       "      <td>[{'name': 'persons', 'value': 'Snow, Chris', '...</td>\n",
       "      <td>2023-10-01T01:38:51+0000</td>\n",
       "      <td>article</td>\n",
       "      <td>...</td>\n",
       "      <td>NaN</td>\n",
       "      <td>Chris Snow, 42, Hockey Executive Who ‘Never St...</td>\n",
       "      <td>NaN</td>\n",
       "      <td>NaN</td>\n",
       "      <td>NaN</td>\n",
       "      <td>By Sopan Deb</td>\n",
       "      <td>[{'firstname': 'Sopan', 'middlename': None, 'l...</td>\n",
       "      <td>NaN</td>\n",
       "      <td>B</td>\n",
       "      <td>10.0</td>\n",
       "    </tr>\n",
       "  </tbody>\n",
       "</table>\n",
       "<p>5 rows × 29 columns</p>\n",
       "</div>"
      ],
      "text/plain": [
       "   Unnamed: 0                                           abstract  \\\n",
       "0           0  The new chairman of the Senate Foreign Relatio...   \n",
       "1           1  The Senate overwhelmingly passed a bill to fun...   \n",
       "2           2  In much of Europe, the election in Slovakia wa...   \n",
       "3           3  Gideon Cody, who orchestrated a widely critici...   \n",
       "4           4  The assistant general manager of the Calgary F...   \n",
       "\n",
       "                                             web_url  \\\n",
       "0  https://www.nytimes.com/2023/09/30/us/politics...   \n",
       "1  https://www.nytimes.com/interactive/2023/09/30...   \n",
       "2  https://www.nytimes.com/2023/09/30/world/europ...   \n",
       "3  https://www.nytimes.com/2023/09/30/us/marion-k...   \n",
       "4  https://www.nytimes.com/2023/09/30/sports/chri...   \n",
       "\n",
       "                                             snippet  \\\n",
       "0  The new chairman of the Senate Foreign Relatio...   \n",
       "1  The Senate overwhelmingly passed a bill to fun...   \n",
       "2  In much of Europe, the election in Slovakia wa...   \n",
       "3  Gideon Cody, who orchestrated a widely critici...   \n",
       "4  The assistant general manager of the Calgary F...   \n",
       "\n",
       "                                      lead_paragraph              source  \\\n",
       "0  Senator Ben Cardin of Maryland, the new chairm...  The New York Times   \n",
       "1  The Senate overwhelmingly passed a bill to fun...  The New York Times   \n",
       "2  A Russia-friendly populist party finished firs...  The New York Times   \n",
       "3  The police chief of Marion, Kansas, was suspen...  The New York Times   \n",
       "4  Chris Snow, the assistant general manager of t...  The New York Times   \n",
       "\n",
       "                                          multimedia  \\\n",
       "0  [{'rank': 0, 'subtype': 'xlarge', 'caption': N...   \n",
       "1  [{'rank': 0, 'subtype': 'xlarge', 'caption': N...   \n",
       "2  [{'rank': 0, 'subtype': 'xlarge', 'caption': N...   \n",
       "3  [{'rank': 0, 'subtype': 'xlarge', 'caption': N...   \n",
       "4  [{'rank': 0, 'subtype': 'xlarge', 'caption': N...   \n",
       "\n",
       "                                            keywords  \\\n",
       "0  [{'name': 'glocations', 'value': 'Egypt', 'ran...   \n",
       "1  [{'name': 'subject', 'value': 'Shutdowns (Inst...   \n",
       "2  [{'name': 'glocations', 'value': 'Slovakia', '...   \n",
       "3  [{'name': 'subject', 'value': 'Newspapers', 'r...   \n",
       "4  [{'name': 'persons', 'value': 'Snow, Chris', '...   \n",
       "\n",
       "                   pub_date document_type  ... headline.content_kicker  \\\n",
       "0  2023-10-01T00:06:00+0000       article  ...                     NaN   \n",
       "1  2023-10-01T00:06:25+0000    multimedia  ...                     NaN   \n",
       "2  2023-10-01T00:18:47+0000       article  ...                     NaN   \n",
       "3  2023-10-01T00:47:45+0000       article  ...                     NaN   \n",
       "4  2023-10-01T01:38:51+0000       article  ...                     NaN   \n",
       "\n",
       "                             headline.print_headline headline.name  \\\n",
       "0                                                NaN           NaN   \n",
       "1                                                NaN           NaN   \n",
       "2                                                NaN           NaN   \n",
       "3  Police Chief Who Ordered Newspaper Raid Is Sus...           NaN   \n",
       "4  Chris Snow, 42, Hockey Executive Who ‘Never St...           NaN   \n",
       "\n",
       "  headline.seo headline.sub  \\\n",
       "0          NaN          NaN   \n",
       "1          NaN          NaN   \n",
       "2          NaN          NaN   \n",
       "3          NaN          NaN   \n",
       "4          NaN          NaN   \n",
       "\n",
       "                                     byline.original  \\\n",
       "0                                By Karoun Demirjian   \n",
       "1  By Lazaro Gamio, Alicia Parlapiano, Jasmine C....   \n",
       "2                                  By Andrew Higgins   \n",
       "3                               By Orlando Mayorquin   \n",
       "4                                       By Sopan Deb   \n",
       "\n",
       "                                       byline.person byline.organization  \\\n",
       "0  [{'firstname': 'Karoun', 'middlename': None, '...                 NaN   \n",
       "1  [{'firstname': 'Lazaro', 'middlename': None, '...                 NaN   \n",
       "2  [{'firstname': 'Andrew', 'middlename': None, '...                 NaN   \n",
       "3  [{'firstname': 'Orlando', 'middlename': None, ...                 NaN   \n",
       "4  [{'firstname': 'Sopan', 'middlename': None, 'l...                 NaN   \n",
       "\n",
       "  print_section  print_page  \n",
       "0           NaN         NaN  \n",
       "1           NaN         NaN  \n",
       "2           NaN         NaN  \n",
       "3             A        21.0  \n",
       "4             B        10.0  \n",
       "\n",
       "[5 rows x 29 columns]"
      ]
     },
     "execution_count": 4,
     "metadata": {},
     "output_type": "execute_result"
    }
   ],
   "source": [
    "textdir = Path(\"~/shared/RR-workshop-data/text_datasets\").expanduser()\n",
    "textdf = pd.read_csv(\"nyt_df_2023-10.csv\", encoding = 'utf-8')\n",
    "textdf.head()"
   ]
  },
  {
   "cell_type": "code",
   "execution_count": 7,
   "metadata": {},
   "outputs": [
    {
     "data": {
      "text/plain": [
       "Index(['Unnamed: 0', 'abstract', 'web_url', 'snippet', 'lead_paragraph',\n",
       "       'source', 'multimedia', 'keywords', 'pub_date', 'document_type',\n",
       "       'news_desk', 'section_name', 'subsection_name', 'type_of_material',\n",
       "       '_id', 'word_count', 'uri', 'headline.main', 'headline.kicker',\n",
       "       'headline.content_kicker', 'headline.print_headline', 'headline.name',\n",
       "       'headline.seo', 'headline.sub', 'byline.original', 'byline.person',\n",
       "       'byline.organization', 'print_section', 'print_page'],\n",
       "      dtype='object')"
      ]
     },
     "execution_count": 7,
     "metadata": {},
     "output_type": "execute_result"
    }
   ],
   "source": [
    "textdf.columns"
   ]
  },
  {
   "cell_type": "code",
   "execution_count": 10,
   "metadata": {},
   "outputs": [
    {
     "data": {
      "text/html": [
       "<div>\n",
       "<style scoped>\n",
       "    .dataframe tbody tr th:only-of-type {\n",
       "        vertical-align: middle;\n",
       "    }\n",
       "\n",
       "    .dataframe tbody tr th {\n",
       "        vertical-align: top;\n",
       "    }\n",
       "\n",
       "    .dataframe thead th {\n",
       "        text-align: right;\n",
       "    }\n",
       "</style>\n",
       "<table border=\"1\" class=\"dataframe\">\n",
       "  <thead>\n",
       "    <tr style=\"text-align: right;\">\n",
       "      <th></th>\n",
       "      <th>headline.main</th>\n",
       "      <th>pub_date</th>\n",
       "      <th>byline.person</th>\n",
       "      <th>word_count</th>\n",
       "      <th>keywords</th>\n",
       "      <th>document_type</th>\n",
       "      <th>news_desk</th>\n",
       "      <th>section_name</th>\n",
       "      <th>subsection_name</th>\n",
       "      <th>abstract</th>\n",
       "      <th>lead_paragraph</th>\n",
       "      <th>key_text</th>\n",
       "    </tr>\n",
       "  </thead>\n",
       "  <tbody>\n",
       "    <tr>\n",
       "      <th>0</th>\n",
       "      <td>Senate Democrat Threatens to Block More of Mil...</td>\n",
       "      <td>2023-10-01T00:06:00+0000</td>\n",
       "      <td>[{'firstname': 'Karoun', 'middlename': None, '...</td>\n",
       "      <td>681</td>\n",
       "      <td>[{'name': 'glocations', 'value': 'Egypt', 'ran...</td>\n",
       "      <td>article</td>\n",
       "      <td>Washington</td>\n",
       "      <td>U.S.</td>\n",
       "      <td>Politics</td>\n",
       "      <td>The new chairman of the Senate Foreign Relatio...</td>\n",
       "      <td>Senator Ben Cardin of Maryland, the new chairm...</td>\n",
       "      <td>The new chairman of the Senate Foreign Relatio...</td>\n",
       "    </tr>\n",
       "    <tr>\n",
       "      <th>1</th>\n",
       "      <td>How Each Member Voted on the Senate Stopgap Sp...</td>\n",
       "      <td>2023-10-01T00:06:25+0000</td>\n",
       "      <td>[{'firstname': 'Lazaro', 'middlename': None, '...</td>\n",
       "      <td>0</td>\n",
       "      <td>[{'name': 'subject', 'value': 'Shutdowns (Inst...</td>\n",
       "      <td>multimedia</td>\n",
       "      <td>Graphics</td>\n",
       "      <td>U.S.</td>\n",
       "      <td>Politics</td>\n",
       "      <td>The Senate overwhelmingly passed a bill to fun...</td>\n",
       "      <td>The Senate overwhelmingly passed a bill to fun...</td>\n",
       "      <td>The Senate overwhelmingly passed a bill to fun...</td>\n",
       "    </tr>\n",
       "    <tr>\n",
       "      <th>2</th>\n",
       "      <td>What Does a Russia-Leaning Party Win in an E.U...</td>\n",
       "      <td>2023-10-01T00:18:47+0000</td>\n",
       "      <td>[{'firstname': 'Andrew', 'middlename': None, '...</td>\n",
       "      <td>1269</td>\n",
       "      <td>[{'name': 'glocations', 'value': 'Slovakia', '...</td>\n",
       "      <td>article</td>\n",
       "      <td>Foreign</td>\n",
       "      <td>World</td>\n",
       "      <td>Europe</td>\n",
       "      <td>In much of Europe, the election in Slovakia wa...</td>\n",
       "      <td>A Russia-friendly populist party finished firs...</td>\n",
       "      <td>In much of Europe, the election in Slovakia wa...</td>\n",
       "    </tr>\n",
       "    <tr>\n",
       "      <th>3</th>\n",
       "      <td>Police Chief Who Ordered Raid on Kansas Newspa...</td>\n",
       "      <td>2023-10-01T00:47:45+0000</td>\n",
       "      <td>[{'firstname': 'Orlando', 'middlename': None, ...</td>\n",
       "      <td>623</td>\n",
       "      <td>[{'name': 'subject', 'value': 'Newspapers', 'r...</td>\n",
       "      <td>article</td>\n",
       "      <td>Express</td>\n",
       "      <td>U.S.</td>\n",
       "      <td>NaN</td>\n",
       "      <td>Gideon Cody, who orchestrated a widely critici...</td>\n",
       "      <td>The police chief of Marion, Kansas, was suspen...</td>\n",
       "      <td>Gideon Cody, who orchestrated a widely critici...</td>\n",
       "    </tr>\n",
       "    <tr>\n",
       "      <th>4</th>\n",
       "      <td>Chris Snow, Hockey Executive Who Publicly Face...</td>\n",
       "      <td>2023-10-01T01:38:51+0000</td>\n",
       "      <td>[{'firstname': 'Sopan', 'middlename': None, 'l...</td>\n",
       "      <td>729</td>\n",
       "      <td>[{'name': 'persons', 'value': 'Snow, Chris', '...</td>\n",
       "      <td>article</td>\n",
       "      <td>Sports</td>\n",
       "      <td>Sports</td>\n",
       "      <td>NaN</td>\n",
       "      <td>The assistant general manager of the Calgary F...</td>\n",
       "      <td>Chris Snow, the assistant general manager of t...</td>\n",
       "      <td>The assistant general manager of the Calgary F...</td>\n",
       "    </tr>\n",
       "  </tbody>\n",
       "</table>\n",
       "</div>"
      ],
      "text/plain": [
       "                                       headline.main  \\\n",
       "0  Senate Democrat Threatens to Block More of Mil...   \n",
       "1  How Each Member Voted on the Senate Stopgap Sp...   \n",
       "2  What Does a Russia-Leaning Party Win in an E.U...   \n",
       "3  Police Chief Who Ordered Raid on Kansas Newspa...   \n",
       "4  Chris Snow, Hockey Executive Who Publicly Face...   \n",
       "\n",
       "                   pub_date  \\\n",
       "0  2023-10-01T00:06:00+0000   \n",
       "1  2023-10-01T00:06:25+0000   \n",
       "2  2023-10-01T00:18:47+0000   \n",
       "3  2023-10-01T00:47:45+0000   \n",
       "4  2023-10-01T01:38:51+0000   \n",
       "\n",
       "                                       byline.person  word_count  \\\n",
       "0  [{'firstname': 'Karoun', 'middlename': None, '...         681   \n",
       "1  [{'firstname': 'Lazaro', 'middlename': None, '...           0   \n",
       "2  [{'firstname': 'Andrew', 'middlename': None, '...        1269   \n",
       "3  [{'firstname': 'Orlando', 'middlename': None, ...         623   \n",
       "4  [{'firstname': 'Sopan', 'middlename': None, 'l...         729   \n",
       "\n",
       "                                            keywords document_type  \\\n",
       "0  [{'name': 'glocations', 'value': 'Egypt', 'ran...       article   \n",
       "1  [{'name': 'subject', 'value': 'Shutdowns (Inst...    multimedia   \n",
       "2  [{'name': 'glocations', 'value': 'Slovakia', '...       article   \n",
       "3  [{'name': 'subject', 'value': 'Newspapers', 'r...       article   \n",
       "4  [{'name': 'persons', 'value': 'Snow, Chris', '...       article   \n",
       "\n",
       "    news_desk section_name subsection_name  \\\n",
       "0  Washington         U.S.        Politics   \n",
       "1    Graphics         U.S.        Politics   \n",
       "2     Foreign        World          Europe   \n",
       "3     Express         U.S.             NaN   \n",
       "4      Sports       Sports             NaN   \n",
       "\n",
       "                                            abstract  \\\n",
       "0  The new chairman of the Senate Foreign Relatio...   \n",
       "1  The Senate overwhelmingly passed a bill to fun...   \n",
       "2  In much of Europe, the election in Slovakia wa...   \n",
       "3  Gideon Cody, who orchestrated a widely critici...   \n",
       "4  The assistant general manager of the Calgary F...   \n",
       "\n",
       "                                      lead_paragraph  \\\n",
       "0  Senator Ben Cardin of Maryland, the new chairm...   \n",
       "1  The Senate overwhelmingly passed a bill to fun...   \n",
       "2  A Russia-friendly populist party finished firs...   \n",
       "3  The police chief of Marion, Kansas, was suspen...   \n",
       "4  Chris Snow, the assistant general manager of t...   \n",
       "\n",
       "                                            key_text  \n",
       "0  The new chairman of the Senate Foreign Relatio...  \n",
       "1  The Senate overwhelmingly passed a bill to fun...  \n",
       "2  In much of Europe, the election in Slovakia wa...  \n",
       "3  Gideon Cody, who orchestrated a widely critici...  \n",
       "4  The assistant general manager of the Calgary F...  "
      ]
     },
     "execution_count": 10,
     "metadata": {},
     "output_type": "execute_result"
    }
   ],
   "source": [
    "textdf_sub = textdf.loc[:, ['headline.main', 'pub_date', 'byline.person', 'word_count', 'keywords', 'document_type', 'news_desk', 'section_name', 'subsection_name', 'abstract', 'lead_paragraph']]\n",
    "textdf_sub['key_text'] = textdf[['abstract', 'lead_paragraph', 'headline.main']].apply(lambda row: '\\n'.join(row.values.astype(str)), axis = 1)\n",
    "textdf_sub.head()\n"
   ]
  },
  {
   "cell_type": "markdown",
   "metadata": {},
   "source": [
    "# Lemmatization (be consistent and use same process as in previous nbs!!)"
   ]
  },
  {
   "cell_type": "code",
   "execution_count": 12,
   "metadata": {},
   "outputs": [
    {
     "data": {
      "text/html": [
       "<div>\n",
       "<style scoped>\n",
       "    .dataframe tbody tr th:only-of-type {\n",
       "        vertical-align: middle;\n",
       "    }\n",
       "\n",
       "    .dataframe tbody tr th {\n",
       "        vertical-align: top;\n",
       "    }\n",
       "\n",
       "    .dataframe thead th {\n",
       "        text-align: right;\n",
       "    }\n",
       "</style>\n",
       "<table border=\"1\" class=\"dataframe\">\n",
       "  <thead>\n",
       "    <tr style=\"text-align: right;\">\n",
       "      <th></th>\n",
       "      <th>key_text</th>\n",
       "      <th>keytext_lemma</th>\n",
       "    </tr>\n",
       "  </thead>\n",
       "  <tbody>\n",
       "    <tr>\n",
       "      <th>0</th>\n",
       "      <td>The new chairman of the Senate Foreign Relatio...</td>\n",
       "      <td>the new chairman of the Senate Foreign Relatio...</td>\n",
       "    </tr>\n",
       "    <tr>\n",
       "      <th>1</th>\n",
       "      <td>The Senate overwhelmingly passed a bill to fun...</td>\n",
       "      <td>the Senate overwhelmingly pass a bill to fund ...</td>\n",
       "    </tr>\n",
       "    <tr>\n",
       "      <th>2</th>\n",
       "      <td>In much of Europe, the election in Slovakia wa...</td>\n",
       "      <td>in much of Europe the election in Slovakia be ...</td>\n",
       "    </tr>\n",
       "  </tbody>\n",
       "</table>\n",
       "</div>"
      ],
      "text/plain": [
       "                                            key_text  \\\n",
       "0  The new chairman of the Senate Foreign Relatio...   \n",
       "1  The Senate overwhelmingly passed a bill to fun...   \n",
       "2  In much of Europe, the election in Slovakia wa...   \n",
       "\n",
       "                                       keytext_lemma  \n",
       "0  the new chairman of the Senate Foreign Relatio...  \n",
       "1  the Senate overwhelmingly pass a bill to fund ...  \n",
       "2  in much of Europe the election in Slovakia be ...  "
      ]
     },
     "execution_count": 12,
     "metadata": {},
     "output_type": "execute_result"
    }
   ],
   "source": [
    "# lemmatization (optional step)\n",
    "import spacy\n",
    "import re\n",
    "nlp = spacy.load(\"en_core_web_sm\")\n",
    "\n",
    "def lemmatizeAbstracts(x):\n",
    "    doc = nlp(x)\n",
    "    new_text = []\n",
    "    for token in doc:\n",
    "        new_text.append(token.lemma_)\n",
    "    text_string = \" \".join(new_text)\n",
    "    # getting rid of non-word characters\n",
    "    text_string = re.sub(r\"[^\\w\\s]+\", \"\", text_string)\n",
    "    text_string = re.sub(r\"\\s{2,}\", \" \", text_string)\n",
    "    return text_string\n",
    "\n",
    "textdf_sub[\"keytext_lemma\"] = textdf_sub[\"key_text\"].apply(lemmatizeAbstracts)\n",
    "textdf_sub.loc[:2, ['key_text', 'keytext_lemma']]"
   ]
  },
  {
   "cell_type": "code",
   "execution_count": 14,
   "metadata": {},
   "outputs": [
    {
     "data": {
      "text/plain": [
       "(3906, 18627)"
      ]
     },
     "execution_count": 14,
     "metadata": {},
     "output_type": "execute_result"
    }
   ],
   "source": [
    "from sklearn.feature_extraction.text import TfidfVectorizer\n",
    "\n",
    "tfidf = TfidfVectorizer(stop_words=\"english\")\n",
    "textdf_sub_tfidf = tfidf.fit_transform(textdf_sub[\"keytext_lemma\"])\n",
    "textdf_sub_tfidf.shape"
   ]
  },
  {
   "cell_type": "code",
   "execution_count": 17,
   "metadata": {},
   "outputs": [
    {
     "name": "stdout",
     "output_type": "stream",
     "text": [
      "(3906, 250)\n"
     ]
    },
    {
     "data": {
      "text/html": [
       "<div>\n",
       "<style scoped>\n",
       "    .dataframe tbody tr th:only-of-type {\n",
       "        vertical-align: middle;\n",
       "    }\n",
       "\n",
       "    .dataframe tbody tr th {\n",
       "        vertical-align: top;\n",
       "    }\n",
       "\n",
       "    .dataframe thead th {\n",
       "        text-align: right;\n",
       "    }\n",
       "</style>\n",
       "<table border=\"1\" class=\"dataframe\">\n",
       "  <thead>\n",
       "    <tr style=\"text-align: right;\">\n",
       "      <th></th>\n",
       "      <th>10</th>\n",
       "      <th>2023</th>\n",
       "      <th>accord</th>\n",
       "      <th>accuse</th>\n",
       "      <th>administration</th>\n",
       "      <th>age</th>\n",
       "      <th>ago</th>\n",
       "      <th>aid</th>\n",
       "      <th>america</th>\n",
       "      <th>americans</th>\n",
       "      <th>...</th>\n",
       "      <th>win</th>\n",
       "      <th>woman</th>\n",
       "      <th>word</th>\n",
       "      <th>wordle</th>\n",
       "      <th>write</th>\n",
       "      <th>writer</th>\n",
       "      <th>year old</th>\n",
       "      <th>york city</th>\n",
       "      <th>york times</th>\n",
       "      <th>young</th>\n",
       "    </tr>\n",
       "  </thead>\n",
       "  <tbody>\n",
       "    <tr>\n",
       "      <th>count</th>\n",
       "      <td>3906.000000</td>\n",
       "      <td>3906.000000</td>\n",
       "      <td>3906.000000</td>\n",
       "      <td>3906.000000</td>\n",
       "      <td>3906.000000</td>\n",
       "      <td>3906.000000</td>\n",
       "      <td>3906.000000</td>\n",
       "      <td>3906.000000</td>\n",
       "      <td>3906.000000</td>\n",
       "      <td>3906.000000</td>\n",
       "      <td>...</td>\n",
       "      <td>3906.000000</td>\n",
       "      <td>3906.000000</td>\n",
       "      <td>3906.000000</td>\n",
       "      <td>3906.000000</td>\n",
       "      <td>3906.000000</td>\n",
       "      <td>3906.000000</td>\n",
       "      <td>3906.000000</td>\n",
       "      <td>3906.000000</td>\n",
       "      <td>3906.000000</td>\n",
       "      <td>3906.000000</td>\n",
       "    </tr>\n",
       "    <tr>\n",
       "      <th>mean</th>\n",
       "      <td>0.008175</td>\n",
       "      <td>0.012723</td>\n",
       "      <td>0.009153</td>\n",
       "      <td>0.006394</td>\n",
       "      <td>0.007711</td>\n",
       "      <td>0.007252</td>\n",
       "      <td>0.009766</td>\n",
       "      <td>0.008459</td>\n",
       "      <td>0.009678</td>\n",
       "      <td>0.007008</td>\n",
       "      <td>...</td>\n",
       "      <td>0.010274</td>\n",
       "      <td>0.018514</td>\n",
       "      <td>0.008765</td>\n",
       "      <td>0.005443</td>\n",
       "      <td>0.010160</td>\n",
       "      <td>0.007622</td>\n",
       "      <td>0.009175</td>\n",
       "      <td>0.009485</td>\n",
       "      <td>0.008634</td>\n",
       "      <td>0.010904</td>\n",
       "    </tr>\n",
       "    <tr>\n",
       "      <th>std</th>\n",
       "      <td>0.058581</td>\n",
       "      <td>0.078944</td>\n",
       "      <td>0.055288</td>\n",
       "      <td>0.051312</td>\n",
       "      <td>0.057468</td>\n",
       "      <td>0.052148</td>\n",
       "      <td>0.055744</td>\n",
       "      <td>0.060286</td>\n",
       "      <td>0.061756</td>\n",
       "      <td>0.053582</td>\n",
       "      <td>...</td>\n",
       "      <td>0.062240</td>\n",
       "      <td>0.089031</td>\n",
       "      <td>0.065849</td>\n",
       "      <td>0.060165</td>\n",
       "      <td>0.063591</td>\n",
       "      <td>0.056236</td>\n",
       "      <td>0.058733</td>\n",
       "      <td>0.066634</td>\n",
       "      <td>0.056206</td>\n",
       "      <td>0.065807</td>\n",
       "    </tr>\n",
       "    <tr>\n",
       "      <th>min</th>\n",
       "      <td>0.000000</td>\n",
       "      <td>0.000000</td>\n",
       "      <td>0.000000</td>\n",
       "      <td>0.000000</td>\n",
       "      <td>0.000000</td>\n",
       "      <td>0.000000</td>\n",
       "      <td>0.000000</td>\n",
       "      <td>0.000000</td>\n",
       "      <td>0.000000</td>\n",
       "      <td>0.000000</td>\n",
       "      <td>...</td>\n",
       "      <td>0.000000</td>\n",
       "      <td>0.000000</td>\n",
       "      <td>0.000000</td>\n",
       "      <td>0.000000</td>\n",
       "      <td>0.000000</td>\n",
       "      <td>0.000000</td>\n",
       "      <td>0.000000</td>\n",
       "      <td>0.000000</td>\n",
       "      <td>0.000000</td>\n",
       "      <td>0.000000</td>\n",
       "    </tr>\n",
       "    <tr>\n",
       "      <th>25%</th>\n",
       "      <td>0.000000</td>\n",
       "      <td>0.000000</td>\n",
       "      <td>0.000000</td>\n",
       "      <td>0.000000</td>\n",
       "      <td>0.000000</td>\n",
       "      <td>0.000000</td>\n",
       "      <td>0.000000</td>\n",
       "      <td>0.000000</td>\n",
       "      <td>0.000000</td>\n",
       "      <td>0.000000</td>\n",
       "      <td>...</td>\n",
       "      <td>0.000000</td>\n",
       "      <td>0.000000</td>\n",
       "      <td>0.000000</td>\n",
       "      <td>0.000000</td>\n",
       "      <td>0.000000</td>\n",
       "      <td>0.000000</td>\n",
       "      <td>0.000000</td>\n",
       "      <td>0.000000</td>\n",
       "      <td>0.000000</td>\n",
       "      <td>0.000000</td>\n",
       "    </tr>\n",
       "    <tr>\n",
       "      <th>50%</th>\n",
       "      <td>0.000000</td>\n",
       "      <td>0.000000</td>\n",
       "      <td>0.000000</td>\n",
       "      <td>0.000000</td>\n",
       "      <td>0.000000</td>\n",
       "      <td>0.000000</td>\n",
       "      <td>0.000000</td>\n",
       "      <td>0.000000</td>\n",
       "      <td>0.000000</td>\n",
       "      <td>0.000000</td>\n",
       "      <td>...</td>\n",
       "      <td>0.000000</td>\n",
       "      <td>0.000000</td>\n",
       "      <td>0.000000</td>\n",
       "      <td>0.000000</td>\n",
       "      <td>0.000000</td>\n",
       "      <td>0.000000</td>\n",
       "      <td>0.000000</td>\n",
       "      <td>0.000000</td>\n",
       "      <td>0.000000</td>\n",
       "      <td>0.000000</td>\n",
       "    </tr>\n",
       "    <tr>\n",
       "      <th>75%</th>\n",
       "      <td>0.000000</td>\n",
       "      <td>0.000000</td>\n",
       "      <td>0.000000</td>\n",
       "      <td>0.000000</td>\n",
       "      <td>0.000000</td>\n",
       "      <td>0.000000</td>\n",
       "      <td>0.000000</td>\n",
       "      <td>0.000000</td>\n",
       "      <td>0.000000</td>\n",
       "      <td>0.000000</td>\n",
       "      <td>...</td>\n",
       "      <td>0.000000</td>\n",
       "      <td>0.000000</td>\n",
       "      <td>0.000000</td>\n",
       "      <td>0.000000</td>\n",
       "      <td>0.000000</td>\n",
       "      <td>0.000000</td>\n",
       "      <td>0.000000</td>\n",
       "      <td>0.000000</td>\n",
       "      <td>0.000000</td>\n",
       "      <td>0.000000</td>\n",
       "    </tr>\n",
       "    <tr>\n",
       "      <th>max</th>\n",
       "      <td>0.840300</td>\n",
       "      <td>0.753513</td>\n",
       "      <td>0.746948</td>\n",
       "      <td>0.819091</td>\n",
       "      <td>0.819836</td>\n",
       "      <td>0.785870</td>\n",
       "      <td>0.582129</td>\n",
       "      <td>0.746947</td>\n",
       "      <td>0.804719</td>\n",
       "      <td>0.752271</td>\n",
       "      <td>...</td>\n",
       "      <td>0.975347</td>\n",
       "      <td>1.000000</td>\n",
       "      <td>0.837742</td>\n",
       "      <td>0.693447</td>\n",
       "      <td>1.000000</td>\n",
       "      <td>1.000000</td>\n",
       "      <td>0.853765</td>\n",
       "      <td>0.908715</td>\n",
       "      <td>0.705355</td>\n",
       "      <td>0.854290</td>\n",
       "    </tr>\n",
       "  </tbody>\n",
       "</table>\n",
       "<p>8 rows × 250 columns</p>\n",
       "</div>"
      ],
      "text/plain": [
       "                10         2023       accord       accuse  administration  \\\n",
       "count  3906.000000  3906.000000  3906.000000  3906.000000     3906.000000   \n",
       "mean      0.008175     0.012723     0.009153     0.006394        0.007711   \n",
       "std       0.058581     0.078944     0.055288     0.051312        0.057468   \n",
       "min       0.000000     0.000000     0.000000     0.000000        0.000000   \n",
       "25%       0.000000     0.000000     0.000000     0.000000        0.000000   \n",
       "50%       0.000000     0.000000     0.000000     0.000000        0.000000   \n",
       "75%       0.000000     0.000000     0.000000     0.000000        0.000000   \n",
       "max       0.840300     0.753513     0.746948     0.819091        0.819836   \n",
       "\n",
       "               age          ago          aid      america    americans  ...  \\\n",
       "count  3906.000000  3906.000000  3906.000000  3906.000000  3906.000000  ...   \n",
       "mean      0.007252     0.009766     0.008459     0.009678     0.007008  ...   \n",
       "std       0.052148     0.055744     0.060286     0.061756     0.053582  ...   \n",
       "min       0.000000     0.000000     0.000000     0.000000     0.000000  ...   \n",
       "25%       0.000000     0.000000     0.000000     0.000000     0.000000  ...   \n",
       "50%       0.000000     0.000000     0.000000     0.000000     0.000000  ...   \n",
       "75%       0.000000     0.000000     0.000000     0.000000     0.000000  ...   \n",
       "max       0.785870     0.582129     0.746947     0.804719     0.752271  ...   \n",
       "\n",
       "               win        woman         word       wordle        write  \\\n",
       "count  3906.000000  3906.000000  3906.000000  3906.000000  3906.000000   \n",
       "mean      0.010274     0.018514     0.008765     0.005443     0.010160   \n",
       "std       0.062240     0.089031     0.065849     0.060165     0.063591   \n",
       "min       0.000000     0.000000     0.000000     0.000000     0.000000   \n",
       "25%       0.000000     0.000000     0.000000     0.000000     0.000000   \n",
       "50%       0.000000     0.000000     0.000000     0.000000     0.000000   \n",
       "75%       0.000000     0.000000     0.000000     0.000000     0.000000   \n",
       "max       0.975347     1.000000     0.837742     0.693447     1.000000   \n",
       "\n",
       "            writer     year old    york city   york times        young  \n",
       "count  3906.000000  3906.000000  3906.000000  3906.000000  3906.000000  \n",
       "mean      0.007622     0.009175     0.009485     0.008634     0.010904  \n",
       "std       0.056236     0.058733     0.066634     0.056206     0.065807  \n",
       "min       0.000000     0.000000     0.000000     0.000000     0.000000  \n",
       "25%       0.000000     0.000000     0.000000     0.000000     0.000000  \n",
       "50%       0.000000     0.000000     0.000000     0.000000     0.000000  \n",
       "75%       0.000000     0.000000     0.000000     0.000000     0.000000  \n",
       "max       1.000000     0.853765     0.908715     0.705355     0.854290  \n",
       "\n",
       "[8 rows x 250 columns]"
      ]
     },
     "execution_count": 17,
     "metadata": {},
     "output_type": "execute_result"
    }
   ],
   "source": [
    "# creating a new TF-IDF matrix\n",
    "tfidf = TfidfVectorizer(stop_words=\"english\", ngram_range=(1,2), max_features=250, strip_accents=\"unicode\", min_df=10, max_df=200)\n",
    "tfidf_lemma_array = tfidf.fit_transform(textdf_sub[\"keytext_lemma\"])\n",
    "textdf_sub_tfidf = pd.DataFrame(tfidf_lemma_array.toarray(), index=textdf_sub.index, columns=tfidf.get_feature_names_out())\n",
    "print(textdf_sub_tfidf.shape)\n",
    "textdf_sub_tfidf.describe()\n"
   ]
  },
  {
   "cell_type": "code",
   "execution_count": 19,
   "metadata": {},
   "outputs": [],
   "source": [
    "# using PCA to reduce the dimensionality\n",
    "from sklearn.decomposition import PCA # dimensionality reduction\n",
    "pca = PCA(n_components=10, whiten=False, random_state=42)\n",
    "text_pca = pca.fit_transform(textdf_sub_tfidf)\n",
    "df_text_pca = pd.DataFrame(data = text_pca)"
   ]
  },
  {
   "cell_type": "code",
   "execution_count": 21,
   "metadata": {},
   "outputs": [],
   "source": [
    "from sklearn.cluster import KMeans, DBSCAN # clustering algorithms\n",
    "\n",
    "def elbowPlot(range_, data, figsize=(10,10)):\n",
    "    '''\n",
    "    the elbow plot function helps to figure out the right amount of clusters for a dataset\n",
    "    '''\n",
    "    inertia_list = []\n",
    "    for n in range_:\n",
    "        kmeans = KMeans(n_clusters=n, random_state=42)\n",
    "        kmeans.fit(data)\n",
    "        inertia_list.append(kmeans.inertia_)\n",
    "        \n",
    "    # plotting\n",
    "    fig = plt.figure(figsize=figsize)\n",
    "    ax = fig.add_subplot(111)\n",
    "    sns.lineplot(y=inertia_list, x=range_, ax=ax)\n",
    "    ax.set_xlabel(\"Cluster\")\n",
    "    ax.set_ylabel(\"Inertia\")\n",
    "    ax.set_xticks(list(range_))\n",
    "    fig.show()\n",
    "    fig.savefig(\"elbow_plot.png\")\n"
   ]
  },
  {
   "cell_type": "code",
   "execution_count": 20,
   "metadata": {},
   "outputs": [],
   "source": [
    "def progressiveFeatureSelection(df, n_clusters=3, max_features=4,):\n",
    "    '''\n",
    "    very basic implementation of an algorithm for feature selection (unsupervised clustering); inspired by this post: https://datascience.stackexchange.com/questions/67040/how-to-do-feature-selection-for-clustering-and-implement-it-in-python\n",
    "    '''\n",
    "    feature_list = list(df.columns)\n",
    "    selected_features = list()\n",
    "    # select starting feature\n",
    "    initial_feature = \"\"\n",
    "    high_score = 0\n",
    "    for feature in feature_list:\n",
    "        kmeans = KMeans(n_clusters=n_clusters, random_state=42)\n",
    "        data_ = df[feature]\n",
    "        labels = kmeans.fit_predict(data_.to_frame())\n",
    "        score_ = silhouette_score(data_.to_frame(), labels)\n",
    "        print(\"Proposed new feature {} with score {}\". format(feature, score_))\n",
    "        if score_ >= high_score:\n",
    "            initial_feature = feature\n",
    "            high_score = score_\n",
    "    print(\"The initial feature is {} with a silhouette score of {}.\".format(initial_feature, high_score))\n",
    "    feature_list.remove(initial_feature)\n",
    "    selected_features.append(initial_feature)\n",
    "    for _ in range(max_features-1):\n",
    "        high_score = 0\n",
    "        selected_feature = \"\"\n",
    "        print(\"Starting selection {}...\".format(_))\n",
    "        for feature in feature_list:\n",
    "            selection_ = selected_features.copy()\n",
    "            selection_.append(feature)\n",
    "            kmeans = KMeans(n_clusters=n_clusters, random_state=42)\n",
    "            data_ = df[selection_]\n",
    "            labels = kmeans.fit_predict(data_)\n",
    "            score_ = silhouette_score(data_, labels)\n",
    "            print(\"Proposed new feature {} with score {}\". format(feature, score_))\n",
    "            if score_ > high_score:\n",
    "                selected_feature = feature\n",
    "                high_score = score_\n",
    "        selected_features.append(selected_feature)\n",
    "        feature_list.remove(selected_feature)\n",
    "        print(\"Selected new feature {} with score {}\". format(selected_feature, high_score))\n",
    "    return selected_features"
   ]
  },
  {
   "cell_type": "code",
   "execution_count": null,
   "metadata": {},
   "outputs": [],
   "source": [
    "scaler = SS()\n",
    "DNP_authors_standardized = scaler.fit_transform(df_authors)\n",
    "df_authors_standardized = pd.DataFrame(DNP_authors_standardized, columns=[\"word_count_standardized\", \"modern_translations_standardized\", \"known_works_standardized\", \"manuscripts_standardized\", \"early_editions_standardized\", \"early_translations_standardized\", \"modern_editions_standardized\", \"commentaries_standardized\"])\n",
    "df_authors_standardized = df_authors_standardized.set_index(df_authors.index)"
   ]
  },
  {
   "cell_type": "code",
   "execution_count": null,
   "metadata": {},
   "outputs": [],
   "source": [
    "selected_features = progressiveFeatureSelection(df_authors_standardized, max_features=3, n_clusters=3)"
   ]
  },
  {
   "cell_type": "code",
   "execution_count": null,
   "metadata": {},
   "outputs": [],
   "source": [
    "df_standardized_sliced = df_authors_standardized[selected_features]"
   ]
  },
  {
   "cell_type": "code",
   "execution_count": null,
   "metadata": {},
   "outputs": [],
   "source": [
    "elbowPlot(range(1,11), df_standardized_sliced)"
   ]
  },
  {
   "cell_type": "code",
   "execution_count": null,
   "metadata": {},
   "outputs": [],
   "source": []
  },
  {
   "cell_type": "code",
   "execution_count": null,
   "metadata": {},
   "outputs": [],
   "source": []
  },
  {
   "cell_type": "code",
   "execution_count": 43,
   "metadata": {},
   "outputs": [
    {
     "name": "stderr",
     "output_type": "stream",
     "text": [
      "c:\\Users\\F0040RP\\Documents\\DartLib_RDS\\intro-to-python\\.venv\\Lib\\site-packages\\sklearn\\cluster\\_kmeans.py:1416: FutureWarning: The default value of `n_init` will change from 10 to 'auto' in 1.4. Set the value of `n_init` explicitly to suppress the warning\n",
      "  super()._check_params_vs_input(X, default_n_init=10)\n"
     ]
    }
   ],
   "source": [
    "kmeans = KMeans(n_clusters=100, random_state=42)\n",
    "abstracts_labels = kmeans.fit_predict(df_text_pca)\n",
    "df_abstracts_labeled = textdf_sub.copy()\n",
    "df_abstracts_labeled[\"cluster\"] = abstracts_labels"
   ]
  },
  {
   "cell_type": "code",
   "execution_count": 59,
   "metadata": {},
   "outputs": [
    {
     "data": {
      "text/plain": [
       "array([ 1,  0, 33, ..., 30, 85, 53])"
      ]
     },
     "execution_count": 59,
     "metadata": {},
     "output_type": "execute_result"
    }
   ],
   "source": [
    "abstracts_labels"
   ]
  },
  {
   "cell_type": "code",
   "execution_count": 24,
   "metadata": {},
   "outputs": [
    {
     "data": {
      "text/html": [
       "<div>\n",
       "<style scoped>\n",
       "    .dataframe tbody tr th:only-of-type {\n",
       "        vertical-align: middle;\n",
       "    }\n",
       "\n",
       "    .dataframe tbody tr th {\n",
       "        vertical-align: top;\n",
       "    }\n",
       "\n",
       "    .dataframe thead th {\n",
       "        text-align: right;\n",
       "    }\n",
       "</style>\n",
       "<table border=\"1\" class=\"dataframe\">\n",
       "  <thead>\n",
       "    <tr style=\"text-align: right;\">\n",
       "      <th></th>\n",
       "      <th>keytext_lemma</th>\n",
       "      <th>cluster</th>\n",
       "    </tr>\n",
       "  </thead>\n",
       "  <tbody>\n",
       "    <tr>\n",
       "      <th>4</th>\n",
       "      <td>the assistant general manager of the Calgary F...</td>\n",
       "      <td>75</td>\n",
       "    </tr>\n",
       "    <tr>\n",
       "      <th>177</th>\n",
       "      <td>with her own firm in San Francisco and a found...</td>\n",
       "      <td>75</td>\n",
       "    </tr>\n",
       "    <tr>\n",
       "      <th>789</th>\n",
       "      <td>a pyrotechnic funk and RB mainstay he be a vit...</td>\n",
       "      <td>75</td>\n",
       "    </tr>\n",
       "    <tr>\n",
       "      <th>1780</th>\n",
       "      <td>work separately from the scottish team that ha...</td>\n",
       "      <td>75</td>\n",
       "    </tr>\n",
       "    <tr>\n",
       "      <th>2122</th>\n",
       "      <td>her music which range from chamber miniature t...</td>\n",
       "      <td>75</td>\n",
       "    </tr>\n",
       "    <tr>\n",
       "      <th>2294</th>\n",
       "      <td>at a time when teen suicide be see as random a...</td>\n",
       "      <td>75</td>\n",
       "    </tr>\n",
       "    <tr>\n",
       "      <th>2487</th>\n",
       "      <td>know for the distinctively jazzy flavor of his...</td>\n",
       "      <td>75</td>\n",
       "    </tr>\n",
       "    <tr>\n",
       "      <th>3013</th>\n",
       "      <td>the technique he develop in the field of compl...</td>\n",
       "      <td>75</td>\n",
       "    </tr>\n",
       "    <tr>\n",
       "      <th>3310</th>\n",
       "      <td>row of new crab apple tree be be carefully pla...</td>\n",
       "      <td>75</td>\n",
       "    </tr>\n",
       "    <tr>\n",
       "      <th>3462</th>\n",
       "      <td>nan nan Treat Williams Actor Known for hair an...</td>\n",
       "      <td>75</td>\n",
       "    </tr>\n",
       "  </tbody>\n",
       "</table>\n",
       "</div>"
      ],
      "text/plain": [
       "                                          keytext_lemma  cluster\n",
       "4     the assistant general manager of the Calgary F...       75\n",
       "177   with her own firm in San Francisco and a found...       75\n",
       "789   a pyrotechnic funk and RB mainstay he be a vit...       75\n",
       "1780  work separately from the scottish team that ha...       75\n",
       "2122  her music which range from chamber miniature t...       75\n",
       "2294  at a time when teen suicide be see as random a...       75\n",
       "2487  know for the distinctively jazzy flavor of his...       75\n",
       "3013  the technique he develop in the field of compl...       75\n",
       "3310  row of new crab apple tree be be carefully pla...       75\n",
       "3462  nan nan Treat Williams Actor Known for hair an...       75"
      ]
     },
     "execution_count": 24,
     "metadata": {},
     "output_type": "execute_result"
    }
   ],
   "source": [
    "df_abstracts_labeled[df_abstracts_labeled[\"cluster\"] == 75][[\"keytext_lemma\", \"cluster\"]]"
   ]
  },
  {
   "cell_type": "code",
   "execution_count": 78,
   "metadata": {},
   "outputs": [
    {
     "data": {
      "text/plain": [
       "<Axes: xlabel='pc_1', ylabel='pc_2'>"
      ]
     },
     "execution_count": 78,
     "metadata": {},
     "output_type": "execute_result"
    },
    {
     "data": {
      "image/png": "[encoded data removed]",
      "text/plain": [
       "<Figure size 640x480 with 1 Axes>"
      ]
     },
     "metadata": {},
     "output_type": "display_data"
    }
   ],
   "source": [
    "# using PCA to reduce the dimensionality\n",
    "pca = PCA(n_components=2, whiten=False, random_state=42)\n",
    "standardized_pca = pca.fit_transform(df_text_pca)\n",
    "df_standardized_pca = pd.DataFrame(data=standardized_pca, columns=[\"pc_1\", \"pc_2\"])\n",
    "df_standardized_pca[\"clusters\"] = abstracts_labels\n",
    "\n",
    "# plotting the clusters with seaborn\n",
    "import seaborn as sns\n",
    "sns.scatterplot(x=\"pc_1\", y=\"pc_2\", hue=\"clusters\", data=df_standardized_pca)"
   ]
  },
  {
   "cell_type": "code",
   "execution_count": 87,
   "metadata": {},
   "outputs": [],
   "source": [
    "df_abstracts_labeled_sub = df_abstracts_labeled.loc[:, \"headline.main\"]"
   ]
  },
  {
   "cell_type": "code",
   "execution_count": 94,
   "metadata": {},
   "outputs": [],
   "source": [
    "df_standardized_pca = pd.concat([df_standardized_pca, df_abstracts_labeled_sub], axis = 1)"
   ]
  },
  {
   "cell_type": "code",
   "execution_count": 95,
   "metadata": {},
   "outputs": [
    {
     "data": {
      "application/vnd.plotly.v1+json": {
       "config": {
        "plotlyServerURL": "https://plot.ly"
       },
       "data": [
        {
         "customdata": [
          [
           "Senate Democrat Threatens to Block More of Military Aid to Egypt"
          ],
          [
           "How Each Member Voted on the Senate Stopgap Spending Measure"
          ],
          [
           "What Does a Russia-Leaning Party Win in an E.U. Nation Mean for Ukraine?"
          ],
          [
           "Police Chief Who Ordered Raid on Kansas Newspaper Is Suspended"
          ],
          [
           "Chris Snow, Hockey Executive Who Publicly Faced A.L.S., Dies at 42"
          ],
          [
           "Newsom Vetoes Bill Allowing Workers to Collect Unemployment Pay While Striking"
          ],
          [
           "No Corrections: Oct. 1, 2023"
          ],
          [
           "Quotation of the Day: Through Triumph and Tragedy, Feinstein Helped Shape San Francisco"
          ],
          [
           "Nikki Haley Won the Debate Stage. Now, She’s Trying to Win Over Iowa."
          ],
          [
           "Spelling Bee Forum"
          ],
          [
           "A Cooking Editor Who Finds Inspiration Everywhere"
          ],
          [
           "‘Before Leaving Town, We Stopped to Get Sandwiches to Eat in the Car’"
          ],
          [
           "Maybe in Your Lifetime, People Will Live on the Moon and Then Mars"
          ],
          [
           "Today’s Wordle Review"
          ],
          [
           "The Gilgo Beach Suspect May Have Hunted Them. Now They’re Key Witnesses."
          ],
          [
           "The Hottest New Accessory in Niger? A Russian Flag."
          ],
          [
           "Menendez Co-Defendant’s Curious Path From Bad Deals to a Meat Monopoly"
          ],
          [
           "Close Enough to Call Back"
          ],
          [
           "Four Seconds to Impact: On the Front Line With Ukraine’s Snipers"
          ],
          [
           "Farewell to a Woman in Full"
          ],
          [
           "Wearables, Redefined"
          ],
          [
           "A Novel of Survival and the Sublime in the Mojave Desert"
          ],
          [
           "Ferrante Before Ferrante"
          ],
          [
           "A Fitting — and Frightening — Homage to ‘The Haunting of Hill House’"
          ],
          [
           "Wall Street’s Most Hated Regulator Faces a Fundamental Threat"
          ],
          [
           "The Deadly Red Tape of Israel’s Occupation in Palestine"
          ],
          [
           "Should Children Join the Killing in New Zealand’s War on Invasive Species?"
          ],
          [
           "Gen Z Wants Feminine Care Brands to Just Say Vagina"
          ],
          [
           "Jonathan Lethem Returns to the Borough That Launched Him"
          ],
          [
           "A Nobel Prize Might Lower a Scientist’s Impact"
          ],
          [
           "A Battered Supreme Court Returns to Confront a Challenging Docket"
          ],
          [
           "He’s a Dab of Glue in a Broken City. Can He Hold It Together?"
          ],
          [
           "Arnold Schwarzenegger Is Here to Pump You Up (Emotionally)"
          ],
          [
           "When Taylor Swift and Travis Kelce Collided With Prime-Time TV"
          ],
          [
           "Why Can’t We Stop Unauthorized Immigration? Because It Works."
          ],
          [
           "What Should You Do if Hotels Don’t Warn You About Strikes?"
          ],
          [
           "To Many Americans, Government Dysfunction Is the New Normal"
          ],
          [
           "Inside McCarthy’s Shutdown Turnabout That Left His Speakership at Risk"
          ],
          [
           "Trailblazer, Role Model, Mentor: Feinstein’s Impact on Women in Office"
          ],
          [
           "With Unrealistic Immigration Proposals, DeSantis and Trump Try to Outdo Each Other"
          ],
          [
           "Trailing in Polls, Conservatives Look to Unleash the ‘Real Rishi’ Sunak"
          ],
          [
           "Ukraine Downplays Uncertainty Over U.S. Support After Funding Bill Passes With No Aid"
          ],
          [
           "An Ancient City, Now in Ruins, Struggles to Keep Its Soul"
          ],
          [
           "Turkey Strikes Kurdish Rebels After Suicide Attack in Ankara"
          ],
          [
           "‘Dumb Money’ Exposes the Baffling Allure of Bad Investment Advice"
          ],
          [
           "Spider Boots, Boxers, Hoverboards: When Ukrainian Troops Ask, We Deliver"
          ],
          [
           "The Enemies of Literature Are Winning"
          ],
          [
           "The Climate Fight Will Be Won in the Appliance Aisle"
          ],
          [
           "One Reason the Trump Fever Won’t Break"
          ],
          [
           "The Sunday Read: ‘The Art of Telling Forbidden Stories in China’"
          ],
          [
           "At Least 13 Killed in Nightclub Fire in Spain"
          ],
          [
           "Shutdown Avoided"
          ],
          [
           "What’s Going On in This Picture? | Oct. 2, 2023"
          ],
          [
           "McCarthy Faces Test as Gaetz Moves to Oust Him for Working With Democrats"
          ],
          [
           "A Blind Spot for Two-Parent Privilege?"
          ],
          [
           "A Pretty Perfect Pollo Asado"
          ],
          [
           "Serbia’s President Rejects Claims of Troop Buildup Near Kosovo"
          ],
          [
           "They Ran for a Better Life, Straight Into a Wildfire"
          ],
          [
           "How ‘No One Will Save You’ Terrifies Us With Hardly a Word"
          ],
          [
           "Nightclub Fire Kills More Than a Dozen People in Spain"
          ],
          [
           "‘Celebrate Jaap!’ the Philharmonic Says as a Maestro Departs"
          ],
          [
           "At Fall for Dance, Meeting Enthusiasm With Mediocrity"
          ],
          [
           "Longtime Union Leader Steps Fully Into Hollywood’s Spotlight"
          ],
          [
           "Baton Rouge Officers Accused of Covering Up Use of Excessive Force"
          ],
          [
           "Huge Antigovernment Crowds March in Poland Ahead of Critical Election"
          ],
          [
           "Against the Wall, McCarthy Does the Right Thing"
          ],
          [
           "Monday Briefing: U.S. Aid to Ukraine Is Uncertain"
          ],
          [
           "Unease in the West as Slovakia Appears Set to Join the Putin Sympathizers"
          ],
          [
           "Chipotle Manager Pulled Off Worker’s Hijab, U.S. Says in Lawsuit"
          ],
          [
           "Scissors Sound"
          ],
          [
           "Tim Wakefield, Pitcher Who Helped Boston Break the Curse, Dies at 57"
          ],
          [
           "Two People Killed by Grizzly Bear at Banff National Park in Canada"
          ],
          [
           "Dozens Search for Girl Who Disappeared Camping With Family Upstate"
          ],
          [
           "As His Fraud Trial Begins, Trump Looks to Capitalize on It"
          ],
          [
           "On a Warm Day in Iowa, Trump Heats Up His Push for Caucus Support"
          ],
          [
           "What Role Should Young People Play in the Fight Against Climate Change?"
          ],
          [
           "Newsom Names Emily’s List President as Feinstein Successor"
          ],
          [
           "Quotation of the Day: Outside the Beltway, Dysfunction Induces a Big Public Yawn"
          ],
          [
           "No Corrections: Oct. 2, 2023"
          ],
          [
           "Why the ‘Mother of the Atomic Bomb’ Never Won a Nobel Prize"
          ],
          [
           "Pick Pumpkins, Pick Apples and Get Out of Town"
          ],
          [
           "Monday Briefing"
          ],
          [
           "What’s on TV This Week: ‘Catfish’ and ‘Sullivan’s Crossing’"
          ],
          [
           "Word of the Day: a cappella"
          ],
          [
           "Spelling Bee Forum"
          ],
          [
           "Today’s Wordle Review"
          ],
          [
           "Trump’s Trial Starts Monday. It Will Spotlight What He’s Really Worth."
          ],
          [
           "New York Schools Came Back From the Brink. Now a New Crisis Looms."
          ],
          [
           "E.U. Foreign Ministers Hold Surprise Summit in Wartime Kyiv"
          ],
          [
           "E.U. Foreign Ministers Gather in Kyiv for Surprise Summit"
          ],
          [
           "Typhoon Koinu Nears Southern China After Killing 1 in Taiwan"
          ],
          [
           "Shoes on the Table! And Other Challenges to the Fashion Status Quo"
          ],
          [
           "The Secret Memo From the General Who Foresaw Black Hawk Down"
          ],
          [
           "The Most Important Eight Hours of Your Day? They Weren’t Always."
          ],
          [
           "Can a New At-Home Test Tell You if You’re in Menopause?"
          ],
          [
           "Daniel Clowes Dreams of the Apocalypse"
          ],
          [
           "Climate Change Is Forcing Families Into a New Kind of Indefinite Hell"
          ],
          [
           "The Great American Teacher Crisis"
          ],
          [
           "How a Pricing Change Led to a Revolt by Unity’s Video Game Developers"
          ],
          [
           "‘You Couldn’t Plan It All if You Tried’: Cruising the Rhone River in High Style"
          ],
          [
           "Prozac Nation, Meet Lexapro Sweatshirts"
          ],
          [
           "They Accidentally Bought the Wrong House. So They Made It the Right House."
          ],
          [
           "He Announces Baseball Games in Spanish. It Is Not His First Language."
          ],
          [
           "Power of Older Women? Extinct G.O.P. Moderates? It’s Time for the Mailbag."
          ],
          [
           "Crypto Goes on Trial, as Sam Bankman-Fried Faces His Reckoning"
          ],
          [
           "$900,000 Homes in California"
          ],
          [
           "Chris Sununu Saw Small Signs of Trump’s Defeat at the Debate"
          ],
          [
           "‘Two Trains Charging at Each Other’: A Texas Bishop Takes On the Pope"
          ],
          [
           "Who’s Rooting Hardest for a Sam Bankman-Fried Conviction? The Crypto Industry."
          ],
          [
           "My Fellow Republicans: It’s Time to Grow Up"
          ],
          [
           "Now Republicans Are Trying to Redefine Abortion Itself"
          ],
          [
           "What Is a Synod in the Catholic Church? And Why Does This One Matter?"
          ],
          [
           "Vatican Assembly Puts the Church’s Most Sensitive Issues on the Table"
          ],
          [
           "Great Books Will Always Be Their Own Best Defense"
          ],
          [
           "Russia May Be Planning to Test a Nuclear-Powered Missile"
          ],
          [
           "Why Do Runway Models Always Look So Grumpy?"
          ],
          [
           "Gaetz Moves to Oust McCarthy, Threatening His Grip on the Speakership"
          ],
          [
           "Investigators of Iraqi Wedding Hall Blaze Call for Officials to Be Fired"
          ],
          [
           "Kevin McCarthy Surprised Us All"
          ],
          [
           "Redfin, the Online Real Estate Broker, Leaves a Powerful Realtor Group"
          ],
          [
           "Today’s Top News: Trump’s Fraud Trial Begins, and More"
          ],
          [
           "Nobel Prize Awarded to Covid Vaccine Pioneers"
          ],
          [
           "The Orion Nebula Is Full of Impossible Enigmas That Come in Pairs"
          ],
          [
           "Amazon’s Most Beloved Features May Turn Out to Be Illegal"
          ],
          [
           "A Public Health Setback"
          ],
          [
           "Wildfires in Canada Bringing Hazy Skies Over New York, Other Regions"
          ],
          [
           "Extreme Eye Contact and Other Ways of Dating"
          ],
          [
           "Crypto’s Trial of the Century Is Set to Begin"
          ],
          [
           "Russian and Ukrainian Officials Both Predict U.S. Support for Kyiv Won’t Change"
          ],
          [
           "South Asians Are Divided Over a Pending Ban on Caste Discrimination"
          ],
          [
           "Trump’s Fraud Trial Starts With Attacks on Attorney General and Judge"
          ],
          [
           "Tesla’s Sales Slip as It Readies Factories for New Models"
          ],
          [
           "China Evergrande’s Founder: From Rags to Riches to Under Investigation"
          ],
          [
           "Beyoncé’s ‘Renaissance’ Film Coming to Movie Theaters"
          ],
          [
           "A Lightning Rod Defends His Legacy (and Has a Few Regrets)"
          ],
          [
           "Supreme Court Turns Away Challenge to New York’s Rent Regulations"
          ],
          [
           "Can You Find The 13 Adventure Travel Books Hidden in This Text?"
          ],
          [
           "Jurist presiding at Trump’s civil trial will serve as judge and jury."
          ],
          [
           "‘We Taylor-gated’: Taylor Swift Fans Descend on a Jets Game"
          ],
          [
           "How PETA Infiltrated Major Fashion Shows This Season"
          ],
          [
           "India’s Early Electronic Music From the ’70s Is Finally Being Released"
          ],
          [
           "Kenyan-Led Security Mission in Haiti: What to Know"
          ],
          [
           "Bears Are Having a Moment"
          ],
          [
           "Five Easy Recipes With Smart Shortcuts"
          ],
          [
           "Met Museum’s Great Hall Store to Become Gallery"
          ],
          [
           "Bizarre Cancer Has Been Spreading Among Shellfish for Centuries, Studies Find"
          ],
          [
           "A New Satellite Outshines Some of the Brightest Stars in the Sky"
          ],
          [
           "Notebook and Pen in Hand, a Swiftie Watches the N.F.L. and Learns"
          ],
          [
           "Church Collapse in Mexico Kills 11 During Collective Baptism"
          ],
          [
           "Philadelphia Journalist Is Killed in His Home"
          ],
          [
           "Putin’s Next Target: U.S. Support for Ukraine, Officials Say"
          ],
          [
           "Justice Thomas Recuses as Supreme Court Turns Down Appeal From Eastman"
          ],
          [
           "A Shutdown Averted, at Least for Now"
          ],
          [
           "Multiple People Killed After Church Roof Collapses in Mexico"
          ],
          [
           "Wildfires: Stay Safe in a Warming World"
          ],
          [
           "A Brooklyn Artist Interrogates N.Y.P.D. Surveillance Films"
          ],
          [
           "Alice Shalvi, Hailed as a Mother of Feminism in Israel, Dies at 96"
          ],
          [
           "Microsoft C.E.O. Testifies That Google’s Power in Search Is Ubiquitous"
          ],
          [
           "When Mr. Secretary Loves to Rock"
          ],
          [
           "Horace Ové, Pioneering Black Filmmaker in Britain, Dies at 86"
          ],
          [
           "What to Know About Laphonza Butler, Newsom’s Appointee to the Senate"
          ],
          [
           "A Chance to Sample a Famous Reuben"
          ],
          [
           "Frans Hals and the Art of Laughter"
          ],
          [
           "Giving Workers a Raise Is Not Going to Make Inflation Worse"
          ],
          [
           "The Americans Most Threatened by Eviction: Young Children"
          ],
          [
           "After Monastery Shootout, Residents Say Kosovo Villages Feel Like a ‘Jungle’"
          ],
          [
           "Echo Brown, Young Adult Author and Performer, Is Dead at 39"
          ],
          [
           "At Spanish Disco Where Fire Killed 13, Grief and Unanswered Questions"
          ],
          [
           "On First Day of New Term, Supreme Court Hears Debate Over First Step Act"
          ],
          [
           "U.N. Approves Kenya-Led Security Mission to Help Haiti Stamp Out Gangs"
          ],
          [
           "Democrats Weigh Whether to Rescue McCarthy From G.O.P. Ouster Bid"
          ],
          [
           "WeWork Skips $95 Million in Interest Payments"
          ],
          [
           "Tuesday Briefing: Trump’s New York Fraud Trial Begins"
          ],
          [
           "Airbnb Guest Robs Host at Gunpoint, Police Say"
          ],
          [
           "House Democrat Leaves Leadership Position After Teasing Run Against Biden"
          ],
          [
           "Tom Hanks Warns of Dental Ad Using A.I. Version of Him"
          ],
          [
           "Read the document"
          ],
          [
           "Beverly Willis, 95, Dies; Architect and Advocate for Women in the Field"
          ],
          [
           "What’s a Song That Feels Like Autumn to You?"
          ],
          [
           "The Best Tips Out of Paris Fashion Week? Avoiding Bedbugs."
          ],
          [
           "Trump’s Fraud Trial Begins"
          ],
          [
           "Why MAGA Wants to Betray Ukraine"
          ],
          [
           "Missing Girl, 9, Found Safe in New York, and Suspect Is Arrested"
          ],
          [
           "North Dakota State Senator, His Wife and 2 Children Die in Plane Crash"
          ],
          [
           "What to Know After Two Weeks of Trump’s Civil Fraud Trial"
          ],
          [
           "Trial in Menendez Corruption Case Is Scheduled for Next May"
          ],
          [
           "Even Michael Lewis Can’t Make a Hero Out of Sam Bankman-Fried"
          ],
          [
           "Takeaways From a New Book on Sam Bankman-Fried"
          ],
          [
           "Gov. J.B. Pritzker’s Letter to President Biden"
          ],
          [
           "104-Year-Old Who Broke World Record for Oldest Skydiver Has Died"
          ],
          [
           "Little Troublemaker"
          ],
          [
           "Hollywood Actors and Studios, Resuming Talks, Plan to Meet Again Wednesday"
          ],
          [
           "Quotation of the Day: Texas Bishop Accuses Pope and the Vatican of Undermining Faith"
          ],
          [
           "Corrections: Oct. 3, 2023"
          ],
          [
           "Illinois Governor Tells Biden Migrant Influx Is ‘Untenable’"
          ],
          [
           "Police Chief Who Ordered Raid on Kansas Newspaper Resigns"
          ],
          [
           "China Is Suffering a Brain Drain. The U.S. Isn’t Exploiting It."
          ],
          [
           "With Surge in Attacks, Militants Begin New Era of Bloodshed in Pakistan"
          ],
          [
           "Small-Town Revolt Reveals Larger German Concerns About Arming Ukraine"
          ],
          [
           "Israeli Herders Spread Across West Bank, Displacing Palestinians"
          ],
          [
           "Memories of a Soldier from Chinatown, by 12 Speakers"
          ],
          [
           "Tuesday Briefing"
          ],
          [
           "Congressman Becomes Latest Carjacking Victim as D.C. Crime Continues to Rise"
          ],
          [
           "2 U.S. Soldiers Are Dead in Alaska After Vehicle Flips in Training Area"
          ],
          [
           "Word of the Day: curt"
          ],
          [
           "Late Night Shows Return After Five Months Off the Air"
          ],
          [
           "Today’s Wordle Review"
          ],
          [
           "Spelling Bee Forum"
          ],
          [
           "Police Robot"
          ],
          [
           "Judge Let Abusive Parents Keep Daughter. Days Later, She Was Dead."
          ],
          [
           "Eric Adams Thinks His Critics Are Fools and Buffoons. Nothing Personal."
          ],
          [
           "Digging for Secrets From the Raccoon in Your Garbage"
          ],
          [
           "Who Knew Recycling Could Be So Dramatic?"
          ],
          [
           "Sex vs. Skin"
          ],
          [
           "Oasis"
          ],
          [
           "‘We Can’t Be Together Forever.’ But We Can Try."
          ],
          [
           "For This ‘Jeopardy!’ Champ, Winning Came Before the Buzzer"
          ],
          [
           "What Misconceptions Do People Have About Where You Live?"
          ],
          [
           "How Patrick Stewart Made the Jump to Warp Speed"
          ],
          [
           "Conjuring Mary Shelley’s Outrageous Imagination"
          ],
          [
           "Your Guide to the New Right"
          ],
          [
           "Mediano o Grande? An Ice Cream Tour of Mexico City"
          ],
          [
           "Allegra Kent Conjures ‘Messages From the Air, the Atmosphere’"
          ],
          [
           "Young People Left in Limbo as Battle Over Transgender Care Shifts to Court"
          ],
          [
           "Not Everyone Thinks the Middle East Can Have Democracy"
          ],
          [
           "The 25 Best Restaurants in San Francisco Right Now"
          ],
          [
           "Without a College Degree, Life in America Is Staggeringly Shorter"
          ],
          [
           "How Many Face Products Do I Really Need?"
          ],
          [
           "Viet Thanh Nguyen: Spy, Sympathizer, Son"
          ],
          [
           "In Shipping, a Push to Slash Emissions by Harnessing the Wind"
          ],
          [
           "Trump Wanted to Fire Missiles at Mexico. Now the G.O.P. Wants to Send Troops."
          ],
          [
           "A Rural Michigan Town Is the Latest Battleground in the U.S.-China Fight"
          ],
          [
           "The Greenwich Village Apartment That Was Meant to Be"
          ],
          [
           "Finding the Ideal Apartment Was Easy. Making It Theirs Was Harder."
          ],
          [
           "The Best Parts of Being a Football Fan Are Off the Field"
          ],
          [
           "I Started Playing My Sax Outdoors. Then the Fans Came."
          ],
          [
           "6 Podcasts for the Spooky Season"
          ],
          [
           "Who Hired the Hitmen to Silence Zitácuaro?"
          ],
          [
           "Why So Many Americans Are Losing Trust in Science"
          ],
          [
           "A Mayor Goes AWOL in the Storm"
          ],
          [
           "MAGA Wouldn’t Be Such a Threat if the Electoral System Worked"
          ],
          [
           "Hunter Biden Pleads Not Guilty to Federal Gun Charges"
          ],
          [
           "Here’s What Happens Now That Gaetz Has Moved to Oust McCarthy"
          ],
          [
           "At 104, She Wondered: Could She Skydive Again?"
          ],
          [
           "Today’s Top News: Gaetz Moves to Oust McCarthy, and More"
          ],
          [
           "Truss and Other Rivals Haunt Rishi Sunak at U.K. Conservatives’ Annual Conference"
          ],
          [
           "Nobel Prize in Physics Awarded to 3 Scientists for Illuminating How Electrons Move"
          ],
          [
           "Sam Bankman-Fried Goes on Trial"
          ],
          [
           "Russian Troops Cede Ground and Strike Back, Frustrating Ukraine’s Counteroffensive"
          ],
          [
           "The Justices Return"
          ],
          [
           "‘Flora and Son’ and the Unspoken Truth About Songwriting"
          ],
          [
           "A Plot to Oust the House Speaker Hits Weary Investors"
          ],
          [
           "14-Year-Old Fatally Shoots 2 at Mall in Bangkok, Officials Say"
          ],
          [
           "Russian Ruble Briefly Weakens to 100 Against U.S. Dollar"
          ],
          [
           "California’s Newest Senator to Be Sworn In on Tuesday"
          ],
          [
           "Colleges Snap Up Unused Office Space in a Slumping Market"
          ],
          [
           "What to Know About Sam Bankman-Fried’s Fraud Trial"
          ],
          [
           "A Novel Imagines the Volatile Life of a 7th-Century Saint"
          ],
          [
           "McCarthy Is Ousted as Speaker, Leaving the House in Chaos"
          ],
          [
           "Here Are the Finalists for the 2023 National Book Awards"
          ],
          [
           "Harvey Awards to Induct 6 New Hall of Fame Members"
          ],
          [
           "Job Openings Rose in August, Shaking Markets"
          ],
          [
           "Sculptures That Don’t Have to Add Up to Work Like Magic"
          ],
          [
           "Ex-Detroit Police Chief, a Republican, Enters Michigan Senate Race"
          ],
          [
           "Republican Voters Have Shown an Appetite for Candidates’ Calls to Use Military Force Against Mexican Cartels"
          ],
          [
           "Rod Wave Tops Olivia Rodrigo in Tight Race on Album Chart"
          ],
          [
           "‘Elemental’ Morphs From Flop to Hit, Raising Questions Along the Way"
          ],
          [
           "New Delhi Police Raid Homes and Offices of Journalists"
          ],
          [
           "Barcelona’s Unfinished Masterpiece Is Now a Little More Finished"
          ],
          [
           "The Pizza Influencer With a Private Jet and a ‘Troll Army’"
          ],
          [
           "Same-Sex Behavior Evolved in Many Mammals to Reduce Conflict, Study Suggests"
          ],
          [
           "What Is Insulin Resistance and How Do You Know if You Have It?"
          ],
          [
           "The Countries of Africa Look Ahead With Hope"
          ],
          [
           "5 Ways to Get Insulin Resistance in Check"
          ],
          [
           "John Kelly, a Former White House Chief of Staff, Confirms Trump’s Disparaging of Veterans"
          ],
          [
           "Creating ‘Fair and Appropriate Testing’"
          ],
          [
           "U.S. and World Leaders Pledge Support for Ukraine ‘for as Long as It Takes’"
          ],
          [
           "Senate Delegation to Travel to China During Congressional Recess"
          ],
          [
           "Hours Before the Vote, Democrats Decided Not to Help McCarthy"
          ],
          [
           "Baked Tilapia, Simply Seasoned With Lemon and Pepper"
          ],
          [
           "Vote Count: House Removes McCarthy as Speaker"
          ],
          [
           "Kaiser Permanente Workers Poised to Strike"
          ],
          [
           "Student News Quiz | Trials, Taylor Swift, Nobel Prizes"
          ],
          [
           "DirecTV Says CNN Streaming Service Risks Violating Deal"
          ],
          [
           "Produce Takes Center Stage at Jean’s"
          ],
          [
           "How to Become a Cricket Expert Just in Time for the Cricket World Cup"
          ],
          [
           "What Happened to Shen Beauty?"
          ],
          [
           "In Season 3 of ‘Only Murders,’ the Show, and the Deaths, Went On"
          ],
          [
           "Pentagon Official Charged With Running a Dogfighting Ring"
          ],
          [
           "Trump Said Shoplifters Should Be Shot, Part of a String of Violent Remarks"
          ],
          [
           "Trump Targets Nikki Haley as She Climbs in the Polls"
          ],
          [
           "There Is No Clear Replacement Candidate for McCarthy"
          ],
          [
           "Jailed by the Thousands, Without Charges, to Act as Witnesses"
          ],
          [
           "Gaetz’s Ouster of McCarthy Draws Attention to His Ethics Issues"
          ],
          [
           "Inside New York’s Least Competitive Bowling League"
          ],
          [
           "Supreme Court Skeptical of Argument That Could Hobble Consumer Watchdog"
          ],
          [
           "Here’s How Many Votes Kevin McCarthy Needs to Survive"
          ],
          [
           "Campbell Brown, Who Led Facebook News, Leaves Meta"
          ],
          [
           "Tracking the Remnants of Lidia"
          ],
          [
           "Trudeau Rejects Retaliation as India Moves to Expel Canadian Diplomats"
          ],
          [
           "‘Wedgie’ on Disney Water Slide Caused Severe Injuries, Lawsuit Says"
          ],
          [
           "They Were Given IUDs as Children Without Their Consent. Now, They Want Compensation."
          ],
          [
           "The Best Deals From Target Circle Week 2023"
          ],
          [
           "Stevie Nicks Gets the Barbie Treatment"
          ],
          [
           "Tiny Love Stories: ‘To the Skinny Girl with Sad Eyes’"
          ],
          [
           "What’s on Your Fall Playlist?"
          ],
          [
           "Water-Stressed Arizona Says State Will End Leases to Saudi-Owned Farm"
          ],
          [
           "Trump Ordered Not to Comment on Judge’s Staff in Fraud Case"
          ],
          [
           "The climate crisis is also a health crisis"
          ],
          [
           "Central Park’s Great Lawn Is Closed Until April After Concert Damage"
          ],
          [
           "Will A.I. Transform the Economy, and if So, How?"
          ],
          [
           "Alexander McQueen Names a New Top Designer"
          ],
          [
           "On Senate Choice, Newsom Was in a Box of His Own Making"
          ],
          [
           "United Airlines Will Buy 110 Planes From Airbus and Boeing"
          ],
          [
           "R.N.C. Thwarts Plans for Unofficial Ramaswamy-Christie Debate"
          ],
          [
           "A New Way to Prevent S.T.I.s: A Pill After Sex"
          ],
          [
           "Spotify Gave Subscribers Music and Podcasts. Next: Audiobooks."
          ],
          [
           "If You’re Talking About His Hair, This N.B.A. Star Is Winning"
          ],
          [
           "Bus Drives Off Venice Overpass, Killing at Least 21"
          ],
          [
           "Trump Campaign Calls on Republicans to Cancel All Future Debates"
          ],
          [
           "Piecing Together What Remained, So Mothers Could Bury Their Sons"
          ],
          [
           "Wednesday Briefing: McCarthy Ousted as House Speaker"
          ],
          [
           "Transcript: David French Interviews Stephanie Slade"
          ],
          [
           "Ed Young Dies at 91; Infused His Illustrations With Chinese Tradition"
          ],
          [
           "Conservative Catholics, Relegated to Sidelines, Denounce Papal Gathering"
          ],
          [
           "Drug Makers Agree to Negotiate With Medicare on Prices of 10 Medications"
          ],
          [
           "Kevin McCarthy Was Ousted as House Speaker"
          ],
          [
           "Wildfire Smoke From Canada Creates Unhealthy Air Quality in Florida"
          ],
          [
           "Who Is Patrick McHenry, the Interim House Speaker?"
          ],
          [
           "Jay-Z: Brooklyn Public Library Exhibit Is ‘More Than What I Deserved’"
          ],
          [
           "Harriet Pattison, 94, Dies; Landscape Architect With a Tie to Louis Kahn"
          ],
          [
           "Why Is the Public’s Business at the Mercy of a Few Extremists?"
          ],
          [
           "How Four Leaders Are Turning the World Upside Down"
          ],
          [
           "Iran’s Captive Minds"
          ],
          [
           "Visit to Fashion Mogul’s Office Ended in Rape, Woman Testifies"
          ],
          [
           "Matt Gaetz, a Polarizing Figure in Congress, Is Polarizing at Home, Too"
          ],
          [
           "Kevin McCarthy Is Out as Speaker. What Happens Now?"
          ],
          [
           "Kari Lake Files to Run for Kyrsten Sinema’s Senate Seat in Arizona"
          ],
          [
           "Quotation of the Day: Global Shippers Again Embrace the ‘Free Fuel’"
          ],
          [
           "Corrections: Oct. 4, 2023"
          ],
          [
           "Harry and Meghan’s Royal Real Estate Woes"
          ],
          [
           "Krayzie Bone of Bone Thugs-N-Harmony Posts About His Health Crisis"
          ],
          [
           "Review: At ‘Jaja’s,’ Where Everybody Knows Your Mane"
          ],
          [
           "Can Anyone Lead House Republicans Out of the Darkness?"
          ],
          [
           "Dish Is First Company to Be Fined by F.C.C. Over Space Junk Rule"
          ],
          [
           "McCarthy’s Extraordinary Downfall Reflects an Ungovernable G.O.P."
          ],
          [
           "Restaurant Review: I Sodi Returns, Without the Sardine-Can Space"
          ],
          [
           "Make a Choice"
          ],
          [
           "Manitoba Elects a First Nations Provincial Premier, a Canadian First"
          ],
          [
           "5 People Injured in Shooting at Morgan State University in Baltimore"
          ],
          [
           "Wednesday Briefing"
          ],
          [
           "‘Our Language Is Dying’"
          ],
          [
           "When Russia Is a Neighbor, Self-Defense Is Everyone’s Concern"
          ],
          [
           "It’s Getting Harder to Be Poor in New York"
          ],
          [
           "Late Night Hosts Roast Kevin McCarthy on His Way Out"
          ],
          [
           "Word of the Day: interlocutor"
          ],
          [
           "Skydiving"
          ],
          [
           "Spelling Bee Forum"
          ],
          [
           "Today’s Wordle Review"
          ],
          [
           "Turning to Street Vending, New Migrants Find a Competitive World"
          ],
          [
           "Here’s What to Know About Tensions Over Tibetan Buddhism"
          ],
          [
           "The 8-Year-Old Boy at the Heart of a Fight Over Tibetan Buddhism"
          ],
          [
           "The Most Influential Woman in Fashion"
          ],
          [
           "China’s Top Art Investor Amassed a Big Collection. Now He’s Selling."
          ],
          [
           "A ‘Shadow’ Lending Market in the U.S., Funded by Insurance Premiums"
          ],
          [
           "Read Your Way Through Missoula"
          ],
          [
           "The Forrest Gump of Data Mining Saw It All"
          ],
          [
           "Lawyers Expand Legal Fight for Longest-Held Prisoner of War on Terrorism"
          ],
          [
           "Alicia Keys Steps Into a New Spotlight"
          ],
          [
           "The U.S. Has a New Set of Tools for Bullying the World"
          ],
          [
           "Ready to Give Gravel Biking a Try? There’s No Time Like the Fall."
          ],
          [
           "1960s London Comes Alive in a Fierce, Funny Coming-of-Age Novel"
          ],
          [
           "5 Minutes That Will Make You Love Sarah Vaughan"
          ],
          [
           "Giuliani’s Drinking, Long a Fraught Subject, Has Trump Prosecutors’ Attention"
          ],
          [
           "The Taste of Home in a Grain of Rice"
          ],
          [
           "What Kind of Year Has It Been for Gardeners? An Aggravating One."
          ],
          [
           "It’s Time to Rethink the Americans With Disabilities Act"
          ],
          [
           "The Mystery of My Burning Esophagus"
          ],
          [
           "The Moomins Live in Peace. Their Creator Tried to Do the Same."
          ],
          [
           "Have You Ever Kept a Secret From Your Wife?"
          ],
          [
           "Haiti Doesn’t Need More Guns. It Needs a New Government."
          ],
          [
           "Sex, Thugs and Kidneys: ‘Bargain’ Bids to Be the Next ‘Squid Game’"
          ],
          [
           "What Small Moments From Your Life Do You Think About Often?"
          ],
          [
           "How Gerontocracy Explains the Matt Gaetz Clown Show"
          ],
          [
           "Trump Is Excited About These Three Things"
          ],
          [
           "A Resy Founder Expands His Loyalty Program for Restaurants"
          ],
          [
           "Scalise and Jordan Announce Bids for Speaker as Vacancy Paralyzes the House"
          ],
          [
           "Today’s Top News: McCarthy Is Ousted, and More"
          ],
          [
           "Nobel Prize in Chemistry Awarded to 3 Scientists for Exploring the Nanoworld"
          ],
          [
           "Life Is Boring. Lydia Davis’s New Book Makes That Fascinating."
          ],
          [
           "Facing Cancellation, Halloween Dog Festival Gets a Formal Parade Route"
          ],
          [
           "The Ouster of House Speaker Kevin McCarthy"
          ],
          [
           "Hi, ‘Barbie’! Russian Theaters Find Ways to Screen Blockbusters Amid Sanctions."
          ],
          [
           "The Downfall of Kevin McCarthy"
          ],
          [
           "Police Question Bob Menendez’s Future Wife After Fatal Car Crash"
          ],
          [
           "Inside the Menendez Indictment: A Mercedes and a Secretive Fatal Crash"
          ],
          [
           "Rishi Sunak Cancels a Rail Project to Build an Image"
          ],
          [
           "Chaos in Washington Adds to Market Jitters"
          ],
          [
           "Russian Journalist Sentenced in Absentia for Antiwar Protest"
          ],
          [
           "Teachers Can’t Hold Students Accountable. It’s Making the Job Miserable."
          ],
          [
           "Kaiser Permanente Health Care Workers Begin Strike"
          ],
          [
           "Francis Issues Urgent Call to Save a Planet Near ‘the Breaking Point’"
          ],
          [
           "Chemistry Nobel Prize Revealed in Media Hours Early"
          ],
          [
           "Why Can’t I Get My Wife to Split the Costs of Sharing Our Home?"
          ],
          [
           "Our Favorite Restaurants in San Francisco"
          ],
          [
           "How to Make the Audio in Your Projects Sound Better"
          ],
          [
           "Terrance Hayes’s Poems and Essays Sing in Harmony"
          ],
          [
           "G.O.P. Candidates Split Over Kevin McCarthy’s Ouster as House Speaker"
          ],
          [
           "In Michigan, Ramaswamy Dives Into Local Dispute Over Chinese Company"
          ],
          [
           "A Ransom Note and a Fingerprint: How a Missing 9-Year-Old Was Found"
          ],
          [
           "A Lake Turned to a Hot ‘Soup.’ Then the River Dolphins Died."
          ],
          [
           "After Third Major Shooting in Four Years, Thailand Debates How to Stem Gun Violence"
          ],
          [
           "Maren Morris: The (Deluxe) Interview"
          ],
          [
           "A Japanese Pancake That Wastes Nothing and Saves Everything"
          ],
          [
           "A Trial in Trump’s Georgia Elections Case Will Start Soon — Without Trump"
          ],
          [
           "$640,000 Homes in Vermont, Missouri and Ohio"
          ],
          [
           "City of Light or City of Bites? France Tries to Ease Bedbug Anxiety."
          ],
          [
           "Don’t Let Rain Cancel Your Workout"
          ],
          [
           "It’s Time to Pay Your Student Loans. What Happens if You Fall Behind?"
          ],
          [
           "Marry Me Chicken"
          ],
          [
           "How to Raise a ‘Warrior Queen’"
          ],
          [
           "Flood Threats Are Rising. Here’s Where People Are Moving Into Harm’s Way."
          ],
          [
           "DeSantis Gets a $15 Million Cash Infusion and Moves Staff to Iowa"
          ],
          [
           "Don’t Call Ibram X. Kendi a Grifter"
          ],
          [
           "‘The Exorcist: Believer’ Review: Double the Possession, Half the Fun"
          ],
          [
           "New York City Moves to Suspend Right-to-Shelter Mandate"
          ],
          [
           "FIFA Will Host 2030 World Cup on Three Continents"
          ],
          [
           "The Downfall of Kevin McCarthy, ‘a Tragic Figure’"
          ],
          [
           "Blinken Travels to Mexico Amid Rising Tension Over Border, Drug Trafficking"
          ],
          [
           "When the Phone Rings and the Voice Says: You’ve Won a MacArthur Award"
          ],
          [
           "Our Vacation Destination Has a Poor Human Rights Record. Should We Go?"
          ],
          [
           "Garry Hynes Brings Sean O’Casey’s Dublin Trilogy to Life"
          ],
          [
           "A Death Row Opera Goes to Sing Sing, With Inmates Onstage"
          ],
          [
           "‘Our Flag Means Death’ Review: Stormy Seas in Season 2"
          ],
          [
           "James Jorden, Creator of an Essential Opera Blog, Dies at 69"
          ],
          [
           "‘The Confessions’ Review: A Mother’s Tale, Told With Empathy and Care"
          ],
          [
           "Extend Your Jack-o’-Lantern’s Life"
          ],
          [
           "Police Identify Victims and Seek Cause of Deadly Bus Crash Near Venice"
          ],
          [
           "Hollywood Finally Figures Out What to Do With Nathan Lane"
          ],
          [
           "Review: Robert Gober Conjures America"
          ],
          [
           "The Director of ‘Savior Complex’ on the Perils of ‘White Saviorism’"
          ],
          [
           "Fisherman Convicted in Plot to Sell $900,000 of Illegal Fluke and Bass"
          ],
          [
           "Review: This Dance About Refugees Has Flow and a Groove"
          ],
          [
           "Peter Zumthor on Paring Back a ‘Beautiful Idea’ for LACMA"
          ],
          [
           "Here Are the Republicans Vying to Replace McCarthy as House Speaker"
          ],
          [
           "Maryland Supreme Court to Hear Arguments in Adnan Syed Case"
          ],
          [
           "What to See in N.Y.C. Galleries in October"
          ],
          [
           "False Advertising Suit Against McDonald’s and Wendy’s Is Dismissed"
          ],
          [
           "What Can Patrick McHenry, the Interim Speaker, Do?"
          ],
          [
           "Where’s All the Antarctic Sea Ice? Annual Peak Is the Lowest Ever Recorded."
          ],
          [
           "This Is Why Trump Keeps Antagonizing the Judge in His Fraud Trial"
          ],
          [
           "Biden Cancels an Additional $9 Billion in Student Loan Debt"
          ],
          [
           "‘Lied to the World’ or Acted in ‘Good Faith’: Sam Bankman-Fried’s Trial Opens"
          ],
          [
           "U.S. Sent Munitions Seized From Iran to Ukraine"
          ],
          [
           "Çilbir (Turkish Eggs With Yogurt) Recipe"
          ],
          [
           "The Best Movies and TV Shows Coming to Netflix in October"
          ],
          [
           "What the Kaiser Permanente Strike Means for Patients"
          ],
          [
           "A Spike Lee Joint via Movie Posters and Sports Jerseys"
          ],
          [
           "This Store-Bought Spice Blend Makes Everything Taste Better"
          ],
          [
           "Bedbugs: Vacation Without an Infestation"
          ],
          [
           "N.Y.P.D. Sergeant Shown on Video Pummeling Man Is Charged With Assault"
          ],
          [
           "Justices Hear Civil Rights Dispute About Disability Activist"
          ],
          [
           "Georgia Dullea, 90, Dies; Reporter Chronicled a Changing Society"
          ],
          [
           "More Speaker Crisis Fallout: Pelosi Is Evicted From Bonus Office"
          ],
          [
           "Actress Julia Ormond Accuses Harvey Weinstein of Battery in Lawsuit"
          ],
          [
           "All Your Favorite Movies Are Already on TikTok"
          ],
          [
           "What’s in Our Queue? Jon Pardi and More"
          ],
          [
           "Alan Murray to Step Down as C.E.O. of Fortune"
          ],
          [
           "When Did You Watch Your First Scary Movie? We Want to Know."
          ],
          [
           "Thursday Briefing: What’s Next After McCarthy’s Downfall"
          ],
          [
           "Democrats Tell Biden Saudi-Israel Pact Needs Concessions for Palestinians"
          ],
          [
           "The Leaderless House Faces Trouble Ahead"
          ],
          [
           "From a Capitol Hill Basement, Bannon Stokes the Republican Party Meltdown"
          ],
          [
           "Suddenly, It Will Be Autumn for Much of the U.S. This Weekend"
          ],
          [
           "Haiti, Desperate for Peace, Turns to Police Notorious for Violence"
          ],
          [
           "With the Writers’ Strike Over, ‘Saturday Night Live’ Will Soon Return"
          ],
          [
           "Remembering Dianne Feinstein"
          ],
          [
           "Judge Appoints a Conservator to Oversee Affairs of Former Supreme"
          ],
          [
           "Man Says Airline Stopped Him on Suspicion He Was Trafficking His Children"
          ],
          [
           "Climate Change Is a Key Obstacle for New York City’s Transit System"
          ],
          [
           "The Ripples of Republican Chaos"
          ],
          [
           "Quotation of the Day: A Dying Turkic Tongue and the Quest to Keep It Alive"
          ],
          [
           "Food Industry Influence Could Cloud the U.S. Dietary Guidelines, a New Report Says"
          ],
          [
           "Trump Announces $45.5 Million Fund-Raising Haul, Tripling DeSantis"
          ],
          [
           "Two Men Charged in Shooting Death of Pregnant Bystander’s Baby on Bus"
          ],
          [
           "N.Y.P.D. Sergeant Charged With Assault After Punching Man"
          ],
          [
           "Sweethearts Candy Word"
          ],
          [
           "Corrections: Oct. 5, 2023"
          ],
          [
           "Bidens’ Dog Is No Longer at White House After Latest Biting Incident"
          ],
          [
           "China’s E.V. Threat: A Carmaker That Loses $35,000 a Car"
          ],
          [
           "Not Their Parents’ South Asian Weddings"
          ],
          [
           "Gun Deaths Rising Sharply Among Children, Study Finds"
          ],
          [
           "Zelensky’s First Term Is Almost Up. No One’s Sure What Happens Next."
          ],
          [
           "Will New Yorkers Move Into Homes With Shared Kitchens and Baths?"
          ],
          [
           "Thursday Briefing"
          ],
          [
           "With Iranian Girl in Coma, Suspicion Falls on Government"
          ],
          [
           "Word of the Day: lucidity"
          ],
          [
           "Seth Meyers Spurns Suggestions for Trump to Replace McCarthy"
          ],
          [
           "Iranian Teen in Coma After Boarding Train Without Hijab"
          ],
          [
           "Today’s Wordle Review"
          ],
          [
           "Spelling Bee Forum"
          ],
          [
           "Workers Exposed to Extreme Heat Have Few Protections"
          ],
          [
           "Need News Fast? Try Listening to Your Headlines."
          ],
          [
           "Subway Gunman Gets 10 Life Sentences, One for Each Person He Shot"
          ],
          [
           "Football and Bag of Money"
          ],
          [
           "New U.A.W. Chief Has a Nonnegotiable Demand: Eat the Rich"
          ],
          [
           "Was New York City Unprepared to Handle Last Week’s Extreme Rainfall?"
          ],
          [
           "Half of New York City Children Passed Math and Reading Tests"
          ],
          [
           "Shades of Gray, and Then Some"
          ],
          [
           "The Wegovy Shortage Drags On, Leaving Patients in Limbo"
          ],
          [
           "Move Over, Machu Picchu: There’s More to See in Peru"
          ],
          [
           "36 Hours in Florence, Italy"
          ],
          [
           "A Start-Up’s Alternative to Uber: Employing Its Own Drivers"
          ],
          [
           "Banana Yoshimoto Wants Books to Give Her Insomnia"
          ],
          [
           "Something ‘Old World,’ Something New"
          ],
          [
           "A ‘School Dance for Adults’ Embraces the Aughts"
          ],
          [
           "Down With Efficiency! (When We Get Around to It.)"
          ],
          [
           "Judge John Hodgman on the Texts His Wife Doesn’t Appreciate"
          ],
          [
           "Why Summers May Never Be the Same"
          ],
          [
           "Diesel Prices Could Keep Inflation High"
          ],
          [
           "Kate Soper Returns to Opera With a Story Medieval and Modern"
          ],
          [
           "Revering the Earth, Colombian Artist Delcy Morelos Brings It to Chelsea"
          ],
          [
           "Now Is the Time to Pay Attention to Trump’s Violent Language"
          ],
          [
           "Baseball Has Lost Its Poetry"
          ],
          [
           "What Can Writers Learn From Turtles?"
          ],
          [
           "Poem: Jobs for the Weekend"
          ],
          [
           "Would You Ever Want to Live on the Moon or Mars?"
          ],
          [
           "The Genius Behind Hollywood’s Most Indelible Sets"
          ],
          [
           "‘Antiracism’ Was Never the Right Answer"
          ],
          [
           "The Kaiser Strike Isn’t Your Typical Labor Action"
          ],
          [
           "10 Zinfandels and Blends to Drink Right Now"
          ],
          [
           "Some Key Facts About Fentanyl"
          ],
          [
           "How a Chain-Snatching and a Vegas Beatdown Led to Tupac’s Murder"
          ],
          [
           "Remembering Senator Dianne Feinstein: ‘She Showed the Way’"
          ],
          [
           "From a Floating Home in Portland to a Hilly Perch in Los Angeles. Which House Was Right?"
          ],
          [
           "Migration and Fentanyl Take Center Stage as U.S. and Mexican Officials Meet"
          ],
          [
           "To the World, McCarthy’s Exit Is Just Another Example of U.S. Disarray"
          ],
          [
           "How to Fix Wordy Writing"
          ],
          [
           "Today’s Top News: Secretary Blinken Travels to Mexico, and More"
          ],
          [
           "The Mosquitoes Are Winning"
          ],
          [
           "Do You Know the History of the Nobel Prize in Literature?"
          ],
          [
           "TikTok Forced to Close Shopping Feature in Its Second-Largest Market"
          ],
          [
           "America’s Political Turmoil"
          ],
          [
           "‘Fair Play’ Review: Risky Bonds"
          ],
          [
           "‘The Caine Mutiny Court-Martial’ Review: Righting the Ship"
          ],
          [
           "‘Cat Person’ Review: A Viral Short Story Padded for the Big Screen"
          ],
          [
           "‘Mister Organ’ Review: Antiques Sideshow"
          ],
          [
           "‘Joan Baez I Am a Noise’ Review: Fountain of Nostalgia"
          ],
          [
           "‘Foe’ Review: The Space Between"
          ],
          [
           "‘My Love Affair With Marriage’ Review: A Tale of Love and Loss"
          ],
          [
           "‘More Than Ever’ Review: A Shared Melancholy"
          ],
          [
           "‘The Royal Hotel’ Review: Pulling Pints and Watching Their Backs"
          ],
          [
           "‘Totally Killer’ Review: More Like Marty McDie"
          ],
          [
           "‘She Came to Me’ Review: A Sea of Troubles (the Romantic Kind)"
          ],
          [
           "‘When Evil Lurks’ Review: These Demons Are Fast and Furious"
          ],
          [
           "Two Cult Classics Restored and Brimming With Chaotic Life"
          ],
          [
           "‘Shadows in the City’ Review: A Sleazy Slice of 1980s No Wave"
          ],
          [
           "Otobong Nkanga Wins the Nasher Prize for Sculpture"
          ],
          [
           "‘Dicks: The Musical’ Review: Hitting High Notes, Going Lowbrow"
          ],
          [
           "More Rentals Are on the Market. Why Are They So Hard to Find?"
          ],
          [
           "New Details About FTX Emerge as Bankman-Fried’s Trial Begins"
          ],
          [
           "A Giacometti for a Cezanne: Jeffrey Epstein’s Role in a Pricey Art Deal"
          ],
          [
           "What to Know About the Kaiser Permanente Strike"
          ],
          [
           "Homes for Sale in New York and New Jersey"
          ],
          [
           "Homes for Sale in Manhattan and the Bronx"
          ],
          [
           "A Mordant Glimpse at the Austrian Aristocracy"
          ],
          [
           "Turnover of Election Officials in Swing States Adds Strain for 2024, Report Says"
          ],
          [
           "Where to start? A guide to Fosse’s work."
          ],
          [
           "Major China Art Auction Fails to Draw Big Bids"
          ],
          [
           "George Santos’s Treasurer Pleads Guilty in Federal Inquiry"
          ],
          [
           "Women Could Fill Truck Driver Jobs. Companies Won’t Let Them."
          ],
          [
           "What Does It Really Mean to Dissociate?"
          ],
          [
           "Quick Noodle Soup for a Long Day"
          ],
          [
           "What’s Going On in This Graph? | ‘Spelling Bee’"
          ],
          [
           "Wildlife Find Human Voices Scarier Than Lion Roars, Researchers Say"
          ],
          [
           "Watch How Animals React to the Scariest Sound on the Savanna"
          ],
          [
           "Trump Asks Again to Delay Documents Trial Until After Election"
          ],
          [
           "Rescuers Search Through Rubble Following Deadly Russian Strike"
          ],
          [
           "The Upside of a Population Decline"
          ],
          [
           "Uganda’s Top Opposition Leader Says He Is Under House Arrest"
          ],
          [
           "Once a Ticket to Travel and to Socialize, Paper Covid-19 Cards Are Going Away"
          ],
          [
           "Remnants of Philippe Expected to Bring Strong Winds and Heavy Rains to Maine"
          ],
          [
           "Cornel West, Dropping Green Party, Will Run as an Independent"
          ],
          [
           "U.S. Will Build Stretch of Border Wall and Begin Deportations to Venezuela"
          ],
          [
           "The Remaking of The Wall Street Journal"
          ],
          [
           "Film Club: ‘Oasis’"
          ],
          [
           "An Experimental Label’s Music Is Now Streaming. Here’s Where to Start."
          ],
          [
           "Visa Applicants’ Social Media Data Doesn’t Help Screen for Terrorism, Documents Show"
          ],
          [
           "How the Big Chip Makers Are Pushing Back on Biden’s China Agenda"
          ],
          [
           "Suspect Charged in Fatal Stabbing of Advocate in Brooklyn"
          ],
          [
           "The Best Movies and TV Shows Coming to HBO, Hulu, Apple TV+ and More in October"
          ],
          [
           "Alabama Is Ordered to Use Map With Two Districts That Empower Black Voters"
          ],
          [
           "Three Sauces to Make With Tahini"
          ],
          [
           "Why Trump and the Rest of the G.O.P. Won’t Stop Bashing Electric Vehicles"
          ],
          [
           "Robert Glasper Leans Into the Drama"
          ],
          [
           "Man Who Plotted to Kill Queen Elizabeth With Crossbow Gets 9 Years"
          ],
          [
           "Armed Man Seeking Wisconsin Governor Posts Bail and Returns With Rifle"
          ],
          [
           "Putin Claims Russia Successfully Tested a Nuclear-Powered Missile."
          ],
          [
           "Solo Plays This Fall: Patrick Page, Isabelle Adjani and More"
          ],
          [
           "9 New Books We Recommend This Week"
          ],
          [
           "We Should Have Known So Much About Covid From the Start"
          ],
          [
           "New Evidence That Ancient Footprints Push Back Human Arrival in North America"
          ],
          [
           "As Egypt’s Presidential Vote Nears, Dissent Flickers Around el-Sisi"
          ],
          [
           "A Concert, an Ancient Arrow and a Mysterious Library: Creative Writing By Teens"
          ],
          [
           "Elon Musk Says SpaceX Could Land on Mars in 3 to 4 Years"
          ],
          [
           "Jon Fosse, Norwegian Author, Receives the Nobel Prize in Literature"
          ],
          [
           "Higher Rates Stoke a Growing Chorus of Deficit Concerns"
          ],
          [
           "‘Too Young for Me!’: A Senior Center Watches ‘The Golden Bachelor’"
          ],
          [
           "A Grown-Up Slumber Party at an English Country Hotel"
          ],
          [
           "How Much Watching Time Do You Have This Weekend?"
          ],
          [
           "‘Colette and Justin’ Review: The Colonized Speak Up"
          ],
          [
           "How Do You Fight Bird Flu in France? Vaccinate 64 Million Ducks."
          ],
          [
           "How Will ‘Loki’ Handle the Multiverse? Its Writer Talks Season 2."
          ],
          [
           "Floorboards (Possibly) Trodden by Shakespeare Are Found in England"
          ],
          [
           "The Pope’s Warning to a Warming World"
          ],
          [
           "Joe Christopher, an Original Met Who Was Amazin’ in ’64, Dies at 88"
          ],
          [
           "In Kevin McCarthy’s Hometown, Reflections on His Sudden Fall"
          ],
          [
           "Trump Seeks Dismissal of Federal Election Case, Claiming Immunity"
          ],
          [
           "Mexico-U.S. Ties: What to Know About Migration, Fentanyl and Guns"
          ],
          [
           "Putin Suggests New Narrative for Prigozhin Plane Crash: Cocaine and Grenades"
          ],
          [
           "How MAGA Corrupts the Culture of the White Working Class"
          ],
          [
           "Five Japanese Cocktail Bars With Fantastic Food"
          ],
          [
           "George Tyndall, U.S.C. Gynecologist Accused of Sex Abuse, Found Dead"
          ],
          [
           "Opposition to Ukraine Aid Becomes a Litmus Test for the Right"
          ],
          [
           "Drone Attack at Military Graduation in Syria Kills at Least 80, Government Says"
          ],
          [
           "Jon Fosse’s Books Seek and Find the Divine"
          ],
          [
           "House Democrat Asks if Mar-a-Lago Can Be Taxed at Value Trump Gave It"
          ],
          [
           "Monitor Condemns Rikers Violence as 9th Person Dies in Custody This Year"
          ],
          [
           "Biden Watches Republican Dysfunction From a Distance"
          ],
          [
           "Listen: Dating After 60, San Francisco Is OK, Mother’s Cartel Hunt, ‘Modern Love’"
          ],
          [
           "U.S. to Begin Deporting Venezuelans in Effort to Cut Down Border Numbers"
          ],
          [
           "S.E.C. Sues Elon Musk to Compel Him to Testify on Twitter Purchase"
          ],
          [
           "Gathering to Mourn the Dead, and Dying Themselves in an Explosion in Ukraine"
          ],
          [
           "Friday Briefing: Strike Kills 51 in Ukrainian Village"
          ],
          [
           "Russell Sherman, Poetic Interpreter at the Piano, Is Dead at 93"
          ],
          [
           "North Carolina Radio Station Won’t Ban Met Opera Broadcasts After All"
          ],
          [
           "A Glass of Wine and a Binder of Bills: How Feinstein Paved the Way for Women"
          ],
          [
           "Trump Endorses Jim Jordan in Race for House Speaker"
          ],
          [
           "Biden Is Expanding the Border Wall"
          ],
          [
           "American Jet Shoots Down Turkish Drone in Syria"
          ],
          [
           "Did Feinstein’s Decision to Serve Until the End Damage Her Legacy?"
          ],
          [
           "If Moderate Republicans Were Brave, They Could Save the House"
          ],
          [
           "Trump Said to Have Revealed Nuclear Submarine Secrets to Australian Businessman"
          ],
          [
           "Will Voters Send In the Clowns?"
          ],
          [
           "Dick Butkus, Fearsome Hall of Fame Linebacker, Is Dead at 80"
          ],
          [
           "Flying on the Same Plane, Lake and Gallego Clash Over Border Politics"
          ],
          [
           "Granddaughter Recalls Dianne Feinstein’s ‘Unwavering Support’"
          ],
          [
           "Britain’s Labour Scores Decisive Victory in Parliamentary Election in Scotland"
          ],
          [
           "Cut Out"
          ],
          [
           "Variety: Acrostic"
          ],
          [
           "Trump Drops Lawsuit Against Michael Cohen, His Former Fixer"
          ],
          [
           "Trump Escalates Anti-Immigrant Rhetoric With ‘Poisoning the Blood’ Comment"
          ],
          [
           "I.R.S. Puts Lien on Giuliani’s Palm Beach Condo for $550,000 Tax Debt"
          ],
          [
           "Millions of Candies Are Recalled After Child Chokes to Death"
          ],
          [
           "My (Liberating) Secret Shame"
          ],
          [
           "Corrections: Oct. 6, 2023"
          ],
          [
           "Quotation of the Day: Soaring Temperatures Are Taking a Toll on Workers"
          ],
          [
           "They Saw Each Other at a Jazz Club and Never Looked Away"
          ],
          [
           "A Co-Sign From Grandma Sealed the Deal"
          ],
          [
           "He’d Never Date a Lawyer. Or So He Said."
          ],
          [
           "They Met the Old-Fashioned Way: Playing Glow-in-the-Dark Dodgeball"
          ],
          [
           "After the Rain Comes the Reckoning for the Mayor"
          ],
          [
           "Venezuela Seeks Arrest of Juan Guaidó, Former Opposition Leader"
          ],
          [
           "Friday Briefing"
          ],
          [
           "Word of the Day: estimable"
          ],
          [
           "Jimmy Kimmel Calls Gaetz ‘the Least Popular Guy in Congress Right Now’"
          ],
          [
           "Recent fighting in the House has highlighted a drop in Republican support for aid to Kyiv."
          ],
          [
           "Today’s Wordle Review"
          ],
          [
           "New York’s Right to Shelter Is Under Attack. Again."
          ],
          [
           "A Wave Goodbye"
          ],
          [
           "Crossing Swamps and Sieving Sewage: A Year of Reporting on Mosquitoes"
          ],
          [
           "Spelling Bee Forum"
          ],
          [
           "There’s a New Beach in Manhattan. Just Don’t Try to Swim There."
          ],
          [
           "In Britain, a New ‘Big Brother’ Aims for Old TV Magic"
          ],
          [
           "Strong U.S. Job Growth Shows Economy Is Defying Challenges"
          ],
          [
           "Despite the economy’s resilience, the outlook is hard to gauge."
          ],
          [
           "How strikes are (and aren’t) reflected in the jobs report."
          ],
          [
           "Jhumpa Lahiri Translates the Varieties of Strangeness"
          ],
          [
           "Where to Find a Horse, a Hemp Farm and a War"
          ],
          [
           "He Warned Turkey About Earthquakes. Now He Fears for Istanbul."
          ],
          [
           "Audiobook of the Week: What’s Really in a Hot Dog?"
          ],
          [
           "Ghosts Come in Many Forms in Bryan Washington’s New Novel"
          ],
          [
           "My Hair Was Always a Source of Tension Between My Mother and Me. Then We Met Charlotte."
          ],
          [
           "It Takes a Lifetime to Survive Childhood Cancer"
          ],
          [
           "Going to the Chapel (at Home)"
          ],
          [
           "Newly Published, from Graphic Novels to a Covid-Era Literary Obsession"
          ],
          [
           "It’s a Woman’s World. We’re All Just Living in It."
          ],
          [
           "Kate DiCamillo Is Not Afraid of the Dark"
          ],
          [
           "How to Protect Your Retirement From Nagging Inflation"
          ],
          [
           "Dancers and Video Game Characters Merge in the Uncanny Valley"
          ],
          [
           "An N.B.A. Power Broker, Growing Up and Finding Peace"
          ],
          [
           "They’ve Been Stateless for 10 Years. Now Many Are Facing Deportation."
          ],
          [
           "Why I Keep Watching In-Flight Meltdowns"
          ],
          [
           "A Tiny Australian Home That Feels a Lot Bigger"
          ],
          [
           "How Do You Make a 375-Square-Foot Home Feel Luxurious?"
          ],
          [
           "How the Humble Paperback Helped Win World War II"
          ],
          [
           "Is Chaos the Only Thing Republicans Can Trust?"
          ],
          [
           "What to Know About the ‘Morning-After’ Pill for S.T.I.s"
          ],
          [
           "The Mystery of What Happened to a 9/11 Suspect’s Sons"
          ],
          [
           "For Republicans in the Trump Era, Chaos Often Seems to Be the Point"
          ],
          [
           "How Much Faith Do You Have in the U.S. Political System?"
          ],
          [
           "Hiring Is Rising Along With Rates. Are They on a Collision Course?"
          ],
          [
           "The New York Times News Quiz, Oct. 6, 2023"
          ],
          [
           "5 Things to Do This Weekend"
          ],
          [
           "Between a Rock and a ‘Hard’ Insurance Market"
          ],
          [
           "Can We Talk About Joe Biden?"
          ],
          [
           "Google’s Trial Heats Up + How to Wear A.I. + It’s Our Birthday!"
          ],
          [
           "How to Break Through When Your Teen Tunes You Out"
          ],
          [
           "In Times of Danger, There’s Strength in Numbers"
          ],
          [
           "6 New Paperbacks to Read This Week "
          ],
          [
           "Peso Pluma, Mexico’s Breakout Music Star, Finds New Spotlights"
          ],
          [
           "Confessions of a Pop-Tarts Taste Tester"
          ],
          [
           "As Winter Looms, Venezuelan Migrant Surge Overwhelms Chicago"
          ],
          [
           "Scream Along With Pussy Riot"
          ],
          [
           "Who is Narges Mohammadi?"
          ],
          [
           "Strike Killed 1 in 6 of Ukraine Village’s Residents, Officials Say"
          ],
          [
           "Biden Will Continue Border Wall, and More"
          ],
          [
           "Chaos or Conscience? A Republican Explains His Vote to Oust McCarthy."
          ],
          [
           "Abe Lincoln and Kevin McCarthy"
          ],
          [
           "How Aligning With China Changed Life in the Solomon Islands"
          ],
          [
           "‘The Exorcist: Believer’ | Anatomy of a Scene"
          ],
          [
           "How Light Creates Suspense in ‘The Exorcist: Believer’"
          ],
          [
           "Five Children’s Movies to Stream Now"
          ],
          [
           "Russian Nobel Recipient and Other Laureates Ask for $100 Million in Aid"
          ],
          [
           "Drake Releases ‘For All the Dogs’ Album, With Assists From Bad Bunny and Kevin Durant"
          ],
          [
           "A Mega-Deal May Await in the Oil Patch"
          ],
          [
           "My No-Recipe Recipe for Flawless Salmon"
          ],
          [
           "‘A Slap in the Face of Voters’: What R.N.C. Members Say About Trump’s Calls to Cancel Debates"
          ],
          [
           "Jobs Gains Heat Up Even as the Federal Reserve Looks for Cooling"
          ],
          [
           "Easy Mode: Clues for Oct. 6"
          ],
          [
           "A New Effort to Make College Aid Offers Easy to Understand"
          ],
          [
           "In Berkeley, Indigenous Peoples’ Day Is a Decades-Old Tradition"
          ],
          [
           "Investing Has Been Ugly. Stick With It Anyway."
          ],
          [
           "Music Too Fast for Feet"
          ],
          [
           "A Calamitous Flood Shows the Dangers Lurking in Melting Glaciers"
          ],
          [
           "‘My Heart Stopped’: Iranian Activist’s Family Exults From Afar, but Remains Fearful for Her"
          ],
          [
           "Yields Jump and Stocks Swing After Strong Jobs Report"
          ],
          [
           "It’s the Flavor That Slays in This Killer Pasta"
          ],
          [
           "Adams to Migrants in Mexico: We Love You. Now Stop Coming to New York."
          ],
          [
           "Chloe Domont on Her Dangerous Date Movie, ‘Fair Play’"
          ],
          [
           "Hidden Art: A Rhapsody for the Soul, in 10 City Corners"
          ],
          [
           "Former Americans Who Gave Up Their Citizenship Want Their Money Back"
          ],
          [
           "The Best of Late Night This Week"
          ],
          [
           "For Gaetz, Washington Drama Could Fuel Florida Ambitions"
          ],
          [
           "The Joys of Walking, Together and Solo"
          ],
          [
           "Five Action Movies to Stream Now"
          ],
          [
           "Russia Bids to Rejoin U.N. Human Rights Council"
          ],
          [
           "Amazon Launches First Project Kuiper Satellites to Orbit"
          ],
          [
           "The Real Problem With V.A.R."
          ],
          [
           "Michael Lewis Doesn’t Do Villains"
          ],
          [
           "The Weekender"
          ],
          [
           "Review: After Hovering, Steve Reich Brings Back the Pulse"
          ],
          [
           "Eddie Martinez Defers to the Desires of His Paints"
          ],
          [
           "Henri Dauman, Photographer of Postwar Celebrity Life, Is Dead at 90"
          ],
          [
           "Fatal Crash Involving Nadine Menendez Is Under New Investigation"
          ],
          [
           "At City Ballet, Barbie Basics at the Gala, and a Glittering Revival"
          ],
          [
           "A Tree Was Felled. No One Heard It. How Do You Find Out Who Did It?"
          ],
          [
           "Who Is Madonna, Anyway?"
          ],
          [
           "U.S. Aid to Ukraine, and When It Might Run Out, Explained"
          ],
          [
           "The Big Number: 1,300"
          ],
          [
           "‘Billions’ Season 7, Episode 9 Recap: The Walls Close in"
          ],
          [
           "Murray Stenson, Unassuming Leader of a Cocktail Renaissance, Dies at 74"
          ],
          [
           "U.S. Resumes Food Aid for Refugees in Ethiopia"
          ],
          [
           "‘Winning Time’ and the Joys of Unnecessary Shows"
          ],
          [
           "No Charges for Troopers Who Killed ‘Cop City’ Protester Near Atlanta"
          ],
          [
           "Riccardo Muti Takes a Victory Lap With the Chicago Symphony"
          ],
          [
           "Stockholm Offers Fighter Jets for Ukraine if Sweden is Allowed to Join NATO"
          ],
          [
           "House Speaker, Ukraine War, Border Wall: Trump’s Influence Reaches a Post-Presidency Peak"
          ],
          [
           "The N.Y.C. Subway Is No Longer Broke. Can It Buy Rider Happiness?"
          ],
          [
           "The Narrative of Sam Bankman-Fried and More: The Week in Reporter Reads"
          ],
          [
           "Narges Mohammadi, Iranian Rights Activist, Receives Nobel Peace Prize"
          ],
          [
           "18 Migrants Killed in Bus Crash in Mexico"
          ],
          [
           "Gary Wang, an FTX Founder, Says Sam Bankman-Fried Steered Misuse of Funds"
          ],
          [
           "How Do Americans Feel About Politics? ‘Disgust Isn’t a Strong Enough Word’"
          ],
          [
           "Schumer Leads Bipartisan Trip to China Amid Tensions"
          ],
          [
           "U.A.W. Cites Progress in Talks and Holds Off Expanding Strikes"
          ],
          [
           "My Husband Is Facing Dementia. Can I Help Him End His Life?"
          ],
          [
           "In Argentina, the U.S. Dollar Could Soon Become King"
          ],
          [
           "Am I Still Contagious?"
          ],
          [
           "The Blast That Wiped Out a Family and Left Rows of Empty Homes"
          ],
          [
           "Ellsworth Johnson, Last Survivor of a Secret Army Unit, Dies at 100"
          ],
          [
           "The Many Lives of Tomato Pie"
          ],
          [
           "How Do I Pay for College?"
          ],
          [
           "How Biden’s Promises to Reverse Trump’s Immigration Policies Crumbled"
          ],
          [
           "Baseball’s Mets Investigation Will Seek to Answer What Steve Cohen Knew"
          ],
          [
           "Kaiser Permanente Workers Near End of Strike Without a Deal"
          ],
          [
           "More Brokerages Leave Powerful Realtor Group"
          ],
          [
           "Former U.S. Soldier Is Accused of Trying to Give Classified Secrets to China"
          ],
          [
           "Flashback: Your Weekly History Quiz, October 8, 2023"
          ],
          [
           "Russell Batiste Jr., the Drumming Heartbeat of New Orleans, Dies at 57"
          ],
          [
           "Presley Highlights Medicaid in Campaign to Unseat Mississippi’s G.O.P. Governor"
          ],
          [
           "Crocs Cowboy Boots? ‘Don’t Overthink It.’"
          ],
          [
           "Judge Allows Oklahoma Ban on Transition Care for Minors to Take Effect"
          ],
          [
           "U.S. Job Growth Surges Past Expectations"
          ],
          [
           "A Jack-o’-lantern by Any Other Name, Lewis Is Defining Halloween"
          ],
          [
           "As Venezuelans Face Deportation, Many Still Seek to Enter the U.S."
          ],
          [
           "Why Does the Nobel Committee Overlook Saudi Women Activists?"
          ],
          [
           "Biden, the Border, and Why a New Wall Is Going Up"
          ],
          [
           "For Biden’s Dog, a Belated Exile: ‘How Many Bites Does It Take?’"
          ],
          [
           "Review: In ‘Bite Me,’ Taking Aim at Familiar Teenage Tropes"
          ],
          [
           "115 Decaying Bodies Found in ‘Horrific’ Scene at Funeral Home, Officials Say"
          ],
          [
           "Mike Lindell’s Lawyers Say He Owes ‘Millions’ in Fees"
          ],
          [
           "Days Before a Vote, Republicans Feud Over How to Choose a New Speaker"
          ],
          [
           "13-Year-Old Boy Stabbed to Death on City Bus on Staten Island"
          ],
          [
           "Family Sentenced for Selling Bleach as ‘Miracle’ Covid-19 Cure"
          ],
          [
           "As Wisconsin Supreme Court Takes Up Maps Case, Impeachment Threat Looms"
          ],
          [
           "Get Wildly Enthusiastic"
          ],
          [
           "From the Fringe to the Center of the G.O.P., Jordan Remains a Hard-Liner"
          ],
          [
           "Suspect in Killings at Colorado Supermarket Is Mentally Competent, Judge Says"
          ],
          [
           "Quotation of the Day: This Bachelor Has Seniors Hooked"
          ],
          [
           "Corrections: Oct. 7, 2023"
          ],
          [
           "Here is what to know about the surprise attack on Israel."
          ],
          [
           "Today’s Wordle Review"
          ],
          [
           "Spelling Bee Forum"
          ],
          [
           "How S. Epatha Merkerson, Actor, Spends Her Sundays"
          ],
          [
           "Migrant Crisis Tests New Yorkers Who Thought They Supported Immigration"
          ],
          [
           "Nicole Scherzinger as Norma Desmond? Yes, There’s a Connection."
          ],
          [
           "It’s Not Your Imagination. Summers Are Getting Hotter."
          ],
          [
           "Ann Patchett Isn’t Parting With WordPerfect"
          ],
          [
           "When Did Cashing Savings Bonds Become So Impossible?"
          ],
          [
           "A New Mother Finds Solace From the Patriarchy — in Sex Work"
          ],
          [
           "Giving a Voice to the London Readers Don’t Often Hear"
          ],
          [
           "An Officer Is Charged With Murder. Colleagues Briefly Drop Their Guns."
          ],
          [
           "On This Nature Preserve, Farmers Are Welcome, if They Follow the Rules"
          ],
          [
           "With These Several Rings, I Thee Wed"
          ],
          [
           "Human Resources, for Plants"
          ],
          [
           "A Polarized Australia Confronts ‘Trump Style Misinformation’"
          ],
          [
           "There’s a Dangerous Dog in My Building. What Can I Do About It?"
          ],
          [
           "Interested in an Electric Vehicle? Consider Buying Used."
          ],
          [
           "The Hidden Places Where You Find Your People"
          ],
          [
           "How the Costs of Car Ownership Add Up"
          ],
          [
           "In Provence, Winemakers Confront Climate Change"
          ],
          [
           "Harry Smith Was a Culture-Altering Shaman. Can the Whitney Contain Him?"
          ],
          [
           "Migrants Chased and Snared in Razor Wire: A Rare Look at Texas’ Border Tactics"
          ],
          [
           "California’s New Senator Was a Labor Leader. Why Are Unions Upset With Her?"
          ],
          [
           "California, Land of the Car, Could Soon Have Speed Cameras"
          ],
          [
           "Feeling Terrible After Your Covid Shot? Then It’s Probably Working."
          ],
          [
           "The war could upend Biden’s diplomacy on Saudi-Israel normalization."
          ],
          [
           "What Sarah Jessica Parker, Molly Ringwald and Spike Lee Wore to Parties This Week"
          ],
          [
           "Top 10 Hardest and Easiest Spelling Bee Words, Sept. 30-Oct. 6"
          ],
          [
           "Will the Motion to Vacate Be Vacated?"
          ],
          [
           "A Curious Censorship Issue at the Guantánamo Court"
          ],
          [
           "Two Families Got Fed Up With Their States’ Politics. So They Moved Out."
          ],
          [
           "On Russian Nuclear Threat, Putin Lets Others Rattle the Saber"
          ],
          [
           "Russia Hits Ukraine’s Ports for Second Day in a Row, Ukrainian Officials Say"
          ],
          [
           "‘Here We Go Again’: A Cabinet Minister on Facing Anti-Sikh Bias"
          ],
          [
           "Meet the Plant People"
          ],
          [
           "‘This Is the Republicans’ Dumpster Fire — They Have to Deal With It’"
          ],
          [
           "For the U.S. and China, It Starts With Listening"
          ],
          [
           "I Wish ____ Would Run"
          ],
          [
           "The Cost of Inaction on Immigration"
          ],
          [
           "Travis, Don’t Fumble Taylor!"
          ],
          [
           "How the Extraordinary Became Normal in Catholicism"
          ],
          [
           "These Women Could Make New York Champions Again"
          ],
          [
           "Conflict in Israel and Gaza, in Photos"
          ],
          [
           "Listen to ‘This American Life’: Audience of One"
          ],
          [
           "A Spy Thriller and a Prismatic Look at Light"
          ],
          [
           "How Beyoncé and Taylor Swift Struck a New Kind of Movie Deal"
          ],
          [
           "Hamas Attack Has Haunting Echoes of the 1973 Yom Kippur War"
          ],
          [
           "Yeats and Beckett, Guarding the Irish Coast"
          ],
          [
           "No Longer Just ‘Goggles and a Suit’: Anthony Nesty on How Swimming Has Changed"
          ],
          [
           "Six Accused of Murdering Ecuadorean Presidential Candidate Are Found Dead"
          ],
          [
           "Her Strange Blisters Wouldn’t Go Away. What Was It?"
          ],
          [
           "Diving Into ‘The Exorcist: Believer’"
          ],
          [
           "Gaza Has Suffered Under 16-Year Blockade"
          ],
          [
           "Crispy Tostadas, Fluffy Cheddar Biscuits and Rich Chicken Mafe"
          ],
          [
           "Restless in Minnesota"
          ],
          [
           "Congressional Term Limits Might Break Congress"
          ],
          [
           "An Attack From Gaza and an Israeli Declaration of War. Now What?"
          ],
          [
           "Israel’s Military Says Hamas Has Taken Hostages"
          ],
          [
           "The Quiet Reading Room That Gets Trippy After Dark"
          ],
          [
           "Teen Is Charged With Murder in Stabbing of 13-Year-Old on Staten Island Bus"
          ],
          [
           "After 128 Years in a Pennsylvania Funeral Home, a Beloved Mummy Is Buried"
          ],
          [
           "Press Gangs"
          ],
          [
           "Hospitals and Morgues in Gaza Are Crowded as People Seek Their Loved Ones"
          ],
          [
           "Maps: Tracking the Attacks in Israel and Gaza"
          ],
          [
           "‘The Children Were Terrified.’ Fear Grips Israel and Gaza"
          ],
          [
           "Israel’s defense failures may change strategy toward Hamas and Gaza."
          ],
          [
           "G.O.P. Candidates Use Attacks on Israel to Criticize Biden for His Iran Deal"
          ],
          [
           "Graphic Images of Violence Flood Social Media Amid Israel-Gaza Conflict"
          ],
          [
           "Israel ‘at War’ After Hamas Attacks"
          ],
          [
           "Hamas’s Control of Gaza Must End Now"
          ],
          [
           "Earthquakes in Afghanistan Kill Nearly 200, Officials Say"
          ],
          [
           "Here is a timeline of the clashes between Palestinian militants and Israel."
          ],
          [
           "Newsom Vetoes Bill Banning Caste Discrimination"
          ],
          [
           "‘We Are at War,’ Netanyahu Says After Hamas Attacks Israel"
          ],
          [
           "Tones of Voice"
          ],
          [
           "Adams Went South to Deter Migrants. Many Say They’ll Come Anyway."
          ],
          [
           "Some Israelis are flying home to fight."
          ],
          [
           "Biden’s Hopes for the Middle East Imperiled by Eruption of Violence"
          ],
          [
           "Michael Bonallack, Britain’s Greatest Postwar Amateur Golfer, Dies at 88"
          ],
          [
           "Israel’s Worst Day at War"
          ],
          [
           "Chocolate Factory Failed to Evacuate Workers Before Deadly Blast, OSHA Says"
          ],
          [
           "Editors’ Note: Oct. 8, 2023"
          ],
          [
           "Here’s a timeline of Saturday’s attacks and Israel’s retaliation."
          ],
          [
           "Spelling Bee Forum"
          ],
          [
           "‘We Were at the Counter of a Coffee Shop on Lexington Avenue’"
          ],
          [
           "Today’s Wordle Review"
          ],
          [
           "A Dazzling Art Collection, Hiding in Plain Sight"
          ],
          [
           "In New York City’s Coolest Clubs, Remixing Cumbia for the Hipster Set"
          ],
          [
           "On the Future of Work, a Reporter Looks Back"
          ],
          [
           "An Enduring Concept of Oneness"
          ],
          [
           "The Liberty Are Giving New Yorkers Something to Cheer For"
          ],
          [
           "The Nation’s Obsession With True Crime Meets a Mother’s Grief"
          ],
          [
           "Best Time to Hold a Political Conference? Right After Your Party Wins Big."
          ],
          [
           "‘There were terrorists inside’: An Israeli recounts how militants invaded his village."
          ],
          [
           "Quotation of the Day: Mother of Murder Victim Gives Dose of Reality to True Crime Devotees"
          ],
          [
           "A Quick Look at Hamas"
          ],
          [
           "In Banana Yoshimoto’s ‘The Premonition,’ Visions of a Lost Family"
          ],
          [
           "Joanna Russ Showed Us the Future: Female, Queer but Far From Perfect"
          ],
          [
           "What’s Going On in This Picture? | Oct. 16, 2023"
          ],
          [
           "Steve McQueen’s Call to Arms: The Making of ‘12 Years a Slave’"
          ],
          [
           "A Georgia Town Where ‘Stranger Things’ Is Shot Yearns for Production to Return"
          ],
          [
           "Rape, Race and a Decades-Old Lie That Still Wounds"
          ],
          [
           "The Wager That Betting Can Change the World"
          ],
          [
           "Amid Strikes, One Question: Are Employers Miscalculating?"
          ],
          [
           "Errol Morris Did Not Like This Q&A About His le Carré Film"
          ],
          [
           "Cassidy Hutchinson’s Subtle New Style"
          ],
          [
           "Facing a Tough Election, a Governing Party Targets an Old Boogeyman: Nazis"
          ],
          [
           "The Muchness of Madonna"
          ],
          [
           "A Texas Community Attracts Migrant Home Buyers, and Republican Ire"
          ],
          [
           "Fearing Third-Party Spoilers vs. Trump, Biden Allies Try to Squash Them"
          ],
          [
           "The Science Nobel Winners Were Short and Fast"
          ],
          [
           "Pakistan Orders More Than a Million Afghans Out of the Country"
          ],
          [
           "The Supreme Court Is Not as Politicized as You May Think"
          ],
          [
           "The Sunday Read: ‘The Dungeons & Dragons Players of Death Row’"
          ],
          [
           "What Is a Statue of Columbus Doing in Puerto Rico?"
          ],
          [
           "If You Want Our Countries to Address Climate Change, First Pause Our Debts"
          ],
          [
           "The Quest for Scientific Certainty Is Futile"
          ],
          [
           "The Hidden Moral Injury of ‘OK Boomer’"
          ],
          [
           "West Maui Is Reopening. Here’s What Travelers Should Know."
          ],
          [
           "Buzz-Cut and Brave: The Chinese Women Who Defy ‘Beauty Duty’"
          ],
          [
           "Wheat, Sunflowers and Dozens of New Graves"
          ],
          [
           "‘Last Stop Larrimah’ Review: The Unusual Suspects"
          ],
          [
           "Entire Villages Razed as Death Toll Soars From Quakes in Afghanistan"
          ],
          [
           "A Surprise Attack on Israel"
          ],
          [
           "What We Know About the War Between Israel and Hamas"
          ],
          [
           "Why Puerto Rico Is Adding ‘USA’ to Its Driver’s Licenses"
          ],
          [
           "Hamas Is Not the Only Problem We Must Reckon With"
          ],
          [
           "When Did the Plot Become the Only Way to Judge a Movie?"
          ],
          [
           "Israel-Gaza Conflict Could Slow Natural Gas Investment in Area"
          ],
          [
           "Sunday Calls for Old-Fashioned Beef Stew"
          ],
          [
           "Israel and Hamas at War: A ‘Pearl Harbor or 9/11 Moment’"
          ],
          [
           "Closing the Political Divide: Compromise, Don’t Demonize"
          ],
          [
           "Biden Says Military Assistance Is on Its Way to Israel"
          ],
          [
           "A Shaken Israel Is Forced Back to Its Eternal Dilemma"
          ],
          [
           "Claude Cormier, Landscape Architect With a Playful Eye, Dies at 63"
          ],
          [
           "Bavarian Election Results Signal Trouble for German Government"
          ],
          [
           "Nearly 1,000 Birds Die After Striking Chicago Building"
          ],
          [
           "McCarthy Allies Criticize Far Right for Leaderless House as Israel Is Attacked"
          ],
          [
           "‘There Were Terrorists Inside’: How Hamas’s Attack on Israel Unfolded"
          ],
          [
           "Monday Briefing: Israel’s Leader Warns of a Long War"
          ],
          [
           "Video captures concertgoer being kidnapped by militants."
          ],
          [
           "After Hamas Attack, U.S. to Send Weapons and Warships to Support Israel"
          ],
          [
           "Trump’s Claim That U.S. Taxpayer Money Funded Hamas Attacks Is False"
          ],
          [
           "Place for a Cool Dip"
          ],
          [
           "Tropical Storm Lidia Moves Inland in Mexico, Killing 1"
          ],
          [
           "Israel and Hamas Battle Around Gaza as Netanyahu Warns of ‘Long and Difficult War’"
          ],
          [
           "Hamas Attack Raises Questions Over an Israeli Intelligence Failure"
          ],
          [
           "U.S. Continues Push for Saudi-Israel Ties Even as War With Hamas Begins"
          ],
          [
           "‘Everyone Was Surprised’: Palestinians in Gaza React to Conflict"
          ],
          [
           "Quotation of the Day: Steve Young, Girls’ Flag Football, and Finding the Next Calling"
          ],
          [
           "No Corrections: Oct. 9, 2023"
          ],
          [
           "Green Energy Casts a Shadow Over a Cherished English Landscape"
          ],
          [
           "Monday Briefing"
          ],
          [
           "What’s on TV This Week: ‘Saturday Night Live’ and ‘Shining Vale’"
          ],
          [
           "We Just Saw What the World Is About to Become"
          ],
          [
           "Chemena Kamali Appointed Creative Director of Chloé"
          ],
          [
           "A former Israeli military spokesman paints a grim picture of the fighting ahead."
          ],
          [
           "Oil Prices Were Going Down Again. Then War Started in the Middle East."
          ],
          [
           "Spelling Bee Forum"
          ],
          [
           "Today’s Wordle Review"
          ],
          [
           "The Hype Candidate vs. Reality"
          ],
          [
           "A Fake Loan Could Mean Real Trouble for George Santos"
          ],
          [
           "Parking in New York City Really Is Worse Than Ever"
          ],
          [
           "What to Know as the U.K. Appeals a Ruling on Its Rwanda Asylum Policy"
          ],
          [
           "El Anatsui Builds Monumental Art From Daily Life"
          ],
          [
           "Single Winning Ticket Sold for $1.76 Billion Powerball Jackpot"
          ],
          [
           "Israeli Father Tells of Moment His Wife and Children Became Hostages"
          ],
          [
           "Taking a Stand on Native American Rights"
          ],
          [
           "A Radical Queer Novel Challenges the Idea of History Itself"
          ],
          [
           "This Above All: My Undying Obsession With ‘Hamlet’"
          ],
          [
           "How Your Diet Affects Your Skin"
          ],
          [
           "Vaults, Ducts, Kitchens: Everything Must Go When a Company Moves Out"
          ],
          [
           "Country Roads, Coastal Views and Autumn’s Bounty in Rhode Island"
          ],
          [
           "Ozempic Can’t Fix What Our Culture Has Broken"
          ],
          [
           "The A.D.H.D. Drug Shortage Is Causing Real Pain"
          ],
          [
           "Heat, High Water, Hurricanes: Schools Are Not Ready for Climate Change"
          ],
          [
           "Is the Literary Hat the New Tote Bag?"
          ],
          [
           "Australia Must Finally Listen to Its Indigenous People"
          ],
          [
           "Two Irish Guys in New York: Fast Friends Make Fortunate Roommates"
          ],
          [
           "Where This Summer Was Relentlessly Hot"
          ],
          [
           "Grizzlies Are Coming to Town. Can the West Live With Them?"
          ],
          [
           "Is It Still Worth Going to the Movies?"
          ],
          [
           "$5 Million Homes in California"
          ],
          [
           "What Climate Change Does to My October Garden"
          ],
          [
           "Can I Be a Feminist and Still Love Fashion?"
          ],
          [
           "What We Can Do to Make American Politics Less Dysfunctional"
          ],
          [
           "The Cosmic, Outrageous, Ecstatic Truths of Werner Herzog"
          ],
          [
           "Russia’s Economy Is Increasingly Structured Around Its War in Ukraine"
          ],
          [
           "Scalise, a McCarthy Rival, Seeks to Unite Republicans in Taking His Place"
          ],
          [
           "Does the Supreme Court’s Cherry-Picking Inject Politics Into Judging?"
          ],
          [
           "The Republican Meltdown Shows No Sign of Cooling Off"
          ],
          [
           "Across the Mideast, a Surge of Support for Palestinians as War Erupts in Gaza"
          ],
          [
           "Metro Bank, a Troubled U.K. Lender, Raises Money to Shore Up Finances"
          ],
          [
           "War in Israel"
          ],
          [
           "Claudia Goldin Wins Nobel in Economics for Studying Women in the Work Force"
          ],
          [
           "The Global Context of the Hamas-Israel War"
          ],
          [
           "‘The Mill’ Review: A Cog in the Machine"
          ],
          [
           "U.S. Dysfunction Clouds Economic Diplomacy Efforts"
          ],
          [
           "Tallying the Costs of the Israel-Gaza War"
          ],
          [
           "Chevron Shuts Down Natural Gas Platform Near Gaza Strip"
          ],
          [
           "Nikki Haley Raises $11 Million, Battling With DeSantis to Take On Trump"
          ],
          [
           "Zelensky Compares Assault by Hamas on Israel to Moscow’s Invasion of Ukraine"
          ],
          [
           "The First Magazine for Black Children Is Revisited, Its Message Still Resonant"
          ],
          [
           "Xi-Schumer Meeting Raises Hopes of Smoother U.S.-China Relations"
          ],
          [
           "Do You Know These Science Fiction Novels That Became TV Shows?"
          ],
          [
           "Hamburg Airport Suspends Flights Over Threat to Iranian Plane"
          ],
          [
           "Israeli Airstrikes Hit Marketplace and Mosques in Gaza, Killing Dozens"
          ],
          [
           "Turmoil Engulfs Canadian Art Museums Seeking to Shed Colonial Past"
          ],
          [
           "Yewande Komolafe’s Five-Star Sheet-Pan Gochujang Chicken"
          ],
          [
           "Teen Depression Rose Sharply During the Pandemic, but Treatment Didn’t Follow"
          ],
          [
           "U.A.W. Workers at Mack Truck Go on Strike"
          ],
          [
           "Vermont Utility Plans to End Outages by Giving Customers Batteries"
          ],
          [
           "For Israelis, Scale of Tragedy Starts to Set In"
          ],
          [
           "Robert F. Kennedy Jr. to Run for President as Independent, Leaving Democratic Primary"
          ],
          [
           "In Paris, a Madonna Musical Pays Tribute (in Pink)"
          ],
          [
           "A Clash of Views Over the Israel-Hamas War"
          ],
          [
           "Lost in Tibetan Avalanches, 2 American Women Close to a Record"
          ],
          [
           "Attack Ends Israel’s Hope That Hamas Might Come to Embrace Stability"
          ],
          [
           "Charles Feeney, Who Made a Fortune and Then Gave It Away, Dies at 92"
          ],
          [
           "Israel Orders ‘Complete Siege’ of Gaza and Hamas Threatens to Kill Hostages"
          ],
          [
           "It’s Drake’s Season of Discontent, Again"
          ],
          [
           "Israel’s Attackers Took Over 200 Hostages. Here’s What to Know About Them."
          ],
          [
           "We Need to Know When to Opt Out of Optimizing"
          ],
          [
           "Skeletons of 1918 Flu Victims Reveal Clues About Who Was Likely to Die"
          ],
          [
           "Terence Davies, 77, Dies; Filmmaker Mined Literature and His Own Life"
          ],
          [
           "‘I Just Hope That They Are Alive’: How Hamas Abducted 150 Israelis"
          ],
          [
           "For 26 Hours, One Family Took Shelter as Hamas Attackers Overran Their Kibbutz"
          ],
          [
           "The Attack on Israel Demands Unity and Resolve"
          ],
          [
           "Tuesday Briefing: Israel Orders a ‘Siege’ of Gaza"
          ],
          [
           "Trump Uses Support for Israel to Revive Travel Ban Talk"
          ],
          [
           "Hollywood Writers Ratify New Contract With Studios"
          ],
          [
           "N.Y. Officials Visiting Israel Find Themselves Confronted With War"
          ],
          [
           "Washington Rallies Behind Israel, but a Lasting Consensus May Prove Elusive"
          ],
          [
           "Unity Chief Resigns After Pricing Backlash"
          ],
          [
           "McCarthy Floats Return as Divided G.O.P. Prepares to Choose a Speaker"
          ],
          [
           "At least 11 U.S. citizens were killed in Israel, Biden says, and others may be captives of Hamas."
          ],
          [
           "Will Hurd Drops Out of G.O.P. Presidential Race and Endorses Haley"
          ],
          [
           "Special Counsel Interviewed Biden About Classified Documents"
          ],
          [
           "Videos Show How Attack on Music Festival Began"
          ],
          [
           "Among American Jews, ‘You See a Lot of Broken Spirits’ After Attacks"
          ],
          [
           "South Korean Chip Makers Get U.S. Waivers From China Export Rules"
          ],
          [
           "The Best Portable Power Station"
          ],
          [
           "Jennette McCurdy’s Memoir, “I’m Glad My Mom Died,” Shares a Troubled Relationship With Her Mother"
          ],
          [
           "Julia Louis-Dreyfus and Nicole Holofcener Discuss ‘You Hurt My Feelings’"
          ],
          [
           "Meet the Newer, Bolder Michelle Williams"
          ],
          [
           "The One Where Matthew Perry Writes an Addiction Memoir"
          ],
          [
           "How Silvio Berlusconi Changed Italy, for Better or Worse"
          ],
          [
           "‘Persuasion’ Review: The Present Intrudes On the Past"
          ],
          [
           "Country Singer Morgan Wade Was Looking for the Spotlight. It Found Her."
          ],
          [
           "Book Review: ‘The Philosophy of Modern Song,’ by Bob Dylan"
          ],
          [
           "Trade Show"
          ],
          [
           "Police Fatally Shoot Driver Who Crashed Into Chinese Consulate in San Francisco"
          ],
          [
           "Our Own Language"
          ],
          [
           "Do You Share Music Tastes With Your Parents?"
          ],
          [
           "The Mystery Company With One Foot in the Premier League"
          ],
          [
           "A Solar Eclipse Shines Light on Traditions That Still Matter Today"
          ],
          [
           "Country Garden Caves to Debts as China’s Real Estate Crisis Worsens"
          ],
          [
           "Tuesday Briefing"
          ],
          [
           "Quotation of the Day: ‘They Took Him’: Israeli Families Left in Dread"
          ],
          [
           "Myanmar Military Bombs Refugee Camp, Killing 29, Rebels Say"
          ],
          [
           "How a Radio Station Is Empowering Women in a Rural Heartland"
          ],
          [
           "Word of the Day: zoonotic"
          ],
          [
           "Late Night Hosts Address the Hamas Attacks on Israel"
          ],
          [
           "Today’s Wordle Review"
          ],
          [
           "Spelling Bee Forum"
          ],
          [
           "Why Tugboats Are Key to the $19 Billion Overhaul of Kennedy Airport"
          ],
          [
           "Sparks Fly When the N.F.L. and Pop Collide. So Does Coverage."
          ],
          [
           "Scream Queen? More Like Stream Queen."
          ],
          [
           "No Corrections: Oct. 10, 2023"
          ],
          [
           "Fragile Global Economy Faces New Crisis in Israel-Gaza War"
          ],
          [
           "A Son’s Conversation With His Mother as Gunmen Attacked Her Kibbutz"
          ],
          [
           "I Ran While Pregnant. The Internet Had Thoughts."
          ],
          [
           "Why You Can’t Spell Hollywood Without Marvel"
          ],
          [
           "Her Insurance Refused to Pay for Wegovy, So She Sued"
          ],
          [
           "In This Novel, Transphobia Is a Literal Parasite"
          ],
          [
           "A Master Anatomist of Ordinary People in Difficult Times"
          ],
          [
           "Looking to the Dutch Masters for Answers to Life’s Big Questions"
          ],
          [
           "In This Novel, Opposites Don’t Attract. They Converge."
          ],
          [
           "We Need Better Narratives About Gender"
          ],
          [
           "Who Runs the Best U.S. Schools? It May Be the Defense Department."
          ],
          [
           "How One Tiny Island Nation Is Replacing Fossil Fuels With Renewable Power"
          ],
          [
           "How Do My Calorie Needs Change as I Age?"
          ],
          [
           "For Sampha, Joy Comes After the Mourning"
          ],
          [
           "Breakers Grapple With Hip-Hop’s Big Olympic Moment"
          ],
          [
           "Where an Obsession With Election Integrity Can Lead"
          ],
          [
           "For Sale: A Stamp So Famous It Appeared on ‘The Simpsons’"
          ],
          [
           "No Better Than a Placebo"
          ],
          [
           "I Ran While Pregnant. The Internet Had Thoughts."
          ],
          [
           "What Are the Must-Have Amenities for Today’s Pampered Pet?"
          ],
          [
           "45 Seasons in, ‘Survivor’ Faces Realities of a Changing Planet"
          ],
          [
           "On a New ‘Frasier,’ James Burrows Has a Joke for You"
          ],
          [
           "There’s a Reason Hasan Minhaj’s Lies Found Such a Big Audience"
          ],
          [
           "The Places That Sam Bankman-Fried Left Behind"
          ],
          [
           "‘Don’t Do That Again’: Sam Bankman-Fried’s Lawyers Under Fire From Judge"
          ],
          [
           "Why Culture Has Come to a Standstill"
          ],
          [
           "In Search of Kamala Harris"
          ],
          [
           "The 25 Best Restaurants in Seattle Right Now"
          ],
          [
           "‘Everyone Died’: How Gunmen Killed Dozens In Sderot"
          ],
          [
           "Peace Activists Are Among the Israelis Missing and Killed"
          ],
          [
           "How Much Do You Know About Honduras?"
          ],
          [
           "Putin Offers Muted Response to Attack on Israel. That Speaks Volumes."
          ],
          [
           "Israel Orders Gaza ‘Siege,’ Hamas Threatens to Kill Hostages, and More"
          ],
          [
           "The New Supreme Court Cases to Watch"
          ],
          [
           "The Nation’s Top-Performing Public School System"
          ],
          [
           "‘No Accident’ Review: Putting White Supremacists on Trial"
          ],
          [
           "Iran’s Supreme Leader Issues Tehran’s Latest Denial of Involvement in Israel Attacks"
          ],
          [
           "Israeli Start-Ups Are on the Front Lines"
          ],
          [
           "Review: ‘Merrily We Roll Along,’ Finally Found in the Dark"
          ],
          [
           "‘It’s a Massacre’: Inside an Israeli Village Raided by Palestinian Fighters"
          ],
          [
           "‘Damage and Distress’: Trump Sues Over Russia Dossier in London"
          ],
          [
           "What to Know About the Presidential Election in Liberia"
          ],
          [
           "Saying Goodbye to a San Francisco Icon"
          ],
          [
           "The Israel-Hamas War: A Forum for Young People to React"
          ],
          [
           "San Francisco Police Kill Driver Who Crashed Into Chinese Consulate"
          ],
          [
           "If Every Brand Is Funny Online, Is Anything Funny?"
          ],
          [
           "Documenting the Recipes of Latin America, One Zoom at a Time"
          ],
          [
           "Morgan Wallen Returns to No. 1 in a Slow Chart Week"
          ],
          [
           "Argentina’s Currency Plummets Under Attack from Far-Right Candidate"
          ],
          [
           "Zelensky Says Gaza War Furthers Russian Aims"
          ],
          [
           "Well-Made, and Massively Weird: A New Theater Season in Berlin"
          ],
          [
           "Tom Suozzi Will Run to Take House Seat Back From George Santos"
          ],
          [
           "Easy Dinners That Make Good Use of Ketchup, Mustard and Mayonnaise"
          ],
          [
           "Scientists Use CRISPR to Make Chickens More Resistant to Bird Flu"
          ],
          [
           "Illicit E-Cigarettes Flood Stores as F.D.A. Struggles to Combat Imports"
          ],
          [
           "U.S. Envoy to NATO Says Aid to Israel Won’t Come at Ukraine’s Expense"
          ],
          [
           "A.I. Could Soon Need as Much Electricity as an Entire Country"
          ],
          [
           "Roti, a Shape-Shifting Global Staple, Takes a New Form: Convenience Food"
          ],
          [
           "U.S. Scales Back Hopes for Ambitious Climate Trade Deal With Europe"
          ],
          [
           "Here’s What We Do and Don’t Know About the Effects of Remote Work"
          ],
          [
           "G.M. Reaches Deal With Canadian Union"
          ],
          [
           "Wegmans Stakes a Claim in Manhattan"
          ],
          [
           "Russian Court Upholds Longer Detention for American Reporter"
          ],
          [
           "Clarence Thomas Renews Call for Reconsideration of Landmark Libel Ruling"
          ],
          [
           "Witnesses in Subway Chokehold Case Describe Fears of Death and Violence"
          ],
          [
           "DeSantis Amps Up Attacks on Trump, as G.O.P. Primary Enters a New Phase"
          ],
          [
           "Russia Is Denied a Seat on the U.N. Human Rights Council"
          ],
          [
           "A Plan to Shake Up the Olympic Menu Includes Cricket"
          ],
          [
           "Balanchine Blue: A Clean Field for Dance That Says ‘City Ballet’"
          ],
          [
           "The Easiest Brownies Are Mixed and Baked in the Same Pan"
          ],
          [
           "Relatives of Americans Missing in Israel Plead for Help"
          ],
          [
           "Noma Co-Founder Opens a Restaurant in Brooklyn"
          ],
          [
           "American Airlines, Other Major Airlines Suspend Flights to Israel"
          ],
          [
           "Caroline Ellison, Adviser to Sam Bankman-Fried, Says He ‘Directed’ Her to Commit Crimes"
          ],
          [
           "fall-prime-day"
          ],
          [
           "As the Israel-Hamas War Rages On"
          ],
          [
           "With Confidence, and Glitter, Labour’s Leader Vows to Rebuild Britain"
          ],
          [
           "9 New Songs You Should Hear Now"
          ],
          [
           "What Does a ‘Complete Siege’ of the Gaza Strip Mean?"
          ],
          [
           "As War Rages, Netanyahu Battles for Reputation and Legacy"
          ],
          [
           "U.S. Declares the Military Takeover in Niger a Coup"
          ],
          [
           "Would a 3-Way Arizona Senate Race Help Kari Lake? Her Party Isn’t So Sure."
          ],
          [
           "Steve Garvey, Republican Former Baseball Player, Will Run for Senate in California"
          ],
          [
           "‘It’s Not a War or a Battlefield. It’s a Massacre.’"
          ],
          [
           "Prosecutors Ask if Trump Will Blame His Lawyers as Defense in Election Case"
          ],
          [
           "Tiny Love Stories: ‘Were They Just Using Me?’"
          ],
          [
           "The Washington Post to Cut 240 Jobs"
          ],
          [
           "Republicans Remain Divided Ahead of Speaker Vote"
          ],
          [
           "Why We Should, but Won’t, Reduce the Budget Deficit"
          ],
          [
           "Biden Calls Hamas Attacks in Israel ‘Pure Unadulterated Evil’"
          ],
          [
           "Kevin Phillips, 82, Dies; Political Analyst Predicted G.O.P. Resurgence"
          ],
          [
           "In Unforgiving Terms, Biden Condemns ‘Evil’ and ‘Abhorrent’ Attack on Israel"
          ],
          [
           "Child Influencers Make Big Money. Who Gets It?"
          ],
          [
           "Firm in Fatal J.F.K. Trench Collapse Broke Safety Rules, Officials Say"
          ],
          [
           "In Arkansas, a $19,000 Lectern for the Governor Draws Scrutiny"
          ],
          [
           "House Disarray Leaves Path for Israel Aid Uncertain"
          ],
          [
           "The View From the Press Gallery on a ‘Surreal’ Day in the House"
          ],
          [
           "The Anti-Israel Left Needs to Take a Hard Look at Itself"
          ],
          [
           "How Hamas Attacked Israel’s Communications Towers"
          ],
          [
           "Wednesday Briefing: Biden Condemns Hamas"
          ],
          [
           "Mary Lou Retton Has Pneumonia and ‘Is Fighting for Her Life,’ Daughter Says"
          ],
          [
           "Biden Pledges Support for Israel"
          ],
          [
           "Hughes Van Ellis, Tulsa Massacre Survivor, Dies at 102"
          ],
          [
           "After Attack on Israel, Politicians Are Asked, ‘Which Side Are You On?’"
          ],
          [
           "Nowhere to Hide in Gaza as Israeli Onslaught Continues"
          ],
          [
           "No Discipline Recommended for Officers Who Shot a Man in His Kitchen"
          ],
          [
           "Hamas Seeds Violent Videos on Sites With Little Moderation"
          ],
          [
           "Israel Has Never Needed to Be Smarter Than in This Moment"
          ],
          [
           "Israel Retakes Towns Near Gaza as Its Military Readies Major Offensive"
          ],
          [
           "‘Indefatigable’ Chicago Woman Whose Skydive at 104 Drew Admiration Dies"
          ],
          [
           "What We Know About the Americans Who Were Missing or Killed"
          ],
          [
           "Santos Faces New Charges Accusing Him of Lies and Credit Card Fraud"
          ],
          [
           "Israel Regains Control of Border Villages as War Intensifies in Gaza"
          ],
          [
           "Transcript: Lydia Polgreen Interviews Masha Gessen"
          ],
          [
           "Florence Fisher, Advocate for Opening Adoption Records, Dies at 95"
          ],
          [
           "How Female Frogs Fight Off the Mating Ball"
          ],
          [
           "Read the New George Santos Indictment"
          ],
          [
           "Along Israel’s Borders With Lebanon and Syria, Clashes Raise Fears of Another Front"
          ],
          [
           "Hamas Leaves Trail of Terror in Israel"
          ],
          [
           "At Harvard, a Battle Over What Should Be Said About the Hamas Attacks"
          ],
          [
           "How Israel’s Feared Security Services Failed to Stop Hamas’s Attack"
          ],
          [
           "Kari Lake Stokes Fear and Leans on Trump as She Formally Opens Senate Run"
          ],
          [
           "Another Powerful Quake Hits Afghanistan, Days After Deadly Temblors"
          ],
          [
           "Test of Patience"
          ],
          [
           "London Airport Suspends Flights After Parking Garage Collapses From Fire"
          ],
          [
           "‘The Wrath of God’: Afghans Mourn Unimaginable Loss From Quake"
          ],
          [
           "‘Whichever Is Cheaper’: Inside China’s New Thrift Economy"
          ],
          [
           "A Patois Revival: Jamaica Weighs Language Change as Ties to Britain Fray"
          ],
          [
           "‘Always Under Fire’: On the Battlefield With Ukraine’s Elite Troops"
          ],
          [
           "Ex-Chilean Soldier Accused of Killing Folk Singer Is Arrested in Florida"
          ],
          [
           "Bipartisan Group of U.S. Lawmakers Meets With Netanyahu in Israel"
          ],
          [
           "Corrections: Oct. 11, 2023"
          ],
          [
           "Quotation of the Day: More Cars, Fewer Spots: Parking in New York Gets Harder"
          ],
          [
           "Wednesday Briefing"
          ],
          [
           "Israel Could Be Walking Into a Trap in Gaza"
          ],
          [
           "Blaze at Luton Airport Near London"
          ],
          [
           "Seth Meyers Is Unsure About a House Republican ‘Therapy Session’"
          ],
          [
           "Here is the latest on the fighting."
          ],
          [
           "Birkenstock, the German Sandal Maker, Raises $1.48 Billion in Its I.P.O."
          ],
          [
           "At NATO, Zelensky Secures More Ukraine Aid as Allies Balance Support for Israel"
          ],
          [
           "Today’s Wordle Review"
          ],
          [
           "Spelling Bee Forum"
          ],
          [
           "In an Expensive City, Who Should Get Free Preschool?"
          ],
          [
           "Breaking"
          ],
          [
           "China Releases Australian Journalist Three Years After Arrest"
          ],
          [
           "Formerly a Tropical Storm, Sean Weakens to a Post-Tropical Cyclone"
          ],
          [
           "This Full-Body Workout Fits in a Backpack"
          ],
          [
           "In Northern France, Riding the Rails Into the Past"
          ],
          [
           "New Novels Brimming With Mystery, Mayhem and Quite a Bit of Murder"
          ],
          [
           "What if These Economic Weapons Fall Into Trump’s Hands?"
          ],
          [
           "Living In ... Oceanport, N.J."
          ],
          [
           "A Boat That Conjures Up Denmark’s Finest Hour"
          ],
          [
           "How a Series of Air Traffic Control Lapses Nearly Killed 131 People"
          ],
          [
           "Oceanport, N.J.: A Small Community With ‘Water Access Everywhere’"
          ],
          [
           "Should Aboriginal Australians Have a ‘Voice’ in Parliament? These Two Say No."
          ],
          [
           "The President vs. the Klan"
          ],
          [
           "Is a Recession Coming? Paul Krugman and Peter Coy Weigh In."
          ],
          [
           "What I Learned About Cities From ‘Tony Hawk’s Pro Skater’"
          ],
          [
           "‘Spending Money to Get Nothing’: The Latest on Resort Fees"
          ],
          [
           "A Soup for When You Just Want to Be Alone"
          ],
          [
           "Justin Torres Finds Inspiration in the Erasures of Queer History"
          ],
          [
           "Why People Love to Watch Influencers Get Punched In the Face"
          ],
          [
           "Democrats Need to Move Fast to Appoint Judges, Now More Than Ever"
          ],
          [
           "Autonomous Vehicles Are Driving Blind"
          ],
          [
           "‘Stereophonic’ Finds Drama in a ’70s Rock Recording Booth"
          ],
          [
           "Don’t Hide in the Bathroom Stall"
          ],
          [
           "Only Question for Taylor Swift Film: How Big Will It Be?"
          ],
          [
           "$500,000 Homes in New York, Michigan and Georgia"
          ],
          [
           "Nancy Mace’s District Moved Right. Then She Helped Oust McCarthy."
          ],
          [
           "There Is Not Yet an ‘Axis of Evil,’ but a New Reality for America in the Holy Land"
          ],
          [
           "Claudia Goldin’s Nobel-Winning Research Shows ‘Why Women Won’"
          ],
          [
           "G.O.P. Nominates Steve Scalise for Speaker but Postpones Full Vote"
          ],
          [
           "Can Usher Turn America On Again (to R.&B.)?"
          ],
          [
           "The Two Candidates for House Speaker Are Even Worse Than Kevin McCarthy"
          ],
          [
           "With $1.73 Billion at Stake, Lottery Hopefuls Flock to a Lucky Store in L.A."
          ],
          [
           "Gaza Braces for First Ground Invasion in Years, and More"
          ],
          [
           "Israel’s Plan to Destroy Hamas"
          ],
          [
           "Alabama Sculpture Park Aims to Look at Slavery Without Flinching"
          ],
          [
           "Exxon Mobil Strikes $60 Billion Deal for Shale Giant"
          ],
          [
           "Yellen Says Nothing Is ‘Off the Table’ as U.S. Considers New Sanctions on Iran and Hamas"
          ],
          [
           "Hamas’s Hostages"
          ],
          [
           "Fashion’s Groupthink Problem"
          ],
          [
           "India Charges Novelist Arundhati Roy Over a 2010 Speech"
          ],
          [
           "International Court Hears Syrian Torture Case"
          ],
          [
           "In Time for Halloween, 7 New Comics for Fans of Horror"
          ],
          [
           "Russians Press Assaults Along Front Line in Eastern Ukraine"
          ],
          [
           "Family of Thai Farmworker in Israel Worries About His Fate"
          ],
          [
           "The Israel-Gaza War Inflames Social Media"
          ],
          [
           "Word of the Day: sentience"
          ],
          [
           "Why Do Men Insist I’m Not Perimenopausal After I’ve Told Them I Am?"
          ],
          [
           "Gavin Newsom Casts His Final Vote on High-Profile Bills"
          ],
          [
           "Conservative Election Activists Use Virginia as a Dry Run for 2024"
          ],
          [
           "Theater Industry Leader Takes Top Job at New York Performing Arts Library"
          ],
          [
           "Five Mini-Lessons on Latino Cooking, Community and Culture"
          ],
          [
           "Natural Gas Prices Rise on Israel Concerns and Finland Pipeline Leak"
          ],
          [
           "Salman Rushdie to Write Memoir About Stabbing Attack"
          ],
          [
           "China’s Economic Stake in the Middle East: Its Thirst for Oil"
          ],
          [
           "Tracking Post-Tropical Cyclone Sean"
          ],
          [
           "Early Intelligence Shows Hamas Attack Surprised Iranian Leaders, U.S. Says"
          ],
          [
           "Popcast (Deluxe): Drake’s New Album Courts New Enemies"
          ],
          [
           "Coconut Saag is as Soothing as It Sounds"
          ],
          [
           "New A.I. Tool Diagnoses Brain Tumors on the Operating Table"
          ],
          [
           "Fossil Reveals Ancient Seafloor Communities"
          ],
          [
           "I’m an American Living Abroad Permanently. Should I Vote in U.S. Elections?"
          ],
          [
           "Israel Violence Underscores the G.O.P. Divide on Foreign Policy"
          ],
          [
           "From LSD to I.P.O."
          ],
          [
           "Why Tensions Are Rising on Israel’s Border With Lebanon as It Fights Hamas in Gaza"
          ],
          [
           "Man Is Charged With Smuggling $200,000 Worth of Butterflies and Bugs"
          ],
          [
           "A Swirling Philadelphia Mosaic Will Be Sacrificed for Housing"
          ],
          [
           "Some Republicans Back Jordan in Reflection of McCarthy-Scalise Rift"
          ],
          [
           "Investors Are Calling It: The Federal Reserve May Be Done Raising Rates"
          ],
          [
           "Review: ‘Frasier’ Returns, Tossed, Scrambled and Eggscruciating"
          ],
          [
           "Jada Pinkett Smith Says She and Will Smith Separated in 2016"
          ],
          [
           "Michael Chiarello, Chef and Food Network Star, Dies at 61"
          ],
          [
           "Ukraine has some breathing space on military aid, but other assistance may be a greater worry."
          ],
          [
           "NASA Unveils First Glimpse of ‘Scientific Treasure’ Collected From Asteroid"
          ],
          [
           "Smartphone Photos Are Getting Faker. Uh-Oh?"
          ],
          [
           "‘The Refuge Plays’ Review: A Surreal Family Saga on the Homestead"
          ],
          [
           "Man Found Guilty of Complicity in 2016 Terrorist Murder of French Couple"
          ],
          [
           "Justices Poised to Restore Voting Map Ruled a Racial Gerrymander"
          ],
          [
           "Caroline Ellison Says She and Sam Bankman-Fried Lied for Years"
          ],
          [
           "What We Know About the Americans Missing or Killed in the Attack on Israel"
          ],
          [
           "Brooklyn Safety Patrol Leader Who Abused Girl Gets 17-Year Sentence"
          ],
          [
           "Sergio Brown, Ex-N.F.L. Player, Taken Into Custody in Mother’s Death"
          ],
          [
           "The Pope’s Journey to Climate Outrage"
          ],
          [
           "Likely Human Remains Recovered From Titan Submersible"
          ],
          [
           "Federal Reserve Officials Were Cautious in September"
          ],
          [
           "How the Left Is Reacting to the Hamas Atrocities"
          ],
          [
           "False Claims Around Israel Attacks Include Recycled Videos and a Game Clip"
          ],
          [
           "Follow This Music to Joy"
          ],
          [
           "Santos Faces New Expulsion Push by Onetime Allies: N.Y. Republicans"
          ],
          [
           "The Long Wait for Help as Massacres Unfolded in Israel"
          ],
          [
           "Israel Forms Unity Government and Bombs Gaza in the Wake of Hamas Attack"
          ],
          [
           "Maps of the 2023 ‘Ring of Fire’ Solar Eclipse"
          ],
          [
           "Goldman Sachs Offloads ‘Buy Now, Pay Later’ Firm in Quick Retreat"
          ],
          [
           "‘It’s Terrifying’: Residents in Israel’s North Brace for Another Possible Front"
          ],
          [
           "After 112 Years, Triangle Shirtwaist Fire Victims Get a Memorial"
          ],
          [
           "For Hamas, Shattering Israel’s Sense of Security Is a Major Goal"
          ],
          [
           "Rescuers in Gaza Struggle With Dwindling Fuel and Lack of Equipment"
          ],
          [
           "Thursday Briefing: Israel Forms a Unity Government"
          ],
          [
           "F.D.A. Issues Warning Over Misuse of Ketamine"
          ],
          [
           "New York Seeks to Limit Social Media’s Grip on Children’s Attention"
          ],
          [
           "Seeking a Moral Compass in Gaza’s War"
          ],
          [
           "After Biden’s Border Wall Pivot, a Texas County Asks: Why Build It Here?"
          ],
          [
           "State and Local Governments Have Billions Left to Spend in Pandemic Aid"
          ],
          [
           "What’s in Our Queue? Cairokee and More"
          ],
          [
           "Israel Forms a Unity Government as the War Intensifies"
          ],
          [
           "Trump’s Lawyers Lash Out Over Timing of His Federal Trials"
          ],
          [
           "Republicans Choose a New Speaker Nominee, Then Quickly Undercut Him"
          ],
          [
           "2 Who Had Contracts to Run Shelters Charged With Stealing Public Funds"
          ],
          [
           "Do Early R.S.V. Vaccine Trials Have a Henrietta Lacks Story?"
          ],
          [
           "U.A.W. Expands Strike to Ford Plant in Kentucky"
          ],
          [
           "N.Y.U. Law Student Sends Anti-Israel Message and Loses a Job Offer"
          ],
          [
           "Biden Vows to Focus on Hostages as He Condemns the Hamas Attack in Israel"
          ],
          [
           "California Bans ‘Excited Delirium’ as a Cause of Death"
          ],
          [
           "ACT Reports Record Low Scores as Admissions Landscape Shifts"
          ],
          [
           "Jury Awards $135 Million to 2 Men Molested by Teacher in the 1990s"
          ],
          [
           "Doing Some Heavy Lifting"
          ],
          [
           "‘I Feel Guilty’: Retired Israeli General Visits Site of Hamas Attacks"
          ],
          [
           "Trump Criticizes Netanyahu and Israeli Intelligence in Florida Speech"
          ],
          [
           "Energy Firms, Green Groups and Others Reach Deal on Solar Farms"
          ],
          [
           "A Russian Town Where the War Dead Were Everyone’s Neighbors"
          ],
          [
           "The Problem With Pests May Be in Parisian Heads, Not Their Beds"
          ],
          [
           "Vatican Conference Draws All Stripes to Rome, Welcome or Not"
          ],
          [
           "Ecuador, Reeling from Violence, Seeks Change. Is a Banana Heir the Answer?"
          ],
          [
           "Thursday Briefing"
          ],
          [
           "Poland Isn’t About to Be Saved"
          ],
          [
           "Quotation of the Day: In the U.K., Green Energy Is Casting a Long Shadow"
          ],
          [
           "Corrections: Oct. 12, 2023"
          ],
          [
           "Word of the Day: ramshackle"
          ],
          [
           "Late Night Sees the House Getting Serious With Steve Scalise"
          ],
          [
           "Here’s the latest on the war."
          ],
          [
           "Spelling Bee Forum"
          ],
          [
           "Today’s Wordle Review"
          ],
          [
           "Show Time!"
          ],
          [
           "The Improbable Resurrection of an All-Night Kebab Joint"
          ],
          [
           "The Ultimate ‘If You Know, You Know’ Fashion Line"
          ],
          [
           "The Retired Israeli General Who Grabbed His Pistol and Took On Hamas"
          ],
          [
           "36 Hours in Montreal"
          ],
          [
           "For Tiya Miles, Girlhood Reading Was ‘My Escape and Joy’"
          ],
          [
           "The Average Human Body Temperature Is Not 98.6 Degrees"
          ],
          [
           "A Pilgrimage in the Heart of the Italian Alps"
          ],
          [
           "Jack Daniel’s Tweaks Its Brand, From Bland to Exclusive"
          ],
          [
           "‘A.I. Obama’ and Fake Newscasters: How A.I. Audio Is Swarming TikTok"
          ],
          [
           "Some Famous Fish Get a New Home Near Central Park"
          ],
          [
           "Heather Cox Richardson Wants You to Study History"
          ],
          [
           "Facing Big Legal Bills, Defendants in Georgia Trump Case Seek Donations"
          ],
          [
           "Among Her Wedding Design Inspirations: Her Father and Feminism"
          ],
          [
           "My Delirious Trip to the Heart of Swiftiedom"
          ],
          [
           "Inflation Slowdown Remains Bumpy, September Consumer Price Data Shows"
          ],
          [
           "The Massacre in Israel and the Need for a Decent Left"
          ],
          [
           "As Red States Curb Social Media, Did Montana’s TikTok Ban Go Too Far?"
          ],
          [
           "Sam Bankman-Fried’s Closest Friends Become His Foes in Courtroom Clash"
          ],
          [
           "Trump’s Claim That He Can’t Be Prosecuted Collides With Precedents"
          ],
          [
           "Devo’s Future Came True"
          ],
          [
           "To Prepare Kids for the Future, Bring Back Shop and Home Ec"
          ],
          [
           "Newt Gingrich Called Them ‘Cannibals.’ Now They Decide Who Gets to Be Speaker of the House."
          ],
          [
           "New York’s Quirkiest Vintage Shop Is a U-Haul Truck"
          ],
          [
           "An Oscar Winner Scouts Her New Location: an Uptown Pad for Less Than $500,000"
          ],
          [
           "Understanding Israel’s Hard Choices"
          ],
          [
           "The New Republican Establishment"
          ],
          [
           "For Democrats, Crisis in Israel Could Be a Unifying Force"
          ],
          [
           "What More Must the Children of Gaza Suffer?"
          ],
          [
           "Tensions Rise on Israel-Lebanon Border, and More"
          ],
          [
           "Ask New Zealand’s Maori Party What They’re Wearing. They Dare You."
          ],
          [
           "The Spoiler Threat of R.F.K. Jr."
          ],
          [
           "What to Know About the New Zealand Election"
          ],
          [
           "Kamala Harris’s Biggest Challenge"
          ],
          [
           "‘In My Mother’s Skin’ Review: A Grim Fairy Tale"
          ],
          [
           "‘Anatomy of a Fall’ Review: Tumbling From the Alps to the Courtroom"
          ],
          [
           "‘The Burial’ Review: A Mississippi Courtroom Drama"
          ],
          [
           "‘Divinity’ Review: Missed Conception"
          ],
          [
           "‘The Mission’ Review: Blinded by the Light"
          ],
          [
           "‘Plan C’ Review: Abortion by Mail"
          ],
          [
           "‘Reality Winner’ Review: Caught in the Cross Hairs"
          ],
          [
           "‘The Road Dance’ Review: A World War I Weepie"
          ],
          [
           "Review: In ‘(pray),’ Nourish Thyself With Song and Dance"
          ],
          [
           "Talks Between Striking Actors and Studios Are Suspended"
          ],
          [
           "Taylor Swift’s ‘Eras Tour’ Movie: 4 Takeaways From the Premiere"
          ],
          [
           "Elon Musk, Kamala Harris, Jamie Dimon Will Speak at the DealBook Summit"
          ],
          [
           "As Natural Disasters Get Worse, So Do Home Insurance Premiums"
          ],
          [
           "Japan Seeks to Dissolve Unification Church After Abe Killing"
          ],
          [
           "What Do You Enjoy That Others Think Is Cringe, Played Out or Just Uncool?"
          ],
          [
           "When the Turner Prize Came to ‘God’s Waiting Room’"
          ],
          [
           "Conditions in Gaza Are ‘Horrible,’ U.N. Official Says, as Israel Strikes Back at Hamas"
          ],
          [
           "Social Security Benefits Will Rise 3.2% in 2024"
          ],
          [
           "For Fans Seeking Community, Nonsense Starts the Conversation"
          ],
          [
           "We’re Adding New Songs to Our California Soundtrack"
          ],
          [
           "In Paris, a Mexico City Gallery Installs a Fantasy Sitting Room"
          ],
          [
           "Homes for Sale in New York and Connecticut"
          ],
          [
           "Homes for Sale in Manhattan and Queens"
          ],
          [
           "U.S. Clamps Down on Russian Oil Sales With New Sanctions"
          ],
          [
           "A Comic Book Upstart Seeks to Shake Up the Industry"
          ],
          [
           "Ex-Formula 1 Chief Bernie Ecclestone to Pay $802 Million for Fraud"
          ],
          [
           "At Least Two Tornadoes Touch Down in Western Florida Overnight"
          ],
          [
           "James Staley Fined and Barred From Finance Industry in U.K. for Epstein Ties"
          ],
          [
           "Black Student Suspended Over Hair Length Is Sent to Disciplinary School"
          ],
          [
           "This Hospital in Gaza Is Running Short on Fuel and Beds"
          ],
          [
           "As World’s Eyes Shift, Ukraine and Russia Look to Sway Opinions"
          ],
          [
           "Palestinian Americans, Dismayed by Violence, Say Historical Context Is Being Overlooked"
          ],
          [
           "From Hunted to Hunter: Neanderthals Preyed on Cave Lions, Study Finds"
          ],
          [
           "Younger Women Are Getting Lung Cancer at Higher Rates Than Men"
          ],
          [
           "CMAT Makes Country Music Sad, Smart and Strange"
          ],
          [
           "When Everyone Becomes a War Photographer"
          ],
          [
           "‘What About Us?’ Strikes Leave Other Hollywood Workers Reeling."
          ],
          [
           "In Her Debut, a Conductor Gets the Philharmonic (and Geffen Hall)"
          ],
          [
           "Review: Arca Struts the Catwalk Between Diva and Meta Diva"
          ],
          [
           "The Victims in the Israel-Hamas War"
          ],
          [
           "Wisconsin Republicans Retreat From Threats to Impeach Liberal Justice"
          ],
          [
           "Scalise Withdraws as Speaker Candidate, Leaving G.O.P. in Chaos"
          ],
          [
           "Under the Radar to Return, With New Partners"
          ],
          [
           "The Furry Tragedy of the President’s Dog"
          ],
          [
           "New Laws on Kids and Social Media Are Stymied by Industry Lawsuits"
          ],
          [
           "I Hope Someone Somewhere Is Being Kind to My Boy"
          ],
          [
           "Skillet Brownies, and Other Melissa Clark Must-Makes"
          ],
          [
           "Judy Chicago Makes ‘Herstory’: Beyond the Ladies of the Dinner Party"
          ],
          [
           "Divulging the Intimate Secrets of Artists’ Lives"
          ],
          [
           "It’s Friday the 13th. Try Not to Be Spooked."
          ],
          [
           "‘Goosebumps’ Is Back on TV. Here’s What to Know"
          ],
          [
           "Menendez and Wife Face Charges of Plotting to Make Him a Foreign Agent"
          ],
          [
           "Scalise Bid for Speaker Meets Resistance From Web of G.O.P. Factions"
          ],
          [
           "Hoosen Coovadia, Medical Force in South Africa’s H.I.V. Fight, Dies at 83"
          ],
          [
           "‘We Are Waiting’: Family of an Israeli Hostage Marks Her Birthday"
          ],
          [
           "U.S. and Qatar Deny Iran Access to $6 Billion From Prisoner Deal"
          ],
          [
           "In Germany, ‘Hamilton’ Hangs Up Its Musket"
          ],
          [
           "Read the New Menendez Indictment"
          ],
          [
           "Olympic Committee Suspends Russian Organization Over Ukraine Move"
          ],
          [
           "She Didn’t Even Have an Agent. Her Debut Is a National Book Award Finalist."
          ],
          [
           "Former N.F.L. Players to Retain Disability Benefits"
          ],
          [
           "Mary Lou Retton Crowdfunded Her Medical Debt, Like Many Thousands of Others"
          ],
          [
           "Comforting Recipes That Aren’t Casseroles"
          ],
          [
           "As Mexican Music Explodes, This Podcast Charts Its Growth"
          ],
          [
           "A Gothic Novella With a Feminist Twist"
          ],
          [
           "Here’s What Can’t Get Done While Republicans Fight Over a Speaker"
          ],
          [
           "When, Where and How to Watch the Annular Solar Eclipse"
          ],
          [
           "Fossil Fuels Aren’t Going Anywhere"
          ],
          [
           "The Human Brain Has a Dizzying Array of Mystery Cells"
          ],
          [
           "Columbia Closes Campus as Israel-Hamas War Protests Erupt"
          ],
          [
           "After Refusing to Fly, Climate Researcher Loses His Job"
          ],
          [
           "Israel, Gaza and the Laws of War"
          ],
          [
           "Trump Plans Return to N.Y. Court for a Showdown With Michael Cohen"
          ],
          [
           "Overlooked No More: Omero C. Catan, Who Gained Fame as ‘Mr. First’"
          ],
          [
           "As Deaths Soar in Gaza From Israeli Strikes, Egypt Offers Aid, but No Exit"
          ],
          [
           "Do We Need Album Reviews Anymore?"
          ],
          [
           "An Economics Nobel for Showing How Much Women Matter"
          ],
          [
           "For NATO, 3 Pressing Questions After This Week’s Meetings"
          ],
          [
           "Sweden Sends a Message to Stockholm Drivers: Go Electric or Go Home"
          ],
          [
           "What Teenagers Are Saying About Their Role in Fighting Climate Change"
          ],
          [
           "Listen: Israel-Gaza War Explained, Unpacking the Politics of Gender, Tupac Shakur’s Murder Solved?"
          ],
          [
           "Blinken Stresses Support for Israel While Urging Restraint on Gaza Airstrikes"
          ],
          [
           "The Weekender"
          ],
          [
           "What It Would Mean to Treat Hamas Like ISIS"
          ],
          [
           "To Win a Senate Seat in Arizona, He’s Visiting All 22 of Its Tribes"
          ],
          [
           "Scrolls That Survived Vesuvius Divulge Their First Word"
          ],
          [
           "9 New Books We Recommend This Week"
          ],
          [
           "Hospitals That Fail to Reopen Psychiatric Wards Risk Fines, Hochul Says"
          ],
          [
           "As Israel Prepares for War in Gaza, Debate Is Over How and How Long"
          ],
          [
           "E.U. Probes Elon Musk’s X Platform Over Violent Israel-Hamas War Content"
          ],
          [
           "Laszlo Solyom, a Transitional President of Hungary, Dies at 81"
          ],
          [
           "Hunting for the best duck in the city"
          ],
          [
           "As Warnings of Crisis in Gaza Mount, Palestinians Struggle to Find Room for the Dead"
          ],
          [
           "Thousands Speak Out: ‘We as Students Are Sickened by the Actions of Hamas’"
          ],
          [
           "How Much Watching Time Do You Have This Weekend?"
          ],
          [
           "Green Energy Builders Sought Billions More in Subsidies. New York Said No."
          ],
          [
           "Ford Says It Won’t Raise Its Offer to Autoworkers Union"
          ],
          [
           "Friday Briefing: The U.N. Warns of Disaster in Gaza"
          ],
          [
           "Star Witness Caroline Ellison Says Sam Bankman-Fried Made ‘Terrible Mistakes’"
          ],
          [
           "Vivek Ramaswamy Agrees to Debate Ro Khanna, a California Democrat"
          ],
          [
           "Israel Prepares for a Potential Invasion of Gaza"
          ],
          [
           "Even With Flames Abroad, Biden Keeps One Eye on the Home Front"
          ],
          [
           "Terminal 4 at J.F.K.: Center of a Wave of Support for Israel"
          ],
          [
           "From Israel to Ukraine: How Much Support Can the U.S. Sustain?"
          ],
          [
           "California Moves Closer to Imposing First Limits on Groundwater Use"
          ],
          [
           "Judge Scolds Prosecution at Hearing on Conflicts in Trump Documents Case"
          ],
          [
           "Rudolph Isley, an Original and Enduring Isley Brother, Dies at 84"
          ],
          [
           "With the World in Crisis, House Republicans Bicker Among Themselves"
          ],
          [
           "Florida Deputies Charged With Defrauding Covid Funds of Nearly $500,000"
          ],
          [
           "Israeli Billboards Thanking the U.S. Have a New Face on Them: Biden’s"
          ],
          [
           "Gaza Hospital Inundated With Wounded Patients"
          ],
          [
           "The Missed Chance for Peace"
          ],
          [
           "One Officer Convicted and Another Acquitted in Elijah McClain Death"
          ],
          [
           "Prosecutors Issued Error-Riddled Report in Menendez Car Crash"
          ],
          [
           "Oklahoma Judge Exchanged 500 Text Messages During Murder Trial"
          ],
          [
           "Louisiana Public School Principal Who Punished Student for Dancing Apologizes"
          ],
          [
           "Humanitarian Crisis in Gaza Worsens as Israel Prepares a Possible Invasion"
          ],
          [
           "DeSantis, Voicing Support for Israel, Is Asked: What About Palestine?"
          ],
          [
           "Trump’s Remarks on Hezbollah and Netanyahu Prompt Bipartisan Outcry"
          ],
          [
           "13 Conversation Starters Inspired by ‘Being 13’"
          ],
          [
           "No Immediate Threat to U.S. Security Amid Hamas Call for Protests, Officials Say"
          ],
          [
           "Lesson Plan: On ‘Being 13’"
          ],
          [
           "Where Early Tablets Were First Unveiled"
          ],
          [
           "‘Gutenberg! The Musical!’ Review: Revenge of the Broadway Nerds"
          ],
          [
           "Variety: Consonant Companions"
          ],
          [
           "For ‘Shucked,’ a Broadway Chapter Ends, and Its Future Is Uncertain"
          ],
          [
           "Quotation of the Day: In Jamaica, a Debate Over Making Patois the Official Language"
          ],
          [
           "Corrections: Oct. 13, 2023"
          ],
          [
           "Why Are There So Many Jacintas?"
          ],
          [
           "Two ‘Extreme Extroverts’ Find Love in a Pandemic Bubble"
          ],
          [
           "Going the Distance After a Nine-Month Backpacking Trip"
          ],
          [
           "Jennifer Graham Likes Jennifer Graham"
          ],
          [
           "It All Started With a Press Pass"
          ],
          [
           "Friday Briefing"
          ],
          [
           "A Prophetic Dream Sparked a Real-Life Romance"
          ],
          [
           "Here is the latest on the war."
          ],
          [
           "Word of the Day: phonics"
          ],
          [
           "Jimmy Kimmel Chides George Santos for Choosing to Back Jim Jordan"
          ],
          [
           "After Three Big Quakes, Too Scared to Sleep Anywhere but Outside"
          ],
          [
           "Microsoft Finally Closes In on Activision Deal After Key Approval"
          ],
          [
           "Police Seek Suspects in Fatal Shooting of Officer at Philadelphia Airport"
          ],
          [
           "Today’s Wordle Review"
          ],
          [
           "Spelling Bee Forum"
          ],
          [
           "Friday the 13th"
          ],
          [
           "Tagging Along With The New York Times’s Chief Theater Critic"
          ],
          [
           "How a Young Activist’s Murder Has Been Gleefully Distorted Online"
          ],
          [
           "New York Has Issued 14 New Food Cart Permits. 10,000 Vendors Want Them."
          ],
          [
           "‘United Because of This Disaster’: Israelis Rush to Volunteer After Hamas Attacks"
          ],
          [
           "In the Beginning Were the Word Nerds"
          ],
          [
           "Audiobook of the Week: ‘The Fraud,’ by Zadie Smith"
          ],
          [
           "A New Law Unites Northern Ireland — in Outrage"
          ],
          [
           "It’s Not Enough to Love Disney. They Want to Live Disney."
          ],
          [
           "The Importance of Looking at What (and Who) You Don’t See"
          ],
          [
           "The Wife Has Committed Murder but It’s the Husband Who Scares Her Lawyer"
          ],
          [
           "P.O.V.: You’re a Jane Austen Character in an Alternate Universe"
          ],
          [
           "Raising Our Glasses to a Pianist Who Loves Vodka"
          ],
          [
           "Post-Punk Legend Leads Fight for Clean Water as Britain’s ‘Sewage Czar’"
          ],
          [
           "I Study Climate Change. The Data Is Telling Us Something New."
          ],
          [
           "Your Face May Soon Be Your Ticket. Not Everyone Is Smiling."
          ],
          [
           "Judge John Hodgman on the Soup Debate"
          ],
          [
           "Across U.S., Chinese Bitcoin Mines Draw National Security Scrutiny"
          ],
          [
           "Poem: fluid cupid"
          ],
          [
           "Help! I Was Denied Boarding on a Cruise, and I Wasn’t the Only One."
          ],
          [
           "Seeking Solace in ‘Sex and Rage’"
          ],
          [
           "The Secret Art of Turning a Concert Into a Film (Taylor’s Version)"
          ],
          [
           "How Jesmyn Ward Is Reimagining Southern Literature"
          ],
          [
           "New York Is Starting to Act Like a Southern Border State"
          ],
          [
           "Retailers’ Seasonal Hiring Plans Signal a Cooling Labor Market"
          ],
          [
           "Story Collections That Are Also Inventories of Catastrophes"
          ],
          [
           "Behind the Most Famous Men in Economics There Have Always Been Women"
          ],
          [
           "Hard-Line Republican Leads Race to Succeed Louisiana’s Democratic Governor"
          ],
          [
           "Biden Administration Awards $7 Billion for 7 Hydrogen Hubs Across the U.S."
          ],
          [
           "Growing Wariness of Aid to Ukraine Hangs Over Polish Election"
          ],
          [
           "Two Young Women Capture Life Under Siege Inside Gaza"
          ],
          [
           "The Pathways to Peace Are Getting Darker"
          ],
          [
           "Social Media in Wartime, Betting on the Future and A.I. Passes the Smell Test"
          ],
          [
           "5 Things to Do This Weekend"
          ],
          [
           "The New York Times News Quiz, Oct. 13, 2023"
          ],
          [
           "How to Break Up With Your Therapist"
          ],
          [
           "This Is How the Republican Party Got Southernized"
          ],
          [
           "I’m Going to War for Israel. Palestinians Are Not My Enemy."
          ],
          [
           "Airstrikes Intensify in Gaza, and More"
          ],
          [
           "A U.K. University Will Confer a New Title: A Master’s Degree in the Occult"
          ],
          [
           "Hamas Attack on Israel Brings New Scrutiny of Group’s Ties to Iran"
          ],
          [
           "Golan’s Story"
          ],
          [
           "A Painting Stolen in Glasgow Returns More Than 30 Years Later"
          ],
          [
           "A Looming Invasion in Gaza"
          ],
          [
           "Fierce Fighting Flares Around Eastern Ukrainian Town of Avdiivka"
          ],
          [
           "Microsoft Beats the Antitrust Odds on Its Activision Deal"
          ],
          [
           "France Raises Terrorist Threat Level After Teacher Killed in Stabbing"
          ],
          [
           "Thousands Flee Northern Gaza as Israeli Evacuation Order Stirs Panic"
          ],
          [
           "Deep, Dark Spaghetti all’Assassina"
          ],
          [
           "Kaiser Permanente Reaches Tentative Deal With Health Care Workers"
          ],
          [
           "NASA Launches Psyche, a Mission to Explore a Metal Asteroid"
          ],
          [
           "Microsoft Closes $69 Billion Activision Deal, Overcoming Regulators’ Objections"
          ],
          [
           "Scenes From Northern Gaza After Warning to Evacuate"
          ],
          [
           "Bonds Have Been Awful. It’s a Good Time to Buy."
          ],
          [
           "Gavin Newsom Approves Some Landmark Laws as Deadline Approaches"
          ],
          [
           "How to Take Advantage of a Health Savings Account"
          ],
          [
           "A Comedy Advice Podcast Asks Listeners to ‘Believe in the Bit’"
          ],
          [
           "Trapped in Gaza, Palestinian Americans Say They Feel Abandoned"
          ],
          [
           "Dimon Warns of ‘Most Dangerous Time’ as Banks Report Big Profits"
          ],
          [
           "Republicans Tap Jordan for Speaker, but Delay Vote as Holdouts Balk"
          ],
          [
           "Speaking Minionese and More: The Week in Reporter Reads"
          ],
          [
           "Arab Citizens of Israel Were Not Spared in the Hamas-Led Massacres"
          ],
          [
           "For Jewish New Yorkers, Shared Grief Puts Divisions on Hold"
          ],
          [
           "LeVar Burton to Host National Book Awards"
          ],
          [
           "Review: Nicole Scherzinger Captivates in a Daring ‘Sunset Boulevard’"
          ],
          [
           "As Microsoft Completes Activision Deal, Gamers Celebrate Cautiously"
          ],
          [
           "How Microsoft Turned the Tide in Its Regulatory Fight Over Activision"
          ],
          [
           "Russia Detains Navalny’s Lawyers in Move to Further Isolate Him, Allies Say"
          ],
          [
           "Khaled Khalifa, Syrian Novelist ‘Exiled at Home,’ Is Dead at 59"
          ],
          [
           "‘Billions’ Season 7, Episode 10: Mutually Assured Destruction"
          ],
          [
           "Five Horror Movies to Stream Now"
          ],
          [
           "Reflections on a Porch, and a Life"
          ],
          [
           "The Easiest Homemade Bread for an Irresistible Sandwich"
          ],
          [
           "Moving a Masterpiece to La Guardia Is a High-Wire Act"
          ],
          [
           "Islamic State Attack Kills 17 at Shiite Mosque in Northern Afghanistan"
          ],
          [
           "Review: ‘The Hunt’ Playfully Makes the Medieval Contemporary"
          ],
          [
           "Brooklyn Councilwoman Charged After Openly Carrying Gun at Protest"
          ],
          [
           "Scenting Power, U.K. Business Flocks to the Labour Party"
          ],
          [
           "The Upshot of Microsoft’s Activision Deal: Big Tech Can Get Even Bigger"
          ],
          [
           "‘Annika’ Review: The Detective Would Like to Have a Word With You"
          ],
          [
           "At 20, Frieze London Is a Different Fair for a Changed City"
          ],
          [
           "The Big Number: $1.48 Billion"
          ],
          [
           "Have You Ever Seen an Elephant Twerk?"
          ],
          [
           "U.A.W. Says Auto Strikes Will Become More Unpredictable"
          ],
          [
           "On View: A Painter Capturing Motion on Canvas"
          ],
          [
           "U.S. Cities Bolster Security After Hamas Calls for Day of Protest"
          ],
          [
           "‘Eras’ Comes to the Big Screen, a Day Ahead of Schedule"
          ],
          [
           "Behind a Senator’s Indictments, a Foreign Spy Service Works Washington"
          ],
          [
           "NASA Launches Mission to Explore a Metal Asteroid"
          ],
          [
           "Protests Erupt Across the Middle East Over Israel’s Siege of Gaza"
          ],
          [
           "Fact or Fiction? In This War, It Is Hard to Tell."
          ],
          [
           "Award Ceremony for Palestinian Author at Frankfurt Book Fair Is Canceled"
          ],
          [
           "C.I.A. Reports Contained General Warnings of Potential Gaza Flare-up"
          ],
          [
           "Review: Tennis Throuples and the Ghosts of Ballets Russes"
          ],
          [
           "A Cacao Ceremony That Brought Close Friends Even Closer"
          ],
          [
           "6 New Paperbacks to Read This Week "
          ],
          [
           "The Mushroom That’s a Reminder of Home"
          ],
          [
           "Israel-Hamas War Threatens Wider Unrest and Crushes Hopes for Calmer Mideast"
          ],
          [
           "A Gaza Father’s Worries About His Children"
          ],
          [
           "The Books We’re Looking Forward to for the Rest of the Year"
          ],
          [
           "Dressing for the Entire Wedding Weekend"
          ],
          [
           "The War Comes to Stanford"
          ],
          [
           "International Crisis Group’s Response on Iran"
          ],
          [
           "Jimmy Buffett’s Will Appoints His Wife as Executor of His Estate"
          ],
          [
           "When ‘Decolonization’ Isn’t Just Academic Rhetoric"
          ],
          [
           "‘Start-Up Nation’ Is Tested as Israel’s Reservists Leave Their Desks"
          ],
          [
           "The Best of Late Night This Week"
          ],
          [
           "Bad Bunny’s Surprising Return and 13 More New Songs"
          ],
          [
           "Readers Pick the Ultimate Fall Playlist"
          ],
          [
           "Crushing Indigenous Hopes, Australia Rejects ‘Voice’ Referendum"
          ],
          [
           "F.D.A. Moves to Ban Sales of Vuse Menthol Vapes"
          ],
          [
           "Academy Museum Postpones Gala, Citing the War in Israel"
          ],
          [
           "Van Crowded with Migrants Crashes in Germany, Killing Seven"
          ],
          [
           "For Two Women, a Joyous Homecoming in Israel Gone Horribly Awry"
          ],
          [
           "Get Ready for the ‘Ring of Fire’ Solar Eclipse This Saturday"
          ],
          [
           "Read Trump’s Response to a Gag Order Request"
          ],
          [
           "Read Prosecutors’ Response to Trump in Gag Order Request"
          ],
          [
           "Colette Rossant, 91, Dies; Gave French Cuisine a Global Flourish"
          ],
          [
           "How to Get Rid of Bedbugs"
          ],
          [
           "North Korea Shipped Arms to Russia for Use in Ukraine, U.S. Says"
          ],
          [
           "A Reuters cameraman is killed and six other journalists are injured near Lebanon’s southern border."
          ],
          [
           "Haley Hits Trump and Ramaswamy Over Israel Remarks: ‘That’s Not What We Need’"
          ],
          [
           "Love Letter: 90 Percent of Love Is Showing Up"
          ],
          [
           "Louise Glück, 80, Nobel-Winning Poet Who Explored Trauma and Loss, Dies"
          ],
          [
           "U.S. Tells World to Back Israel’s Gaza Strikes as Civilian Toll Rises"
          ],
          [
           "Supreme Court to Hear Another Broad Challenge to Agency Power"
          ],
          [
           "The Secrets Hamas Knew About Israel’s Military"
          ],
          [
           "Dennis Kucinich Leaves Robert F. Kennedy Jr.’s Presidential Campaign"
          ],
          [
           "How the New England Patriots Can Make the Playoffs: Through Week 8"
          ],
          [
           "How the Baltimore Ravens Can Make the Playoffs: Through Week 8"
          ],
          [
           "How the Atlanta Falcons Can Make the Playoffs: Through Week 8"
          ],
          [
           "How the Arizona Cardinals Can Make the Playoffs: Through Week 8"
          ],
          [
           "How the Philadelphia Eagles Can Make the Playoffs: Through Week 8"
          ],
          [
           "How the Cleveland Browns Can Make the Playoffs: Through Week 8"
          ],
          [
           "How the Carolina Panthers Can Make the Playoffs: Through Week 8"
          ],
          [
           "How the Chicago Bears Can Make the Playoffs: Through Week 8"
          ],
          [
           "How the Buffalo Bills Can Make the Playoffs: Through Week 8"
          ],
          [
           "How the Cincinnati Bengals Can Make the Playoffs: Through Week 8"
          ],
          [
           "How the Denver Broncos Can Make the Playoffs: Through Week 8"
          ],
          [
           "How the Dallas Cowboys Can Make the Playoffs: Through Week 8"
          ],
          [
           "How the Houston Texans Can Make the Playoffs: Through Week 8"
          ],
          [
           "How the Green Bay Packers Can Make the Playoffs: Through Week 8"
          ],
          [
           "How the Detroit Lions Can Make the Playoffs: Through Week 8"
          ],
          [
           "How the Indianapolis Colts Can Make the Playoffs: Through Week 8"
          ],
          [
           "How the Jacksonville Jaguars Can Make the Playoffs: Through Week 8"
          ],
          [
           "How the Kansas City Chiefs Can Make the Playoffs: Through Week 8"
          ],
          [
           "How the Los Angeles Chargers Can Make the Playoffs: Through Week 8"
          ],
          [
           "How the Los Angeles Rams Can Make the Playoffs: Through Week 8"
          ],
          [
           "How the Minnesota Vikings Can Make the Playoffs: Through Week 8"
          ],
          [
           "How the New Orleans Saints Can Make the Playoffs: Through Week 8"
          ],
          [
           "How the Miami Dolphins Can Make the Playoffs: Through Week 8"
          ],
          [
           "How the Las Vegas Raiders Can Make the Playoffs: Through Week 8"
          ],
          [
           "How the New York Giants Can Make the Playoffs: Through Week 8"
          ],
          [
           "How the Tampa Bay Buccaneers Can Make the Playoffs: Through Week 8"
          ],
          [
           "How the Seattle Seahawks Can Make the Playoffs: Through Week 8"
          ],
          [
           "How the San Francisco 49ers Can Make the Playoffs: Through Week 8"
          ],
          [
           "How the New York Jets Can Make the Playoffs: Through Week 8"
          ],
          [
           "How the Pittsburgh Steelers Can Make the Playoffs: Through Week 8"
          ],
          [
           "How the Tennessee Titans Can Make the Playoffs: Through Week 8"
          ],
          [
           "How the Washington Commanders Can Make the Playoffs: Through Week 8"
          ],
          [
           "2023 N.F.L. Playoff Picture: Each Team’s Path to the Postseason"
          ],
          [
           "‘Taylor Swift: The Eras Tour’ Movie Review: Look What We Made Her Do"
          ],
          [
           "At Least 11 Journalists Killed in War"
          ],
          [
           "In Alaska, a Road to Metals Needed for Clean Energy Could Also Cause Harm"
          ],
          [
           "The Upshot’s N.F.L. Playoff Simulator Is Back in 2023"
          ],
          [
           "Gazans Flee South After Israel Orders Evacuation"
          ],
          [
           "Flashback: Your Weekly History Quiz, October 15, 2023"
          ],
          [
           "Israel Sticks to Call for Gaza Evacuation and Readies a Possible Invasion"
          ],
          [
           "Why Israel Must Reconsider Its Gaza Evacuation Order"
          ],
          [
           "Passion but No Violence at 2 N.Y.C. Protests Over Mideast War"
          ],
          [
           "Israel Is Denying My Children a Future"
          ],
          [
           "No Charges in Death of Man Who Caught Fire After Officer Used Taser"
          ],
          [
           "Doctors Unionize at Big Health Care System"
          ],
          [
           "Teaching About the Israel-Hamas War"
          ],
          [
           "Mark Goddard, a Star of the ’60s Series ‘Lost in Space,’ Dies at 87"
          ],
          [
           "Louise Meriwether Dies at 100; a New Black Literary Voice in the 1970s"
          ],
          [
           "Footage Shows Gaza City Skyline Under Israeli Airstrikes"
          ],
          [
           "Walt Garrison, a Cowboy Three Times Over, Dies at 79"
          ],
          [
           "Penn’s Leadership Under Fire From Prominent Donors"
          ],
          [
           "Past Is Prologue in the Republican Speaker Fight"
          ],
          [
           "A Billion Eyes on One of Sports’ Fieriest Rivalries: India vs. Pakistan"
          ],
          [
           "Five Louise Glück Poems to Get You Started"
          ],
          [
           "What Barflies Hit"
          ],
          [
           "Now Is the Moment for Biden’s Age to Be an Asset"
          ],
          [
           "California Allows Cities to Catch Speeding Drivers With Automated Cameras"
          ],
          [
           "Gaza Crisis Unites American Muslims in Anger and Mourning"
          ],
          [
           "Quotation of the Day: Moon is Set for a Spectacular, if Brief, Show; Just Remember to Protect Your Eyes"
          ],
          [
           "Corrections: Oct. 14, 2023"
          ],
          [
           "Why Israel Is Acting This Way"
          ],
          [
           "Can This Man Make Soccer Smarter?"
          ],
          [
           "Today’s Wordle Review"
          ],
          [
           "Spelling Bee Forum"
          ],
          [
           "At a Brooklyn Mosque, Palestinians Vent Anguish and Find Fellowship"
          ],
          [
           "How the ‘Mayor of University Place’ Spends His Sundays"
          ],
          [
           "To Save Monarch Butterflies, They Had to Silence the Lawn Mowers"
          ],
          [
           "For a New Mother, and the Author Who Created Her, the Struggle Is Real"
          ],
          [
           "Can You Hide a Child’s Face From A.I.?"
          ],
          [
           "This Science Fiction Novel Scrapes the Work Force of Human Suffering"
          ],
          [
           "Inside Trump’s Backroom Effort to Lock Up the Nomination"
          ],
          [
           "Federal Firefighters Face Steep Pay Cuts"
          ],
          [
           "Jada Pinkett Smith Is Releasing Her Demons. She Hopes You Will, Too."
          ],
          [
           "Ballet Thrives on Live Coaching. Her Roots Extend to the Source."
          ],
          [
           "Tituss Burgess Thinks ‘Golden Girls’ Reruns Get Funnier as You Age"
          ],
          [
           "The Weed Store Under My Apartment Makes Way Too Much Noise"
          ],
          [
           "A Deep-Fried Pho Sparks Scandal at the State Fair of Texas"
          ],
          [
           "A Nanny Got 15 Minutes of Fame. An Industry Remains in the Shadows."
          ],
          [
           "At This New England Fair, Llamas Steal the Show"
          ],
          [
           "Has Support for Ukraine Peaked? Some Fear So."
          ],
          [
           "Searching for America’s First Black Woman Novelist"
          ],
          [
           "How to Cut Through the Ad Blitz During Medicare’s Open Enrollment"
          ],
          [
           "California’s Ban on Red Food Dye Puts F.D.A.’s Food Policies on the Spot"
          ],
          [
           "How Kari Lake’s Tactical Retreat on Abortion Could Point the Way for the G.O.P."
          ],
          [
           "The Unique Ability of Canadian Governments to Set Aside Rights"
          ],
          [
           "Queer Icons of Classical Antiquity You Didn’t Learn About in School"
          ],
          [
           "It’s Not OK to Police Co-Workers’ Pronouns"
          ],
          [
           "‘I Was Very Alone Today’: Young Jewish Americans Grieve Over Israel"
          ],
          [
           "Top 10 Hardest and Easiest Spelling Bee Words, Oct. 7-13"
          ],
          [
           "Palestinian Citizens of Israel Are Wary, Weary and Afraid"
          ],
          [
           "On the Front Lines, an Israeli University Grieves and Readies for War"
          ],
          [
           "New Zealand Elects Its Most Conservative Government in Decades"
          ],
          [
           "Profit and Loss"
          ],
          [
           "Listen Early to ‘This American Life’: Getting Away With It"
          ],
          [
           "Who Else Should Run for President?"
          ],
          [
           "What I Told My Daughter About War"
          ],
          [
           "How to Catch a Sick Fox"
          ],
          [
           "The Real Danger in Robert F. Kennedy Jr.’s Independent Run"
          ],
          [
           "On the Cusp of Invasion, a Poet in Gaza Reflects on Trauma"
          ],
          [
           "Behind the Coverage of the Maui Wildfire’s Toll"
          ],
          [
           "What Does Destroying Gaza Solve?"
          ],
          [
           "There Is a Jewish Hope for Palestinian Liberation. It Must Survive."
          ],
          [
           "The Israel-Gaza War Means Hard Choices for Ukraine"
          ],
          [
           "A Play Revisits the Making of ‘Death of a Salesman’ in Mandarin"
          ],
          [
           "Ghost Stories!"
          ],
          [
           "Wall St. Bosses Clash Over When Universities Should ‘Take a Stance’"
          ],
          [
           "What Happens When a Woman Chooses Career Dominance Over Her Relationship"
          ],
          [
           "My Wife Once Agreed To an Open Relationship. Can I Hold Her to It?"
          ],
          [
           "A Pennsylvania Shop Offered Tarot Readings. Then the Police Came."
          ],
          [
           "‘Get in the Game’: G.O.P. Candidates Plead Their Case to Major Donors"
          ],
          [
           "An Unromantic Message From the Grand Canyon: Stop Leaving Your Love Locks"
          ],
          [
           "American Citizens Fleeing Gaza Say Border Crossing Still Closed"
          ],
          [
           "An Extremely Photogenic Sheet-Pan Chicken"
          ],
          [
           "Burned by Ticketmaster, Taylor Swift Fans Head to the Movies"
          ],
          [
           "Nearly Half of Gaza’s Population Displaced in Humanitarian Crisis"
          ],
          [
           "Israel Can Defend Itself and Uphold Its Values"
          ],
          [
           "Louvre and Versailles Emptied as France Raises Guard After Stabbing"
          ],
          [
           "Family Dollar Recalls Hundreds of Products Sold in 23 States"
          ],
          [
           "Scientists Investigating Alzheimer’s Drug Faulted in Leaked Report"
          ],
          [
           "Thousands of Displaced Gazans Struggle to Find Basic Necessities"
          ],
          [
           "Ryuzo Yanagimachi, Researcher Who Cloned Mice, Dies at 95"
          ],
          [
           "Prospect Park Zoo Remains Closed After Severe Flood Damage"
          ],
          [
           "Jordan Activates Right-Wing Pressure Campaign in Push to Win Speakership"
          ],
          [
           "Ford Recalls 238,000 Explorers Over Defect That Could Cause Them to Roll Away"
          ],
          [
           "Rudy Perez, a Pioneer of Postmodern Dance, Is Dead at 93"
          ],
          [
           "Doing Doughnuts"
          ],
          [
           "Louisiana Primary Election Results"
          ],
          [
           "Louisiana Governor Primary Election Results"
          ],
          [
           "Your Next Eclipse Isn’t That Far Off, and It Could Be Even Better"
          ],
          [
           "Schumer Plans Vote of Support Upon Returning From Israel"
          ],
          [
           "A Solar Eclipse Leaves Its Mark Across a Hemisphere"
          ],
          [
           "Israeli Invasion Plans Target Gaza City and Hamas Leadership"
          ],
          [
           "Poised for Attack, Israel Steps Up Calls for Gaza Residents to Leave ‘Battle Zone’"
          ],
          [
           "Piper Laurie, Reluctant Starlet Turned Respected Actress, Dies at 91"
          ],
          [
           "At U.S. Synagogues, Calls for Peace and Too Many Emotions to Process"
          ],
          [
           "Known for His Pointed Questions, a 15-Year-Old Is Ejected From a G.O.P. Event"
          ],
          [
           "Madonna Celebrates Four Decades of Hits With Career-Spanning Spectacle"
          ],
          [
           "Jeff Landry, a Hard-Line Republican, Is Elected Governor of Louisiana"
          ],
          [
           "Hamas Bears the Blame for Every Death in This War"
          ],
          [
           "A Pivotal Election in Poland: Here’s What to Know"
          ],
          [
           "Quotation of the Day: Online Deceits Make the Truth a War Casualty"
          ],
          [
           "‘S.N.L’ Returns With Pete Davidson and a Taylor Swift Cameo"
          ],
          [
           "Today’s Wordle Review"
          ],
          [
           "Spelling Bee Forum"
          ],
          [
           "‘The Woman Suggested Trying to Get a Better View From a Different Spot’"
          ],
          [
           "In an Opera About Civil War Spies, Dancers Help Drive the Drama"
          ],
          [
           "How Six Italian Brothers Shaped the Story of New York"
          ],
          [
           "What It’s Like to Be 13? Ask the Experts."
          ],
          [
           "The Fragments of War"
          ],
          [
           "Hunter Biden, Ironic Icon"
          ],
          [
           "‘Beckham’ Is Worth Watching, Especially for the Style"
          ],
          [
           "A Palestinian Restaurant Perseveres in War’s Shadow"
          ],
          [
           "Corrections: Oct. 15, 2023"
          ],
          [
           "Powerful Earthquakes Hit Afghanistan for the Fourth Time in Just Over a Week"
          ],
          [
           "8 Sex Myths That Experts Wish Would Go Away"
          ],
          [
           "‘Big Jim’ and Babydog Go to Washington?"
          ],
          [
           "Good Mom, Bad Mom, Possessed by Evil Mom"
          ],
          [
           "Looking Beyond a Dancer’s Confident Grace in ‘States of Hope’"
          ],
          [
           "Goodwill Tries to Figure Out Online Commerce"
          ],
          [
           "A Wildlife Oasis Opens Atop a Notorious Former Dump"
          ],
          [
           "The Essential Vladimir Nabokov"
          ],
          [
           "Nikki Haley’s Past Stance on Israel Could Be Key to Her Campaign’s Future"
          ],
          [
           "Is There Fascist DNA in the U.S. Body Politic?"
          ],
          [
           "Tanya Chutkan, an Unflinching Judge in the Trump Jan. 6 Trial"
          ],
          [
           "How Megafires Are Remaking the World"
          ],
          [
           "‘I Have to Do Better.’ A Young Father Was Rebuilding His Life When the Flames Came."
          ],
          [
           "How a Fertilizer Shortage Is Spreading Desperate Hunger"
          ],
          [
           "What Pain Will a New Wave of Student Loan Payments Bring?"
          ],
          [
           "‘I Want to Be Forgiven. I Just Want to Be Forgiven.’"
          ],
          [
           "When Roz Chast Closes Her Eyes, Chris Rock and Nasty Babies Open Theirs"
          ],
          [
           "Facing Scrutiny, a Museum That Holds 12,000 Human Remains Changes Course"
          ],
          [
           "A New Membership Club Bets on Black Business"
          ],
          [
           "‘A Day of Horror:’ Kibbutz Massacre Survivors Recount Hamas Attack"
          ],
          [
           "Wearables Track Parkinson’s Better Than Human Observation, Study Finds"
          ],
          [
           "Daniel Noboa, Scion of a Banana Empire, Wins Ecuador’s Presidency"
          ],
          [
           "The Schoolyard"
          ],
          [
           "Slaughter at a Festival of Peace and Love Leaves Israel Transformed"
          ],
          [
           "Why the Safety of Israeli Hostages Must Come First"
          ],
          [
           "The U.S. Should Think Twice About Israel’s Plans for Gaza"
          ],
          [
           "Why New York Needs a Right to Shelter"
          ],
          [
           "The Moral Questions at the Heart of the Gaza War"
          ],
          [
           "The Sunday Read: ‘Is Måneskin the Last Rock Band?’"
          ],
          [
           "Ukraine Worries That Prolonged War in Gaza May Dilute Global Support"
          ],
          [
           "A Parade of Strikeouts"
          ],
          [
           "Biden Campaign Raises $71.3 Million, Far Outpacing Trump and Republican Field"
          ],
          [
           "Famed Iranian Filmmaker Is Killed in His Home"
          ],
          [
           "Gaza’s Hospitals Face ‘Impossible’ Choices With Israel Evacuation Order"
          ],
          [
           "Australia Fines X for Not Providing Information on Child Abuse Content"
          ],
          [
           "Suspect in Natalee Holloway Case Expected to Plead Guilty to Extorting Her Mother"
          ],
          [
           "Is a Women’s Museum Still Relevant?"
          ],
          [
           "Phyllis Coates, the First Lois Lane on TV’s ‘Superman,’ Dies at 96"
          ],
          [
           "Buttery Roti, Velvety Avocado Pasta and Chewy Chow Fun"
          ],
          [
           "An Israeli Doctor, Off to War: ‘We Have Nothing Against the People of Gaza’"
          ],
          [
           "U.S. Expanding Military Presence Near Israel"
          ],
          [
           "Taylor Swift’s ‘Eras’ Is Easily the Biggest Concert Film Opening Ever"
          ],
          [
           "In Conservative Media, Biden Is to Blame in the Hamas-Israel War"
          ],
          [
           "DeSantis Will Participate in Nevada Caucuses Despite Criticizing Them"
          ],
          [
           "Help for Gaza Refugees Creates a Flashpoint for DeSantis and Haley"
          ],
          [
           "Suzanne Somers, Star of ‘Three’s Company,’ Is Dead at 76"
          ],
          [
           "Monday Briefing: A Race to Ease the Gaza Crisis"
          ],
          [
           "F.B.I. Tracks Increased Threats to Jews and Muslims After Hamas Attack"
          ],
          [
           "Warning of ‘Grave’ Errors, Powerful Donors Push Universities on Hamas"
          ],
          [
           "6-Year-Old Boy Fatally Stabbed in Anti-Muslim Attack, Authorities Say"
          ],
          [
           "Israelis Gird for a Deeper War Amid a Crisis of Trust in the Government"
          ],
          [
           "Finish School"
          ],
          [
           "Centrist Parties Poised to Oust Poland’s Nationalist Government"
          ],
          [
           "Gaza’s Hospitals Face ‘Impossible’ Choices With Israel Evacuation Order"
          ],
          [
           "For American Evangelicals Who Back Israel, ‘Neutrality Isn’t an Option’"
          ],
          [
           "Biden Warns Israel Not to Occupy Gaza"
          ],
          [
           "As Israeli Invasion Looms, Diplomats Seek to Meet Gaza’s Dire Human Needs"
          ],
          [
           "Fearing Escalation, Biden Seeks to Deter Iran and Hezbollah"
          ],
          [
           "Biden administration seeks emergency aid package for both Israel and Ukraine."
          ],
          [
           "Inside a High-Security Virus Lab"
          ],
          [
           "Rite Aid, Facing Slumping Sales and Opioid Suits, Files for Bankruptcy"
          ],
          [
           "Trump’s Giant Lead Is Financial, Too: 6 Takeaways From 2024 Filings"
          ],
          [
           "China Got a Big Contract. Nepal Got Debt and a Pricey Airport."
          ],
          [
           "Quotation of the Day: Museum Reckons With Remains Collected From Racist Research"
          ],
          [
           "No Corrections: Oct. 16, 2023"
          ],
          [
           "Monday Briefing"
          ],
          [
           "This Is What America Is Getting Wrong About China and Taiwan"
          ],
          [
           "What’s on TV This Week: ‘aka Mr. Chow’ and Some Spooky Movies"
          ],
          [
           "Word of the Day: paragon"
          ],
          [
           "Today’s Wordle Review"
          ],
          [
           "Inside the DeSantis Campaign 2.0 "
          ],
          [
           "Spelling Bee Forum"
          ],
          [
           "The Real Estate Tycoon Whose Fingerprints Are on the Menendez Indictment"
          ],
          [
           "‘Kidnapped’ Posters Express Anguish Over Israeli Hostages"
          ],
          [
           "A Father, an Earthquake and the Desperate Search for a Missing Son"
          ],
          [
           "How to Finish Marathon Training Strong"
          ],
          [
           "How ‘A.I. Agents’ That Roam the Internet Could One Day Replace Workers"
          ],
          [
           "Teju Cole Knows His New Novel Resembles Autofiction. Please Don’t Be Tempted."
          ],
          [
           "Robert Sapolsky Doesn’t Believe in Free Will. (But Feel Free to Disagree.)"
          ],
          [
           "Lab Leak Fight Casts Chill Over Virology Research"
          ],
          [
           "Harvard Cozies Up to #MentalHealth TikTok"
          ],
          [
           "Is It a Moral Awakening or Just One Man’s Midlife Crisis?"
          ],
          [
           "After ‘Taylor Swift: The Eras Tour,’ Stream These 8 Great Concert Movies"
          ],
          [
           "Earrings That Channel the Irregularity of the Universe"
          ],
          [
           "Please Don’t Eat This Fruit"
          ],
          [
           "The Secret to Unlocking One of the Universe’s Greatest Mysteries"
          ],
          [
           "This Is What My Belly Looks Like"
          ],
          [
           "A Tequila Distiller Turns a House into a Showcase for Mexican Design"
          ],
          [
           "Swashbucklers of Comic Con: Please Report to the Lost and Found"
          ],
          [
           "Coyotes in Queens? Yes, There Are a Few."
          ],
          [
           "As the Strike Wears On, Actors Turn to a Familiar Fallback Job"
          ],
          [
           "After Devastating Floods, Vermont Is ‘Very Much Open’"
          ],
          [
           "Annie Leibovitz, Now an Empty-Nester, Lists Upper West Side Duplex"
          ],
          [
           "The Five-Day Office Week Is Dead"
          ],
          [
           "$1.9 Million Homes in California"
          ],
          [
           "He Called the Pope a ‘Filthy Leftist.’ Now He Wants to Be President."
          ],
          [
           "The 25 Best Restaurants in New Orleans Right Now"
          ],
          [
           "Should Schools Teach Students Kitchen and Household Skills?"
          ],
          [
           "The Plot Trump Lost"
          ],
          [
           "Can I Wear Cowboy Boots Without Looking Like I’m in Costume?"
          ],
          [
           "Judge Imposes Limited Gag Order on Trump in Election Case"
          ],
          [
           "Climate Advocacy Group Plans to Spend $80 Million on Ads to Aid Biden"
          ],
          [
           "A Legal Fight Over Whether Governors Can Deny Thousands the Vote"
          ],
          [
           "I Saw What Happened to America’s Postwar Plans for Iraq. Here’s How Israel Should Plan for Gaza."
          ],
          [
           "There’s Still No House Speaker. What Happens Now?"
          ],
          [
           "Hundreds of Thousands Flee Northern Gaza, and More"
          ],
          [
           "Voices From Gaza"
          ],
          [
           "A Shift in Gerrymandering"
          ],
          [
           "Twins Are Born in Gaza After Their Mother Flees to the South"
          ],
          [
           "Israel’s Corporate Defenders Grow Louder"
          ],
          [
           "What’s in Your ‘Spend the Night’ Bag?"
          ],
          [
           "For Hostages’ Families, an ‘Endless Loop of Hope and Despair’"
          ],
          [
           "Four Ukrainian Children Abducted to Russia Return Home After Qatar Intervention"
          ],
          [
           "The Past 12 Months in California Were Among the Wettest Ever"
          ],
          [
           "What Is a Gag Order and How Is One Enforced?"
          ],
          [
           "The Connections Companion"
          ],
          [
           "Israel Will Evacuate Towns Near Its Border With Lebanon as Tensions Escalate"
          ],
          [
           "Margot Polivy, Champion of Women in College Sports, Dies at 85"
          ],
          [
           "Martti Ahtisaari, Conflict Negotiator Given Nobel Peace Prize, Dies at 86"
          ],
          [
           "Our Best Eggplant Parmesan Recipe"
          ],
          [
           "Oscar Isaac, Rachel Brosnahan and the Draw of a Neglected Hansberry Play"
          ],
          [
           "A History of Chinese Food, and a Sensory Feast"
          ],
          [
           "A Walking Safari in Zambia"
          ],
          [
           "Dave Matthews Band’s ‘Walk Around the Moon’ Review"
          ],
          [
           "Sync Your Calendar With the Solar System"
          ],
          [
           "Drake Streams His Way to No. 1 Yet Again With ‘For All the Dogs’"
          ],
          [
           "Pedro Almodóvar’s Answer to ‘Brokeback Mountain’"
          ],
          [
           "Superman Is Driving DC Studios’ New Strategy"
          ],
          [
           "Adam Driver Calls Out Netflix and Amazon Amid Strikes"
          ],
          [
           "5 Places to See Spectacular Foliage This Fall"
          ],
          [
           "Can You Pair These Books With Their Settings in U.S. Cities?"
          ],
          [
           "China Bet It All on Real Estate. Now Its Economy Is Paying the Price."
          ],
          [
           "Yahya Sinwar, Hamas’s Leader in Gaza, Is at the Top of Israel’s Target List"
          ],
          [
           "French Onion Soup, but Make It Chicken"
          ],
          [
           "Scientists Offer a New Explanation for Long Covid"
          ],
          [
           "‘The Lights Are On’ Review: Catastrophizing About the Future"
          ],
          [
           "Muslim Boy, 6, Is Mourned After Illinois Attack Linked to Mideast War"
          ],
          [
           "This N.Y.C. Building Is in the Bird-Killing Hall of Shame. It Wants Out."
          ],
          [
           "Families Separated at Border by Trump Reach Settlement"
          ],
          [
           "Consulting Firm That Works With Nikki Haley Faces a Sexual Assault Lawsuit"
          ],
          [
           "The Salmon on Your Plate Has a Troubling Cost. These Farms Offer Hope."
          ],
          [
           "Yellen Assures Europe That U.S. Will Provide More Funds for Ukraine"
          ],
          [
           "Deer Are Everywhere, but We Barely Know Them"
          ],
          [
           "Stark Gender Imbalance at U.S. Opera Companies Extends Beyond Podiums"
          ],
          [
           "At Menendez’s Island Resort Fund-Raiser, Donors Were Scarce. So Was He."
          ],
          [
           "Why a Gaza Invasion and ‘Once and for All’ Thinking Are Wrong for Israel"
          ],
          [
           "Before Goop, There Was Suzanne Somers"
          ],
          [
           "Top FTX Executive Says Sam Bankman-Fried Used Customer Money for ‘Excess’ Spending"
          ],
          [
           "Ethical and Strategic Issues Facing Israel"
          ],
          [
           "Saving Yellowstone for the Grizzlies"
          ],
          [
           "Satellite Photos Show How Russia Could Be Shipping Arms From North Korea"
          ],
          [
           "James Beard Celebrates Día de los Muertos With Ana Castro and Fany Gerson"
          ],
          [
           "Confusion and Frustration Reign at Egypt-Gaza Border"
          ],
          [
           "‘The Sea Beyond’ Review: Juvenile Detention, Italian-Style"
          ],
          [
           "Stuck at Gaza’s Border With Egypt"
          ],
          [
           "Bad Bunny Looks Back and Hunkers Down"
          ],
          [
           "Biden Faces Risks in Wartime Visit to Israel"
          ],
          [
           "What Have You Wanted to Know About Crosswords?"
          ],
          [
           "Bill Ford Says U.A.W. Strike Is Helping Tesla and Toyota"
          ],
          [
           "An X-Wing Model From the Original ‘Star Wars’ Sells for $3.1 Million"
          ],
          [
           "Tim Scott’s Super PAC Pulls the Plug on Fall Ads"
          ],
          [
           "Social Media Users Accuse Facebook and Instagram of Suppressing Pro-Palestinian Posts"
          ],
          [
           "Getting Dressed with Beenslackin"
          ],
          [
           "With Opposition Gains, Poland Looks to Unwind an ‘Illiberal Democracy’"
          ],
          [
           "More Than 400,000 Student Loan Borrowers Had Wrong Monthly Payments"
          ],
          [
           "Jordan Inches Closer to Speakership, but Republican Holdouts Remain"
          ],
          [
           "100-Year-Old Shipwreck Is Discovered in Lake Superior"
          ],
          [
           "Dog Rescued After Freighter Crash (To Be Clear, It Was 100 Years Ago)"
          ],
          [
           "Andy Bean, 11-Time Winner on the PGA Tour, Dies at 70"
          ],
          [
           "For Book Fairs, Scholastic Will Separate Titles That Deal With Race and Gender"
          ],
          [
           "Down the Rabbit Hole With Miffy"
          ],
          [
           "U.S. and Israel Focus on Hezbollah’s Next Move After Hamas Attack"
          ],
          [
           "Suspect in Brussels Attack Had Been Known to Belgian Authorities for Years"
          ],
          [
           "Supreme Court Again Lets Biden’s Limits on ‘Ghost Guns’ Stand"
          ],
          [
           "In Legal Peril at Home, Trump Turns to a U.K. Court for Vindication"
          ],
          [
           "Tuesday Briefing: Biden Weighs a Visit to Israel"
          ],
          [
           "LinkedIn Cuts 668 Jobs in Second Layoff Round This Year"
          ],
          [
           "F.D.A. Plans to Ban Hair Straighteners With Formaldehyde"
          ],
          [
           "W.H.O. Chief: Doctors and Patients Face Impossible Choices in Gaza"
          ],
          [
           "Biden Weighs Visiting Israel"
          ],
          [
           "Tracking Cellphone Data by Neighborhood, Israel Gauges Gaza Evacuation"
          ],
          [
           "Oprah Floated a 2020 Presidential Ticket With Mitt Romney, Book Says"
          ],
          [
           "Hamas Posts Hostage Video of Woman Abducted From Israeli Music Festival"
          ],
          [
           "Piling Horror Upon Horror"
          ],
          [
           "The Strange Decline of the Pax Americana"
          ],
          [
           "Biden to Visit Israel as Gaza’s Crisis Worsens Under Siege"
          ],
          [
           "Trump Vows to Reject Gazan Refugees After Israel Attack"
          ],
          [
           "10 Stops in 5 Days, Plus an Air Raid Shelter, for Blinken"
          ],
          [
           "An American Puzzle: Fitting Race in a Box"
          ],
          [
           "Murders in U.S. Fell 6 Percent in 2022 as Violent Crime Declined"
          ],
          [
           "Biden, Trolling Trump, Joins Truth Social: ‘Converts Welcome’"
          ],
          [
           "Please, New Yorkers Beg, Make the Weekend Rain Stop"
          ],
          [
           "Amid Migrant Influx, Massachusetts Will No Longer Guarantee Shelter"
          ],
          [
           "Justice Barrett Calls for Supreme Court to Adopt an Ethics Code"
          ],
          [
           "Iran warns of ‘multiple fronts’ if Israel’s Gaza attacks continue."
          ],
          [
           "Disorderly Pile"
          ],
          [
           "Four Men, Including One Held on a Murder Charge, Escape From a Georgia Jail"
          ],
          [
           "China Invested $1 Trillion to Gain Global Influence. Can That Go On?"
          ],
          [
           "New York’s governor heads to Israel on Tuesday."
          ],
          [
           "Putin Visits China to Bolster Ties With ‘My Friend,’ Xi"
          ],
          [
           "These Amphibians Have a Taste for Their Mom’s Skin"
          ],
          [
           "Netanyahu Opted for Limited Strikes in the Past. This Is His First All-Out War."
          ],
          [
           "A Severe Drought Pushes an Imperiled Amazon to the Brink"
          ],
          [
           "Food Aid Sustains Quake-Hit Villages in Morocco, for Now"
          ],
          [
           "Killing of Teacher and Hamas Assault Set a Jittery France on Edge"
          ],
          [
           "Tuesday Briefing"
          ],
          [
           "Quotation of the Day: Hope Battles Despair for Families of the Missing"
          ],
          [
           "Corrections: Oct. 17, 2023"
          ],
          [
           "Word of the Day: métier"
          ],
          [
           "Here’s the latest on the war."
          ],
          [
           "Jimmy Kimmel Wants to Be Included in Trump’s Gag Order"
          ],
          [
           "Today’s Wordle Review"
          ],
          [
           "The Connections Companion"
          ],
          [
           "Fall"
          ],
          [
           "Spelling Bee Forum"
          ],
          [
           "A Spanish-Language Newsletter for the Fluent and the Curious"
          ],
          [
           "For 30 Years, This Grown-Up’s Office Was the Playground"
          ],
          [
           "A Palestinian man, who was a driver near the rave, is thought to be held hostage in Gaza."
          ],
          [
           "Can My Dog Make Me Sick?"
          ],
          [
           "Mario Can’t Be Super Without Psychedelic Power-Ups"
          ],
          [
           "Did the C.I.A. Kill Patrice Lumumba?"
          ],
          [
           "For Teju Cole, Art Is a Lens on a History of Violence"
          ],
          [
           "Ghosts, Spiders and Confinement Infest Two New Story Collections"
          ],
          [
           "A Russian Journalist’s Love Letter to Her People"
          ],
          [
           "A Historical Novel That Is Also a Mash-Up of the Centuries"
          ],
          [
           "Yohji Yamamoto Prefers the Side View"
          ],
          [
           "U.S. Pursues Defense Partnership With India to Deter Chinese Aggression"
          ],
          [
           "I Live in My Car"
          ],
          [
           "A Paris Dining Space With One Motto: Come Hungry"
          ],
          [
           "What Happens When an Artist’s Technology Becomes Obsolete?"
          ],
          [
           "Henry Taylor’s ‘B Side’ Is Full of Grade-A Paintings"
          ],
          [
           "U.S. Army, Navy and Air Force Struggle for Recruits. The Marines Have Plenty."
          ],
          [
           "The Moral Deficiencies of a Liberal Education"
          ],
          [
           "A Long-Lasting Effect in Paris for a Temporary Structure"
          ],
          [
           "Biden Has a Critical Advantage for 2024. He Should Make It Known."
          ],
          [
           "In Israel, Sewing for the Security Forces"
          ],
          [
           "A Washington State Condo That’s All About the Art"
          ],
          [
           "I Don’t Have to Post About My Outrage. Neither Do You."
          ],
          [
           "‘Do Not Take Your Mezuza off Your Door’"
          ],
          [
           "What Have You Learned From Failure?"
          ],
          [
           "He Wanted a Comfortable Apartment With Room for All of His Art"
          ],
          [
           "John Stamos Is Done With Being Someone’s Idea of John Stamos"
          ],
          [
           "Those Doritos Too Expensive? More Stores Offer Their Own Alternatives."
          ],
          [
           "Longer Commutes, Shorter Lives: The Costs of Not Investing in America"
          ],
          [
           "Why a Sculptor Was Drawn to Sewer Alligators"
          ],
          [
           "As Coal Plants Shutter, a Chance to Redevelop ‘the Gates of Hell’"
          ],
          [
           "A Higher Monthly Payment, but Less Square Footage"
          ],
          [
           "How Mahjong Brought Me Closer to My Mother"
          ],
          [
           "In Sanliurfa, the Silk Road Meets the Stone Age"
          ],
          [
           "The Apotheosis of Jim Jordan Is a Sight to Behold"
          ],
          [
           "Biden Will Visit Israel, and More"
          ],
          [
           "The Arm-Twisting, Back-Stabbing Battle for House Speaker"
          ],
          [
           "Man, Wrongfully Imprisoned for 16 Years, Is Fatally Shot During Traffic Stop"
          ],
          [
           "Biden’s Trip to Israel"
          ],
          [
           "India’s Top Court Rejects Gay Marriage, While Voicing Sympathy"
          ],
          [
           "Weekly Student News Quiz: Israel-Hamas War, Congress, Halloween"
          ],
          [
           "Business Leaders Confront a Dilemma Over ‘Davos in the Desert’"
          ],
          [
           "Pentagon Orders 2,000 More U.S. Troops to Be Ready to Deploy to the Middle East"
          ],
          [
           "For Goldman Sachs, No Bad News Is Good News After a Brutal Stretch"
          ],
          [
           "U.S. Tightens China’s Access to Advanced Chips for Artificial Intelligence"
          ],
          [
           "Hamas Hijacked Victims’ Social Media Accounts to Spread Terror"
          ],
          [
           "Five State Parks to Visit This Fall"
          ],
          [
           "To Restore Order, a Troubled Dance Company Calls on a Storyteller"
          ],
          [
           "Momentous Shift Looms for Poland as Governing Party Looks Set to Be Ousted"
          ],
          [
           "Joan Jett Loves the New York Liberty. The Feeling Is Mutual."
          ],
          [
           "Ukraine Uses Powerful American-Supplied Missiles for First Time"
          ],
          [
           "‘Crossroads,’ Britney Spears and the Journey to Watch a DVD in 2023"
          ],
          [
           "Lowriders, Long Banned From Cruising, Can Roam Free in California"
          ],
          [
           "More Than a Third of Women Under 50 Are Iron-Deficient"
          ],
          [
           "How to Know if You’re Iron-Deficient, and What to Do About It"
          ],
          [
           "Jordan Falls Short as Republican Speaker Fight Continues"
          ],
          [
           "These Pizza-Flavored Dinner Ideas Could Make You a Hero"
          ],
          [
           "Black Voters Have New Power in Mississippi. Can They Elect a Democrat?"
          ],
          [
           "Architecture’s ‘Young Savior’ Rebooted After the Bottom Fell Out"
          ],
          [
           "The Ruby Shakes Up Cacio e Pepe in the Former Lucky Strike Space"
          ],
          [
           "‘The Insurrectionist Next Door’ Review: Getting Personal"
          ],
          [
           "Barnes & Noble Sets Itself Free"
          ],
          [
           "She Was Oprah Before Oprah"
          ],
          [
           "Vote Count: Mike Johnson Elected House Speaker After Three-Week Vacancy"
          ],
          [
           "Facing Risky Options for Gaza Hostages, U.S. Turns to Longtime Mediator"
          ],
          [
           "Shaken by War, a Jewish College’s Soccer Team Finds Solace on the Field"
          ],
          [
           "Time Runs Out on a Canadian Radio Tradition"
          ],
          [
           "When Is a Species Extinct? U.S. Is Close to Naming 21, but Not This Woodpecker"
          ],
          [
           "Possible Paths to Israeli-Palestinian Peace"
          ],
          [
           "Breaths of Fresh Hair"
          ],
          [
           "Rescuers struggle as Israel’s bombardment buries Gazans in their homes."
          ],
          [
           "Britney Spears Writes of Having Abortion While Dating Justin Timberlake"
          ],
          [
           "Middle East War Adds to Surge in International Arms Sales"
          ],
          [
           "‘All the Devils’ Review: Patrick Page as Friendly Guide Investigating Evil"
          ],
          [
           "Electric Grids Are a Hidden Weak Spot in World’s Climate Plans, Report Warns"
          ],
          [
           "Russia Presses Ahead With Offensive Push in Eastern Ukraine"
          ],
          [
           "What to Know About the Health Risks of Chemical Hair Straighteners"
          ],
          [
           "For Hezbollah and Israel, the Stakes in Any Broader War Are High"
          ],
          [
           "Former Navajo Nation Leader Is Running for Congress in Arizona"
          ],
          [
           "My Haul From the WFMU Record Fair"
          ],
          [
           "Grand Jury Will Consider New Manslaughter Case Against Alec Baldwin"
          ],
          [
           "Why We’re So Obsessed With ‘Mastering’ Our Thighs"
          ],
          [
           "Jazz’s Hancock Competition Returns, Crowning an Electrifying Rising Star"
          ],
          [
           "President Biden’s Finest Hour"
          ],
          [
           "‘No More Safe Places in Gaza’: Evacuees Face Airstrikes in North and South"
          ],
          [
           "The hope and hype of hydrogen"
          ],
          [
           "Republican Presidential Candidates on Crime and Guns"
          ],
          [
           "Roland Griffiths Is Dead at 77; Led a Renaissance in Psychedelics Research"
          ],
          [
           "The Verdict on John Grisham’s Sequel to ‘The Firm’"
          ],
          [
           "Tiny Love Stories: ‘Not Especially Beautiful, Intelligent, Affectionate’"
          ],
          [
           "What if We Could All Control A.I.?"
          ],
          [
           "Cher on Her First Christmas LP, a New Beau and 25 Years of ‘Believe’"
          ],
          [
           "Police Use of Force in New Jersey Capital Draws Justice Dept. Scrutiny"
          ],
          [
           "United Airlines to Change Its Boarding Process, a Win for Window Seats"
          ],
          [
           "Carla Bley, Jazz Composer, Arranger and Provocateur, Dies at 87"
          ],
          [
           "Gag Order on Trump in Election Case Leaves More Hard Questions"
          ],
          [
           "Artist Is Found Guilty in French Sex Tape Scandal"
          ],
          [
           "It’s Like Eavesdropping on Two Friends … Who Secretly Hate Each Other"
          ],
          [
           "Restaurant Review: Hakka Food Makes a Rare Appearance in Chinatown"
          ],
          [
           "A Prestigious Law Firm Rescinded Job Offers for Columbia and Harvard Students, but It May Reverse Itself"
          ],
          [
           "Hakeem Jeffries received the most votes, so why isn’t he speaker?"
          ],
          [
           "Influx of Fake Lawyers Rattles Kenya"
          ],
          [
           "‘The Devil on Trial’ Review: Whodunit? Satan?"
          ],
          [
           "Invading Gaza Now Is a Mistake"
          ],
          [
           "3 Plead Guilty in $600 Million Catalytic Converter Theft Ring"
          ],
          [
           "Here Are the 20 Republicans Who Opposed Jordan"
          ],
          [
           "Wednesday Briefing: Blast Kills Hundreds at a Gaza Hospital"
          ],
          [
           "Yayoi Kusama Apologizes for Past Racist Remarks"
          ],
          [
           "A Blast Killed Hundreds at a Hospital in Gaza"
          ],
          [
           "The Gaza hospital where hundreds were reported killed is a mainstay for Palestinians."
          ],
          [
           "Soft Landing, Here We Come?"
          ],
          [
           "Inside Biden’s Reversal on Sending Long-Range Missiles to Ukraine"
          ],
          [
           "Israeli Strikes in Southern Gaza Prompt Palestinians to Return North"
          ],
          [
           "Islamic Jihad, the group Israel blamed for the hospital blast, is an armed group often aligned with Hamas."
          ],
          [
           "‘The Exorcist’ at 50: How One Horror Movie Shocked the World"
          ],
          [
           "Woman Who Used Bullhorn to Rally Rioters on Jan. 6 Gets Nearly 5 Years"
          ],
          [
           "U.S. Response to Israel-Hamas War Draws Fury in Middle East"
          ],
          [
           "Venezuela Pledges Small Steps Toward Fair Elections Next Year"
          ],
          [
           "Biden ‘Outraged’ Over Gaza Blast as He Makes a Wartime Visit to Israel"
          ],
          [
           "Hundreds Killed in Explosion at Gaza Hospital"
          ],
          [
           "Jordan Struggles as Republicans Sink Deeper Into Division"
          ],
          [
           "The explosion at a Gaza City hospital draws condemnation and condolences from world leaders."
          ],
          [
           "Hundreds Reported Killed in Blast at a Gaza Hospital"
          ],
          [
           "Kind of Belt"
          ],
          [
           "China’s Economy Gets a Boost From Beijing, but Housing Woes Persist"
          ],
          [
           "Body Count at Colorado Funeral Home With Decaying Remains Grows to 189"
          ],
          [
           "Former Las Vegas Police Officer Sentenced in 3 Casino Heists"
          ],
          [
           "Everton Sale Stalls Amid Questions About Buyer’s Financials"
          ],
          [
           "Wednesday Briefing"
          ],
          [
           "Quotation of the Day: ‘A.I. Agents’ Can Play Minecraft. They’re Just Getting Warmed Up."
          ],
          [
           "Netanyahu Led Us to Catastrophe. He Must Go."
          ],
          [
           "Corrections: Oct. 18, 2023"
          ],
          [
           "Word of the Day: irascible"
          ],
          [
           "Here’s the latest on the war."
          ],
          [
           "Today’s Wordle Review"
          ],
          [
           "The Mall"
          ],
          [
           "The Connections Companion"
          ],
          [
           "Spelling Bee Forum"
          ],
          [
           "Smaller Classes? At Elite Schools, Some Parents Say ‘No Thanks.’"
          ],
          [
           "U.K. Inflation, Unchanged at 6.7 Percent, Ends String of Declines"
          ],
          [
           "Late Night Wastes No Time Jumping on Jim Jordan’s Troubles"
          ],
          [
           "In Tel Aviv, Biden’s Embrace of Israel Came With a Gentle Warning"
          ],
          [
           "In This Exhibition, Gender Meets Climate Activism. It’s a Lot."
          ],
          [
           "She Burned It All Down, to Build the Perfect Dress"
          ],
          [
           "At an All-Ages Playground, an Art Collection Grows"
          ],
          [
           "As War Rages On, a Museum of Russian Art Stands Up for Ukraine"
          ],
          [
           "Showcasing the Power of Women in Renaissance Italy"
          ],
          [
           "The True Uniform of Los Angeles, According to Angelenos"
          ],
          [
           "What Would Inspire Climate Action? Perhaps an Orange Sky."
          ],
          [
           "A Photographer’s House of Shadows"
          ],
          [
           "At Museums and Galleries, a Spirit of Togetherness"
          ],
          [
           "Radicchio Is in Season — And in Style"
          ],
          [
           "Exhibitions Meant to Bridge Global Differences"
          ],
          [
           "Making Connections With the Unseen"
          ],
          [
           "Tote Bags for Those Who Want to Have It All"
          ],
          [
           "A Museum Takes a New, Unvarnished Look at a Massacre"
          ],
          [
           "At the de Young, a Rousing Showcase for Bay Area Artists"
          ],
          [
           "Letting a Thousand Drones Rise on a Saturday in Central Park"
          ],
          [
           "Jacqueline Woodson and Amber McBride Look Backward to Look Forward"
          ],
          [
           "Adapting ‘All the Light We Cannot See’ for TV, and the Blind"
          ],
          [
           "The Landlords of Social Media Seem Happy to Play the Villain"
          ],
          [
           "If You’ve Ever Heard a Voice That Wasn’t There, This Could Be Why"
          ],
          [
           "After Writing an Anti-Israel Letter, Harvard Students Are Doxxed"
          ],
          [
           "This Southern Staple Is Pure Gold"
          ],
          [
           "Danny DeVito, His Daughter and a Lot of Baggage (Onstage)"
          ],
          [
           "A Country Where ‘Some People Need Killing’ Was State Policy"
          ],
          [
           "Want to See the Eras Tour? Swifties Say ‘Grab Your Passport and My Hand.’"
          ],
          [
           "$2 Million Homes in Pennsylvania, Montana and California"
          ],
          [
           "How Phoenix Fans Watch Their Teams May Change How You Watch Yours"
          ],
          [
           "Hamas Is Barred From Social Media. Its Messages Are Still Spreading."
          ],
          [
           "Israel Is Giving Hamas What It Wants"
          ],
          [
           "What Does It Mean to Be a Kept Woman?"
          ],
          [
           "For Bill Ford, ‘Every Negotiation Is a Roller Coaster’"
          ],
          [
           "Do You Ever Feel Pressure to Post About Your Outrage Online?"
          ],
          [
           "A Chill Has Been Cast Over the Book World"
          ],
          [
           "Exxon Mobil’s Pioneer Acquisition Is a Direct Threat to Democracy"
          ],
          [
           "Can an Unpopular Populist Still Damage Democracy?"
          ],
          [
           "Are There Lessons for Israel From America’s Response to 9/11?"
          ],
          [
           "Biden Walks a Tightrope on Israel-Gaza as Democratic Tensions Smolder"
          ],
          [
           "Republican Presidential Candidates on Israel"
          ],
          [
           "Jim Jordan Is a Lousy Strongman"
          ],
          [
           "Allied Spy Chiefs Warn of Chinese Espionage Targeting Tech Firms"
          ],
          [
           "A Deadly Blast at a Gaza Hospital, and More"
          ],
          [
           "The Diplomatic Scramble to Contain the Israel-Hamas War"
          ],
          [
           "New Global Divisions on View as Biden Goes to Israel and Putin to China"
          ],
          [
           "Restitution Is Moving Quickly. The Pergamon Museum Is Taking It Slow."
          ],
          [
           "Biden’s Arrival in Israel"
          ],
          [
           "‘The Delinquents’ Review: Money for Nothing"
          ],
          [
           "At NY Dog and Cat Film Festivals, Love, Licks and Looniness"
          ],
          [
           "Putin Plays Down Threat Posed by Powerful U.S.-Supplied Missiles"
          ],
          [
           "Xi Jinping Greets Vladimir Putin at the Belt and Road Forum"
          ],
          [
           "With Putin by His Side, Xi Outlines His Vision of a New World Order"
          ],
          [
           "A Sudden Blast, Then Carnage in a Hospital Courtyard"
          ],
          [
           "Lenient Grading Won’t Help Struggling Students. Addressing Chronic Absenteeism Will."
          ],
          [
           "Fresh Turmoil in the Middle East Puts Markets on Edge"
          ],
          [
           "Should We Keep Paying for Our Ungrateful Son to Join Us on Family Vacations?"
          ],
          [
           "Covid Cases Drop in California, but Experts Warn of a Winter Surge"
          ],
          [
           "‘Suffs’ Heads to Broadway With Hillary Clinton as a Producer"
          ],
          [
           "Maybe We Will Finally Learn More About How A.I. Works"
          ],
          [
           "New York, Overwhelmed, Toughens Stance on Housing Migrant Families"
          ],
          [
           "The Israeli military puts forward its version of what happened at the hospital in Gaza."
          ],
          [
           "Bigfoot Is Back. (Bigfoot Never Left.)"
          ],
          [
           "Jordan Defeated Again for Speaker as Republican Stalemate Deepens"
          ],
          [
           "Gov. J.B. Pritzker of Illinois Starts Group to Promote Abortion Rights"
          ],
          [
           "Still Mourning Takeoff’s Death, Quavo Steps Out Alone"
          ],
          [
           "The Jim Jordan Seen in Congress Is the One Constituents Know in Ohio"
          ],
          [
           "Camaraderie and Visibility: A Festival for Black Classical Musicians"
          ],
          [
           "Severe Storm in Scotland Could Pose a ‘Danger to Life’"
          ],
          [
           "Perfect Roasted Broccoli"
          ],
          [
           "Marie NDiaye Raises Questions She Has No Intention of Answering"
          ],
          [
           "Early U.S. and Israeli Intelligence Says Palestinian Group Caused Hospital Blast"
          ],
          [
           "Strokes Are More Common and Serious in Women"
          ],
          [
           "Review: ‘Scavengers Reign’ Is a Gorgeous, Hypnotic Space Trip"
          ],
          [
           "An Easy Way to Help Birds Migrate"
          ],
          [
           "Roger Goodell Agrees to Contract Extension With N.F.L."
          ],
          [
           "Trump Lawyer Acknowledged Political Agenda in Election Suit, Emails Show"
          ],
          [
           "My Sister Hid $5,000 From Me, Then Her Husband Died. Do I Ask for the Money?"
          ],
          [
           "Humanitarian Aid Continues to Amass at Egypt’s Border as Crisis in Gaza Worsens"
          ],
          [
           "Why Is the Rafah Border Crossing So Important for Gaza?"
          ],
          [
           "Popcast (Deluxe): Taylor Swift’s Eras Tour Movie + Bad Bunny Returns"
          ],
          [
           "It’s Probably Going to Rain in New York This Weekend. Again."
          ],
          [
           "What We Know About the Explosion at the Hospital in Gaza"
          ],
          [
           "Liberia’s Tightest Presidential Election in 2 Decades Heads to a Runoff"
          ],
          [
           "Iran’s Call for Oil Embargo on Israel Roils Markets"
          ],
          [
           "American Household Wealth Jumped in the Pandemic"
          ],
          [
           "Steven Lutvak, Whose Darkly Comic Show Won a Tony, Dies at 64"
          ],
          [
           "British Museum Announces Plan to Stop Thefts"
          ],
          [
           "Women of ‘Groundswell’: Thinking Outside the Spiral"
          ],
          [
           "Review: Laurie Anderson Gets Back to Having a Good Time"
          ],
          [
           "Who Has Qualified for the Third G.O.P. Debate?"
          ],
          [
           "Gov. Hochul Makes Wartime Visit to Israel to Show New York’s Support"
          ],
          [
           "Pence’s 2024 Bid Confronts Murky Future, as Campaign Cash Dwindles"
          ],
          [
           "Review: A Mezzo-Soprano Brings Women’s Tales to the Armory"
          ],
          [
           "Stephen Rubin, 81, ‘Quintessential Hitmaker’ of the Book World, Dies"
          ],
          [
           "‘What the Constitution Means to Me’ Is This Season’s Most-Staged Play"
          ],
          [
           "Confession Brings Natalee Holloway Case to an End After 18 Years"
          ],
          [
           "‘Helen.’ Review: A Restless Heroine Tired of Abiding by Gender Roles"
          ],
          [
           "Man Who Spread Misinformation on Trump’s Behalf Sentenced to 7 Months"
          ],
          [
           "Biden’s Visit to Israel After the Gaza Hospital Tragedy"
          ],
          [
           "A New Report Documents How Easily Children Can Access Graphic Images of the War"
          ],
          [
           "Ann Philbin, Who Remade L.A.’s Hammer Museum, to Step Down"
          ],
          [
           "Texas Has Bused 50,000 Migrants. Now It Wants to Arrest Them Instead."
          ],
          [
           "Why Are So Many Americans Dying?"
          ],
          [
           "Protests Erupt After Gaza Hospital Explosion"
          ],
          [
           "You Snooze, You … Win?"
          ],
          [
           "Republicans Fear Speaker Fight Could Cost Them House Majority"
          ],
          [
           "As Speaker Chaos Grows, So Does Talk of Empowering McHenry"
          ],
          [
           "The Passion of Adèle Haenel, an Artist of Fierce Political Conviction"
          ],
          [
           "In Antitrust Trial, Google Argues That Smart Employees Explain Its Success"
          ],
          [
           "George Wayne Is ‘Still Hustling’"
          ],
          [
           "Israel-Hamas War Brings Tensions to Europe: What Travelers Need to Know"
          ],
          [
           "What to Know About the 4 Food Additives Banned by California"
          ],
          [
           "Netflix Adds 9 Million Subscribers in Third Quarter"
          ],
          [
           "Tesla’s Profits Plunge 44% After Big Price Cuts"
          ],
          [
           "Infiltrating the Ultimate Boys’ Club — With Spycraft"
          ],
          [
           "Tracking Post-Tropical Cyclone Norma"
          ],
          [
           "Can You Spot Ways Our Culture Has Changed Over the Past 25 Years?"
          ],
          [
           "Thursday Briefing: Biden Backs Israel on the Hospital Blast"
          ],
          [
           "Woman in Critical Condition After Man Pushes Her Into Subway Train"
          ],
          [
           "Clearview AI Successfully Appeals $9 Million Fine in the U.K."
          ],
          [
           "Devastation in Gaza After Hospital Blast"
          ],
          [
           "Tracking Post-Tropical Cyclone Tammy"
          ],
          [
           "Across Mideast, Protests Erupt Over ‘Horrific Scenes’ in Gaza"
          ],
          [
           "U.S. Says Israel Didn’t Cause Hospital Blast, as Biden Promises Aid to Gaza"
          ],
          [
           "Biden Blamed a Palestinian Group for the Hospital Blast"
          ],
          [
           "How the Interim Speaker Patrick McHenry Could Actually Govern"
          ],
          [
           "David Shaffer, Medical ‘Detective’ in Suicide of Youths, Dies at 87"
          ],
          [
           "Videos Show Georgia Deputy Fatally Shooting Man Who Had Been Wrongfully Imprisoned"
          ],
          [
           "The U.S. vetoes a Security Council resolution on the Israel-Hamas conflict."
          ],
          [
           "U.S. Issues New Sanctions Targeting Iran’s Missile and Drone Programs"
          ],
          [
           "Robert F. Kennedy Jr. Is Not Ready for Prime Time"
          ],
          [
           "An Evolving Moral High Ground in the Israel-Gaza War"
          ],
          [
           "Biden’s Nominee for U.S. Ambassador to Israel Is Grilled by Senators"
          ],
          [
           "After Hospital Blast, Headlines Shift With Changing Claims"
          ],
          [
           "Burt Young, ‘Rocky’ Actor Who Played Complex Tough Guys, Dies at 83"
          ],
          [
           "Biden is expected to request $100 billion for Israel, Ukraine and other crises."
          ],
          [
           "Trump Endorses Gov. Jim Justice in West Virginia Senate Race"
          ],
          [
           "About 300 protesters pleading for a cease-fire were arrested on Capitol Hill, organizers say."
          ],
          [
           "Quotation of the Day: In China, the Cheaper the Better"
          ],
          [
           "First Venezuelans Sent Back Under New U.S. Policy Arrive in Caracas"
          ],
          [
           "Modern-Day Provocateur"
          ],
          [
           "Families of Hamas Hostages Split on Invasion of Gaza"
          ],
          [
           "Nebraska Governor Is Criticized for Comments on Reporter’s Chinese Nationality"
          ],
          [
           "Corrections: Oct. 19, 2023"
          ],
          [
           "Ukraine’s Economy Starts to Rebound as It Adapts to War"
          ],
          [
           "The 5 Clones in Argentina’s Election"
          ],
          [
           "Country Garden, Facing Debt Deadline, Says Executives Have Not Left China"
          ],
          [
           "Thursday Briefing"
          ],
          [
           "Why South Korea Has So Many Protests, and What That Means"
          ],
          [
           "State Department Official Resigns Over Arms Transfers to Israel"
          ],
          [
           "Rite Aid Is Closing 154 Stores as It Starts to Shed Debt"
          ],
          [
           "Jimmy Kimmel Recaps Biden’s Big Day in Israel"
          ],
          [
           "Word of the Day: oeuvre"
          ],
          [
           "Spelling Bee Forum"
          ],
          [
           "The Connections Companion"
          ],
          [
           "What’s Driving New York’s Parking Problem? A Reporter Explains."
          ],
          [
           "How 100,000 Apartments in New York City Disappeared"
          ],
          [
           "Exercise"
          ],
          [
           "Don’t Call These Clothes Minimalist. Or Quiet Luxury for That Matter."
          ],
          [
           "How the G.O.P. Speaker Mess Has Divided N.Y. House Republicans"
          ],
          [
           "Russia Detains a U.S. Journalist"
          ],
          [
           "Why Your Grip Strength Matters, and How to Improve It"
          ],
          [
           "The Troubled-Teen Industry Offers Trauma, Not Therapy"
          ],
          [
           "36 Hours in Glasgow"
          ],
          [
           "When Courtly Love Goes Wrong, It’s Deadly"
          ],
          [
           "A South Florida Museum Showcases Burgers, Fries and Beers, Made of Glass"
          ],
          [
           "In Santa Fe, a New Museum Brings the Local Art Scene Up to Date"
          ],
          [
           "Reframing the American Landscape"
          ],
          [
           "A Visionary Brazilian Artist Is Rediscovered"
          ],
          [
           "The Messy Energy of Turning Life into Art"
          ],
          [
           "An Artist Pushes Back Against Cultural Colonialism"
          ],
          [
           "Helen Garner Keeps ‘Paradise Lost’ and a Bible Close at Hand"
          ],
          [
           "Why Some Parents Oppose Smaller Classes"
          ],
          [
           "Upper East Meets Lower East in a Celebration of Art in Manhattan"
          ],
          [
           "Thurston Moore’s Electrifying History Lesson"
          ],
          [
           "What We Saw at New York Bridal Fashion Week"
          ],
          [
           "The Good, and Evil, of Money at the Morgan"
          ],
          [
           "Why You Don’t Need to Rake Leaves"
          ],
          [
           "Poem: From … AGAIN"
          ],
          [
           "Judge John Hodgman on the Curse of the Sourdough Starter"
          ],
          [
           "‘Killers of the Flower Moon’ Review: An Unsettling Masterpiece"
          ],
          [
           "‘Golden Bachelor’ Brings Something New to the Mansion: Grief"
          ],
          [
           "Why House Republicans Can’t Function, According to a House Republican"
          ],
          [
           "An Industry Insider Drives an Open Alternative to Big Tech’s A.I."
          ],
          [
           "The Botched Hunt for the Gilgo Beach Killer"
          ],
          [
           "Ahead of Her Georgia Trial, Sidney Powell Seeks Distance From Trump"
          ],
          [
           "For Republicans, All Roads Lead to the U.S.-Mexico Border"
          ],
          [
           "A Texas-Size Taste of Next Year’s Blockbuster Solar Eclipse"
          ],
          [
           "How an ‘Effort-Reward Imbalance’ Can Make Work Miserable"
          ],
          [
           "For N.K. Jemisin, Reality Inspired Horror Fiction"
          ],
          [
           "After 47 Years, the Emerson Quartet Has One More Weekend"
          ],
          [
           "Donald Trump Is Going to Get Someone Killed"
          ],
          [
           "How Concerned Are You About the Cost of College?"
          ],
          [
           "David French: ‘House Republicans Need to Grow Up’"
          ],
          [
           "What Scarlett Johansson, Matt Damon and Ziwe Wore to Parties This Week"
          ],
          [
           "What It Takes to Choose Life Over Revenge"
          ],
          [
           "Researchers Say Guardrails Built Around A.I. Systems Are Not So Sturdy"
          ],
          [
           "The Prada Effect"
          ],
          [
           "Annette Bening Knows a Thing or Two About Difficult Women"
          ],
          [
           "Queen Latifah Redefined Being a Multihyphenate — and Made It Look Easy"
          ],
          [
           "How Miuccia Prada Reinvented Fashion"
          ],
          [
           "How Henry Taylor Transformed the Way We Look at Ourselves"
          ],
          [
           "She Bought a Manhattan Home for Less Than $400,000 — Sight Unseen. But Which One?"
          ],
          [
           "The Greats"
          ],
          [
           "Biden Lays Out Stakes for America as He Seeks Aid for Israel and Ukraine"
          ],
          [
           "Biden’s Unspoken Message in Israel"
          ],
          [
           "Nokia to Cut 14,000 Jobs in Major Overhaul at Telecom Giant"
          ],
          [
           "Biden’s Visit to Israel, and More"
          ],
          [
           "From Serial Productions: The Kids of Rutherford County"
          ],
          [
           "A Texas Town Wanted Tougher Border Security. Now It’s Having Regrets."
          ],
          [
           "Longer Commutes, Shorter Lives"
          ],
          [
           "‘Butcher’s Crossing’ Review: Perilous Country"
          ],
          [
           "‘Young Soul Rebels’: When Punk Was in Full Bloom"
          ],
          [
           "‘The Pigeon Tunnel’ Review: Thinker, Player, Searcher, Spy"
          ],
          [
           "New York Attorney General Sues Crypto Firms in $1 Billion Fraud Case"
          ],
          [
           "‘Silver Dollar Road’ Review: Black Land Loss Is Still Happening"
          ],
          [
           "‘Another Body’ Review: A Cowardly New World"
          ],
          [
           "‘The Persian Version’ Review: A Bumpy Road Out of Iran"
          ],
          [
           "‘To Kill a Tiger’ Review: The Survivor Who Refused to Be Shamed"
          ],
          [
           "‘Waiting for the Light to Change’ Review: Listless in a Lakeside Cabin"
          ],
          [
           "Sunak Visits Israel in Display of British Support"
          ],
          [
           "What Is Hezbollah, the Group That Poses a Threat to Israel From the North?"
          ],
          [
           "Markets Look to Powell Amid Rising Tensions in the Middle East"
          ],
          [
           "Which U.S. Cities Are the Safest?"
          ],
          [
           "Today’s Wordle Review"
          ],
          [
           "‘I Had Been Exploited:’ Takeaways From Britney Spears’s Memoir"
          ],
          [
           "Kathy Hochul, Grieving Her Father’s Sudden Death, Presses On in Israel"
          ],
          [
           "Chasing Jack the Ripper Through the Streets of Modern London"
          ],
          [
           "In California, Safe Parking Lots Offer a Haven for the ‘Mobile Homeless’"
          ],
          [
           "‘The Vanishing Elephant’ Review: Bringing ‘a Thing of Wonder’ to Life"
          ],
          [
           "Homes for Sale in Manhattan and Brooklyn"
          ],
          [
           "Homes for Sale in New York and New Jersey"
          ],
          [
           "These Vessels Are Meant to Deceive"
          ],
          [
           "The Twilight of Mitt Romney"
          ],
          [
           "Marine Is Suspected in the Killing of Another at Camp Lejeune"
          ],
          [
           "Biden’s Response to Israeli War Meets Centrist Praise and Liberal Anger"
          ],
          [
           "Developer Promises Affordable Housing if Granted N.Y.C. Casino License"
          ],
          [
           "Sidney Powell Pleads Guilty in Georgia Trump Case"
          ],
          [
           "China’s Military Is Making Risky Moves and Adding Nuclear Warheads, U.S. Says"
          ],
          [
           "Columbus Letter Beloved by Thieves and Forgers Sells for $3.9 Million"
          ],
          [
           "This Fire Chicken Is Fire"
          ],
          [
           "What’s Going On in This Graph? | Electric Cars"
          ],
          [
           "As Conditions Worsen at Rikers, New Commission Revives Push to Close It"
          ],
          [
           "What’s in Our Queue? Khruangbin and More"
          ],
          [
           "Atlantic Hurricanes Are Getting Stronger, Faster, Study Finds"
          ],
          [
           "Review: Ballet Theater Revisits Its Past With a Hit and Two Misses"
          ],
          [
           "San Francisco’s Brand Is in Trouble. Can a New Ad Campaign Fix It?"
          ],
          [
           "Israelis Praise Biden Visit but Fear U.S. Constraints on Action"
          ],
          [
           "F.C.C. Moves Toward Restoring Net Neutrality Rules, Igniting Regulatory Fight"
          ],
          [
           "Strong Economic Data ‘Could Warrant’ Higher Rates, Fed Chair Says"
          ],
          [
           "Silicon Valley Ditches News, Shaking an Unstable Industry"
          ],
          [
           "A ‘Matrix’-Inspired Spectacle, With Little to Challenge the Mind"
          ],
          [
           "How to Fly an American President Into a Country at War"
          ],
          [
           "Lacrosse Is Coming to the Olympics. Will Its Inventors Be There?"
          ],
          [
           "The Agony and Ecstasy of Home Winemaking"
          ],
          [
           "The Marketing of a Massacre"
          ],
          [
           "It’s Cabbage Season"
          ],
          [
           "9 New Books We Recommend This Week"
          ],
          [
           "Photos: Life Under the Bombs in Khan Younis"
          ],
          [
           "Earthquake App Test at 3:19 A.M. Startles Users on the West Coast"
          ],
          [
           "What Students Are Saying About Timed Tests"
          ],
          [
           "Biden’s Aid, and Pointed Advice, to Israel"
          ],
          [
           "Suspect in Manhattan Subway Shoving Is Arrested in Newark"
          ],
          [
           "Van Gogh Museum Pulls Pokémon Cards After Frenzy"
          ],
          [
           "White Judge Who Pointed Gun at Black Man in Court Is Ousted"
          ],
          [
           "Mitt Romney’s Sickest Burns: Book Reveals Harsh Views of Fellow Republicans"
          ],
          [
           "E.V. Range Anxiety: A Case Study"
          ],
          [
           "The Flavor of Lagos, in 3 Recipes"
          ],
          [
           "Film Club: ‘How a Rare Portrait of an Enslaved Child Arrived at the Met’"
          ],
          [
           "The Shindellas, a Throwback R&B Girl Group With an Unlikely Story"
          ],
          [
           "Mixing Tequila and Memories at Donald Judd’s Dining Room Table"
          ],
          [
           "Deal Lays Groundwork for Aid to Reach Desperate Gazans, Officials Say"
          ],
          [
           "For Biden, No Tears Over Jordan’s Predicament in the House"
          ],
          [
           "Norma Weakens to a Tropical Depression After Soaking Mexico’s Coast"
          ],
          [
           "Biden’s Moment: A President Convinced of America’s Role in the World"
          ],
          [
           "The B.Y.O.B. Spots Wine Insiders Think You Should Know"
          ],
          [
           "What the Laws of War Say About Forced Displacement and ‘Human Shields’"
          ],
          [
           "Edward Bleier, Visionary Executive at Dawn of Cable TV, Dies at 94"
          ],
          [
           "Supreme Court Delays Efforts to Redraw Louisiana Voting Map"
          ],
          [
           "U.S. Intelligence Agencies Give Lower Estimate for Gaza Hospital Toll"
          ],
          [
           "In Britney Spears’s Memoir, She’s Stronger Than Ever"
          ],
          [
           "Malaysian Prisoners Reach Plea Agreements at Guantánamo Bay"
          ],
          [
           "Laphonza Butler Will Not Run for Feinstein’s Senate Seat in 2024"
          ],
          [
           "The Battle Over Rewards Points"
          ],
          [
           "Tension Over the Israel-Hamas War Casts a Pall Over Frankfurt Book Fair"
          ],
          [
           "Jon Stewart’s Show on Apple Is Ending"
          ],
          [
           "Eve Bunting, 94, Dies; Tackled Adult Themes in Children’s Books"
          ],
          [
           "Jim Jordan Doesn’t Know What Courage Is"
          ],
          [
           "Friday Briefing: Gaza Aid Deal Sees Progress"
          ],
          [
           "Inside the Wild and Wonderful World of Mushrooms"
          ],
          [
           "Vincent Patrick, Chronicler of Hustlers and Mobsters, Dies at 88"
          ],
          [
           "U.S. Shoots Down Several Missiles and Drones Launched From Yemen"
          ],
          [
           "Mainstream Republicans, ‘Squishes’ No More, Dig In Against Jordan"
          ],
          [
           "What El Niño Means for This Winter’s Weather"
          ],
          [
           "Mexico’s Top Human Rights Official Resigns, Handing Off Unsolved Mass Disappearance Case"
          ],
          [
           "The U.N. Brokered a Deal to Bring Aid Into Gaza"
          ],
          [
           "Fugees Rapper Pras Michel Says Lawyer Used A.I. for ‘Ineffectual’ Defense"
          ],
          [
           "Biden Moves Up Program Allowing Israelis to Travel to U.S. Without a Visa"
          ],
          [
           "Read the transcript of FTX executives’ text exchanges"
          ],
          [
           "Read the transcript of text between FTX executives"
          ],
          [
           "Read the exchange among FTX and Alameda executives"
          ],
          [
           "Canada Pulls 41 Diplomats as India Threatens to Revoke Their Immunity"
          ],
          [
           "Sidney Powell’s Plea Deal Could Be a Threat to Trump"
          ],
          [
           "Baltimore to Pay $48 Million to 3 Men Wrongly Convicted of Murder as Teens"
          ],
          [
           "Judge Won’t Let Alex Jones Use Bankruptcy to Avoid Sandy Hook Damages"
          ],
          [
           "Cleveland Museum Sues to Block Seizure of Its ‘Marcus Aurelius’ Bronze"
          ],
          [
           "More Than 60,000 Gun Safes Recalled After Report of Child’s Death"
          ],
          [
           "The Essential Skills for Being Human"
          ],
          [
           "Can Twitter, uh, X, Survive Elon Musk?"
          ],
          [
           "After Nearly Five Decades, Waltraud Meier Takes Her Final Opera Bow"
          ],
          [
           "Federal Prosecutors Reject Trump’s Immunity Claims in Election Case"
          ],
          [
           "‘Old Dads’ Review: Bill Burr Rails Against Modern Life as a Dad"
          ],
          [
           "Full Transcript: Biden’s Speech on Israel-Hamas and Russia-Ukraine Wars"
          ],
          [
           "Oh, the Humanities!"
          ],
          [
           "Variety: Acrostic"
          ],
          [
           "Double Defeat for U.K.’s Conservatives as Labour Snatches 2 Seats"
          ],
          [
           "President Biden Reaffirms Support for Israel and Ukraine"
          ],
          [
           "Israel Is About to Make a Terrible Mistake"
          ],
          [
           "Key Suspect in Assassination of Haiti’s President Is Arrested"
          ],
          [
           "The 45 King, Producer Who Worked With Jay-Z, Eminem and Others, Dies at 62"
          ],
          [
           "He Wooed Her With a Palm Reading. Turns Out Their Relationship Was Fated."
          ],
          [
           "Corrections: Oct. 20, 2023"
          ],
          [
           "Quotation of the Day: In Argentina, Five Cloned Dogs and an Unusual Political Run"
          ],
          [
           "They Needed ‘Boundary Days’ to Not Become Too Attached"
          ],
          [
           "How a Domino Rivalry Between Two Families Led to Love"
          ],
          [
           "When Your Search History Says What You Can’t"
          ],
          [
           "A Spark That Ignited in a Brooklyn Kitchen and Continued Around the World"
          ],
          [
           "Friday Briefing"
          ],
          [
           "Police Search for Gunman in Killing of Maryland Judge"
          ],
          [
           "Why These 11 Republican Voters Like Trump But Might Bail on Him"
          ],
          [
           "U.S. Soldier Who Entered North Korea Is Charged With Desertion"
          ],
          [
           "Word of the Day: ostensible"
          ],
          [
           "Late Night Sums Up Sidney Powell’s Plea Deal"
          ],
          [
           "Spying"
          ],
          [
           "Today’s Wordle Review"
          ],
          [
           "Spelling Bee Forum"
          ],
          [
           "The Connections Companion"
          ],
          [
           "Since When Does Eric Adams Speak Spanish, Yiddish and Mandarin?"
          ],
          [
           "On Elite Campuses, a New Protest Demand: Unwavering Support"
          ],
          [
           "The Most Australian Story to Ever Come Out of Vietnam"
          ],
          [
           "Prospect of Prolonged Israel-Gaza War Adds Economic Havoc to Human Toll"
          ],
          [
           "Giving the Gift of Calder"
          ],
          [
           "American Museums Keep the Spotlight on Korean Art"
          ],
          [
           "Rocking the Art World at 80"
          ],
          [
           "“Small/Cool NYC”: Where Tiny Is the New Cool"
          ],
          [
           "What Makes a Tiny Home Cool? Apartment Therapy Has Some Ideas."
          ],
          [
           "He Warned Canada About Climate Change but Says, ‘We’ve Failed Big Time’"
          ],
          [
           "The Art World Opens Up to an Underrepresented Group"
          ],
          [
           "In Jesmyn Ward’s New Novel, Slavery Is Hell and Dante Is Our Guide"
          ],
          [
           "Portraits in Unlikely Spaces"
          ],
          [
           "One of the World’s Biggest Museums Is Making Big Changes"
          ],
          [
           "The National Museum of Women in the Arts, Transformed"
          ],
          [
           "Yes, Maui Is Open. But the Loss of Lahaina May Reshape Tourism."
          ],
          [
           "Uncanny Art for the Post-Truth Era"
          ],
          [
           "Fall Fashion Has the Spirit of Adventure"
          ],
          [
           "How Israeli Civilians Are Using A.I. to Help Identify Victims"
          ],
          [
           "For Annie Leibovitz, an Opportunity to Work and Build on the Past"
          ],
          [
           "When You Think About Your Credit Card, Does a Fragrance Come to Mind?"
          ],
          [
           "A Treehouse Builder Who Celebrates Impermanence"
          ],
          [
           "A Small Country Far From Ukraine Is Sending Hundreds toWar, on Both Sides"
          ],
          [
           "Cities Foster Serendipity. But Can They Do It When Workers Are at Home?"
          ],
          [
           "A Bridal Fashion Newcomer Stages a Grand Debut"
          ],
          [
           "How Does Gotham F.C. Fit Into New York?"
          ],
          [
           "What to Know About ‘Killers of the Flower Moon’: A Guide to the Osage Murders"
          ],
          [
           "The Federal Deficit Is Growing. This Is Why."
          ],
          [
           "‘Oof’: Sam Bankman-Fried’s Trial Reveals Inside Details of How FTX Died"
          ],
          [
           "The Restaurant Revolution Has Begun"
          ],
          [
           "The True Story Behind ‘Killers of the Flower Moon’ Is Being Erased From Oklahoma Classrooms"
          ],
          [
           "An Indian Artist Questions Borders and the Limits on Free Speech"
          ],
          [
           "Thomas L. Friedman on Israel’s ‘Morally Impossible Situation’"
          ],
          [
           "The Pianist Vikingur Olafsson on ‘History’s Greatest Keyboard Work’"
          ],
          [
           "Crypto Influencers and ‘Degenerates’ Flock to Sam Bankman-Fried’s Trial"
          ],
          [
           "Are You There for Your Friends When They Need You?"
          ],
          [
           "Halloween Is for Kids. ‘Kidults’ Too."
          ],
          [
           "On Israel, Progressive Jews Feel Abandoned by Their Left-Wing Allies"
          ],
          [
           "Why Egypt Can’t Solve Gaza’s Problems"
          ],
          [
           "A Thaw Between U.S. and Venezuela Ahead of a Key Vote"
          ],
          [
           "Javier Milei, a ‘Mini-Trump,’ Could Be Argentina’s Next President"
          ],
          [
           "7 New Paperbacks to Read This Week"
          ],
          [
           "Why You Should Make Time for Oddball Rituals"
          ],
          [
           "The New York Times News Quiz, Oct. 20, 2023"
          ],
          [
           "5 Things to Do This Weekend"
          ],
          [
           "It Is Impossible to Know What to Believe in This Hideous War"
          ],
          [
           "The Only Question to Ask About These House Republicans"
          ],
          [
           "Peering Into A.I.’s Black Box, Who’s the Real Techno-Optimist? and Reading Ancient Scrolls With A.I."
          ],
          [
           "A Deal for Aid Into Gaza, and More"
          ],
          [
           "Hamas Took Her Son"
          ],
          [
           "Gaza and the Trudeau Problem"
          ],
          [
           "‘The Persian Version’ Director Has Always Lived in the In-Between"
          ],
          [
           "A Cannes Winner Asks: What if the Powerful Woman Isn’t Punished?"
          ],
          [
           "The New Darling of the European Art Trade? Paris."
          ],
          [
           "Chicken Souvlaki for Dinner, Strawberry Granola for Breakfast and Jalapeño Poppers for Halftime"
          ],
          [
           "Middle East Conflict Threatens Global Growth"
          ],
          [
           "When a Car Is Affordable Housing and More: The Week in Reporter Reads"
          ],
          [
           "Violence Surges in West Bank, With 13 Palestinians and an Israeli Killed"
          ],
          [
           "Republicans Vote Out Jordan as Speaker Nominee, Continuing Chaos in House"
          ],
          [
           "What Has Brought You Joy in 2023"
          ],
          [
           "The Gems Hiding in Plain Sight in the Treasury Market"
          ],
          [
           "1948: Lateness of Yugoslav Trains is Laid to a Negative Attitude"
          ],
          [
           "With Raids Across Dnipro River, Ukraine May Be Seeking New Front in War"
          ],
          [
           "A Filmmaker’s Fraught Specialty: Women at Work and the Men Who Scare Them"
          ],
          [
           "Movement and Memory: Dance Love and Dance Rejection in Ireland"
          ],
          [
           "Apple’s New Film Strategy Debuts With ‘Killers of the Flower Moon’"
          ],
          [
           "Britney Spears, From the Conservatorship’s Demise to ‘The Woman in Me’"
          ],
          [
           "To Combat the Opioid Epidemic, Cities Ponder Facilities for Drug Use"
          ],
          [
           "Storm Brings ‘Exceptional’ Amount of Rain to Scotland, and More Is on the Way"
          ],
          [
           "Giorgia Meloni Tells Italy She Is Dumping Her Longtime Partner"
          ],
          [
           "Audiobook of the Week: A Rich Family Saga Set in 1950s Maine"
          ],
          [
           "Biden Requests $105 Billion Aid Package for Israel, Ukraine and Other Crises"
          ],
          [
           "Food and Water Into Gaza Are Delayed as Talks Drag On, Officials Say"
          ],
          [
           "Kenneth Force, the ‘Toscanini of Military Marching Bands,’ Dies at 83"
          ],
          [
           "When Saying Nothing Is Saying Something"
          ],
          [
           "Israeli Airstrike Hits Greek Orthodox Church Compound in Gaza City"
          ],
          [
           "Review: An African Choir’s Disillusioning Journey to the West"
          ],
          [
           "‘Scary Movie 3’ at 20: Still Kills"
          ],
          [
           "Review: The Philharmonic Welcomes Back an Old Friend"
          ],
          [
           "A Plea From Native Hawaiians: The Future of Maui Rests on Honoring Its Past"
          ],
          [
           "Cameo to the Moon, and Back"
          ],
          [
           "DeSantis Super PAC Helps Pay for Private Flights, in Unusual Move"
          ],
          [
           "The Rolling Stones’ Ragged Plea, and 8 More New Songs"
          ],
          [
           "As Movie Theaters Embrace Swift, One Showcases Her Exes"
          ],
          [
           "A Sweet Squash Offering for Día de los Muertos"
          ],
          [
           "25 Classic Horror Movies to Stream"
          ],
          [
           "OpenAI in Talks for Deal That Would Value Company at $80 Billion"
          ],
          [
           "Five International Movies to Stream Now"
          ],
          [
           "The Big Number: 37 Percent"
          ],
          [
           "Man Poses as Mannequin to Steal Jewelry"
          ],
          [
           "Kenneth Chesebro, a Trump-Aligned Lawyer, Pleads Guilty in Georgia"
          ],
          [
           "The Multimillion-Dollar Machines at the Center of the U.S.-China Rivalry"
          ],
          [
           "Turmoil Over Student Support for Hamas"
          ],
          [
           "Watch the Orionids Meteor Shower Reach Its Peak Tonight"
          ],
          [
           "How Superheroes Took Over the Multiplex"
          ],
          [
           "Drake Takes on All Comers"
          ],
          [
           "Why Big Money Can’t Easily Change Campus Politics"
          ],
          [
           "In Chloé Show, an Unseen Legacy With Quiet Jewish Roots"
          ],
          [
           "What the Republican Votes Against Jim Jordan Mean"
          ],
          [
           "How Much Watching Time Do You Have This Weekend?"
          ],
          [
           "Passion for Palestinian Cause Had Faded, but Violence in Gaza Reignited It"
          ],
          [
           "Hedi Slimane Drops a Surprise Celine Show"
          ],
          [
           "The Holmdel Horn, a Cosmic Shrine in New Jersey, Stays Put"
          ],
          [
           "The Weekender"
          ],
          [
           "In Praise of the Ever-Evolving Lauryn Hill"
          ],
          [
           "Brace Yourself for Lots of Taylor Swifts and Travis Kelces This Halloween"
          ],
          [
           "How to Wash a Comforter"
          ],
          [
           "Investors Fret as Daunting Bond Market Milestone Comes Into View"
          ],
          [
           "Maryland Police Officer Charged in Jan. 6 Capitol Attack"
          ],
          [
           "Dutch Royals Confront Their Country’s Colonial Legacy in South Africa"
          ],
          [
           "Dressed for Success: 7 Bands in Uniform"
          ],
          [
           "Kenneth Chesebro Pleads Guilty in Georgia Interference Case"
          ],
          [
           "The Glowing Secret That Mammals Have Been Hiding"
          ],
          [
           "‘Billions’ Season 7, Episode 11: Courting a Centrist Candidate"
          ],
          [
           "Forging Their Own Paths"
          ],
          [
           "Holloway’s Mother Talks About Finding ‘Justice for Natalee’"
          ],
          [
           "What to See, Eat and Buy in Porto, Portugal’s Creative Hub"
          ],
          [
           "What Are Your Obligations When Your Dog Impregnates Another One?"
          ],
          [
           "The Whimsical Yet Edgy Jewelry Brand That Celebrities Love"
          ],
          [
           "Listen: Voices From the Israel-Hamas Conflict; Kamala Harris; Music to Move To"
          ],
          [
           "Details of Biden’s $105 Billion Funding Request for Israel and Ukraine"
          ],
          [
           "Trump Fined $5,000 for Breaking Gag Order by Leaving Abusive Post Online"
          ],
          [
           "Hamas Releases Two U.S. Hostages, a Mother and Daughter"
          ],
          [
           "Shoving Attack Renews Calls for M.T.A. to Make Subway Platforms Safer"
          ],
          [
           "The Best of Late Night This Week"
          ],
          [
           "With a Chuckle and a Cool-Girl Smirk, Beth Stelling Moves Up a Comic Class"
          ],
          [
           "U.S. Deficit, Pegged at $1.7 Trillion, Effectively Doubled in 2023"
          ],
          [
           "Justices Reject, for Now, Missouri’s Effort to Override Federal Gun Laws"
          ],
          [
           "Alan Eisenberg, Forceful Head of Actors Union, Dies at 88"
          ],
          [
           "Halloween Is Tricky for Actors on Strike"
          ],
          [
           "What to Know About the Link Between Red Meat and Type 2 Diabetes"
          ],
          [
           "Junta Says Niger’s Ousted President Tried to Escape. His Lawyer Says, No Way."
          ],
          [
           "Supreme Court Lifts Limits for Now on Biden Officials’ Contacts With Tech Platforms"
          ],
          [
           "Flashback: Your Weekly History Quiz, October 22, 2023"
          ],
          [
           "Israel Prepares to Invade the Gaza Strip"
          ],
          [
           "Eva Kollisch, Lesbian Rights Advocate and Memoirist, Dies at 98"
          ],
          [
           "Hamas Released Two American Hostages"
          ],
          [
           "Since the War, Events About Palestinian Culture Have Been Called Off"
          ],
          [
           "Chesebro’s Plea Deal Could Undermine a Possible Trump Defense in Two Cases"
          ],
          [
           "‘Lessons in Chemistry’ and TV History"
          ],
          [
           "Roland Pattillo Dies at 89; Doctor Championed Henrietta Lacks"
          ],
          [
           "Trump Seeks Freeze of Gag Order in Election Case During Appeal"
          ],
          [
           "Ex-Florida Lawmaker Gets 4 Months in Prison for Covid-19 Relief Fraud"
          ],
          [
           "Promised Aid to Gaza Is Stalled by Wrangling, as Conditions Worsen"
          ],
          [
           "Trump Co-Defendant Says He Wants to Keep Lawyer Despite Possible Conflicts"
          ],
          [
           "DeSantis-Haley Rivalry Heats Up, With Attacks Focused on Israel"
          ],
          [
           "Biden and Aides Advise Israel to Avoid Widening War With Hezbollah Strike"
          ],
          [
           "Chaos and Frustration Rule as Republicans’ Bitter Speaker Fight Deepens"
          ],
          [
           "Some Contractions"
          ],
          [
           "10 Charged in $20 Million Scheme to Sell Black-Market H.I.V. Drugs"
          ],
          [
           "Quotation of the Day: Emerging Radiant Through the Chaos"
          ],
          [
           "Corrections: Oct. 21, 2023"
          ],
          [
           "DeSantis Says He Would Cancel Student Visas of Hamas Sympathizers"
          ],
          [
           "Little Punishment or Change After South Korea’s Halloween Calamity"
          ],
          [
           "Returning to Pakistan, Nawaz Sharif Aims for a Splashy Comeback"
          ],
          [
           "Today’s Wordle Review"
          ],
          [
           "Spelling Bee Forum"
          ],
          [
           "The Connections Companion"
          ],
          [
           "Got a Mouse in Your Apartment? These Scientists Will Take It."
          ],
          [
           "A $96 Million Hindu Temple Opens Amid Accusations of Forced Labor"
          ],
          [
           "How an Urban Forager Spends Her Sundays"
          ],
          [
           "Tupac Shakur’s Volatile Life, Delivered by Friendly Hands"
          ],
          [
           "Chapter 1: To Take Control, She Had to Run"
          ],
          [
           "Pushing the Body to Extremes to Find Serenity"
          ],
          [
           "Are Fears of A.I. and Nuclear Apocalypse Keeping You Up? Blame Prometheus."
          ],
          [
           "From Sketch to Runway, the Making of a Bridal Collection"
          ],
          [
           "How Ron DeSantis Lost the Internet"
          ],
          [
           "How Rich Donors and Loose Rules Are Transforming College Sports"
          ],
          [
           "Seeds of Native Knowledge Grow in North Carolina"
          ],
          [
           "One Partner Runs the Marathon — and the Other Does Everything Else"
          ],
          [
           "Even Short Runs Have Major Health Benefits"
          ],
          [
           "How Do You Charge a Friend for a Professional Favor?"
          ],
          [
           "Ali Stroker Has Tips for Fellow Sleep-Deprived Working Moms"
          ],
          [
           "Ukraine, a Sniper Mission and the Myth of the ‘Good Kill’"
          ],
          [
           "From Bush v. Gore to ‘Stop the Steal’: Kenneth Chesebro’s Long, Strange Trip"
          ],
          [
           "How the World Once Handled War Crimes"
          ],
          [
           "I Live in a Subdivided Apartment and My Roommate Refuses to Pay Rent"
          ],
          [
           "‘I Love You. I Am Sorry’: One Jew, One Muslim and a Friendship Tested by War"
          ],
          [
           "Climate Change Is Keeping Therapists Up at Night"
          ],
          [
           "It’s Not Just for Throuples Anymore"
          ],
          [
           "Top 10 Hardest and Easiest Spelling Bee Words, Oct. 14-20"
          ],
          [
           "Will the Middle East War Change Voters’ Views of Biden?"
          ],
          [
           "In Global Conflict Zones, Hospitals and Doctors Are No Longer Spared"
          ],
          [
           "After Jordan Falls, House Republicans Ask Who, and What, Is Next"
          ],
          [
           "‘Killers of the Flower Moon’ Has Some Surprising Cameos. Here’s a Guide."
          ],
          [
           "How $17.2 Million in Gold and Cash Disappeared From Toronto’s Airport"
          ],
          [
           "For the Most Vulnerable Hostages, a Plea for Mercy"
          ],
          [
           "First Convoy of Aid Enters Gaza Through Rafah Crossing"
          ],
          [
           "Russians Who Moved to Israel Over One War Are in the Middle of Another One"
          ],
          [
           "Silence on Social Media Is Not Complicity"
          ],
          [
           "Growing Old, for Better or Worse"
          ],
          [
           "I Negotiated Israel’s Hardest Hostage Deal. Here’s What’s Next in Gaza."
          ],
          [
           "We Must Not Kill Gazan Children to Try to Protect Israel’s Children"
          ],
          [
           "Running in a Body That’s My Own"
          ],
          [
           "Running for Our Lives"
          ],
          [
           "Elderly and Imprisoned: ‘I Don’t Count It as Living, Only Existing.’"
          ],
          [
           "Listen Early to This American Life: The Bear at the End of the Tunnel"
          ],
          [
           "Why We Should Fear China More Than Middle Eastern War"
          ],
          [
           "American Stories and a British Romance"
          ],
          [
           "How Much Influence Should Universities Give Their Donors?"
          ],
          [
           "Some Israeli Journalists Express Fear About Conveying Dissenting Views"
          ],
          [
           "Moments in the ‘Buy Nothing’ Life"
          ],
          [
           "These Starfish Face Extinction. Scientists Are Helping Them Mate."
          ],
          [
           "A Mother in Maine Rallied for Her Son’s Emotional Support Chickens"
          ],
          [
           "New Evidence Found of Rape and Torture by Russian Forces in Ukraine"
          ],
          [
           "Easy Banana Bread, Butternut Squash Soup and Roasted Fish With Leeks and Salsa Verde"
          ],
          [
           "The Path to Reducing Pedestrian Deaths Is Steep but Straight"
          ],
          [
           "Bobby Charlton, an English Soccer Great, Dies at 86"
          ],
          [
           "Women Testify That Fashion Mogul Lured Them to ‘Sordid’ Bedroom"
          ],
          [
           "Web Summit Chief Steps Down Over Israel Remarks"
          ],
          [
           "Americans, Weary of Foreign Conflicts, Face Another"
          ],
          [
           "Peace Summit in Egypt Shows a Shift in Rhetoric but no Consensus"
          ],
          [
           "92NY Pulls Event With Acclaimed Writer Who Criticized Israel"
          ],
          [
           "Martin Goetz, Who Received the First Software Patent, Dies at 93"
          ],
          [
           "Crossings at the U.S. Southern Border Are Higher Than Ever"
          ],
          [
           "Synagogue Leader Is Killed in Detroit, but Motive Is Not Known, Authorities Say"
          ],
          [
           "How Two American Hostages Were Set Free From Gaza"
          ],
          [
           "Actors and Hollywood Studios to Restart Negotiations"
          ],
          [
           "You’re Onto Something"
          ],
          [
           "First Humanitarian Aid Reaches a Hard-Pressed Gaza"
          ],
          [
           "After Bruising Vote, Indigenous Australians Say ‘Reconciliation Is Dead’"
          ],
          [
           "Tompkins Square Dog Parade Draws Thousands After Near-Cancellation"
          ],
          [
           "Quotation of the Day: For the Future of Maui, Native Hawaiians Push for Honoring Its Past"
          ],
          [
           "Corrections: Oct. 22, 2023"
          ],
          [
           "‘S.N.L’ Welcomes Bad Bunny and Mick Jagger"
          ],
          [
           "Ozempic and Wegovy Don’t Cost What You Think They Do"
          ],
          [
           "Stories on Living Small, at Large"
          ],
          [
           "Hulu, HBO and Apple TV+ Know What You’re Going Through at Work"
          ],
          [
           "A Glimpse Into Spain’s Future, Where Water Comes by Truck, Not Tap"
          ],
          [
           "Spelling Bee Forum"
          ],
          [
           "The Connections Companion"
          ],
          [
           "Today’s Wordle Review"
          ],
          [
           "‘While He Waited, He Turned His Gaze in Our Direction’"
          ],
          [
           "George Santos Swore He’d Never Talk to Me. Then the Phone Rang."
          ],
          [
           "Drone Warfare Comes to Washington’s Opera Stage"
          ],
          [
           "The Spirited History of ‘Ghost’"
          ],
          [
           "U.S. Sends More Missile Defense Systems to Middle East"
          ],
          [
           "Australia Says China Is Poised to Lift Punishing Wine Tariffs"
          ],
          [
           "New Stories Put a Complicated Spin on Familiar Traumas"
          ],
          [
           "Why Olive Oil Is So Expensive Right Now"
          ],
          [
           "With Bamboo and Jade, Silkpunk Rebuilds History"
          ],
          [
           "Inside the Commando Raids Unnerving Russia in Crimea"
          ],
          [
           "The Race to Save Our Secrets From the Computers of the Future"
          ],
          [
           "A Hospice Nurse on Embracing the Grace of Dying"
          ],
          [
           "A Professional Pumpkin Carver Spills His Guts"
          ],
          [
           "Three Weapons That Israel and Ukraine Both Need From the U.S."
          ],
          [
           "From ‘Goodfellas’ to ‘Flower Moon’: How Scorsese Has Rethought Violence"
          ],
          [
           "When the Thrill of Victory Felt Truly Thrilling"
          ],
          [
           "Peace, a Forgotten Word, Renews its Claim in the Holy Land"
          ],
          [
           "Maduro Antagonist on Track to Win Venezuela Primary"
          ],
          [
           "Meet the Republicans Running for Speaker"
          ],
          [
           "Far-Right Candidate Heads to Runoff in Argentina Election"
          ],
          [
           "What Most American Schools Do Wrong"
          ],
          [
           "Why Jews Cannot Stop Shaking Right Now"
          ],
          [
           "A Brief History of a Problematic Appetizer"
          ],
          [
           "A Different Border Crisis Mirrors What’s Happening in the U.S."
          ],
          [
           "The Sunday Read: ‘The Genius Behind Hollywood’s Most Indelible Sets’"
          ],
          [
           "The Worst Scandal in American Higher Education Isn’t in the Ivy League"
          ],
          [
           "Missile Strike Kills Six Workers at Postal Depot, Ukraine Says"
          ],
          [
           "Martin Scorsese’s New Film"
          ],
          [
           "What’s Going On in This Picture? | Oct. 23, 2023"
          ],
          [
           "Israel Evacuates More Areas Near Lebanon Amid Clashes With Hezbollah"
          ],
          [
           "Foxconn, Apple’s Manufacturer in China, Is Said to Be Under Tax Audit"
          ],
          [
           "Israel Strikes West Bank Mosque, Killing Two"
          ],
          [
           "A Fast and Easy Focaccia for Just a Bit of Baking"
          ],
          [
           "A President, a Billionaire and Questions About Access and National Security"
          ],
          [
           "In Northern Gaza, the Price of a Ride South Is Out of Reach for Many"
          ],
          [
           "Review: A ‘Rodelinda’ Brings Promise of Handel on the Hudson"
          ],
          [
           "Betsy Rawls, Winner of Eight Golf Majors, Dies at 95"
          ],
          [
           "Who Collects Nazi Memorabilia?"
          ],
          [
           "Strong First Weekend for ‘Killers,’ but Taylor Swift Was Still No. 1"
          ],
          [
           "At the Met, a Refurbished ‘Bohème’ and an Art Deco ‘Ballo’"
          ],
          [
           "Israeli Reservist From Maryland Is Killed Near Lebanon Border"
          ],
          [
           "Tim Scott, Who Supports Aid to Israel and Ukraine, Opposes a Package With Both"
          ],
          [
           "Philadelphia Orchestra and Musicians Reach Contract Deal"
          ],
          [
           "Jack Anderson, Longtime Dance Critic for The Times, Dies at 88"
          ],
          [
           "Nashville Chief’s Son Is Sought in Shooting of Two Officers"
          ],
          [
           "Monday Briefing: Israel Orders More Evacuations"
          ],
          [
           "LinkedIn Issues Warning to Site Shaming Pro-Palestinian Sentiment"
          ],
          [
           "Bad Habits"
          ],
          [
           "Israelis and Gazans Flee Amid Clashes and Warnings of Wider Regional War"
          ],
          [
           "U.S. Advises Israel to Delay Gaza Invasion, Officials Say"
          ],
          [
           "No Evidence of Hate Crime Has Emerged in Killing of Synagogue Leader, Officials Say"
          ],
          [
           "Hamas Fails to Make Case That Israel Struck Hospital"
          ],
          [
           "‘Angry and Afraid’: Tensions High in New York Over Israel-Hamas War"
          ],
          [
           "No Corrections: Oct. 23, 2023"
          ],
          [
           "‘Here We Are’ Review: The Last Sondheim, Cool and Impossibly Chic"
          ],
          [
           "Monday Briefing"
          ],
          [
           "The U.K. Wants a Cheaper Way to Handle Migrants. But Not This One."
          ],
          [
           "What’s on TV This Week: ‘Fellow Travelers’ and ‘Winter House’"
          ],
          [
           "Word of the Day: plaudit"
          ],
          [
           "Today’s Wordle Review"
          ],
          [
           "Spelling Bee Forum"
          ],
          [
           "The Connections Companion"
          ],
          [
           "When Campaign Cash Withers"
          ],
          [
           "They Wished to Be Buried in Israel. But They Died on the Eve of War."
          ],
          [
           "How High Interest Rates Sting Bakers, Farmers and Consumers"
          ],
          [
           "When Siskel and Ebert Were the Names Above the Title"
          ],
          [
           "Gutting American Cuisine"
          ],
          [
           "Three Poetry Books That Take the Measure of Life, and Death"
          ],
          [
           "Do Schools Need to Do More to Hold Students Accountable?"
          ],
          [
           "Baaba Maal’s Dakar"
          ],
          [
           "Stone by Ancient Stone, Mexico Recovers Its Lost Treasures"
          ],
          [
           "Do You Really Need to Shower Every Day?"
          ],
          [
           "Visitors Will Be Able to See Prospect Park’s Waterfall. Eventually."
          ],
          [
           "How a Few Days Sailing in the Aegean Changed My Mind About the Fundamental Nature of Things"
          ],
          [
           "The Blind Ambition of Chris Christie"
          ],
          [
           "New SAT Data Highlights the Deep Inequality at the Heart of American Education"
          ],
          [
           "If Everyone Gets an A, No One Gets an A"
          ],
          [
           "My Father Didn’t Want to Live if He Had Dementia. But Then He Had It."
          ],
          [
           "To Make ‘Fellow Travelers,’ Ron Nyswaner Had to Fall in Love"
          ],
          [
           "A New Era of Psychedelics in Oregon"
          ],
          [
           "The 25 Best Restaurants in Philadelphia Right Now"
          ],
          [
           "$900,000 Homes in California"
          ],
          [
           "Why Do Women Still Wear Stilettos?"
          ],
          [
           "Why the World Is Watching Iran"
          ],
          [
           "Thurston Moore Revisits His Sonic Youth"
          ],
          [
           "Republicans Grapple With Being Speakerless, but Effectively Leaderless, Too"
          ],
          [
           "Developing World Sees Double Standard in West’s Actions in Gaza and Ukraine"
          ],
          [
           "If Trump Trial Isn’t Broadcast Live, a Plea to Record It for Posterity"
          ],
          [
           "Fight for Speaker Reveals Four Types of House Republicans"
          ],
          [
           "Kill and Be Killed: Ukraine’s Bloody Battlefield Equation"
          ],
          [
           "The People Who Broke the House"
          ],
          [
           "‘The Headlines’ in the A.M. Will Return Soon"
          ],
          [
           "Editors’ Note: Gaza Hospital Coverage"
          ],
          [
           "The Problem With a $2 Trillion Deficit"
          ],
          [
           "Chevron to Acquire Hess for $53 Billion in Latest Major Oil Deal"
          ],
          [
           "A Delayed Invasion"
          ],
          [
           "Companies Are Caught in the Israel-Hamas War’s Crossfire"
          ],
          [
           "How to Win Your Next UNO Game"
          ],
          [
           "California Boosts Minimum Wage for Health Care and Fast-Food Workers"
          ],
          [
           "Do You Recognize These Passages From Classic Books?"
          ],
          [
           "Iranian Teenager Reported Brain Dead by State Media"
          ],
          [
           "War Has Smashed Assumptions About Israeli-Palestinian Conflict"
          ],
          [
           "Tracking the Remnants of Otis"
          ],
          [
           "As Abortion Access Shrinks, Hospitals Fill in the Gaps"
          ],
          [
           "Nonunion Workers Are Playing a Big Role in the Autoworkers’ Strike"
          ],
          [
           "Women in Iceland Go on Strike Against Gender Inequality"
          ],
          [
           "Aleksei Navalny Forcibly Removed From Jail Cell After Protest"
          ],
          [
           "U.A.W. Expands Strike to a Ram Plant in Michigan"
          ],
          [
           "Our Beloved Lemony Shrimp and Bean Stew"
          ],
          [
           "The Doyenne of Classical Publicists Takes on a Final Client: Herself"
          ],
          [
           "Rapid Antarctic Melting Looks Certain, Even if Emissions Goals Are Met"
          ],
          [
           "The Stratospheric Rise of Lionel Messi’s Pink Jersey"
          ],
          [
           "Lying All the Way to the Bank in ‘America Fantastica’"
          ],
          [
           "Were the Fake Trump Signs a Prank? Or a Political Dirty Trick?"
          ],
          [
           "Flight of the Drones Lights Up Central Park"
          ],
          [
           "Turkey’s President Sends Sweden’s NATO Bid to Parliament for Ratification"
          ],
          [
           "Review: The Great Emerson String Quartet Takes Its Final Bow"
          ],
          [
           "Thelma Golden Wins Gish Prize"
          ],
          [
           "Review: Years Late, a Young Pianist Finally Gets to Carnegie"
          ],
          [
           "Face Search Engine PimEyes Blocks Searches of Children’s Faces"
          ],
          [
           "How the Israel-Hamas War Imperils Action Against Global Warming"
          ],
          [
           "Off-Duty Pilot Accused of Trying to Cut the Engines on an Alaska Airlines Flight"
          ],
          [
           "Chicago’s Newest Must-Have Fashion Accessory"
          ],
          [
           "Read the document"
          ],
          [
           "Federal Investigators Widen Tesla Inquiry, Company Says"
          ],
          [
           "War With Hamas Hits Israel’s Economy, Central Bank Says"
          ],
          [
           "Love Letter: When Google Search Reveals Too Much"
          ],
          [
           "In ‘Seafood Simple,’ Eric Ripert Includes Techniques and Not-So-Simple Recipes"
          ],
          [
           "Taylor Swift’s ‘Cruel Summer’ Hits No. 1 After Four Years"
          ],
          [
           "Leftist Upstart Threatens to Shake Up German Politics"
          ],
          [
           "Gavin Newsom Wants to Export California’s Climate Laws to the World"
          ],
          [
           "Israel’s Moral and Political Dilemmas"
          ],
          [
           "Review: These Art-Historical Nudes Become Bodies in Time"
          ],
          [
           "Who Is Jackson Mahomes, and Why Are Swifties Concerned?"
          ],
          [
           "5 Takeaways From Argentina’s Election"
          ],
          [
           "Biden Administration Moves to Ban a Solvent Linked to Cancer"
          ],
          [
           "The Rock’s Wax Figure Will Get Redo, Museum Says"
          ],
          [
           "‘I Have Your Back’: Doug Emhoff Draws on His Faith After Hamas Attack"
          ],
          [
           "Plea Hearing Set for 2024 in Indonesian Bombings Case"
          ],
          [
           "Israel Shares Raw Footage of the Oct. 7 Attacks"
          ],
          [
           "92NY Halts Literary Series After Pulling Author Critical of Israel"
          ],
          [
           "Train Collision in Bangladesh Leaves at Least 17 Dead"
          ],
          [
           "Trance Music Is Coming Back. Evian Christ Is Part of the Revival."
          ],
          [
           "Natalie Zemon Davis, Historian of the Marginalized, Dies at 94"
          ],
          [
           "‘5 Families’ and Factions Within Factions: Why the House G.O.P. Can’t Unite"
          ],
          [
           "‘Persons of Interest’ Identified in Killing of Detroit Synagogue Leader, Police Say"
          ],
          [
           "Tuesday Briefing: Israel Intensifies Gaza Strikes"
          ],
          [
           "A Push for Tech Hubs in Overlooked Places Picks 31 to Vie for Money"
          ],
          [
           "Mary Lou Retton Is Released From Hospital, Daughter Says"
          ],
          [
           "Menendez Pleads Not Guilty to Plotting to Be an Agent of Egypt"
          ],
          [
           "No Longer Scotland’s Leader, Sturgeon Focuses on Learning to Drive"
          ],
          [
           "Israel Intensifies Airstrikes on Gaza"
          ],
          [
           "Hamas Released Two More Hostages"
          ],
          [
           "Park Seo-Bo, Whose Quiet Paintings Trumpeted Korean Art, Dies at 91"
          ],
          [
           "Death Toll in New Orleans ‘Super Fog’ Pileups Rises to Eight"
          ],
          [
           "Behind the Editors’ Note on Gaza Hospital Coverage"
          ],
          [
           "Writers Guild Faces Backlash for Not Condemning Hamas Attack"
          ],
          [
           "The Secret of America’s Economic Success"
          ],
          [
           "With Their Soldiers Poised to Attack, Israelis Try to Decipher the Delay"
          ],
          [
           "With War in Israel, the Cancel Culture Debate Comes Full Circle"
          ],
          [
           "U.S. Raises Concerns About Israel’s Plan of Action in Gaza, Officials Say"
          ],
          [
           "Israel Intensifies Strikes on Gaza as Its Allies Call for More Palestinian Aid"
          ],
          [
           "All In on Iowa and a Speech on Race: Tim Scott Looks to Revive Struggling Campaign"
          ],
          [
           "How to Win the Restaurant Reservation Game"
          ],
          [
           "Light Spray"
          ],
          [
           "13 Law Enforcement Officers Killed in Ambush in Mexico"
          ],
          [
           "Quotation of the Day: Borrowers Start to Process High Rates Won’t Fall Soon"
          ],
          [
           "Quotation of the Day: Assumptions on Israel and the Palestinians Are Smashed by War"
          ],
          [
           "Corrections: Oct. 24, 2023"
          ],
          [
           "Energy Agency Sees Peaks in Global Oil, Coal and Gas Demand by 2030"
          ],
          [
           "Jamaica Fears Brain Drain as Teachers Leave for U.S. Schools"
          ],
          [
           "What It’s Like to Be Young in Ukraine Now"
          ],
          [
           "Tuesday Briefing"
          ],
          [
           "Word of the Day: quirky"
          ],
          [
           "‘Honest Mistake,’ Says U.S. Politician Arrested on Gun Charge in Hong Kong"
          ],
          [
           "Late Night Finds the House Speaker Pool Lacking in Diversity"
          ],
          [
           "See You Later, Not-An-Alligator"
          ],
          [
           "Today’s Wordle Review"
          ],
          [
           "Spelling Bee Forum"
          ],
          [
           "The Connections Companion"
          ],
          [
           "With Rent Out of Reach, a Back Seat Becomes a Bedroom"
          ],
          [
           "How Aid in Dying Became Medical, Not Moral"
          ],
          [
           "New Normal or No Normal? How Economists Got It Wrong for 3 Years."
          ],
          [
           "Carving Pumpkins"
          ],
          [
           "How to Enforce a Landmark Pollution Law? It’s Complicated."
          ],
          [
           "Cohen Denounces Trump During Courtroom Face-Off"
          ],
          [
           "Stabbed. Kicked. Spit On. Violence in American Hospitals Is Out of Control."
          ],
          [
           "A Book Critic as Wild for Food as He Is for Literature"
          ],
          [
           "A New, Feminist Retelling of ‘1984’"
          ],
          [
           "Under the Leather Jackets: Anxiety, Bravado and the Keys to TV Stardom"
          ],
          [
           "In ‘Organ Meats,’ Best Friends Cling to Each Other Like a Dog Pack"
          ],
          [
           "Why My Fall Made Me Feel So Ashamed"
          ],
          [
           "Unhappy Animals Languish in Overcrowded Shelters"
          ],
          [
           "At Home With Roz Chast"
          ],
          [
           "Stabbed. Kicked. Spit On. Violence in American Hospitals Is Out of Control."
          ],
          [
           "Is Pumpkin Good for You?"
          ],
          [
           "Is Roz Chast ‘Terrible at Decorating’? You Decide."
          ],
          [
           "Carolyn Bessette Kennedy, Ghost Influencer"
          ],
          [
           "Is the American Dream More Dead Than Alive?"
          ],
          [
           "How Columbia Sportswear Is Loosening Its Ties to Asia"
          ],
          [
           "She Heeded Biden’s Warning to Migrants. Will She Regret It?"
          ],
          [
           "Clean Energy, Cherished Waters and a Sacred California Rock Caught in the Middle"
          ],
          [
           "Do You Think Any of These Mythical Creatures Might Be Real?"
          ],
          [
           "Stop, Before You Close This Tab (or Any Others) …"
          ],
          [
           "The Jewish Left Is Trying to Hold Two Thoughts at Once"
          ],
          [
           "When a Book Deal Feels Like ‘Winning the Middle-Age Lottery’"
          ],
          [
           "This Is What Keeps My Eco-Anxiety in Check"
          ],
          [
           "How the Right’s Purity Tests Are Haunting the House G.O.P."
          ],
          [
           "Two Illinois Parishes Live on Either Side of a Catholic Divide"
          ],
          [
           "‘It’s Like Our Country Exploded’: Canada’s Year of Fire"
          ],
          [
           "We’re Disconnected and Lonely. David Brooks Has a Solution."
          ],
          [
           "Israel Says It Will Destroy Hamas. But Who Will Govern Gaza?"
          ],
          [
           "In Tight G.O.P. Primary in Ohio, Newt Gingrich Picks His Candidate"
          ],
          [
           "Millennials and Gen Z Are Tilting Left and Staying There"
          ],
          [
           "Inside Poland Spring’s Hidden Attack on Water Rules It Didn’t Like"
          ],
          [
           "She Made Pesto. People Started Spilling Their Secrets."
          ],
          [
           "Something Wicked This Way Paddles"
          ],
          [
           "The Lawyers Now Turning on Trump"
          ],
          [
           "G.M. Profit Down 7% in Strike-Affected Quarter"
          ],
          [
           "Reviving the American Dream"
          ],
          [
           "‘Miss Juneteenth,’ ‘Dredd’ and More Streaming Gems"
          ],
          [
           "‘Milli Vanilli’ Review: Blame It on the Fame"
          ],
          [
           "Despite State Bans, Legal Abortions Didn’t Fall Nationwide in Year After Dobbs"
          ],
          [
           "China Dismisses Defense Minister Amid Swirl of Speculation"
          ],
          [
           "Weekly Student News Quiz: The Israel-Hamas War, a Viral Video, SAT Data"
          ],
          [
           "Several People Hospitalized in Austria After Taking Suspected Fake Ozempic"
          ],
          [
           "Is E.S.G. Falling Out of Favor?"
          ],
          [
           "Trump Files More Motions to Derail Federal Jan. 6 Case"
          ],
          [
           "G.O.P. Nominates Mike Johnson for Speaker After Spurning Emmer"
          ],
          [
           "Louis Vuitton Strikes Another Major Deal in Sports"
          ],
          [
           "Behind a Proposal to Create a Marine Sanctuary Along California’s Central Coast"
          ],
          [
           "Black Sabbath Ballet Turns Up the Volume on a Varied London Season"
          ],
          [
           "Macron Says Israel Must Fight Hamas ‘Without Mercy but Not Without Rules’"
          ],
          [
           "María José Llergo’s Songs Have Flamenco Roots. They Raise a Ruckus."
          ],
          [
           "Jenna Ellis, Former Trump Lawyer, Pleads Guilty in Georgia Election Case"
          ],
          [
           "British Freighter Sinks in Fatal North Sea Collision"
          ],
          [
           "Media Companies Eye Cricket-Loving Diaspora in the U.S."
          ],
          [
           "The ‘Devil’s Playground’ of Urban Combat That Israel Is Preparing to Enter"
          ],
          [
           "After a Long Intermission, a New Act for a Flagship Paris Theater"
          ],
          [
           "U.A.W.’s Expanding Strikes Could Signal an Endgame or a Long Struggle"
          ],
          [
           "Amid Intense Fighting, Ukraine Orders Evacuation of Children"
          ],
          [
           "Five Quick Fall Pastas"
          ],
          [
           "Feeling Stressed? These 5 Books Can Help."
          ],
          [
           "Edwaard Liang Appointed Artistic Director of Washington Ballet"
          ],
          [
           "Men Accused of Stealing 2 Million Dimes Face Federal Charges"
          ],
          [
           "85-Year-Old Held Hostage in Gaza Says She ‘Went Through Hell’"
          ],
          [
           "Georgia Supreme Court Allows State’s Six-Week Abortion Ban to Remain in Effect"
          ],
          [
           "To Star at the Venice Biennale, Artists Need Patrons’ Deep Pockets"
          ],
          [
           "Meta Accused by States of Using Features to Lure Children to Instagram and Facebook"
          ],
          [
           "Democratic Group Steps Up Warnings Over a No Labels Third Party Bid"
          ],
          [
           "‘Elephant’ at 20: A Drama About a Mass Shooting Remains Chilling"
          ],
          [
           "New York Has Regained Its Lost Jobs. Why Doesn’t It Feel That Way?"
          ],
          [
           "Who is Tom Emmer, the latest Republican nominee for speaker?"
          ],
          [
           "Donald Trump and Christian Nationalism"
          ],
          [
           "K-Pop Group Celebrates Wrong Rangers at Texas Show"
          ],
          [
           "Latest Figure to Flip in Election Case Had Direct Ties to Trump and Giuliani"
          ],
          [
           "Panera Bread’s ‘Charged Lemonade’ Is Linked to Death in Lawsuit"
          ],
          [
           "Morgan Freeman Would Like to Tell You the History of Everything"
          ],
          [
           "Read the document"
          ],
          [
           "The Rolling Stones Played Old! They Played New!"
          ],
          [
           "Pilot Who Disrupted Flight Said He Had Taken Psychedelic Mushrooms, Complaint Says"
          ],
          [
           "Columbia University Postpones a Fund-Raiser as Divisions Over War Deepen"
          ],
          [
           "Clean Energy’s Powerful Momentum"
          ],
          [
           "Cruise’s Driverless Taxi Service in San Francisco Is Suspended"
          ],
          [
           "Dr. Donlin Long, Wide-Ranging Medical Innovator, Is Dead at 89"
          ],
          [
           "Tiny Love Stories: ‘You Have Me Now’"
          ],
          [
           "Dining’s Past Is on the Menu at Clara in the New-York Historical Society"
          ],
          [
           "This Is Your Brain on Crime"
          ],
          [
           "Covid Shots May Slightly Raise Stroke Risk in the Oldest Recipients"
          ],
          [
           "To Go Viral on TikTok, Do This"
          ],
          [
           "In Texas, Local Laws to Prevent Travel for Abortions Gain Momentum"
          ],
          [
           "Watchdog Says Trump Didn’t Influence Decision on F.B.I. Headquarters"
          ],
          [
           "Transcript: Ezra Klein Interviews Spencer Ackerman and Peter Beinart"
          ],
          [
           "Our 9th Annual Student Review Contest"
          ],
          [
           "Snap Reports 5% Revenue Increase, Reversing Declines in Growth"
          ],
          [
           "As Gaza Barrage and Deaths Surge, Angry Accusations Fly at U.N."
          ],
          [
           "Joseph J. Kohn, Who Broke New Ground in Calculus, Dies at 91"
          ],
          [
           "Microsoft’s A.I. Investment Stabilizes Its Cloud Business"
          ],
          [
           "Alphabet Has Strong Ad Sales but Cloud Business Disappoints"
          ],
          [
           "On the Agenda for Australia’s State Visit: China, Trade and a U.S. Marine Band"
          ],
          [
           "Wednesday Briefing: Gaza Death Toll Climbs"
          ],
          [
           "What to Know About Dengue Fever as Cases Spread to New Places"
          ],
          [
           "Why Health Care Workers Are Burning Out"
          ],
          [
           "Dave Chappelle’s Remarks on Israel Draw Cheers and Walkouts in Boston"
          ],
          [
           "Ukrainian ‘Artifacts’ Seized in Spain May Not Be Treasures, Experts Say"
          ],
          [
           "‘I Went Through Hell,’ Freed Israeli, 85, Says of Subterranean Captivity in Gaza"
          ],
          [
           "Britney Spears Doesn’t Need to Narrate Her Memoir for It to Sing"
          ],
          [
           "Families of Hostages Gather in New York to Pressure the United Nations"
          ],
          [
           "Polish Bishop Resigns After Diocese Is Rocked by Sex Scandal"
          ],
          [
           "After Outcry, Writers Guild Tries to Explain Silence on Hamas Attack"
          ],
          [
           "All Eyes on the Rafah Border Crossing"
          ],
          [
           "A Third Speaker Nominee Failed to Unify Republicans"
          ],
          [
           "Senate Confirms Biden’s Nominee to Lead the F.A.A."
          ],
          [
           "White House Says a Cease-Fire Would Only Benefit Hamas"
          ],
          [
           "The Palestinian Republic of Fear and Misinformation"
          ],
          [
           "Traffic Tickets Are No Bar to Owning a Gun in New York City, Judge Rules"
          ],
          [
           "A Fall-Themed Menu for Australia’s State Dinner"
          ],
          [
           "Cease-fire Calls Dominate Fiery U.N. Security Council Session"
          ],
          [
           "Who Invited Ivanka?"
          ],
          [
           "Top Adviser to Mayor Adams Is Being Investigated Over Altercation"
          ],
          [
           "Review: In ‘Daphne,’ Remaking a Myth, With Mixed Results"
          ],
          [
           "U.S. Cites ‘High Confidence’ That Palestinian Rocket Caused Hospital Blast"
          ],
          [
           "Quotation of the Day: Those Doritos Too Expensive? Stores Offer Their Own Version."
          ],
          [
           "Corrections: Oct. 25, 2023"
          ],
          [
           "Richard Roundtree, Star of ‘Shaft,’ Is Dead at 81"
          ],
          [
           "It’s a Must"
          ],
          [
           "An R.S.V. Shot for Infants Is in Short Supply. Here’s What to Know."
          ],
          [
           "A Close Look at Some Key Evidence in the Gaza Hospital Blast"
          ],
          [
           "Women Will Vote at a Vatican Meeting for the First Time"
          ],
          [
           "Wednesday Briefing"
          ],
          [
           "Rishi Sunak Is Trying His Best. He’s Probably Still Doomed."
          ],
          [
           "Jimmy Kimmel: ‘Altoids Last Longer Than These Republican Nominees’"
          ],
          [
           "Word of the Day: mélange"
          ],
          [
           "Today’s Wordle Review"
          ],
          [
           "Spelling Bee Forum"
          ],
          [
           "The Connections Companion"
          ],
          [
           "New York City Has a Bold Plan to Fix Its Housing Crisis. Will It Work?"
          ],
          [
           "Your Guide Through America’s Dining Scene"
          ],
          [
           "Floating Home"
          ],
          [
           "Gifts for Gardeners? They’ve Got Them in Spades."
          ],
          [
           "Pick a Side. Pick a Side. Pick a Side. Now."
          ],
          [
           "The Father-Son Struggle That Helped Ensure IBM’s Success"
          ],
          [
           "The Best True Crime to Stream: Stories That Are Very Scary, and Real"
          ],
          [
           "If You Plant Milkweed, They Will Come. (And Not Just the Butterflies.)"
          ],
          [
           "When the Skyscraper You Hate Blocks the Skyscraper You Love"
          ],
          [
           "A Reclusive Horror Designer Pivoted From Religious Games"
          ],
          [
           "If You Can Take the Cable Car to the Colosseum, You’re in Vietnam"
          ],
          [
           "Hawaii Bribery Scandal Casts a Shadow Over Lahaina’s Ruins"
          ],
          [
           "A New Subway Attack, and New Pressure for Protective Gates"
          ],
          [
           "Why Do Fan-Made Trailers Rule the Internet?"
          ],
          [
           "It’s Covid Season. What Are the New Rules for Staying Safe?"
          ],
          [
           "As Ukraine War Grinds On, Widows Try to See Life After Loss"
          ],
          [
           "It Shouldn’t Be This Easy to Lose Your Health Insurance"
          ],
          [
           "Is It Ever OK to Use Strangers as Content for Social Media?"
          ],
          [
           "How Philip Roth’s Raunchiest Novel Made It to the Stage"
          ],
          [
           "A Luxurious Squash and Lamb Stew for the Holidays"
          ],
          [
           "Why ‘The Golden Bachelor’ Terrifies Me"
          ],
          [
           "Rose Petals and Peacock Brains: What It Took to Be an ‘Emperor of Rome’"
          ],
          [
           "The Palestine Double Standard"
          ],
          [
           "Mark Rothko at Full Scale, and in Half Light"
          ],
          [
           "What the U.S. Has Argued in the Google Antitrust Trial"
          ],
          [
           "‘We Still Don’t Have Answers’: A Uvalde Mother Is Running for Mayor"
          ],
          [
           "Can We Save the Redwoods by Helping Them Move?"
          ],
          [
           "$400,000 Homes in Oklahoma, South Carolina and Louisiana"
          ],
          [
           "Visit the Library From the Comfort of Your Own Phone"
          ],
          [
           "Margaret Renkl Writes in the Space Between Grief and Hope"
          ],
          [
           "Netanyahu Must Go"
          ],
          [
           "Living In ... City Island, the Bronx"
          ],
          [
           "City Island: A ‘Little Magical Wonderland’ in the Bronx"
          ],
          [
           "Pick a Side. Pick a Side. Pick a Side. Now."
          ],
          [
           "I Wrote This Essay, but Then Changed My Mind"
          ],
          [
           "‘Chaos Doesn’t Scare Me. American Decline Does.’"
          ],
          [
           "With Plea Deals in Georgia Trump Case, Fani Willis Is Building Momentum"
          ],
          [
           "Another Day of G.O.P. Chaos Winds Up With Speaker Nominee No. 4"
          ],
          [
           "Bush’s Institute Issues an Urgent Plea for Congress to Renew His AIDS Program"
          ],
          [
           "Trump’s Lawyers Are Going Down. Is He?"
          ],
          [
           "Why Israel Is Delaying the Ground Invasion"
          ],
          [
           "Chaos in the House"
          ],
          [
           "Tour de France Route Steers Clear of Olympics, and Paris"
          ],
          [
           "A Hindu Goddess Festival Where Indian Progressivism Is Alive and Well"
          ],
          [
           "For a Grandmother in Gaza, History Is Scarier Than Airstrikes"
          ],
          [
           "Transgender Ruling Is Step Forward for L.G.B.T.Q. Rights in Japan"
          ],
          [
           "Stop Micromanaging Halloween — Let Your Kids Be Free"
          ],
          [
           "Long on Hype, A.I. Is No Guarantee for Profits"
          ],
          [
           "A traveler stranded in Acapulco recounts horrific conditions."
          ],
          [
           "Gavin Newsom, on Climate Mission to China, Gets an Audience With Xi"
          ],
          [
           "How Can I Get Myself Invited to My Husband’s Family Parties?"
          ],
          [
           "Is California’s Fire Season Over?"
          ],
          [
           "Jill Medvedow, Who Remade ICA Boston, to Depart"
          ],
          [
           "The Taylor and Travis Fan Fiction That’s Tearing TikTok Apart"
          ],
          [
           "Thirst and Hunger Grow in Besieged Gaza Amid Israeli Bombardment"
          ],
          [
           "Will Playing the Lottery in Southern California Turn You Into a Billionaire?"
          ],
          [
           "Why Hurricane Otis Caught Many By Surprise"
          ],
          [
           "What I Read and Watch to Decompress"
          ],
          [
           "Sam Bankman-Fried Set to Testify at His Fraud Trial"
          ],
          [
           "Do You Have Questions About the Trump Trials?"
          ],
          [
           "Iwuk Edesi, Bright and Savory and Satisfying"
          ],
          [
           "A Radioactive Sea of Magma Hides Under the Surface of Mars"
          ],
          [
           "Biden Seeks to Tame Oil Prices if Mideast Conflict Sends Them Soaring"
          ],
          [
           "Chasing Big Mergers, Oil Executives Dismiss Peak Oil Concerns"
          ],
          [
           "Nashville Chief’s Son, Wanted in Shooting of Two Officers, Is Found Dead"
          ],
          [
           "Among New York’s Sidewalk Sideshows, 2 Goats and a Story of Despair"
          ],
          [
           "House Elects Mike Johnson as Speaker, Embracing a Hard-Right Conservative"
          ],
          [
           "Newly Published Poetry, From Katy Lederer to The Shining"
          ],
          [
           "My Son Poses a Threat to My Safety. Should I Evict Him?"
          ],
          [
           "Terry Dischinger, College and N.B.A. Star and Olympian, Dies at 82"
          ],
          [
           "Review: Slow Poses and Clouds of White Powder"
          ],
          [
           "Republicans Nominate Louisiana’s Mike Johnson for House Speaker"
          ],
          [
           "Public Schools Struggle to Say the Right Thing About the Israel-Hamas War"
          ],
          [
           "A Giant of Painting Sheds New Light on Darkness"
          ],
          [
           "Salmonella Outbreak Linked to Packaged Onions Sickens 73"
          ],
          [
           "Five TV Treats for Halloween"
          ],
          [
           "Trump Told to Pay $10,000 in New Punishment for Breaking Gag Order"
          ],
          [
           "The Challenges Facing Sam Bankman-Fried’s Lawyers"
          ],
          [
           "Shoplifting Surges in U.K., Putting Workers in Scary Situations"
          ],
          [
           "Publisher Scholastic Backtracks on Isolating Works on Race and Gender"
          ],
          [
           "The Exhibition Making the Case for Art Without Men"
          ],
          [
           "‘Partnership’ Review: A Lost Tale of Ambition That Resonates"
          ],
          [
           "In Johnson, House Republicans Elevate One of Their Staunchest Conservatives"
          ],
          [
           "Let’s Talk About Holiday Family Drama"
          ],
          [
           "This Showstopping Three-Course Dinner Is as Easy and Light as It Gets"
          ],
          [
           "Biden Reaffirms Support for Israel but Calls for Protection of Civilians"
          ],
          [
           "Poison Specialist Accused in Wife’s Death, Authorities Say"
          ],
          [
           "Johnson Played Leading Role in Effort to Overturn 2020 Election"
          ],
          [
           "Taylor Swift’s ‘1989’ May Be Her Biggest Rerecording Yet. Here’s Why."
          ],
          [
           "California Slams San Francisco for ‘Egregious’ Barriers to Housing Construction"
          ],
          [
           "A Mirror Reveals a Surprise About Bird Brains"
          ],
          [
           "Popcast (Deluxe): Britney Spears Tells … Some?"
          ],
          [
           "Justice Thomas’s R.V. Loan Was Forgiven, Senate Inquiry Finds"
          ],
          [
           "Teaching Practical Skills Like Home Ec and Shop in School"
          ],
          [
           "Rock Brynner, 76, Son of Hollywood Royalty Who Cut His Own Path, Dies"
          ],
          [
           "How Will Israel Pay for Its War?"
          ],
          [
           "A Once Powerful Fashion Executive Testifies in His Sexual Assault Trial"
          ],
          [
           "El Museo del Barrio Rejects Artwork Featuring Palestinian Flag"
          ],
          [
           "The Far Right Gets Its Man of the House"
          ],
          [
           "G.O.P. Candidates Call for Campus Crackdowns Against Anti-Israel Speech"
          ],
          [
           "‘The Nightmare Before Christmas’: A Hit That Initially Unnerved Disney"
          ],
          [
           "Is Social Media Addictive? Here’s What the Science Says."
          ],
          [
           "Israel’s Strikes on Gaza Are Some of the Most Intense This Century"
          ],
          [
           "Hurricane Otis Wreaks Havoc On Mexican Resort City"
          ],
          [
           "The Speakership Is Yours, Mike Johnson. Good Luck With That."
          ],
          [
           "New Jersey Governor Joins School Halloween Fray: ‘Give Me a Break’"
          ],
          [
           "Biden Supports Israel and Calls for More Aid for Gaza"
          ],
          [
           "Hundreds of Shadow Puppets Were Stolen. A Bystander Helped Crack the Case."
          ],
          [
           "In Brooklyn, a Honduran-Inspired Backyard Dinner"
          ],
          [
           "Meta Posts 23% Growth as Ads Rebound, With Profit More Than Doubling"
          ],
          [
           "With Fuel Scarce, U.N. Aid Group in Desperate Gaza May Scale Back"
          ],
          [
           "An Audio Diary of Despair"
          ],
          [
           "In Israel and Gaza, Photos Show the Human Cost of War"
          ],
          [
           "Supreme Court Allows Mobile Sports Bets at Florida Indian Casinos"
          ],
          [
           "The Trump Loyalty Test at the Center of Republicans’ Speaker Endgame"
          ],
          [
           "Thursday Briefing: Gaza Is Running Out of Fuel"
          ],
          [
           "2 Jets Collide at Houston Airport After One Took Off Without Permission"
          ],
          [
           "A Relative of Israeli Hostages Has a Message for the U.N."
          ],
          [
           "Carnival Was Negligent in Covid Outbreak on Cruise Ship, Court Rules"
          ],
          [
           "The House Finally Elects a Speaker"
          ],
          [
           "U.S. Seeks Delay in Gaza Ground Invasion to Put Air Defenses in Place"
          ],
          [
           "Turkey’s Leader, Lashing Out at Israel, Defends Hamas"
          ],
          [
           "What Guilty Pleas in Georgia Mean for the Federal Case Against Trump"
          ],
          [
           "House Declares Solidarity With Israel in First Legislation Under New Speaker"
          ],
          [
           "25 Short Films for Exploring the Joys and Challenges of Growing Up"
          ],
          [
           "Robert Irwin, Artist of Fleeting Light and Space, Is Dead at 95"
          ],
          [
           "Congestion Pricing Delays Threaten Subway Projects, M.T.A. Chair Says"
          ],
          [
           "Lauren Halsey, an Activist Artist, Joins Gagosian Gallery"
          ],
          [
           "A ‘Nightmare Scenario’ Hurricane Batters Mexico’s Western Coast"
          ],
          [
           "How Biden’s Support for Israel Could Complicate His Re-Election"
          ],
          [
           "‘I’m Crying for All the Victims That Are Going to Suffer’"
          ],
          [
           "The Full Guest List for Biden’s State Dinner With Australia"
          ],
          [
           "Jamaal Bowman Charged With Setting Off False Fire Alarm"
          ],
          [
           "U.A.W. and Ford Reach Tentative Contract Agreement"
          ],
          [
           "Morgan Stanley Names Ted Pick, a Bank Veteran, Its Next C.E.O."
          ],
          [
           "Israel: From the Six-Day War to the Six-Front War"
          ],
          [
           "Several Family Members of Al Jazeera’s Gaza Bureau Chief Are Killed"
          ],
          [
           "Corrections: Oct. 26, 2023"
          ],
          [
           "Quotation of the Day: As Bombs Fall, History Hangs Over Gaza Family"
          ],
          [
           "Federal Prosecutors Push to Reinstate Gag Order on Trump"
          ],
          [
           "City of Paris"
          ],
          [
           "Jonathan Majors’s Accuser Is Arrested but Won’t Face Prosecution"
          ],
          [
           "People Flee ‘Active Shooting’ Situation at Maine Bowling Alley"
          ],
          [
           "Biden Keeps Australia’s Dinner Low-Key at a Moment of Global Turmoil"
          ],
          [
           "Vowing Till Death Do Us Part at the Hotel That Inspired ‘The Shining’"
          ],
          [
           "Denmark Aims a Wrecking Ball at ‘Non-Western’ Neighborhoods"
          ],
          [
           "Thursday Briefing"
          ],
          [
           "India Is Devouring Its Best and Brightest"
          ],
          [
           "Putin Is Getting What He Wants"
          ],
          [
           "Late Night Roasts Mike Johnson"
          ],
          [
           "Word of the Day: reproof"
          ],
          [
           "South Korea Must Return Buddhist Statue to Japan, Supreme Court Says"
          ],
          [
           "Today’s Wordle Review"
          ],
          [
           "The Connections Companion"
          ],
          [
           "Spelling Bee Forum"
          ],
          [
           "Blank Space"
          ],
          [
           "In a Democratic District, Can a Party Defector Get Elected?"
          ],
          [
           "Trump’s Allies Pledged Loyalty to Him. Until They Didn’t."
          ],
          [
           "The Clothes Are Old. New Yorkers’ Love for Them Is Ageless."
          ],
          [
           "Israel-Hamas War Protest Leads to Tense Scene at Cooper Union Library"
          ],
          [
           "Are ‘Secret Room’ Drawings by Michelangelo? Now, Visitors Can Judge for Themselves."
          ],
          [
           "Tragedy Interrupted an American Pastime at a Maine Bowling Alley"
          ],
          [
           "What Is Going On in Britain’s Economy? The Picture Is Foggy."
          ],
          [
           "A Hazy Issue for Couples: One Smokes (Pot), the Other Doesn’t"
          ],
          [
           "For a Ski Season Without Injury, Start Training Early"
          ],
          [
           "What a College Degree Meant to Me and My 6-Year-Old"
          ],
          [
           "6 Terrific Witchy Y.A. Novels"
          ],
          [
           "A New Generation of Artists in Roy Lichtenstein’s Studio"
          ],
          [
           "Inside Google’s Plan to Stop Apple From Getting Serious About Search"
          ],
          [
           "36 Hours on the North Fork, Long Island"
          ],
          [
           "Poem: Suddenly, Last Summer"
          ],
          [
           "Judge John Hodgman on the Tangled Yarn"
          ],
          [
           "The ‘Total Stranger’ Who Wants You to Relive Your Dating Disasters on Camera"
          ],
          [
           "After Antifraud Crusade, a Trial Asks: Were Illegal Voters or Legal Ones the Target?"
          ],
          [
           "For the Good of the Country, Older Americans Should Work More and Take Less"
          ],
          [
           "3 Ways to Unlock Your ‘Hidden Potential’"
          ],
          [
           "The Scientists Watching Their Life’s Work Disappear"
          ],
          [
           "For Many in Wyoming, a Biden Plan to Protect Land Is Beyond Unpopular"
          ],
          [
           "Who Decides Penn’s Future: Donors or the University?"
          ],
          [
           "Desperate to Make Her Mother Smile, Nina Simon Wrote a Book"
          ],
          [
           "Why the U.A.W.’s President Has Taken a Hard Line"
          ],
          [
           "PinkPantheress’s Music Broke the Internet. Up Next? Everything Else."
          ],
          [
           "Alone and Outgunned, Israeli Police Fought Hamas From House to House"
          ],
          [
           "What’s Happening in the Bond Market?"
          ],
          [
           "What ‘Oddball Rituals’ Do You Have?"
          ],
          [
           "The Chief Ideologist of the Silicon Valley Elite Has Some Strange Ideas"
          ],
          [
           "Virginia Republicans Look to Neutralize Abortion as an Election Issue"
          ],
          [
           "U.S. Tries New Tack on Russian Disinformation: Pre-Empting It"
          ],
          [
           "Matt Gaetz Created a Win-Win Situation for Himself"
          ],
          [
           "Artists of Color Ask: When Is Visibility a Trap?"
          ],
          [
           "They Brought Their Brooklyn Budget to the Jersey Suburbs. Which House Would Be Theirs?"
          ],
          [
           "‘No Gas, No Water, No Food’: Otis Devastates Pacific Coast of Mexico"
          ],
          [
           "New House Speaker Champions Fossil Fuels and Dismisses Climate Concerns"
          ],
          [
           "The Kids of Rutherford County, Episode 1: The Egregious Video"
          ],
          [
           "The House Finally Has a Speaker"
          ],
          [
           "The Kids of Rutherford County, Episode 2: ‘What the Hell Are You People Doing?’"
          ],
          [
           "House Speaker Mike Johnson"
          ],
          [
           "Hurricane Otis Batters Resort in Mexico"
          ],
          [
           "‘Four Daughters’ Review: The Role Family Plays"
          ],
          [
           "‘Inspector Sun’ Review: A Web of Cinema Classics"
          ],
          [
           "‘Pain Hustlers’ Review: Seeking Dr. Feelgood"
          ],
          [
           "‘Priscilla’ Review: All Shook Up"
          ],
          [
           "‘Deep Rising’ Review: Who Gets to Mine the Ocean Floor?"
          ],
          [
           "‘Yellow Door: ’90s Lo-Fi Film Club’ Review: Cinema Education"
          ],
          [
           "‘After Death’ Review: Visions at the Brink From Those Who Returned"
          ],
          [
           "A Timeline of the Shootings in Lewiston, Maine"
          ],
          [
           "Trying for a Mortgage? Here’s How Much Money You Need to Make."
          ],
          [
           "Morgan Stanley’s Post-Gorman Era Begins"
          ],
          [
           "Henry Winkler’s Dream Dinner Guests Wrote for Stage, Page and TV"
          ],
          [
           "At the Australian State Dinner, Jill Biden Stays Neutral"
          ],
          [
           "European Central Bank Keeps Rates on Hold for First Time in Over a Year"
          ],
          [
           "U.S. Economic Growth Accelerated in the Third Quarter"
          ],
          [
           "Texas Lawmakers Vote to Let Local Police Arrest Migrants"
          ],
          [
           "The Books That Explain California"
          ],
          [
           "‘Tommy,’ the Who’s Rock Opera, Will Return to Broadway"
          ],
          [
           "Khaite Clothes, Made Miniature"
          ],
          [
           "Homes for Sale in New York and Connecticut"
          ],
          [
           "Dave Chappelle Laments ‘Nightmare’ Facing Israelis and Palestinians"
          ],
          [
           "Driver of N.Y.P.D. Tow Truck Is Charged After Killing 7-Year-Old Boy"
          ],
          [
           "The Fuss About Fuchka: A Bengali Street Food’s N.Y. Origin Story"
          ],
          [
           "Is It Time to Give Candy Corn the Respect It Deserves?"
          ],
          [
           "Alcohol Might Be Ruining Your Orgasm"
          ],
          [
           "Schools and Public Buildings in Southern Maine Close as Manhunt Continues"
          ],
          [
           "As Winter Nears, Ukraine Braces for Attacks on Energy Grid"
          ],
          [
           "Looking Past the Gadgets, and Into Spies’ Minds"
          ],
          [
           "Who Is in Israel’s War Cabinet?"
          ],
          [
           "Homes for Sale in Manhattan and Brooklyn"
          ],
          [
           "What’s Going On in This Graph? | Nov. 8, 2023"
          ],
          [
           "Monster Cookies, Chocolate Peanut Butter Cups and Popcorn Balls"
          ],
          [
           "As Violence Surges, Nations Seek U.S. Defense Pacts. Some Americans Are Wary."
          ],
          [
           "North Carolina Republicans Approve House Map That Flips at Least Three Seats"
          ],
          [
           "Sam Bankman-Fried’s Testimony Is Delayed at Fraud Trial"
          ],
          [
           "Close Confidants of Sam Bankman-Fried Have Testified at His Trial"
          ],
          [
           "Review: ‘Lyonesse’ Is a Starry Mess"
          ],
          [
           "‘Make Noise Enough’: Excavating Shakespeare’s Songs"
          ],
          [
           "‘Nightmare’ Hurricane Otis Developed in a Flash"
          ],
          [
           "What We Know About the Maine Shooting Suspect"
          ],
          [
           "5 Classical Music Albums You Can Listen to Right Now"
          ],
          [
           "The Comedy Club Was as Intimate as a Living Room. Actually, It Was One."
          ],
          [
           "With War Raging, Colleges Confront a Crisis of Their Own Making"
          ],
          [
           "Does Your Ex or Former Friend Haunt You? You Could Try Exorcism for Closure."
          ],
          [
           "An Annual Gathering of Jewish Republicans Takes on New Urgency"
          ],
          [
           "After ‘Shaft,’ 8 Movies to Watch Featuring Black Action Heroes"
          ],
          [
           "‘The Great Gatsby’ Review: A Musical Take on Tragic Desire"
          ],
          [
           "Good Times and Bum Times Made These Theater Veterans Even Stronger"
          ],
          [
           "Maine Mass Shooting Is America’s 8th, and Deadliest, This Year"
          ],
          [
           "Billions of Years Ago, Venus May Have Had a Key Earthlike Feature"
          ],
          [
           "This Kids’ Show Is ‘Indiana Jones in Reverse’"
          ],
          [
           "‘Is He Going to Make It?’: A Mother Waits for News"
          ],
          [
           "It’s the Great Pumpkin Veggie"
          ],
          [
           "Speaker Mike Johnson’s Rise: ‘The Republicans Have Elevated an Extremist’"
          ],
          [
           "How Much Watching Time Do You Have This Weekend?"
          ],
          [
           "The Beatles’ ‘Now and Then,’ Billed as ‘Last Song,’ Due Nov. 2"
          ],
          [
           "Ford’s U.A.W. Deal Will Raise Costs While Easing Labor Strife"
          ],
          [
           "As War Looms Over Mideast, Saudi Arabia Tries to Keep the Music Going"
          ],
          [
           "Maine, a Rare Democratic-Controlled State With Loose Gun Laws"
          ],
          [
           "‘The Holdovers’ Review: Three Sad Souls Stranded for Christmas"
          ],
          [
           "A Central Park Garden, Renewed"
          ],
          [
           "9 New Books We Recommend This Week"
          ],
          [
           "At the Lewiston Bowling Alley, a Crash, Disbelief and a Run for the Exit"
          ],
          [
           "How Judges Restrain Trump: Gag Orders, Fines and Possible Jail Time"
          ],
          [
           "Chimpanzees Go Through Menopause, Too"
          ],
          [
           "As ‘Billions’ Ends, Its Creators Discuss the Changing Face of the Ultrarich"
          ],
          [
           "What to Know About UNRWA, the Largest Aid Organization in Gaza"
          ],
          [
           "Teenagers on What They Have Learned From Failure"
          ],
          [
           "Slovakia Says It’s Halting Arms Deliveries to Ukraine"
          ],
          [
           "Air Canada Apologizes for Questioning a British Lawmaker About His Background"
          ],
          [
           "Mom’s Favorite Chicken Dinner Gets a Makeover"
          ],
          [
           "Suspect in Killing of Maryland Judge Is Found Dead"
          ],
          [
           "A Britney Spears Book Tour: No TV, No Podcasts, Lots of Instagram"
          ],
          [
           "These Boxers Plan to Show They Can Fight by Men’s Rules"
          ],
          [
           "Listen: Serial’s New Show!"
          ],
          [
           "Georgia’s Voting Maps Are Struck Down"
          ],
          [
           "The Flatiron Building Will Be Converted Into Condos"
          ],
          [
           "Hipgnosis Made Mega Deals for Song Catalogs. Its Future Is Unclear."
          ],
          [
           "Johnson Faces the Same Spending Dilemmas That Plagued McCarthy"
          ],
          [
           "Could Mike Johnson, the New House Speaker, Undermine the 2024 Election?"
          ],
          [
           "Anita A. Summers, Economist, Dies at 98; Brought Rigor to Public Policy"
          ],
          [
           "Google Search Boss Says Company Invests to Avoid Becoming ‘Roadkill’"
          ],
          [
           "Siemens Energy in Talks With German Government for Financial Help"
          ],
          [
           "The Perfect Between-Meals Snack to Throw in Your Bag"
          ],
          [
           "Manhunt Underway for Gunman in Maine Shootings"
          ],
          [
           "Corporal Punishment in Private Schools Is Outlawed in New York"
          ],
          [
           "Israel’s Army Is Ready to Invade Gaza. Its Divided Government May Not Be."
          ],
          [
           "Where Mike Johnson Stands on Ukraine, Abortion, L.G.B.T.Q. Issues and More"
          ],
          [
           "‘Five Nights at Freddy’s’ Review: Creepypizza"
          ],
          [
           "Michael Tracy, Who Made Subway Trains His Canvas, Dies at 65"
          ],
          [
           "Amazon Revenue Jumps as Consumer and Business Spending Improves"
          ],
          [
           "Friday Briefing: Israel Says Tanks Briefly Entered Gaza"
          ],
          [
           "Trump on Trial: Your must-read guide"
          ],
          [
           "Trumpism Is Running the House"
          ],
          [
           "Dave Chappelle and the Perils of Button-Pushing Comedy"
          ],
          [
           "Blake Masters Announces Run for Congress, Skipping New Senate Bid"
          ],
          [
           "Hamas leaders arrive in Moscow as the Kremlin attempts to showcase its clout."
          ],
          [
           "What’s in Our Queue? ‘Talk to Me’ and More"
          ],
          [
           "Israeli Tanks Raid Gaza Ahead of Invasion, While Aid Trickles In"
          ],
          [
           "Gazans Release Names of 6,747 People They Say Were Killed in Israeli Strikes"
          ],
          [
           "A Mass Shooting Suspect Is Still at Large in Maine"
          ],
          [
           "Jake Sullivan’s ‘Quieter’ Middle East Comments Did Not Age Well"
          ],
          [
           "View From the West Bank"
          ],
          [
           "Anthony Holden, Royal Chronicler Who Ruffled the Palace, Dies at 76"
          ],
          [
           "Ohio Woman Fatally Drugged 4 ‘Johns’ She Met for Sex, Officials Say"
          ],
          [
           "Hasan Minhaj Addresses Embellished Stories Detailed by The New Yorker"
          ],
          [
           "The G.O.P. Goes Full-On Extremist"
          ],
          [
           "Searching for Humanity in the Middle East"
          ],
          [
           "Prosecutors Withdraw Second Subpoena in Trump Fund-Raising Inquiry"
          ],
          [
           "Representative Jared Golden of Maine calls for a ban on assault weapons, reversing a long-held stance."
          ],
          [
           "Murder Suspect Who Escaped From Police at D.C. Hospital Is Recaptured"
          ],
          [
           "Larry Elder Ends Long-Shot Presidential Bid"
          ],
          [
           "Li Keqiang, Chinese Premier Eclipsed by Xi Jinping, Dies at 68"
          ],
          [
           "‘Dark Day for Maine’ After Gunman Kills 18 at Bowling Alley and Bar"
          ],
          [
           "Ain’t Gonna"
          ],
          [
           "Variety: Puns and Anagrams"
          ],
          [
           "Dean Phillips Announces Long-Shot Challenge to Biden in Democratic Primary"
          ],
          [
           "U.S. Strikes Iranian-Linked Targets in Syria"
          ],
          [
           "Artforum Fires Top Editor After Its Open Letter on Israel-Hamas War"
          ],
          [
           "Cruise Stops All Driverless Taxi Operations in the United States"
          ],
          [
           "It Started as an Unrequited Crush by a High School Exchange Student"
          ],
          [
           "An Accidental First Date Leads to Lifelong Partnership"
          ],
          [
           "After 64 Years of Family Gatherings, a Second Chance"
          ],
          [
           "When a Breakup Is an Act of Love"
          ],
          [
           "Corrections: Oct. 27, 2023"
          ],
          [
           "Quotation of the Day: Magic Mushroom Therapy Is Met With a Mix of Elation and Trepidation"
          ],
          [
           "A Hairless Cat and Nickelback. What Could Be More Romantic?"
          ],
          [
           "Friday Briefing"
          ],
          [
           "‘Boy Parts’ Review: Onstage, a Dangerous Woman Isn’t Enough"
          ],
          [
           "Haunted by Guilt, Vilified Online: A Year After the Seoul Crowd Crush"
          ],
          [
           "Pentagon Says Video Shows Chinese Jet’s Close Approach to B-52"
          ],
          [
           "Word of the Day: obscurity"
          ],
          [
           "Chinese Jet Flies Within 10 Feet of U.S. Bomber, Pentagon Says"
          ],
          [
           "Stephen Colbert Calls Out Mike Johnson’s First Fail"
          ],
          [
           "Today’s Wordle Review"
          ],
          [
           "The Connections Companion"
          ],
          [
           "Spelling Bee Forum"
          ],
          [
           "Santos Pleads Not Guilty to New Charges, but House May Yet Expel Him"
          ],
          [
           "Witches on the Water"
          ],
          [
           "New York City Was the Real Star of ‘Billions’"
          ],
          [
           "A Stroke of Serendipity, a Stunning Solar Eclipse"
          ],
          [
           "Mosquito contra mosquito: la guerra contra los arbovirus"
          ],
          [
           "Why Has This 258-Year-Old Mansion Been Left to Fall Apart?"
          ],
          [
           "They Fled City Jobs. Now, It’s Time for Farm Prom."
          ],
          [
           "How Are You Preparing for a Summer of Fires?"
          ],
          [
           "‘The Reformatory’ Turns the Lingering Impact of Racism Into Literal Ghosts"
          ],
          [
           "The Conflicted Legacy of Mitt Romney"
          ],
          [
           "It Might Be Time to Consider Timisoara"
          ],
          [
           "What Is a Teddy Roosevelt Presidential Library Doing in North Dakota?"
          ],
          [
           "Welcome, Speaker Johnson, to the Worst Job in Politics"
          ],
          [
           "An Embarrassment of Witches"
          ],
          [
           "This Community Welcomes Mediums, but First You Have to Prove Yourself"
          ],
          [
           "Why This Craftsman Can’t Wait for Halloween to Be Over"
          ],
          [
           "A Friendship Forged in Wartime Casts a Long Shadow"
          ],
          [
           "How a Dentist Protects Her Family’s Teeth on Halloween"
          ],
          [
           "As Users Abandon X, Sports Twitter Endures"
          ],
          [
           "Kanye and Adidas: Money, Misconduct and the Price of Appeasement"
          ],
          [
           "Hanging Drapery Is Harder Than You’d Think. But You Can Do It."
          ],
          [
           "Wegman Is Selling His Chelsea Home and Studio, Asking $16.5 Million"
          ],
          [
           "Cornel West’s Improvisational Run for President: ‘It’s Jazz All the Way Down’"
          ],
          [
           "Inside Kanye West’s Fraught Relationship With Adidas: 7 Takeaways"
          ],
          [
           "Students on the Run, Schools Taken by Troops and a Generation’s Catastrophe"
          ],
          [
           "How Automation Has Changed Work for Casino Employees in Detroit"
          ],
          [
           "How Elon Musk Changed the Meaning of Twitter for Users"
          ],
          [
           "Their Sons Went Missing Fighting for Ukraine. They Want Answers."
          ],
          [
           "The Most Controversial Statue in America Surrenders to the Furnace"
          ],
          [
           "Time Celebrates a Hundred People and the City Toasts Elmhurst’s Frontline Workers"
          ],
          [
           "A Scientist’s Salons in Paris Cater to a Neglected Trait: Curly Hair"
          ],
          [
           "Rise in Sugar and Cocoa Costs Makes Halloween Candy Pricier"
          ],
          [
           "What’s Happening in Germany Reveals the Strange State of the Left"
          ],
          [
           "I Might Have Once Favored a Cease-Fire With Hamas, but Not Now"
          ],
          [
           "Does Society Really Need More Elon Musks?"
          ],
          [
           "The Consequences of Elon Musk’s Ownership of X"
          ],
          [
           "Five Years After Pittsburgh Synagogue Attack, Recovery Mixes With Fresh Grief"
          ],
          [
           "Want to Marvel at Next Year’s Total Solar Eclipse? Book Now."
          ],
          [
           "Yankee Fans Can Buy Mickey Mantle’s Childhood Home. The Price: $7."
          ],
          [
           "How Hard Is It to Wake Up in the Morning?"
          ],
          [
           "Democrats Splinter Over Israel as the Young, Diverse Left Rages at Biden"
          ],
          [
           "Mike Johnson Is a Right-Wing Fever Dream Come to Life"
          ],
          [
           "The New York Times News Quiz, Oct. 27, 2023"
          ],
          [
           "The People v. Meta, Marques Brownlee on YouTube and Future Tech, and DALL-E 3 Arrives"
          ],
          [
           "5 Things to Do This Weekend"
          ],
          [
           "How to Hang Drapery"
          ],
          [
           "Trump’s Lawyers Should Have Known Better"
          ],
          [
           "Cocktails and ‘Chala-ween’: Readers Share Their Offbeat Rituals"
          ],
          [
           "Is the Republican Speakership Cursed? Johnson Is About to Find Out."
          ],
          [
           "6 Paperbacks to Read This Week "
          ],
          [
           "Recycled Kitchen Gadgets"
          ],
          [
           "A New Threat: Surprise Hurricanes"
          ],
          [
           "A Landmark of Black Cinema, Restored for a New Age"
          ],
          [
           "Investigating Kanye"
          ],
          [
           "Chinese Mourn the Death of a Premier, and the Loss of Economic Hope"
          ],
          [
           "Arepas, Cornell Chicken and Fresh and Wild Mushroom Stew"
          ],
          [
           "What Ford’s Labor Deal Might Mean for the Auto Industry"
          ],
          [
           "Consumers Kept Spending in September, as Inflation Held Steady"
          ],
          [
           "TransUnion Failed to Quickly Place or Remove Freezes on Credit Reports"
          ],
          [
           "San Francisco Has a New Slogan, and Not Everyone Is a Fan"
          ],
          [
           "The Bond Market, a Sleeping Giant, Awakes"
          ],
          [
           "Stereo Speaker Battles Blare Celine Dion Tunes and Torment a New Zealand City"
          ],
          [
           "U.S. Imposes New Sanctions to Cut Off Hamas Funding"
          ],
          [
           "Thornton Wilder’s ‘Our Town’ to Return to Broadway Next Fall"
          ],
          [
           "Russia’s Central Bank Raises Rates to 15 Percent to Curb Inflation"
          ],
          [
           "The Good. The Bad. The Ugly. Inside Berlusconi’s Art Collection."
          ],
          [
           "Test Your Candy I.Q."
          ],
          [
           "At Barcelona, Timing Is Everything"
          ],
          [
           "Taylor Swift’s ‘“Slut!”’ and the Evolution of a Pop Star Feminist"
          ],
          [
           "Want Your Jack-o’-lantern to Last Longer? Stop Cutting a Hole in the Top!"
          ],
          [
           "The Best Horror Board Games to Play at Home"
          ],
          [
           "The South Korean Chefs Redefining the Art of Pastry"
          ],
          [
           "Sofia Coppola’s New Elvis Film"
          ],
          [
           "Olivia Rodrigo Has Seen the World Now, and She’s Livid"
          ],
          [
           "Lina Khan vs. Jeff Bezos: This Is Big Tech’s Real Cage Match"
          ],
          [
           "Treat Williams, Actor Known for ‘Hair’ and ‘Everwood,’ Dies at 71"
          ],
          [
           "Wynonna Judd, on Her Own"
          ],
          [
           "Blackpink and the Limits of K-Pop Maximalism"
          ],
          [
           "The Best of Late Night This Week"
          ],
          [
           "Martin and Francesca Scorsese, TikTok’s Dynamic Duo"
          ],
          [
           "Five Science Fiction Movies to Stream Now"
          ],
          [
           "What Is John Eliot Gardiner’s Musical Empire Without Him?"
          ],
          [
           "Old Faithful Is Boiling, Smelly and the Perfect Home for These Living Things"
          ],
          [
           "Mr Eazi’s Anthem of Gratitude, and 11 More New Songs"
          ],
          [
           "Yoko Ono and the Women of Fluxus Changed the Rules in Art and Life"
          ],
          [
           "Saudi Arabia Warns U.S.: Israeli Invasion of Gaza Could Be Catastrophic"
          ],
          [
           "A Plan to Defeat Hamas and Avoid a Bloodbath"
          ],
          [
           "Scary Stories to Ruin Your Sleep"
          ],
          [
           "West End Theatergoers Grumble as Prices for the Best Seats Surge"
          ],
          [
           "This Is the Ultimate Chocolate Cake"
          ],
          [
           "The Woods Can Conceal a Fugitive. But for How Long?"
          ],
          [
           "BuzzFeed in Advanced Talks to Sell Complex, Backtracking on Digital Media Bet"
          ],
          [
           "(La)Horde: Dancing Out Primal Impulses and Resistance"
          ],
          [
           "Who Is Troye Sivan Now?"
          ],
          [
           "Sofia Coppola Makes It Look Easy. It Isn’t."
          ],
          [
           "Review: An Unexpectedly Relevant Oratorio at the Philharmonic"
          ],
          [
           "From ‘The Exorcist’ to ‘Bambi,’ These Movies Messed Us Up as Kids"
          ],
          [
           "The Big Number: 4.9 Percent"
          ],
          [
           "As Gazans Scrounge for Food and Water, Hamas Sits on a Rich Trove of Supplies"
          ],
          [
           "The Shearing of Sam Bankman-Fried"
          ],
          [
           "Death and Heartache in Lewiston, Maine"
          ],
          [
           "Sam Bankman-Fried Testifies That He Made ‘Larger Mistakes’ at FTX"
          ],
          [
           "9 Takeaways From Mike Johnson’s First Interview as Speaker"
          ],
          [
           "Love Letter: A Necessary Learning Curve"
          ],
          [
           "15 Great Songs From 1989 (the Year, Not the Album)"
          ],
          [
           "3 Trump Family Members Set to Testify at Civil Fraud Trial Next Week"
          ],
          [
           "Maine Residents Are Warned to Expect a Long, Disruptive Search"
          ],
          [
           "Overlooked No More: Adefunmi I, Who Introduced African Americans to Yoruba"
          ],
          [
           "Alessandra Ferri’s Next Act: Running the Vienna State Ballet"
          ],
          [
           "‘Many More Will Die’: U.N. Official Issues Dire Warning on Gaza"
          ],
          [
           "Toyota Recalls More Than 800,000 Highlanders for a Bumper Fix"
          ],
          [
           "What We Know About the Shootings in Maine"
          ],
          [
           "‘The Holdovers’ | Anatomy of a Scene"
          ],
          [
           "How Truths Are Told at a Liquor Store in ‘The Holdovers’"
          ],
          [
           "Night Out in Lewiston Turns Deadly for a Group of Deaf Friends"
          ],
          [
           "This Turkey Just Will Not Stop Crossing the Road"
          ],
          [
           "DeSantis Says He Will ‘Reorient’ U.S. Foreign Policy to Counter China"
          ],
          [
           "What Happened to the American Dream?"
          ],
          [
           "It’s Engagement Season — Here’s What to Get Your Soon-to-Be-Married Friends"
          ],
          [
           "‘Franning It Up’ at New York’s Most No-Nonsense Party"
          ],
          [
           "The Start of Maine’s Rifle Hunting Season Could Be Postponed"
          ],
          [
           "Vincent Asaro, Mobster Acquitted in Lufthansa Heist, Dies at 86"
          ],
          [
           "Dean Phillips’s Last-Minute, Long-Shot Quest to Force Democrats to Reconsider Biden"
          ],
          [
           "A Developing Situation in Gaza"
          ],
          [
           "Few Americans Have Gotten the New Covid Shots, C.D.C. Finds"
          ],
          [
           "The Weekender"
          ],
          [
           "Security Guard Cleared of Assaulting Top Adviser to Mayor Adams"
          ],
          [
           "At Nearby Bates College, Anxious Hours and Sleepless Nights"
          ],
          [
           "Michael Bragman, 83, Dies; Led a Failed Legislative Coup in New York"
          ],
          [
           "Older Americans Are Winning the Economic War of the Generations"
          ],
          [
           "Ukraine Aid in Doubt as Johnson Moves to Drop It From Israel Assistance Bill"
          ],
          [
           "Ivor Robson, Golf’s Celebrated Voice at the British Open, Dies at 83"
          ],
          [
           "Iran’s Proxies Fire Back After U.S. Airstrikes"
          ],
          [
           "Washington Was Stunned by the New Speaker’s Rise. So Was His District."
          ],
          [
           "‘Covenant’ Review: When Inner Turmoil Is Its Own Ghost Story"
          ],
          [
           "How to Choose Your Flatware"
          ],
          [
           "Joe Hill, Swashbuckling South Street Seaport Merchant, Dies at 76"
          ],
          [
           "5 Minutes to Make You Love Music"
          ],
          [
           "U.S. Airstrikes Contain Twin Messages to Iran, American Officials Say"
          ],
          [
           "Flashback: Your Weekly History Quiz, October 29, 2023"
          ],
          [
           "Transcript: Carlos Lozada Interviews McKay Coppins"
          ],
          [
           "Ida Applebroog, Whose Art Confronted Relationships, Dies at 93"
          ],
          [
           "Israel Expands Its Operations in Gaza"
          ],
          [
           "Artists Call for Boycott After Artforum Fires Its Top Editor"
          ],
          [
           "Portraits of the Dead Emerge From Tragedy in Maine"
          ],
          [
           "The Proxy Forces Iran Has Assembled Across the Middle East"
          ],
          [
           "‘Billions’ Series Finale Recap: The Last Battle"
          ],
          [
           "Gaza Goes Dark as Israel Attacks Intensify"
          ],
          [
           "Israel Intensifies Gaza Strikes and Says It Is Expanding Ground Activity"
          ],
          [
           "Did A.I. Write Product Reviews? Gannett Says No."
          ],
          [
           "Biden Hosts China’s Top Diplomat Ahead of Expected Xi Meeting"
          ],
          [
           "‘I Feel a Human Deterioration’"
          ],
          [
           "Stephen King on Mass Shootings: We’re Out of Things to Say"
          ],
          [
           "‘Let Gaza Live’: Calls for Cease-Fire Fill Grand Central Terminal"
          ],
          [
           "After Shooting, Maine Senators in the Spotlight on Guns"
          ],
          [
           "On Race, Mike Johnson Says His Views Were Shaped by Raising a Black Child"
          ],
          [
           "Hawaii Settles Sex Discrimination Case With High School Female Athletes"
          ],
          [
           "Without Getting Beat"
          ],
          [
           "Team Trump Revives Attack Ads Against DeSantis in Iowa"
          ],
          [
           "Richard Moll, Towering Bailiff on ‘Night Court,’ Dies at 80"
          ],
          [
           "For Mike Johnson, Religion Is at the Forefront of Politics and Policy"
          ],
          [
           "Quotation of the Day: Violence Grinds On in Sudan, Putting a Generation of Students at Risk"
          ],
          [
           "Suspect in Maine Shooting Is Found Dead, Ending Sprawling Manhunt"
          ],
          [
           "Corrections: Oct. 28, 2023"
          ],
          [
           "Today’s Wordle Review"
          ],
          [
           "The Connections Companion"
          ],
          [
           "Early Voting Begins in New York: Here’s What to Know"
          ],
          [
           "Spelling Bee Forum"
          ],
          [
           "How ‘Madame Morbid,’ a Ghost Tour Guide, Spends Her Sundays"
          ],
          [
           "How Cohen’s Testimony Sets the Stage for Trump’s Hush Money Trial"
          ],
          [
           "Migrants Search for Beds as New York Quietly Stops Offering Them to All"
          ],
          [
           "Minor Earthquake Under San Francisco’s Airport Rattles Nerves"
          ],
          [
           "Chapter 2: Chasing Dreams at a Steep Cost"
          ],
          [
           "‘The Berry Pickers’ Is a Harrowing Tale of Indigenous Family Separation"
          ],
          [
           "Weddings at the Edge of the World"
          ],
          [
           "‘Annika’ Star Nicola Walker on the Book She’d Save From a Burning Home"
          ],
          [
           "Is It Time to Pull Up Stakes and Head for Mars?"
          ],
          [
           "Practical Magic: The Lucrative Business of Being a Witch on Etsy and TikTok"
          ],
          [
           "Joey Evans Is Back. This Time He’s a Struggling Artist."
          ],
          [
           "TikTok’s Finest Lobsterman"
          ],
          [
           "A.I. Muddies Israel-Hamas War in Unexpected Way"
          ],
          [
           "If Short-Term Rentals Are Illegal, How Does My Neighbor Get Away With It?"
          ],
          [
           "A Night of Reading, Cover to Uncover"
          ],
          [
           "‘A Bright Light in a Dark Time’: A New School for Uvalde"
          ],
          [
           "When Your Age, and Everyone Else’s, Is Showing"
          ],
          [
           "With Fans Ever More Fickle, Sports Leagues Warm to Rule Changes"
          ],
          [
           "Meg Ryan Wrestles With the Rom-Com"
          ],
          [
           "Writing ‘Maid’ Pulled Stephanie Land Out of Poverty. She’s Fine Now, Right?"
          ],
          [
           "The ‘Silver Lining to the Pandemic’ for Working Mothers"
          ],
          [
           "The World Is Becoming More African"
          ],
          [
           "Top 10 Hardest and Easiest Spelling Bee Words, Oct. 21-27"
          ],
          [
           "The Real End of David Chang’s Momofuku Ko Happened Years Ago"
          ],
          [
           "The House G.O.P Has Its Leader. But Can He Be a Rainmaker?"
          ],
          [
           "Desperate for Air Defense, Ukraine Pushes U.S. for ‘Franken’ Weapons"
          ],
          [
           "Ghostly Presence"
          ],
          [
           "Lured by Federal Dollars, Canadian Cities Rethink Zoning"
          ],
          [
           "As China Looks to Broker Gaza Peace, Antisemitism Surges Online"
          ],
          [
           "Listen Early to ‘This American Life’: And the Call Was Coming From the Basement"
          ],
          [
           "Improving Treatments for Children With Cancer"
          ],
          [
           "A Tech Overlord’s Horrifying, Silly Vision for Who Should Rule the World"
          ],
          [
           "A Dispatch From the Muslim Girl Scouts of Astoria"
          ],
          [
           "A Man Orphaned by Hamas Calls on Israel: Stop the ‘Cycle of Blood’"
          ],
          [
           "There Is Another Paris"
          ],
          [
           "I Fought for the I.D.F. in Gaza. It Made Me Fight for Peace."
          ],
          [
           "Fitting Race in a Box"
          ],
          [
           "The Victory Hamas Has Already Won"
          ],
          [
           "America’s Disaster Recovery System Is a Disaster"
          ],
          [
           "‘We Are Overpaying the Price for a Sin We Didn’t Commit’"
          ],
          [
           "Gaza’s Tunnels Loom Large for Israel’s Ground Forces"
          ],
          [
           "Two Books for a Mental Vacation"
          ],
          [
           "Is Crypto Financing Terrorism?"
          ],
          [
           "In Michigan, Muslim and Arab American Voters Reconsider Support for Biden"
          ],
          [
           "Biden’s Israel Ties Rooted in Long Career: ‘From His Gut to His Heart to His Head’"
          ],
          [
           "Residents Awaiting Help Resort to Looting in Acapulco"
          ],
          [
           "CUNY Halts Investigation of Alzheimer’s Researcher"
          ],
          [
           "Joanna Merlin, Known for Her Work Both Onstage and Off, Dies at 92"
          ],
          [
           "Pleas for Aid and a Scramble for Supplies in Acapulco After Hurricane Otis"
          ],
          [
           "Kremlin’s Onetime Pick to Be Ukraine’s Puppet Leader Is Shot in Crimea"
          ],
          [
           "The Main Problem With Pedestrian Deaths Isn’t the Pedestrians"
          ],
          [
           "Green Beans With Plenty of Texture and Spice"
          ],
          [
           "Iranian Teenager Dies Weeks After Mysterious Collapse"
          ],
          [
           "Is It OK to Hire a Surrogate to Bear Twins?"
          ],
          [
           "Gunman in Maine Mass Shooting Had Paranoid Beliefs, Officials Say"
          ],
          [
           "Haley Offers Scathing Critique of Trump at Jewish Republican Event in Las Vegas"
          ],
          [
           "Vocal on Israel, DeSantis Is Challenged on His Silence on Neo-Nazis in Florida"
          ],
          [
           "‘You Think of Dying at Any Time’"
          ],
          [
           "Israel Says Al Shifa Hospital Conceals Hamas Underground Command Centers"
          ],
          [
           "Two Plead Guilty in Alabama Riverfront Brawl"
          ],
          [
           "Pence Bows Out of 2024 Presidential Race That Trump Is Dominating"
          ],
          [
           "U.A.W. Reaches Tentative Deal With Stellantis, Following Ford"
          ],
          [
           "‘Lewiston Strong’: After Mass Shooting, Residents Emerge With Grit"
          ],
          [
           "At Least 32 Killed in Vehicle Pileup in Egypt"
          ],
          [
           "Israeli Approach to Ground War in Gaza Aligns with U.S. Advice, Officials Say"
          ],
          [
           "Fabric-ations"
          ],
          [
           "Fisherman Last Sighted Two Weeks Ago Rescued at Sea"
          ],
          [
           "Israel-Hamas War Enters ‘Second Stage,’ Netanyahu Says"
          ],
          [
           "Vatican Deems Bigger Church Role for Women ‘Urgent,’ but Postpones Major Issues"
          ],
          [
           "Maine Sheriff Says He Sent Statewide Alert About Gunman Last Month"
          ],
          [
           "Protesters fill the streets in New York to support Palestinians in Gaza."
          ],
          [
           "Quotation of the Day: After Mexico Hurricane, a Frantic Hunt for Food, Water and Loved Ones"
          ],
          [
           "Israel’s Hidden Victims, Arab Bedouins, Were Attacked by Hamas Too"
          ],
          [
           "A Less Polarized Poland? Not Yet, Election Results Suggest."
          ],
          [
           "What’s on TV This Week: BravoCon and a Classic Rom-Com"
          ],
          [
           "Matthew Perry, Star of ‘Friends,’ Is Dead at 54"
          ],
          [
           "‘S.N.L.’ Elects Another President Biden"
          ],
          [
           "Today’s Wordle Review"
          ],
          [
           "The Connections Companion"
          ],
          [
           "Spelling Bee Forum"
          ],
          [
           "A Critic With Monsters on His Mind"
          ],
          [
           "‘I Decided I Needed a Slice of Junior’s Strawberry Cheesecake’"
          ],
          [
           "From Smugglers and TikTok, Migrants Get a Message: Go to New York"
          ],
          [
           "A Seal of Recognition"
          ],
          [
           "One Year After Tragedy, a Subdued Halloween in Itaewon"
          ],
          [
           "Obama’s Presidential Center Is Rising, Finally, in Chicago"
          ],
          [
           "Tug-of-War Over N.B.A. Rights Provides Glimpse of Media’s Future"
          ],
          [
           "A New Place to Learn Civics: The Workplace"
          ],
          [
           "Dylan’s Back Pages, and Then Some"
          ],
          [
           "Friends From Childhood. Brothers in War."
          ],
          [
           "Reaction to Hamas Attack Leaves Some Jews in Hollywood Feeling Unmoored"
          ],
          [
           "Halloween Headaches in Salem, Mass.: Traffic. Crowds. Tiny Liquor Bottles?"
          ],
          [
           "Halloween Shoppers Not Spooked as Economic Slowdown Remains Elusive"
          ],
          [
           "How California Became America’s Contemporary Music Capital"
          ],
          [
           "The Rigid World of French Cheesemaking Meets Unbound Climate Change"
          ],
          [
           "Marina Abramovic Thinks the Pain of Love Is Hell on Earth"
          ],
          [
           "Why Illegal Border Crossings Are at Sustained Highs"
          ],
          [
           "Primary Battles Brew Over Progressive Democrats’ Stances on Israel"
          ],
          [
           "These Tiny, Beautiful Wasps Eat the Hearts Out of Cockroaches"
          ],
          [
           "The Devil’s Bargain Mike Pence Could Not Escape"
          ],
          [
           "No, Xi Jinping Is Not About to Attack Taiwan"
          ],
          [
           "The City That Never Sleeps … or Shops in Person"
          ],
          [
           "I’m a Pediatrician in Gaza. Please Save Us From This Horror."
          ],
          [
           "El Niños Are Predictable. We Should Prepare for Their Possibly Disastrous Consequences."
          ],
          [
           "Jenna Ellis Could Become a Star Witness Against Trump"
          ],
          [
           "The Sunday Read: ‘Who Hired the Hitmen to Silence Zitácuaro?’"
          ],
          [
           "Joe Biden Knows What He’s Doing"
          ],
          [
           "In Kenya, King Charles Will ‘Walk a Tightrope’ on Britain’s Past"
          ],
          [
           "What’s Going On in This Picture? | Oct. 30, 2023"
          ],
          [
           "Israeli Troops in Gaza"
          ],
          [
           "The Day Disco Was Demolished"
          ],
          [
           "Watch Matthew Perry’s Best Performances"
          ],
          [
           "Netanyahu Apologizes After Blaming Security Chiefs for Failure in Hamas Attack"
          ],
          [
           "They Refused to Serve. Now They’re Supporting Israel’s War Effort."
          ],
          [
           "A Chill in the Air and Chili in Your Pot"
          ],
          [
           "As Fighting Rages, Ukraine Takes Its Battle to the Diplomatic Arena"
          ],
          [
           "An Anti-Obesity Drug and Cultural Stigmas"
          ],
          [
           "Nazis in Canada? A Secret List With Answers May Soon Be Released."
          ],
          [
           "Review: An Opera About Drones Brings a Pilot’s War Home"
          ],
          [
           "The One Without Matthew Perry"
          ],
          [
           "Film Based on Horror-Survival Video Game Is Surprise Box Office Hit"
          ],
          [
           "Colleagues and Friends Mourn Actor Matthew Perry"
          ],
          [
           "Anthony Vidler, Architectural Historian Who Reshaped His Field, Dies at 82"
          ],
          [
           "Back-to-Back Premieres Defy a Season of Leaner Offerings"
          ],
          [
           "Robert Brustein, Passionate Force in Nonprofit Theater, Dies at 96"
          ],
          [
           "Colombia Mobilizes Troops to Search for Kidnapped Father of Liverpool Player"
          ],
          [
           "Maine Gunman Disclosed He Had Mental Health Issues, Gun Shop Owner Says"
          ],
          [
           "34 Hours of Fear: The Blackout That Cut Gaza Off From the World"
          ],
          [
           "Netanyahu Finds Himself at War in Gaza and at Home"
          ],
          [
           "Monday Briefing: Israel Extends Gaza Ground Campaign"
          ],
          [
           "The Israeli Officials I Speak With Tell Me They Know Two Things for Sure"
          ],
          [
           "‘Nosferatu, a 3D Symphony of Horror’ Review: A Lip-Smacking Scare"
          ],
          [
           "How Years of Israeli Failures on Hamas Led to a Devastating Attack"
          ],
          [
           "Light on a Night Stand"
          ],
          [
           "Studios Said to See Progress in Talks With Striking Actors"
          ],
          [
           "Mob storms plane arriving in Russia from Tel Aviv, authorities say."
          ],
          [
           "‘A Communal Sigh of Relief’: Emerging From Lockdown, Lewiston Gathers to Mourn"
          ],
          [
           "Eyedrops From Major Brands May Cause Infection, F.D.A. Says"
          ],
          [
           "War Through the Eyes of Gaza’s Children"
          ],
          [
           "Federal Judge Reinstates Gag Order on Trump in Election Case"
          ],
          [
           "An Extremely Detailed Guide to an Extremely Detailed Map of New York City Neighborhoods"
          ],
          [
           "U.A.W. Says It Aims to Organize Nonunion Auto Plants"
          ],
          [
           "An Extremely Detailed Map of New York City Neighborhoods"
          ],
          [
           "Review: In ‘Stereophonic,’ the Rock Revolution Will Be Recorded"
          ],
          [
           "Cornell Jewish Center Under Guard After Online Threats to Jewish Students"
          ],
          [
           "No Corrections: Oct. 30, 2023"
          ],
          [
           "Quotation of the Day: Will France’s Strict Cheesemaking Rules Bend for Climate Change?"
          ],
          [
           "Plans to Slash Emissions at Britain’s Largest Steel Plant Cause Unease"
          ],
          [
           "Monday Briefing"
          ],
          [
           "Word of the Day: scattershot"
          ],
          [
           "The Connections Companion"
          ],
          [
           "Spelling Bee Forum"
          ],
          [
           "Seeking the ‘Right’ Customers, an Insurer Is Accused of Discrimination"
          ],
          [
           "Today’s Wordle Review"
          ],
          [
           "How Menendez Tried and Failed to Place an Ally in a Key Federal Post"
          ],
          [
           "Biden to Issue First Regulations on Artificial Intelligence Systems"
          ],
          [
           "Trump’s Children Are Set to Take the Stand at His Fraud Trial This Week"
          ],
          [
           "How a Lucrative Surgery Took Off Online and Disfigured Patients"
          ],
          [
           "‘I Don’t Have That Empathy. It’s Not in Me Anymore.’ What Israeli Survivors Believe Now."
          ],
          [
           "Doctors Wrestle With A.I. in Patient Care, Citing Lax Oversight"
          ],
          [
           "A Tale of Two Recoveries"
          ],
          [
           "Do Any of These Never Trumpers Have the Power to Persuade?"
          ],
          [
           "Southern California Beyond the Freeway"
          ],
          [
           "The Latest Target for California Conservatives? Local School Boards"
          ],
          [
           "Shipping Contributes Heavily to Climate Change. Are Green Ships the Solution?"
          ],
          [
           "I’ve Seen It: Maduro Could Lose Venezuela’s Presidential Election"
          ],
          [
           "A Brutal Disease May Soon Be Transformed"
          ],
          [
           "The Hidden Ghosts of America’s Slave Past"
          ],
          [
           "How Music Can Be Mental Health Care"
          ],
          [
           "Tracing Treasures of Ancient Rome to a Village That Looted Its Own Heritage"
          ],
          [
           "$3.5 Million Homes in California"
          ],
          [
           "‘I Don’t Have That Empathy. It’s Not in Me Anymore.’ What Israeli Survivors Believe Now."
          ],
          [
           "Why Less Engaged Voters Are Biden’s Biggest Problem"
          ],
          [
           "In the Early Days of Lockdown, a Writer Considers a Perplexing Age"
          ],
          [
           "Sigrid Nunez’s Art of Noticing"
          ],
          [
           "Should School Be a Place to Celebrate Halloween?"
          ],
          [
           "The Run-Up Returns, Every Week Through Election Day"
          ],
          [
           "How Trump’s Verbal Slips Could Weaken His Attacks on Biden’s Age"
          ],
          [
           "The Discourse Is Toxic. Universities Can Help."
          ],
          [
           "Is the Pantyhose-as-Pants Look a Real Thing?"
          ],
          [
           "Driven Out of Pakistan, Afghans Face an Uncertain Future"
          ],
          [
           "Both Sides Pay a Bloody Price for Coveted Ukrainian City"
          ],
          [
           "Riot Over Plane From Israel Alarms Jews and Draws Condemnation"
          ],
          [
           "Israel’s Invasion Begins"
          ],
          [
           "When George Santos Called and More: The Week in Reporter Reads"
          ],
          [
           "Gaza’s Vital Tunnels"
          ],
          [
           "Middle East War Could Cause Oil Price Shock, World Bank Warns"
          ],
          [
           "Trump Is Still Far Ahead in Iowa Poll, With Haley Matching DeSantis for 2nd"
          ],
          [
           "The Global Race to Regulate Artificial Intelligence Is Heating Up"
          ],
          [
           "Colorado Trial Considers Whether the 14th Amendment Disqualifies Trump"
          ],
          [
           "Robert Irwin Helped Us See the Light"
          ],
          [
           "A Vibrant Center in Oakland Has Nurtured Disabled Artists for Nearly 50 Years"
          ],
          [
           "Your Connections Questions, Answered"
          ],
          [
           "London City Ballet Is Revived, Nearly 30 Years After It Shut Down"
          ],
          [
           "In Europe, Meta Offers Ad-Free Versions of Facebook and Instagram for First Time"
          ],
          [
           "FIFA Bars Former Spanish Soccer Chief for 3 Years"
          ],
          [
           "‘Lempicka,’ New Musical About Art Deco Artist, to Open on Broadway"
          ],
          [
           "Tracking Tropical Storm Pilar"
          ],
          [
           "Autoworkers Score Big Wins in New Contracts With Carmakers"
          ],
          [
           "Can You Uncover 15 Horror Titles Lurking Within This Text?"
          ],
          [
           "Near an Acapulco Beach: Food, Water and Prayer After Hurricane Otis"
          ],
          [
           "At New York’s ‘Friends’ Museum, Mourning Matthew Perry"
          ],
          [
           "Blink-182 and the Rolling Stones Bring Rock Back to the Top 10"
          ],
          [
           "‘You Won’t Find a Richer, Crispier, Creamier, Cheesier Mac and Cheese Recipe’"
          ],
          [
           "The Most Hyped, Most Anticipated, Most Gossiped-About Collection Is Finally Here"
          ],
          [
           "Watching Britney Spears, as a Girl and a Woman"
          ],
          [
           "Energy Dept. Pours Billions Into Power Grids but Warns It’s Not Enough"
          ],
          [
           "Desperately Seeking Da Silvano"
          ],
          [
           "Speaker Mike Johnson and the Role of Religion in Politics"
          ],
          [
           "A Little Momentum for Marijuana"
          ],
          [
           "16 New Books Coming in November"
          ],
          [
           "Window for Meeting Key Climate Goal Is Even Narrower Than Thought"
          ],
          [
           "Review: ‘Chicago,’ With Nary a Finger Snap"
          ],
          [
           "Google C.E.O. Says Tech Giant Has Improved the Web for All Consumers"
          ],
          [
           "At Ballet Theater, a Thrilling Puck and a Moment to Take Stock"
          ],
          [
           "It’s Me, Isn’t It?"
          ],
          [
           "Wanda Poltawska, 101, Who Forged a Friendship With a Future Pope, Dies"
          ],
          [
           "Stream These 10 Movies Before They Leave Netflix in November"
          ],
          [
           "Fly By Jing’s New Chile Crisp Captures the Flavors of Chengdu"
          ],
          [
           "‘You Can’t Hide It’: Georgette Heyer and the Perils of Posthumous Revision"
          ],
          [
           "‘A Very Slow Game:’ Why the Pace of Israel’s Ground Operation Counts"
          ],
          [
           "Prosecutors Turn Sam Bankman-Fried’s Own Words Against Him"
          ],
          [
           "Cars Seized by Police Get Supreme Court Scrutiny in Civil Forfeiture Case"
          ],
          [
           "Hearing Aids Are More Affordable, and Perhaps More Needed, Than Ever"
          ],
          [
           "Keith Giffen, Comic Book Maverick for DC and Marvel, Dies at 70"
          ],
          [
           "$23,500 in Coins to Pay a Settlement? Judge Says Keep the Change and Try Again."
          ],
          [
           "Dust Might Have Snuffed Out the Dinosaurs"
          ],
          [
           "Autoworkers Strike a Blow for Equality"
          ],
          [
           "F.D.A. Experts Will Vote on Safety of a Cure for Sickle Cell Disease"
          ],
          [
           "A Leaning Tower in Italy (Not Pisa) Becomes a Worry"
          ],
          [
           "The Patent Fight That Could Take Apple Watches Off the Market"
          ],
          [
           "Shani Louk, Believed Kidnapped, Was Likely Dead When She Was Taken by Hamas, Family Says"
          ],
          [
           "X Says It Is Worth $19 Billion, Down From $44 Billion Last Year"
          ],
          [
           "Matthew Perry Was One of TV’s Best Sparring Partners"
          ],
          [
           "I’ve Been Under Bombardment. There Must Be a Cease-Fire in Gaza."
          ],
          [
           "Reaction to Matthew Perry’s Death Shows Enduring Popularity of ‘Friends’"
          ],
          [
           "Matthew Perry’s Cause of Death Remains Under Investigation"
          ],
          [
           "Under Shroud of Secrecy, Israel Invasion of Gaza Has Begun"
          ],
          [
           "The Star of Half Baked Harvest Inspires Loyalty — and Controversy"
          ],
          [
           "Biden Issues Executive Order to Create A.I. Safeguards"
          ],
          [
           "Israelis Advance on Gaza City, as Netanyahu Rules Out Cease-Fire"
          ],
          [
           "Biden’s Support for Israel Now Comes With Words of Caution"
          ],
          [
           "Tuesday Briefing: Israeli Forces Advance on Gaza City"
          ],
          [
           "KKR Closes Deal to Buy Simon & Schuster"
          ],
          [
           "Netanyahu Rejects Calls for a Cease-fire — and for His Resignation."
          ],
          [
           "Democratic Rifts Over Israel Burst to the Forefront in Congress"
          ],
          [
           "Lionel Messi Wins Eighth Ballon d’Or as Soccer’s Best Player"
          ],
          [
           "Frank Howard, Towering Slugger Whose Homers Were, Too, Dies at 87"
          ],
          [
           "War Closes In on Gaza City"
          ],
          [
           "‘One Would Rather Die With His Family’: Some See No Point in Fleeing Gaza."
          ],
          [
           "Israeli forces move deeper into Gaza"
          ],
          [
           "Leah Remini Lists Her Los Angeles Home a Third Time"
          ],
          [
           "Prabal Gurung and Jessel Taank Kick Off New York’s Diwali Season"
          ],
          [
           "Settler Violence Against Palestinians in the West Bank Is Rising"
          ],
          [
           "Judge Orders Border Agents to Stop Cutting Texas’ Barbed Wire Fence"
          ],
          [
           "Teenagers as Critics: A Step-by-Step Guide for Writing a Review"
          ],
          [
           "What 2023 Work of Art or Culture Would You Recommend to Anyone?"
          ],
          [
           "What 2023 Work of Art or Culture Would You Warn Others to Avoid?"
          ],
          [
           "Israel’s Emergency Medical Service to Receive $88 Million in Gift Led by Michael Bloomberg"
          ],
          [
           "A Detailed Satellite View of Israel’s Invasion"
          ],
          [
           "‘Utterly Devastated’: ‘Friends’ Cast Reacts to Matthew Perry’s Death"
          ],
          [
           "Union Victories May Lift Biden, as U.A.W. Targets Tesla and Others"
          ],
          [
           "What to Know About the Automakers’ Deals With the U.A.W."
          ],
          [
           "Top Marine General Hospitalized After Apparently Having Heart Attack"
          ],
          [
           "Louis Oliver Gropp Dies at 88; Led Shelter Magazines Through Turmoil"
          ],
          [
           "Israeli Soldier Rescued After Hamas Abduction"
          ],
          [
           "Police Were Told Maine Gunman Had Threatened to Carry Out Shooting Spree"
          ],
          [
           "Could Matthew Perry’s Chandler-Speak Be Any More Memorable?"
          ],
          [
           "Famed Iranian Rights Lawyer Reportedly Jailed and Beaten"
          ],
          [
           "Hochul Visits Cornell to Reassure Jewish Students Rattled by Online Threats"
          ],
          [
           "Buffy Sainte-Marie’s Indigenous Parentage Is Questioned"
          ],
          [
           "Why Oslo Still Has Relevance"
          ],
          [
           "What to Know About Robert De Niro’s Trial Over a Workplace Dispute"
          ],
          [
           "Fruit Purée Pouches May Contain Lead, F.D.A. Warns Parents"
          ],
          [
           "‘I Can Get It for You Wholesale’ Review: Rag Trade Revival, Recut for Today"
          ],
          [
           "Man Indicted Over Threats to D.A. and Sheriff in Trump’s Georgia Case"
          ],
          [
           "Warning Signs"
          ],
          [
           "Flashback TV Quiz: The One About Chandler"
          ],
          [
           "In Global Race to Offer Green Subsidies, U.K. Prefers Slow and Steady"
          ],
          [
           "Now Showing, an Ancient Spell Book for the Dead"
          ],
          [
           "Tuesday Briefing"
          ],
          [
           "6 Great Space Images in October"
          ],
          [
           "Japan Takes Another Step Away From Easy Money"
          ],
          [
           "Quotation of the Day: The Candy That Grew From Kernel to Icon"
          ],
          [
           "Corrections: Oct. 31, 2023"
          ],
          [
           "Aaron Spears, Drummer for Usher and Other Stars, Dies at 47"
          ],
          [
           "Word of the Day: plaintive"
          ],
          [
           "Late Night Bids Adieu to Mike Pence’s Presidential Bid"
          ],
          [
           "Today’s Wordle Review"
          ],
          [
           "The Connections Companion"
          ],
          [
           "Spelling Bee Forum"
          ],
          [
           "Scary Movies"
          ],
          [
           "How Posters of Kidnapped Israelis Ignited a Firestorm on American Sidewalks"
          ],
          [
           "Rancorous Primary Fight Brews Over Democrat’s Stance on Israel"
          ],
          [
           "The Apple-Picking Apocalypse of Upstate New York"
          ],
          [
           "For One Writer, Crime Is a ‘Window’ Into Society"
          ],
          [
           "King Charles, Visiting Kenya, Faces Calls to Answer for Colonial Abuses"
          ],
          [
           "New Zealand Volcano Owner Is Found Guilty of Safety Failure"
          ],
          [
           "After 8-Hour Standoff Near Tokyo, Hostages Are Free and Suspect Is Held"
          ],
          [
           "Caster Semenya: ‘I’m Still a Woman’"
          ],
          [
           "The Man Who Was Always Hungry"
          ],
          [
           "This Florida School District Banned Cellphones. Here’s What Happened."
          ],
          [
           "The Cost of Being Disabled in New York City Housing"
          ],
          [
           "Why It Was Worth $49,000 to Become Brooklyn Org"
          ],
          [
           "Ready to Retire? Consider Your Family First."
          ],
          [
           "I Was Trying to Build My Son’s Resilience, Not Scar Him for Life"
          ],
          [
           "The Big Cheese (Tour)"
          ],
          [
           "Should I Be Taking Supplements?"
          ],
          [
           "Why Can’t We Give Up the Ghosting?"
          ],
          [
           "The Busy Doctor Who Gave Himself Another Job: Tracking Nazi Loot"
          ],
          [
           "In Chicago, a Neighborhood of Immigrants Is Conflicted About More Arrivals"
          ],
          [
           "A Meteoric Career, Cut Short, Still Burns Bright"
          ],
          [
           "Why Modern Micromanagement of Kids Is Spooky"
          ],
          [
           "School Cellphone Bans Are Trending. Do They Work?"
          ],
          [
           "The Joy of Picking Up Other People’s Trash"
          ],
          [
           "On This Issue, the House G.O.P. ‘Whack Jobs’ Have a Point"
          ],
          [
           "If Not This, Then What Should Israel Do?"
          ],
          [
           "They Bought a House Together (and Haven’t Lived to Regret It)"
          ],
          [
           "American Muslims Are in a Painful, Familiar Place"
          ],
          [
           "Past Lies About War in the Middle East are Getting in the Way of the Truth Today"
          ],
          [
           "Is Buying Real Estate With a Friend Really a Good Idea?"
          ],
          [
           "The Supreme Court’s Social Media Cases Can Strengthen Our Democracy"
          ],
          [
           "What to Watch for as the Federal Reserve Meets This Week"
          ],
          [
           "Hezbollah Hesitates as Israel Strikes Gaza"
          ],
          [
           "Bariatric Surgery at 16"
          ],
          [
           "With Executive Order, White House Tries to Balance A.I.’s Potential and Peril"
          ],
          [
           "U.S. Looks to Allay European Fears of a Subsidy War"
          ],
          [
           "America’s Rifle Fetish Is Destroying Its Sense of Freedom"
          ],
          [
           "Matthew Perry and the Loneliness of Addiction"
          ],
          [
           "In Cyberattacks, Iran Shows Signs of Improved Hacking Capabilities"
          ],
          [
           "What Is the Scariest Song of All Time? Poem? YouTube Video?"
          ],
          [
           "A Historic Strike (and Win) for Autoworkers"
          ],
          [
           "Saudi Arabia Is Set to Be Sole Bidder for 2034 World Cup"
          ],
          [
           "The Autoworkers’ Victories"
          ],
          [
           "Bankman-Fried’s Risky Defense Strategy Faces Another Big Test"
          ],
          [
           "Raging Fire in California Forces Thousands From Their Homes"
          ],
          [
           "Eurozone Economy Shrinks, While Price Pressures Ease"
          ],
          [
           "A Key Measure of Wages Grew at a Moderate Pace This Summer"
          ],
          [
           "Does Salvation for California’s Redwoods Lie Out of State?"
          ],
          [
           "The First of Our Friends to Go"
          ],
          [
           "Why Doug Burgum Is Staying in a Race He Can Afford to Lose"
          ],
          [
           "News Group Says A.I. Chatbots Heavily Rely on News Content"
          ],
          [
           "Biden Administration Approves Biggest Offshore Wind Farm Yet, in Virginia"
          ],
          [
           "Where Israelis, Palestinians and Iranians Must Listen to One Another"
          ],
          [
           "Weekly Student News Quiz: Gaza Strip, Matthew Perry, World Series"
          ],
          [
           "A Footpath in England, Torn Down, Keeps Being Rebuilt by ‘Fairies’"
          ],
          [
           "Three Great Documentaries to Stream"
          ],
          [
           "Let’s Make Some Meatballs"
          ],
          [
           "Russia Detains Two Soldiers Suspected of Killing 9 Civilians"
          ],
          [
           "After Mass Shooting in Maine, No Clarity on Whether Gun Laws Will Change"
          ],
          [
           "Israel’s U.N. Ambassador Criticized for Wearing a Yellow Star of David"
          ]
         ],
         "hovertemplate": "pc_1=%{x}<br>pc_2=%{y}<br>headline.main=%{customdata[0]}<br>clusters=%{marker.color}<extra></extra>",
         "legendgroup": "",
         "marker": {
          "color": [
           1,
           0,
           33,
           51,
           75,
           35,
           55,
           18,
           46,
           13,
           74,
           56,
           58,
           2,
           62,
           82,
           4,
           20,
           30,
           37,
           58,
           50,
           27,
           3,
           16,
           26,
           16,
           60,
           50,
           73,
           31,
           16,
           92,
           88,
           35,
           10,
           95,
           23,
           40,
           72,
           72,
           33,
           41,
           85,
           3,
           30,
           92,
           35,
           54,
           53,
           63,
           42,
           29,
           11,
           54,
           60,
           1,
           16,
           41,
           85,
           50,
           60,
           41,
           99,
           87,
           32,
           33,
           33,
           80,
           20,
           40,
           85,
           51,
           5,
           54,
           50,
           16,
           98,
           55,
           37,
           49,
           72,
           66,
           47,
           13,
           2,
           54,
           95,
           30,
           30,
           48,
           16,
           48,
           56,
           93,
           50,
           85,
           58,
           21,
           4,
           41,
           58,
           41,
           73,
           59,
           16,
           14,
           16,
           59,
           11,
           32,
           95,
           93,
           92,
           17,
           60,
           11,
           85,
           23,
           25,
           20,
           56,
           50,
           43,
           56,
           48,
           88,
           80,
           30,
           10,
           5,
           4,
           97,
           71,
           50,
           31,
           83,
           5,
           21,
           37,
           53,
           85,
           12,
           50,
           24,
           68,
           35,
           58,
           26,
           36,
           33,
           46,
           23,
           85,
           35,
           53,
           40,
           43,
           21,
           8,
           68,
           65,
           24,
           4,
           12,
           17,
           8,
           99,
           80,
           48,
           11,
           4,
           5,
           99,
           87,
           41,
           39,
           75,
           60,
           73,
           46,
           69,
           99,
           26,
           46,
           80,
           92,
           59,
           17,
           26,
           20,
           35,
           61,
           55,
           43,
           51,
           95,
           7,
           30,
           48,
           14,
           5,
           0,
           68,
           47,
           38,
           2,
           13,
           85,
           39,
           4,
           16,
           3,
           83,
           41,
           60,
           50,
           58,
           58,
           50,
           0,
           49,
           60,
           88,
           45,
           4,
           4,
           90,
           12,
           4,
           89,
           95,
           58,
           60,
           60,
           50,
           71,
           66,
           43,
           56,
           87,
           80,
           23,
           58,
           20,
           87,
           88,
           59,
           33,
           60,
           58,
           11,
           85,
           30,
           16,
           21,
           59,
           37,
           11,
           3,
           29,
           56,
           53,
           0,
           52,
           41,
           50,
           96,
           35,
           56,
           82,
           21,
           74,
           95,
           54,
           41,
           33,
           97,
           11,
           10,
           11,
           48,
           39,
           4,
           21,
           41,
           25,
           50,
           51,
           5,
           14,
           11,
           80,
           23,
           56,
           31,
           32,
           39,
           41,
           17,
           16,
           93,
           98,
           88,
           76,
           21,
           4,
           46,
           35,
           56,
           90,
           4,
           93,
           4,
           39,
           4,
           21,
           88,
           63,
           54,
           39,
           11,
           18,
           8,
           48,
           4,
           11,
           56,
           11,
           12,
           67,
           32,
           95,
           83,
           84,
           73,
           11,
           78,
           98,
           55,
           41,
           48,
           83,
           23,
           31,
           32,
           10,
           49,
           87,
           21,
           11,
           8,
           63,
           56,
           38,
           47,
           35,
           13,
           2,
           39,
           68,
           4,
           37,
           24,
           56,
           3,
           12,
           80,
           88,
           30,
           60,
           64,
           3,
           54,
           65,
           16,
           80,
           50,
           15,
           88,
           97,
           37,
           3,
           0,
           54,
           39,
           11,
           20,
           41,
           92,
           58,
           11,
           30,
           52,
           96,
           51,
           72,
           87,
           33,
           21,
           48,
           48,
           7,
           21,
           74,
           3,
           3,
           11,
           4,
           51,
           68,
           42,
           50,
           12,
           46,
           35,
           35,
           73,
           31,
           74,
           76,
           95,
           43,
           21,
           71,
           35,
           58,
           23,
           97,
           12,
           95,
           58,
           12,
           83,
           26,
           83,
           41,
           63,
           71,
           24,
           12,
           80,
           64,
           53,
           11,
           80,
           24,
           80,
           11,
           7,
           5,
           21,
           59,
           33,
           41,
           3,
           48,
           15,
           21,
           88,
           99,
           31,
           9,
           23,
           31,
           41,
           74,
           73,
           71,
           32,
           72,
           23,
           70,
           66,
           99,
           7,
           68,
           80,
           51,
           10,
           14,
           61,
           4,
           46,
           99,
           99,
           49,
           55,
           41,
           97,
           58,
           93,
           72,
           90,
           69,
           16,
           47,
           32,
           41,
           2,
           13,
           16,
           9,
           80,
           58,
           87,
           60,
           21,
           60,
           16,
           56,
           24,
           35,
           76,
           50,
           88,
           21,
           88,
           88,
           95,
           10,
           53,
           54,
           65,
           92,
           95,
           58,
           3,
           56,
           35,
           73,
           97,
           93,
           94,
           16,
           35,
           73,
           74,
           20,
           50,
           66,
           95,
           72,
           83,
           64,
           76,
           83,
           27,
           83,
           64,
           8,
           64,
           83,
           27,
           83,
           12,
           15,
           28,
           71,
           60,
           31,
           53,
           35,
           88,
           3,
           88,
           34,
           56,
           24,
           43,
           84,
           50,
           60,
           91,
           56,
           73,
           5,
           96,
           92,
           48,
           21,
           16,
           87,
           34,
           41,
           66,
           50,
           43,
           97,
           99,
           3,
           73,
           60,
           34,
           50,
           36,
           12,
           30,
           71,
           74,
           56,
           50,
           52,
           3,
           4,
           15,
           97,
           73,
           73,
           3,
           83,
           35,
           50,
           50,
           66,
           68,
           23,
           5,
           97,
           30,
           73,
           21,
           80,
           69,
           22,
           73,
           54,
           68,
           87,
           50,
           17,
           61,
           22,
           22,
           40,
           50,
           93,
           70,
           43,
           1,
           93,
           23,
           46,
           87,
           26,
           87,
           72,
           87,
           41,
           24,
           54,
           46,
           46,
           16,
           12,
           55,
           98,
           56,
           39,
           88,
           88,
           90,
           97,
           22,
           47,
           38,
           69,
           2,
           31,
           76,
           39,
           13,
           41,
           95,
           41,
           41,
           35,
           92,
           3,
           77,
           58,
           12,
           50,
           88,
           51,
           92,
           37,
           92,
           35,
           21,
           58,
           51,
           3,
           60,
           60,
           3,
           23,
           35,
           99,
           14,
           35,
           31,
           20,
           58,
           58,
           59,
           39,
           58,
           74,
           27,
           50,
           12,
           51,
           24,
           94,
           85,
           20,
           11,
           0,
           95,
           71,
           71,
           71,
           30,
           50,
           95,
           41,
           14,
           31,
           49,
           82,
           35,
           60,
           50,
           95,
           12,
           43,
           50,
           41,
           71,
           28,
           4,
           39,
           70,
           1,
           16,
           30,
           4,
           34,
           92,
           76,
           90,
           58,
           68,
           16,
           60,
           16,
           92,
           33,
           56,
           58,
           26,
           97,
           50,
           36,
           88,
           30,
           89,
           90,
           74,
           94,
           63,
           59,
           32,
           97,
           42,
           26,
           73,
           41,
           63,
           68,
           60,
           58,
           54,
           31,
           48,
           7,
           42,
           29,
           75,
           35,
           4,
           80,
           90,
           50,
           48,
           41,
           43,
           60,
           83,
           48,
           89,
           11,
           36,
           51,
           59,
           44,
           11,
           51,
           29,
           55,
           22,
           2,
           13,
           12,
           93,
           15,
           41,
           76,
           31,
           50,
           50,
           99,
           21,
           41,
           56,
           89,
           51,
           4,
           53,
           41,
           58,
           24,
           35,
           4,
           56,
           39,
           45,
           53,
           91,
           23,
           80,
           88,
           30,
           33,
           97,
           41,
           32,
           53,
           73,
           90,
           56,
           56,
           37,
           22,
           71,
           92,
           71,
           35,
           41,
           50,
           85,
           37,
           60,
           85,
           60,
           60,
           56,
           45,
           97,
           58,
           51,
           35,
           25,
           63,
           61,
           22,
           48,
           72,
           22,
           17,
           73,
           63,
           22,
           56,
           22,
           49,
           56,
           39,
           45,
           40,
           82,
           63,
           98,
           7,
           13,
           60,
           2,
           24,
           60,
           39,
           60,
           68,
           88,
           78,
           16,
           29,
           22,
           12,
           64,
           29,
           58,
           10,
           3,
           65,
           7,
           71,
           71,
           87,
           58,
           73,
           14,
           41,
           62,
           59,
           37,
           73,
           4,
           21,
           34,
           48,
           93,
           22,
           90,
           85,
           41,
           81,
           95,
           7,
           76,
           82,
           20,
           45,
           78,
           17,
           17,
           26,
           34,
           68,
           23,
           63,
           1,
           9,
           30,
           54,
           49,
           48,
           22,
           1,
           17,
           82,
           66,
           55,
           95,
           48,
           66,
           65,
           41,
           1,
           45,
           13,
           2,
           60,
           0,
           21,
           42,
           28,
           95,
           48,
           76,
           76,
           50,
           21,
           4,
           53,
           93,
           95,
           56,
           41,
           3,
           83,
           98,
           16,
           71,
           56,
           88,
           37,
           23,
           62,
           33,
           70,
           59,
           73,
           89,
           56,
           48,
           93,
           17,
           10,
           30,
           22,
           48,
           34,
           33,
           50,
           30,
           92,
           48,
           85,
           24,
           50,
           90,
           17,
           4,
           39,
           34,
           37,
           82,
           84,
           48,
           40,
           22,
           60,
           22,
           76,
           26,
           8,
           22,
           16,
           82,
           1,
           54,
           73,
           0,
           72,
           4,
           11,
           63,
           34,
           35,
           96,
           97,
           97,
           41,
           40,
           41,
           41,
           92,
           41,
           27,
           60,
           27,
           49,
           51,
           66,
           50,
           42,
           61,
           97,
           48,
           98,
           22,
           94,
           47,
           38,
           2,
           13,
           60,
           20,
           28,
           55,
           45,
           16,
           73,
           71,
           4,
           92,
           92,
           24,
           84,
           61,
           35,
           95,
           10,
           50,
           26,
           78,
           66,
           95,
           62,
           49,
           58,
           41,
           3,
           31,
           80,
           24,
           65,
           4,
           68,
           22,
           56,
           30,
           20,
           80,
           56,
           10,
           1,
           22,
           44,
           7,
           54,
           34,
           84,
           50,
           51,
           21,
           95,
           50,
           73,
           33,
           21,
           73,
           74,
           35,
           66,
           33,
           35,
           95,
           95,
           93,
           35,
           61,
           80,
           20,
           26,
           34,
           30,
           4,
           60,
           56,
           39,
           21,
           35,
           59,
           95,
           21,
           87,
           71,
           17,
           17,
           17,
           78,
           87,
           25,
           5,
           3,
           41,
           23,
           78,
           82,
           78,
           35,
           3,
           63,
           16,
           52,
           23,
           52,
           17,
           1,
           93,
           69,
           68,
           77,
           48,
           99,
           7,
           62,
           22,
           40,
           63,
           80,
           17,
           18,
           68,
           48,
           80,
           1,
           63,
           30,
           17,
           89,
           63,
           49,
           35,
           68,
           90,
           95,
           33,
           85,
           72,
           55,
           98,
           48,
           61,
           48,
           38,
           72,
           4,
           33,
           2,
           13,
           12,
           53,
           97,
           16,
           10,
           58,
           93,
           30,
           17,
           60,
           96,
           35,
           35,
           58,
           95,
           60,
           88,
           10,
           76,
           58,
           59,
           93,
           50,
           50,
           71,
           60,
           0,
           82,
           93,
           11,
           88,
           11,
           21,
           20,
           95,
           56,
           4,
           82,
           12,
           41,
           97,
           80,
           76,
           30,
           85,
           41,
           47,
           84,
           35,
           89,
           53,
           21,
           30,
           15,
           30,
           41,
           17,
           41,
           58,
           41,
           85,
           87,
           14,
           3,
           17,
           42,
           16,
           11,
           31,
           15,
           39,
           68,
           33,
           41,
           90,
           37,
           99,
           59,
           59,
           63,
           16,
           99,
           41,
           63,
           43,
           54,
           85,
           50,
           0,
           62,
           72,
           18,
           4,
           17,
           8,
           1,
           10,
           97,
           35,
           21,
           88,
           97,
           42,
           74,
           52,
           5,
           32,
           51,
           50,
           48,
           85,
           72,
           85,
           61,
           16,
           79,
           50,
           54,
           97,
           17,
           50,
           10,
           31,
           72,
           53,
           98,
           55,
           47,
           38,
           1,
           13,
           2,
           76,
           12,
           73,
           48,
           41,
           76,
           61,
           28,
           50,
           12,
           53,
           66,
           5,
           29,
           12,
           35,
           50,
           31,
           41,
           5,
           53,
           21,
           11,
           56,
           21,
           77,
           32,
           87,
           12,
           20,
           73,
           87,
           34,
           25,
           71,
           50,
           27,
           64,
           85,
           10,
           64,
           83,
           83,
           35,
           71,
           60,
           4,
           72,
           58,
           53,
           1,
           35,
           50,
           56,
           3,
           21,
           3,
           33,
           15,
           80,
           48,
           85,
           21,
           48,
           33,
           77,
           85,
           59,
           50,
           76,
           48,
           10,
           15,
           25,
           0,
           11,
           4,
           90,
           31,
           76,
           66,
           24,
           28,
           16,
           12,
           80,
           11,
           40,
           7,
           97,
           73,
           80,
           30,
           76,
           35,
           85,
           58,
           12,
           50,
           23,
           29,
           4,
           43,
           85,
           16,
           16,
           5,
           25,
           1,
           83,
           58,
           30,
           66,
           21,
           41,
           30,
           50,
           93,
           95,
           66,
           92,
           48,
           97,
           21,
           68,
           74,
           48,
           21,
           41,
           56,
           35,
           82,
           59,
           87,
           52,
           45,
           16,
           30,
           58,
           5,
           68,
           52,
           80,
           14,
           22,
           90,
           62,
           63,
           59,
           21,
           17,
           17,
           89,
           74,
           97,
           25,
           41,
           83,
           90,
           50,
           29,
           55,
           35,
           58,
           28,
           21,
           4,
           48,
           88,
           17,
           47,
           38,
           85,
           21,
           36,
           2,
           13,
           7,
           74,
           26,
           58,
           53,
           21,
           26,
           85,
           58,
           60,
           84,
           3,
           90,
           41,
           58,
           56,
           21,
           35,
           41,
           93,
           3,
           15,
           88,
           17,
           4,
           76,
           84,
           87,
           95,
           72,
           48,
           88,
           77,
           50,
           20,
           3,
           78,
           41,
           20,
           50,
           77,
           71,
           53,
           22,
           30,
           21,
           63,
           48,
           60,
           48,
           16,
           95,
           48,
           95,
           16,
           4,
           60,
           7,
           35,
           11,
           74,
           85,
           35,
           92,
           83,
           21,
           31,
           72,
           8,
           53,
           64,
           50,
           21,
           56,
           63,
           83,
           0,
           87,
           4,
           83,
           53,
           4,
           37,
           48,
           24,
           17,
           71,
           16,
           56,
           45,
           39,
           82,
           48,
           84,
           37,
           27,
           16,
           1,
           78,
           83,
           61,
           12,
           48,
           68,
           59,
           97,
           23,
           25,
           60,
           95,
           31,
           53,
           63,
           16,
           98,
           59,
           5,
           26,
           56,
           33,
           63,
           14,
           3,
           40,
           45,
           59,
           17,
           59,
           6,
           6,
           6,
           6,
           6,
           6,
           6,
           6,
           6,
           6,
           6,
           6,
           6,
           6,
           6,
           6,
           6,
           6,
           6,
           6,
           6,
           6,
           6,
           6,
           6,
           6,
           6,
           6,
           6,
           6,
           6,
           6,
           86,
           15,
           63,
           10,
           86,
           52,
           29,
           48,
           16,
           96,
           85,
           99,
           35,
           63,
           8,
           40,
           48,
           40,
           52,
           69,
           50,
           8,
           49,
           72,
           41,
           48,
           98,
           55,
           82,
           66,
           2,
           13,
           85,
           56,
           41,
           50,
           16,
           92,
           14,
           31,
           56,
           53,
           3,
           60,
           16,
           12,
           41,
           33,
           64,
           58,
           95,
           14,
           4,
           3,
           16,
           39,
           91,
           48,
           12,
           87,
           21,
           3,
           73,
           45,
           88,
           89,
           76,
           74,
           62,
           48,
           33,
           26,
           84,
           16,
           84,
           60,
           51,
           14,
           56,
           48,
           21,
           66,
           48,
           62,
           48,
           31,
           16,
           35,
           75,
           56,
           11,
           56,
           68,
           49,
           34,
           34,
           48,
           72,
           35,
           1,
           16,
           57,
           41,
           89,
           16,
           87,
           22,
           87,
           61,
           39,
           2,
           13,
           37,
           53,
           3,
           74,
           74,
           62,
           3,
           82,
           55,
           85,
           37,
           73,
           64,
           56,
           90,
           60,
           90,
           89,
           21,
           46,
           41,
           68,
           95,
           35,
           65,
           4,
           24,
           58,
           25,
           50,
           34,
           82,
           88,
           12,
           97,
           90,
           1,
           41,
           33,
           65,
           89,
           36,
           48,
           12,
           59,
           53,
           8,
           74,
           12,
           1,
           71,
           35,
           14,
           72,
           26,
           82,
           81,
           35,
           51,
           22,
           49,
           87,
           48,
           52,
           48,
           17,
           97,
           33,
           56,
           17,
           14,
           95,
           61,
           55,
           82,
           95,
           66,
           47,
           2,
           95,
           13,
           56,
           59,
           12,
           58,
           60,
           3,
           92,
           41,
           16,
           37,
           71,
           60,
           4,
           41,
           58,
           21,
           16,
           49,
           50,
           21,
           56,
           16,
           56,
           73,
           4,
           56,
           54,
           60,
           5,
           97,
           0,
           95,
           11,
           20,
           16,
           32,
           48,
           35,
           12,
           12,
           48,
           66,
           46,
           79,
           1,
           68,
           68,
           41,
           50,
           76,
           41,
           27,
           41,
           60,
           41,
           41,
           41,
           60,
           50,
           4,
           72,
           88,
           59,
           83,
           51,
           58,
           34,
           41,
           21,
           33,
           56,
           93,
           73,
           77,
           4,
           31,
           41,
           56,
           30,
           7,
           17,
           83,
           17,
           60,
           45,
           44,
           48,
           26,
           89,
           48,
           41,
           78,
           4,
           23,
           71,
           58,
           40,
           3,
           50,
           1,
           36,
           31,
           5,
           82,
           35,
           93,
           81,
           82,
           1,
           14,
           12,
           48,
           14,
           17,
           54,
           45,
           90,
           7,
           89,
           60,
           31,
           31,
           1,
           20,
           99,
           97,
           16,
           97,
           16,
           30,
           56,
           22,
           48,
           81,
           98,
           55,
           47,
           63,
           34,
           2,
           79,
           60,
           13,
           20,
           60,
           63,
           12,
           56,
           51,
           15,
           76,
           82,
           3,
           37,
           97,
           88,
           7,
           24,
           67,
           17,
           41,
           24,
           34,
           53,
           53,
           77,
           41,
           58,
           53,
           3,
           21,
           56,
           49,
           65,
           4,
           50,
           50,
           32,
           20,
           11,
           99,
           45,
           31,
           39,
           35,
           45,
           25,
           97,
           7,
           56,
           26,
           73,
           50,
           33,
           66,
           56,
           93,
           93,
           11,
           39,
           73,
           50,
           53,
           83,
           41,
           37,
           11,
           17,
           12,
           73,
           35,
           22,
           66,
           12,
           64,
           33,
           83,
           95,
           33,
           10,
           17,
           73,
           41,
           59,
           37,
           50,
           35,
           17,
           50,
           25,
           68,
           71,
           92,
           88,
           66,
           42,
           95,
           75,
           46,
           24,
           3,
           10,
           7,
           11,
           59,
           59,
           41,
           16,
           23,
           63,
           28,
           22,
           63,
           61,
           45,
           41,
           22,
           71,
           84,
           45,
           87,
           22,
           22,
           23,
           22,
           22,
           19,
           97,
           35,
           51,
           42,
           63,
           29,
           7,
           55,
           47,
           30,
           2,
           12,
           79,
           13,
           35,
           4,
           38,
           82,
           15,
           60,
           28,
           28,
           15,
           16,
           28,
           15,
           24,
           58,
           28,
           78,
           58,
           53,
           15,
           56,
           3,
           50,
           50,
           21,
           3,
           12,
           71,
           76,
           97,
           24,
           21,
           35,
           61,
           64,
           4,
           41,
           76,
           4,
           89,
           21,
           35,
           25,
           23,
           97,
           20,
           45,
           33,
           24,
           45,
           83,
           71,
           30,
           95,
           30,
           63,
           10,
           45,
           4,
           43,
           93,
           56,
           16,
           22,
           16,
           11,
           43,
           16,
           78,
           50,
           90,
           58,
           92,
           22,
           26,
           83,
           68,
           73,
           54,
           26,
           17,
           81,
           71,
           41,
           22,
           73,
           17,
           42,
           40,
           53,
           24,
           27,
           14,
           17,
           87,
           64,
           8,
           50,
           59,
           83,
           34,
           85,
           12,
           24,
           97,
           26,
           22,
           50,
           70,
           11,
           24,
           4,
           73,
           45,
           56,
           41,
           95,
           84,
           41,
           58,
           22,
           62,
           31,
           85,
           41,
           22,
           22,
           52,
           11,
           75,
           12,
           82,
           35,
           73,
           41,
           52,
           48,
           57,
           30,
           89,
           82,
           61,
           97,
           49,
           7,
           39,
           55,
           30,
           34,
           4,
           22,
           23,
           95,
           97,
           38,
           47,
           13,
           79,
           56,
           60,
           58,
           41,
           11,
           42,
           50,
           21,
           35,
           3,
           28,
           28,
           24,
           24,
           28,
           28,
           92,
           60,
           53,
           53,
           61,
           15,
           58,
           92,
           59,
           64,
           62,
           11,
           4,
           99,
           54,
           72,
           95,
           41,
           76,
           95,
           54,
           88,
           69,
           3,
           85,
           21,
           60,
           37,
           37,
           28,
           28,
           16,
           29,
           30,
           72,
           4,
           20,
           16,
           42,
           65,
           83,
           71,
           8,
           43,
           71,
           64,
           64,
           62,
           83,
           30,
           1,
           45,
           41,
           2,
           64,
           68,
           93,
           56,
           83,
           3,
           56,
           24,
           12,
           48,
           30,
           56,
           54,
           17,
           56,
           74,
           60,
           0,
           74,
           65,
           10,
           97,
           1,
           34,
           43,
           25,
           53,
           82,
           93,
           95,
           45,
           60,
           74,
           61,
           35,
           3,
           82,
           62,
           24,
           51,
           89,
           80,
           12,
           15,
           3,
           24,
           17,
           32,
           16,
           72,
           88,
           21,
           68,
           80,
           63,
           64,
           99,
           73,
           58,
           82,
           73,
           8,
           87,
           17,
           60,
           40,
           82,
           11,
           97,
           59,
           52,
           59,
           97,
           59,
           21,
           59,
           16,
           54,
           51,
           80,
           24,
           68,
           71,
           10,
           50,
           54,
           83,
           77,
           41,
           49,
           87,
           33,
           66,
           42,
           75,
           60,
           18,
           61,
           90,
           88,
           50,
           35,
           33,
           80,
           89,
           51,
           47,
           38,
           76,
           2,
           13,
           79,
           56,
           21,
           3,
           1,
           28,
           24,
           28,
           56,
           58,
           53,
           24,
           71,
           24,
           28,
           53,
           41,
           53,
           60,
           7,
           58,
           58,
           60,
           82,
           65,
           73,
           86,
           12,
           43,
           26,
           31,
           3,
           53,
           74,
           60,
           46,
           41,
           88,
           73,
           81,
           72,
           34,
           39,
           41,
           20,
           83,
           39,
           32,
           60,
           20,
           3,
           17,
           73,
           64,
           28,
           41,
           45,
           74,
           22,
           11,
           98,
           41,
           61,
           33,
           84,
           3,
           71,
           37,
           56,
           41,
           82,
           58,
           33,
           17,
           68,
           41,
           48,
           12,
           12,
           83,
           66,
           21,
           59,
           25,
           71,
           60,
           71,
           4,
           48,
           31,
           99,
           54,
           97,
           41,
           65,
           66,
           3,
           58,
           93,
           78,
           41,
           1,
           37,
           56,
           34,
           73,
           41,
           41,
           41,
           99,
           35,
           90,
           54,
           12,
           60,
           12,
           85,
           56,
           56,
           58,
           82,
           33,
           46,
           7,
           66,
           32,
           21,
           98,
           80,
           68,
           35,
           10,
           97,
           43,
           29,
           77,
           57,
           81,
           92,
           54,
           71,
           8,
           5,
           80,
           30,
           46,
           89,
           33,
           23,
           44,
           80,
           98,
           18,
           41,
           35,
           35,
           2,
           13,
           79,
           58,
           56,
           58,
           12,
           94,
           50,
           56,
           58,
           46,
           65,
           58,
           73,
           41,
           60,
           76,
           96,
           46,
           48,
           88,
           93,
           58,
           60,
           91,
           30,
           48,
           23,
           88,
           43,
           48,
           82,
           33,
           45,
           37,
           30,
           22,
           84,
           73,
           61,
           3,
           30,
           41,
           56,
           48,
           12,
           68,
           41,
           1,
           60,
           85,
           40,
           84,
           0,
           1,
           48,
           50,
           57,
           97,
           63,
           61,
           35,
           19,
           35,
           73,
           48,
           29,
           55,
           32,
           4,
           74,
           50,
           56,
           13,
           79,
           2,
           60,
           16,
           48,
           84,
           45,
           97,
           76,
           4,
           50,
           30,
           41,
           50,
           12,
           33,
           71,
           50,
           68,
           87,
           11,
           87,
           21,
           73,
           3,
           17,
           3,
           21,
           33,
           71,
           29,
           1,
           95,
           22,
           39,
           54,
           17,
           83,
           40,
           59,
           35,
           53,
           22,
           33,
           41,
           9,
           99,
           17,
           48,
           49,
           1,
           30,
           48,
           63,
           17,
           55,
           27,
           45,
           58,
           29,
           47,
           2,
           13,
           79,
           35,
           68,
           4,
           71,
           21,
           3,
           21,
           50,
           56,
           90,
           90,
           58,
           54,
           16,
           50,
           26,
           65,
           88,
           4,
           60,
           37,
           45,
           50,
           11,
           33,
           5,
           23,
           22,
           23,
           20,
           96,
           0,
           4,
           1,
           17,
           50,
           4,
           50,
           85,
           45,
           41,
           93,
           56,
           93,
           72,
           35,
           74,
           58,
           21,
           16,
           34,
           34,
           53,
           48,
           10,
           28,
           15,
           21,
           82,
           80,
           60,
           59,
           31,
           30,
           3,
           92,
           4,
           72,
           73,
           48,
           15,
           62,
           89,
           35,
           24,
           41,
           51,
           81,
           50,
           63,
           50,
           8,
           11,
           99,
           16,
           43,
           85,
           80,
           72,
           17,
           93,
           67,
           85,
           96,
           72,
           97,
           1,
           45,
           30,
           1,
           87,
           50,
           49,
           36,
           61,
           61,
           98,
           95,
           4,
           50,
           48,
           47,
           80,
           38,
           88,
           2,
           13,
           49,
           74,
           26,
           66,
           60,
           31,
           54,
           95,
           20,
           66,
           50,
           76,
           60,
           49,
           28,
           10,
           60,
           53,
           12,
           9,
           4,
           95,
           21,
           58,
           58,
           7,
           92,
           60,
           73,
           58,
           35,
           58,
           95,
           32,
           50,
           4,
           58,
           60,
           54,
           48,
           41,
           37,
           83,
           31,
           97,
           39,
           48,
           56,
           5,
           23,
           95,
           56,
           26,
           48,
           21,
           54,
           85,
           0,
           17,
           90,
           17,
           33,
           58,
           10,
           4,
           51,
           62,
           80,
           24,
           12,
           89,
           66,
           58,
           70,
           54,
           48,
           54,
           68,
           12,
           10,
           83,
           80,
           82,
           39,
           56,
           68,
           76,
           73,
           16,
           43,
           76,
           93,
           54,
           18,
           27,
           4,
           22,
           75,
           16,
           4,
           30,
           1,
           59,
           16,
           77,
           51,
           48,
           64,
           16,
           73,
           17,
           77,
           11,
           97,
           30,
           48,
           80,
           97,
           1,
           34,
           35,
           64,
           22,
           98,
           55,
           8,
           19,
           16,
           25,
           84,
           81,
           72,
           38,
           47,
           2,
           13,
           66,
           4,
           74,
           58,
           58,
           21,
           37,
           76,
           21,
           56,
           3,
           82,
           66,
           60,
           71,
           10,
           30,
           56,
           39,
           8,
           50,
           15,
           12,
           22,
           35,
           59,
           85,
           95,
           28,
           92,
           92,
           72,
           56,
           16,
           82,
           3,
           23,
           5,
           11,
           41,
           54,
           1,
           11,
           73,
           53,
           73,
           31,
           88,
           4,
           16,
           97,
           60,
           66,
           24,
           92,
           41,
           56,
           41,
           39,
           59,
           54,
           3,
           56,
           82,
           4,
           99,
           37,
           23,
           92,
           12,
           40,
           10,
           11,
           21,
           50,
           85,
           21,
           5,
           59,
           16,
           92,
           15,
           83,
           32,
           71,
           58,
           30,
           68,
           32,
           16,
           56,
           3,
           64,
           56,
           89,
           57,
           97,
           37,
           24,
           0,
           34,
           90,
           21,
           1,
           48,
           14,
           56,
           45,
           59,
           73,
           4,
           17,
           41,
           62,
           31,
           11,
           17,
           48,
           77,
           51,
           11,
           30,
           72,
           5,
           52,
           10,
           67,
           35,
           28,
           16,
           81,
           12,
           35,
           31,
           35,
           73,
           90,
           85,
           55,
           98,
           5,
           19,
           62,
           16,
           35,
           56,
           16,
           30,
           12,
           17,
           32,
           47,
           31,
           2,
           79,
           13,
           58,
           59,
           54,
           50,
           82,
           58,
           35,
           73,
           41,
           56,
           16,
           92,
           53,
           58,
           60,
           50,
           88,
           3,
           59,
           41,
           3,
           58,
           4,
           62,
           71,
           73,
           50,
           63,
           31,
           88,
           48,
           78,
           30,
           23,
           24,
           12,
           35,
           23,
           12,
           23,
           80,
           32,
           16,
           71,
           64,
           83,
           64,
           83,
           71,
           93,
           88,
           95,
           73,
           76,
           88,
           35,
           95,
           51,
           92,
           21,
           66,
           58,
           82,
           99,
           3,
           37,
           56,
           42,
           33,
           58,
           72,
           3,
           61,
           58,
           30,
           32,
           80,
           59,
           83,
           50,
           41,
           85,
           88,
           88,
           61,
           60,
           78,
           26,
           83,
           20,
           96,
           90,
           12,
           39,
           58,
           23,
           50,
           35,
           95,
           21,
           85,
           71,
           75,
           74,
           88,
           54,
           84,
           58,
           1,
           41,
           33,
           43,
           21,
           51,
           92,
           12,
           41,
           0,
           56,
           4,
           69,
           70,
           8,
           31,
           97,
           20,
           36,
           25,
           1,
           32,
           71,
           67,
           31,
           1,
           54,
           23,
           39,
           34,
           30,
           74,
           33,
           63,
           99,
           45,
           77,
           57,
           62,
           3,
           78,
           45,
           54,
           0,
           63,
           14,
           68,
           16,
           41,
           44,
           87,
           17,
           17,
           95,
           58,
           73,
           65,
           50,
           55,
           98,
           73,
           17,
           64,
           26,
           17,
           47,
           97,
           38,
           2,
           79,
           13,
           0,
           76,
           60,
           20,
           41,
           60,
           88,
           68,
           26,
           32,
           16,
           56,
           32,
           44,
           40,
           16,
           37,
           12,
           88,
           56,
           58,
           15,
           53,
           39,
           16,
           88,
           39,
           93,
           16,
           50,
           84,
           95,
           87,
           90,
           10,
           73,
           85,
           3,
           88,
           41,
           73,
           70,
           20,
           4,
           50,
           58,
           34,
           3,
           11,
           39,
           20,
           63,
           71,
           66,
           26,
           48,
           35,
           43,
           16,
           56,
           43,
           32,
           30,
           56,
           95,
           67,
           41,
           41,
           66,
           58,
           50,
           24,
           71,
           41,
           56,
           75,
           41,
           41,
           23,
           21,
           12,
           82,
           56,
           25,
           24,
           45,
           97,
           76,
           50,
           66,
           51,
           4,
           50,
           83,
           64,
           45,
           71,
           56,
           95,
           3,
           16,
           59,
           69,
           3,
           10,
           54,
           85,
           39,
           73,
           48,
           4,
           39,
           71,
           71,
           88,
           16,
           30,
           46,
           53,
           78,
           60,
           40,
           87,
           20,
           7,
           41,
           43,
           21,
           23,
           56,
           69,
           26,
           48,
           78,
           83,
           41,
           57,
           3,
           1,
           29,
           18,
           67,
           63,
           53,
           85,
           45,
           66,
           48,
           1,
           27,
           97,
           76,
           3,
           17,
           52,
           78,
           31,
           49,
           54,
           68,
           23,
           98,
           63,
           55,
           2,
           79,
           59,
           13,
           83,
           54,
           60,
           35,
           12,
           12,
           88,
           92,
           16,
           58,
           15,
           16,
           82,
           21,
           3,
           16,
           41,
           10,
           41,
           3,
           37,
           50,
           91,
           4,
           11,
           30,
           47,
           31,
           97,
           76,
           16,
           21,
           48,
           12,
           53,
           48,
           66,
           45,
           95,
           17,
           17,
           76,
           17,
           77,
           73,
           17,
           16,
           57,
           35,
           33,
           50,
           90,
           8,
           88,
           99,
           87,
           89,
           26,
           48,
           62,
           14,
           35,
           16,
           63,
           1,
           19,
           51,
           1,
           93,
           35,
           1,
           98,
           68,
           73,
           29,
           8,
           41,
           2,
           79,
           13,
           71,
           90,
           97,
           20,
           68,
           56,
           60,
           95,
           53,
           17,
           7,
           53,
           31,
           88,
           4,
           28,
           35,
           61,
           3,
           14,
           97,
           10,
           7,
           39,
           54,
           66,
           82,
           12,
           29,
           17,
           56,
           26,
           81,
           30,
           56,
           33,
           78,
           16,
           83,
           8,
           50,
           68,
           57,
           88,
           67,
           85,
           16,
           48,
           17,
           1,
           1,
           83,
           81,
           74,
           35,
           17,
           85,
           43,
           16,
           5,
           58,
           58,
           21,
           83,
           41,
           55,
           29,
           4,
           1,
           47,
           79,
           13,
           31,
           2,
           43,
           43,
           46,
           21,
           29,
           41,
           90,
           54,
           50,
           56,
           90,
           34,
           58,
           58,
           50,
           24,
           56,
           7,
           25,
           76,
           92,
           66,
           34,
           54,
           82,
           37,
           97,
           4,
           30,
           1,
           74,
           35,
           45,
           54,
           4,
           54,
           28,
           24,
           90,
           53,
           4,
           7,
           24,
           41,
           56,
           49,
           56,
           60,
           50,
           90,
           41,
           64,
           95,
           12,
           78,
           56,
           92,
           66,
           27,
           31,
           88,
           41,
           57,
           16,
           39,
           92,
           82,
           4,
           51,
           95,
           8,
           31,
           50,
           7,
           61,
           56,
           31,
           62,
           39,
           26,
           50,
           60,
           85,
           22,
           73,
           43,
           81,
           30,
           1,
           97,
           77,
           72,
           50,
           40,
           77,
           26,
           1,
           4,
           16,
           81,
           43,
           76,
           15,
           76,
           7,
           17,
           93,
           95,
           35,
           48,
           57,
           81,
           85,
           26,
           26,
           21,
           39,
           35,
           80,
           43,
           27,
           5,
           49,
           56,
           95,
           8,
           77,
           41,
           95,
           98,
           55,
           40,
           47,
           38,
           2,
           79,
           13,
           71,
           62,
           78,
           7,
           83,
           4,
           51,
           51,
           64,
           37,
           21,
           60,
           41,
           12,
           16,
           58,
           16,
           71,
           85,
           56,
           67,
           90,
           21,
           58,
           32,
           81,
           24,
           61,
           25,
           53,
           59,
           31,
           17,
           16,
           43,
           4,
           50,
           88,
           82,
           74,
           35,
           58,
           56,
           90,
           35,
           4,
           31,
           56,
           26,
           14,
           25,
           95,
           82,
           39,
           41,
           71,
           58,
           30,
           85,
           53
          ],
          "coloraxis": "coloraxis",
          "symbol": "circle"
         },
         "mode": "markers",
         "name": "",
         "showlegend": false,
         "type": "scattergl",
         "x": [
          -0.01397758080683362,
          0.1061902639074737,
          0.1485949649869576,
          -0.0009847914522856482,
          -0.08964052257828246,
          -0.03482298251075763,
          -0.06083228101875791,
          -0.09398077963781064,
          0.30468931651427567,
          -0.08338180298844813,
          -0.07438823944172823,
          -0.028920037970760953,
          -0.03178586754372589,
          -0.1244508934133666,
          -0.07716700880134328,
          -0.01723235137388729,
          -0.01349919395401085,
          0.021982257372199474,
          -0.024738335154313642,
          -0.051909663788010964,
          -0.0409886271340546,
          -0.05144064015050454,
          -0.11622824015036894,
          -0.05253995009057597,
          -0.0018052646256569481,
          -0.07306362247230186,
          -0.061220873428927305,
          -0.04739038000033081,
          -0.05282056701471233,
          -0.004536068434522795,
          0.0796736968523713,
          -0.023744041923674825,
          -0.024661104801277176,
          -0.018317452976069893,
          -0.011564893597842197,
          -0.06142865933395442,
          0.015235209026095464,
          0.127312128804413,
          -0.06921391685865191,
          0.21669872608131113,
          0.03003188171176102,
          0.02168220922333644,
          -0.04681876069832536,
          -0.01782552483084395,
          -0.07283150255646147,
          -0.020635985953188815,
          -0.03815307719407994,
          0.0225835135809927,
          0.48672712353362857,
          -0.04948478533139479,
          -0.054915355133458625,
          0.036524044240714024,
          -0.08205226589779822,
          0.21914464524063298,
          0.6023874878876259,
          -0.06643981208721413,
          -0.0033072407573389606,
          -0.03072883776292789,
          -0.054055373471677284,
          -0.0418395606512286,
          -0.07422243848426564,
          -0.06887605975881815,
          -0.01266408833729027,
          -0.006443556580754907,
          0.1992077743130345,
          0.09798628581927818,
          0.05998568162509061,
          0.06735022464893771,
          0.07128750401867125,
          -0.09194473284964404,
          -0.041435834548020786,
          -0.06266178858018061,
          -0.06676910157956809,
          0.5275795130098703,
          0.5498679899757881,
          -0.03682440073898026,
          -0.024053198693654965,
          -0.04541430852063258,
          -0.055548546204368054,
          -0.09133752130772556,
          -0.04381102636432714,
          0.07999398014674218,
          -0.09924273827265627,
          -0.05768512093532667,
          -0.08179866804952979,
          -0.12445089341336665,
          0.6448475617561914,
          -0.04885087656856284,
          -0.010357306555817458,
          0.0006314813846818518,
          -0.0631248259539502,
          -0.029420926824178212,
          -0.02877101087430469,
          -0.03999940246861532,
          -0.05721734587860226,
          -0.03996115653022571,
          -0.05466107232457529,
          -0.06514723622227651,
          -0.04697618497752411,
          -0.01856444218464267,
          -0.027845616338272282,
          -0.012596844488616619,
          0.0025366473927424223,
          0.10494882959103669,
          0.10848756594944542,
          -0.017152465877662712,
          0.6342839664568661,
          0.002900207579757298,
          0.08810629919417606,
          0.1947929740193812,
          0.13192532232019455,
          -0.014884395294131571,
          -0.038755511828961337,
          -0.07907511804551304,
          -0.004729991697285165,
          0.0028006313178745718,
          0.18320139341105168,
          -0.05394316365359871,
          0.12388571345514378,
          -0.046414592247939764,
          0.07443644936204162,
          -0.028809837315143628,
          -0.03623378558389659,
          0.009463592042649297,
          -0.033885903631463994,
          -0.02538211225738931,
          -0.038327238080794974,
          0.10306571488490245,
          -0.012005079084485167,
          -0.009075777778917608,
          0.6219728022956994,
          -0.019618321297268253,
          -0.002801136000178851,
          -0.04409959399414953,
          -0.03197376729973859,
          0.04267491175975205,
          -0.06702113959259706,
          0.49235788309885786,
          -0.03286582564560321,
          -0.08274164707699726,
          -0.07568312167005228,
          -0.023898433275274064,
          -0.05330239732840319,
          -0.060899549221211796,
          -0.07723264914999634,
          -0.05918345908857281,
          -0.03875158131962934,
          -0.05434112452083377,
          -0.08778859416716935,
          -0.05057301070574138,
          0.0001431969942060643,
          0.4247178739670456,
          0.1064151782062623,
          -0.035016066344930416,
          -0.010024955248952066,
          -0.08096971847448409,
          -0.09205272664066039,
          0.07771660293223752,
          -0.02023769492504219,
          -0.08995334775227688,
          -0.029953444545929207,
          -0.04767352707162525,
          -0.043768148623090704,
          -0.03144567226489501,
          -0.060557764202146036,
          -0.006661048442096212,
          -0.113086458366412,
          -0.0667028397871699,
          0.04366528838871988,
          -0.023042945275671738,
          0.2141001656470343,
          -0.015524720952564184,
          0.5372770464802482,
          -0.041549420945201906,
          0.10421689719836892,
          -0.005125237967976025,
          -0.031099125504270547,
          -0.1314498178119264,
          -0.04104695424227542,
          0.05096361297027836,
          0.46992741537038546,
          0.137063616323213,
          -0.06035509149597441,
          0.002446566335898541,
          0.4698800166174089,
          0.21453349489550072,
          -0.0722516789117096,
          0.065281895827041,
          0.0391706207613514,
          -0.05662917326277667,
          -0.09194473284964404,
          -0.005177007550852656,
          -0.0444154032945413,
          -0.040746098001289414,
          0.06017453356107306,
          0.007019946772986418,
          -0.043887315674254024,
          -0.053898701203872044,
          -0.004828765270065504,
          -0.03691531997130482,
          0.41445082991418364,
          0.5862022850108404,
          0.021538544297138276,
          -0.07082111776264086,
          0.053489204675368225,
          -0.01441800295562793,
          -0.12445089341336665,
          -0.08351830639509296,
          -0.035945579949713605,
          0.031799608755643666,
          -0.0226340060409373,
          -0.05701727389327522,
          -0.06138733416319095,
          -0.09706954111850452,
          -0.017203921631755374,
          -0.038639871191535904,
          -0.02383381608944727,
          -0.036566653864285203,
          -0.047459787669263696,
          -0.06745148434413402,
          0.04622502063777056,
          -0.07827427217981078,
          -0.07164158774486716,
          0.06360213100522975,
          -0.04817182633024537,
          -0.01417458686119366,
          -0.04442656404416212,
          -0.02416016581168038,
          -0.05276695921527742,
          -0.014489499835104459,
          0.49994051019816665,
          -0.023050562009909462,
          -0.013396956564038888,
          -0.011421259960703332,
          -0.07338713899976894,
          -0.07392646996034019,
          -0.07735057712961317,
          -0.028049876556300955,
          0.08557893726464792,
          -0.03378313776819439,
          0.10997366813886295,
          0.13954021875500894,
          0.17239372157922012,
          -0.023971220724615317,
          -0.04751505340535762,
          0.09775183337656819,
          -0.011783581618965686,
          0.03901358471619794,
          -0.025811407151856834,
          -0.018601486361233918,
          -0.04651245400085897,
          0.19515920025881223,
          -0.06421106328508472,
          -0.012837002796498876,
          -0.01622923790998447,
          -0.03188392094467664,
          0.11766221305312473,
          -0.07294446969811944,
          0.18915486671890852,
          -0.09036691553865966,
          -0.03815935904195281,
          -0.036092523444209906,
          -0.048963284959041106,
          0.1160274298015749,
          0.09235446276229503,
          0.011261584126705452,
          -0.039071770834135974,
          -0.02192387437506175,
          -0.028842869524345,
          -0.031240906659616083,
          0.0053158506497548285,
          -0.02254901862653919,
          -0.05063958954836998,
          -0.028988363864144835,
          0.5511970029056706,
          -0.029505357825093895,
          0.029753832320938797,
          0.0037238143618126412,
          0.22402641022613842,
          -0.04828201843661202,
          0.17888523385529126,
          -0.05065602227694504,
          -0.003960477374921528,
          -0.014435656730365929,
          -0.016480636483725095,
          -0.031721027724853544,
          -0.061178567429071094,
          -0.07581517294776552,
          0.05681389097423587,
          0.5567548658470374,
          0.551075911752412,
          0.160593038463705,
          0.11568050246848575,
          0.17836415595359037,
          -0.06471192286278027,
          0.03619626971804834,
          0.07741922609575323,
          -0.027441551352565877,
          -0.013116925354262243,
          -0.009294392692016092,
          -0.00825339961505474,
          -0.04100926173583399,
          -0.03406125113925506,
          -0.014054367882207694,
          -0.09514835978518837,
          -0.01387692809036785,
          -0.019113442437538982,
          0.42593449199610506,
          -0.016805641141810938,
          -0.046059668193476205,
          -0.058757926363608354,
          -0.010050361091200874,
          0.005899122175295191,
          0.005732279842213922,
          0.06416072764988202,
          -0.01786647064720834,
          -0.05142219621547142,
          -0.041664166511881644,
          -0.073536346716982,
          0.7085341046703637,
          -0.05319728674308168,
          0.21995542481324482,
          -0.09909729895698909,
          -0.10736608027815382,
          -0.021446185777176625,
          0.006667254238906965,
          0.19431541501244617,
          -0.02754849495582587,
          0.258499203049371,
          -0.04018046706416942,
          -0.07371336726926113,
          0.13430594049882671,
          -0.010247156164425954,
          -0.009529075704538861,
          -0.011109498093655204,
          0.09604314083731551,
          0.1892549180985218,
          0.18342657752606192,
          -0.04466237014283062,
          -0.03369836002180529,
          -0.013116925354262243,
          -0.020650159392299913,
          -0.08217013116007739,
          0.14961509647809104,
          -0.006475882185345296,
          0.08854272679047076,
          -0.06678983335337677,
          -0.06504378301393611,
          0.08582113671101352,
          -0.03702990238762191,
          0.21014331259075125,
          -0.0832799139012696,
          -0.06965865045049978,
          -0.048418502895209575,
          0.054762492782369374,
          -0.06440699022733104,
          0.02566721183950785,
          -0.08232263366991273,
          -0.12445089341336665,
          -0.08003577942055036,
          -0.05232020373800466,
          0.01293229760234015,
          -0.09644127327711072,
          -0.07581000258726224,
          -0.019208034743420827,
          -0.04785093209573629,
          -0.030009648955012392,
          0.05679092900190059,
          -0.04082262124642193,
          -0.01689918223329229,
          -0.026643102797308013,
          -0.09002328680277029,
          -0.06156064259072222,
          0.5999226227332455,
          -0.03422005926548062,
          -0.04418195272151887,
          0.04436991837841243,
          -0.04741897716254804,
          -0.06124552690656676,
          -0.03105211400441184,
          -0.020195924950892622,
          -0.04654476657371525,
          -0.055104907032930826,
          0.08168743794783287,
          0.6159540030110487,
          -0.031062774528588494,
          0.22222807105489173,
          -0.04751505340535762,
          -0.019555267494224822,
          -0.07412046383377757,
          -0.05090738833428147,
          0.17354284557618094,
          -0.04067075889189429,
          0.023254638891514277,
          -0.06341453035917845,
          -0.0033624524161959025,
          0.03774542001926817,
          0.15548768508209215,
          -0.007007881714886406,
          -0.05473813464969514,
          -0.03948600824533383,
          -0.027947012791250822,
          -0.03188430262274321,
          -0.021468007147804852,
          -0.056517813406908986,
          -0.058569512640269134,
          -0.07139788270701135,
          0.259207768498731,
          0.011058308013209834,
          -0.039014114840151215,
          -0.05651224389514405,
          -0.041994960875917135,
          -0.05167613445350261,
          -0.04001401617828715,
          0.4640030625824184,
          -0.02618415377436428,
          -0.019339832431132704,
          0.02016982638611039,
          -0.010964030713333009,
          -0.07470910777439521,
          -0.07565763499981494,
          -0.03640413650652743,
          0.08311599023629763,
          -0.033659210775801134,
          -0.08255200602131796,
          -0.009782489241606202,
          -0.03059325496809712,
          0.09904755610988095,
          0.02086348903590386,
          -0.017958453894251363,
          0.02312506058066254,
          -0.03194123092082303,
          -0.05941183675486644,
          -0.10259451481465982,
          -0.05375289107190098,
          -0.07212302924185109,
          -0.013116925354262243,
          -0.047364954673267276,
          -0.06018824947177971,
          -0.08898063105227022,
          -0.05632442565725135,
          0.07048090770681288,
          -0.11138178686705953,
          -0.042458807114845065,
          0.23513562334519061,
          0.07425466960449467,
          -0.07404589495975597,
          0.08592049908933456,
          0.2618360248805688,
          -0.0409521893412235,
          0.6297847353063274,
          -0.02000856136948084,
          0.11770847911215873,
          -0.01934202605206473,
          -0.013116925354262243,
          -0.04891903874244064,
          -0.0346054771237308,
          -0.058001150055090246,
          -0.0378517158233553,
          -0.060040218184352546,
          -0.026830603140864835,
          0.0636026112506005,
          -0.12554966414925745,
          0.189221793032505,
          0.03585244351844096,
          -0.0018997905451931876,
          -0.05956765137733602,
          0.035101336304690034,
          -0.07943097414028898,
          0.07322983734385577,
          0.007060148554385817,
          0.12498844210908536,
          0.30431089379935483,
          -0.06096493890910385,
          -0.016913689744960787,
          -0.06698820403003523,
          0.007837827272950215,
          0.07287757889485821,
          -0.05563200686622923,
          -0.04455370105886998,
          0.5016434194723361,
          -0.039152593163969004,
          -0.019708575965873158,
          0.4645251307521213,
          -0.014952225463138145,
          -0.02400475298025145,
          -0.07336016364524334,
          -0.09344811964603397,
          0.003408846705402463,
          0.0025450591588485638,
          -0.041305157688619185,
          -0.08822165428173505,
          0.15358103661724082,
          -0.030463141860500306,
          0.14216945520864188,
          -0.044126113856958256,
          -0.06440699022733104,
          0.20328648557816165,
          -0.02353661276477727,
          -0.12445089341336665,
          -0.08224228990003805,
          -0.020558691509604817,
          0.025003285850258444,
          0.0173312844789909,
          -0.020890429132223255,
          0.15632421623340775,
          -0.05789819152708659,
          -0.039831175657066564,
          -0.05439195197632257,
          -0.05155809077230085,
          -0.026200125934554286,
          -0.04863294010263931,
          0.0015053060148660423,
          -0.07023442267253434,
          -0.03888986354280355,
          0.02463332132707076,
          -0.011057121596576023,
          0.026376156563992885,
          -0.051005329150654234,
          -0.04060756975936965,
          -0.030415987733988657,
          -0.0655811646637528,
          0.5628159061306003,
          -0.05533200831766218,
          -0.05864681573598026,
          -0.0338658523663904,
          -0.038728432060335126,
          -0.06907008251599625,
          0.006925728322275196,
          -0.053782167044100736,
          0.011059415004878653,
          0.04327691238055087,
          -0.09146241220813732,
          0.005240500327278786,
          -0.03404333354252479,
          -0.00296341612789403,
          -0.009613984302582911,
          -0.10477323572930497,
          -0.06768442119823602,
          -0.027377752913593793,
          -0.043384253011141224,
          -0.017742821727879148,
          0.03228310644300378,
          -0.07302657447619193,
          -0.039912747967884826,
          -0.10246656031975879,
          -0.1061693696271432,
          -0.09394419288515318,
          -0.07179933761135605,
          -0.13366464331904448,
          -0.1370859002625728,
          -0.13603360502512654,
          -0.0699307095615039,
          -0.10339965327246749,
          -0.09922861375839259,
          -0.07815761920690124,
          -0.10136217996321138,
          -0.06795755474486896,
          -0.06486162554785224,
          -0.0422817477265064,
          0.07746851967406096,
          -0.033728493808991414,
          -0.041291475652609176,
          -0.029026737227426488,
          -0.051383327104843085,
          -0.03411437180322529,
          0.17312811418060364,
          -0.03809975272463615,
          -0.07139350188288072,
          0.13748827707816402,
          -0.08255061583258838,
          -0.0219954976059647,
          -0.06010074972292723,
          -0.09846820929951478,
          -0.022085210877338585,
          -0.00584312285468274,
          0.502550655971102,
          -0.062001856742870544,
          -0.05596990930461462,
          -0.011255815239835671,
          -0.02779703923441352,
          -0.03916365921131423,
          0.15998378186350273,
          0.2277094182019728,
          -0.031014870231694962,
          -0.06721692596416894,
          -0.05291238998128967,
          0.10219692424010315,
          0.0032033948428265933,
          -0.026457901231347523,
          -0.05044876938262035,
          0.05490526728231275,
          -0.04416668391780767,
          0.32282328417935074,
          -0.004322336768540066,
          -0.06942509506232172,
          -0.013157842567939471,
          0.004355882701384764,
          -0.06325102984402352,
          -0.10246424952402979,
          -0.0431040445769179,
          -0.06842055207227134,
          0.0852017665644601,
          -0.05224521076211211,
          -0.025531839310269595,
          -0.08935072599294422,
          -0.029230907870053904,
          -0.0030907338495705,
          0.0209317233612724,
          -0.06820163955210014,
          -0.06943873894921826,
          -0.0042338125714682295,
          -0.053932123435843846,
          -0.05512579671394386,
          -0.04072701810449314,
          -0.0910851612947425,
          0.14257319198712137,
          0.6255479271322004,
          -0.023871700182194096,
          0.0022841223127251743,
          0.0400489487278487,
          -0.0378517158233553,
          0.04866319400317025,
          0.12360272056641627,
          -0.018480182031326117,
          0.04882445726068963,
          0.6029009417011034,
          -0.014642025116801587,
          0.15207442920026604,
          -0.06455839185260243,
          -0.009584819497004031,
          0.01689203440604277,
          -0.07335312774271771,
          -0.05549827330941124,
          -0.09367616583662156,
          -0.06085249460449363,
          -0.017398293179770312,
          0.5448649863081487,
          0.06595768535194795,
          -0.022351895591320073,
          -0.009832303793894792,
          0.1094333603396058,
          0.36491093700731136,
          0.11509886036465974,
          -0.05141578149373647,
          0.10708161679479859,
          -0.005382730780687163,
          0.218960305901607,
          -0.04140691373618773,
          -0.10718178530374793,
          0.5804532110335874,
          0.46180561430364464,
          0.41836260366999295,
          -0.05506146942067728,
          -0.04943690388468058,
          -0.10248691917987093,
          -0.06456457413232175,
          -0.022077578092819936,
          0.016034357419854737,
          0.05034041578542472,
          -0.04422952463388236,
          -0.06553914028619379,
          0.028934571124354717,
          -0.059007147178630794,
          -0.08123803744779307,
          0.01824344712952814,
          0.14738400667360393,
          -0.12445089341336665,
          0.04315848319243457,
          -0.06688185556161295,
          0.03185962074722082,
          -0.0843870599343096,
          0.01767920300939486,
          -0.0373148054753202,
          -0.03578908236987854,
          -0.007809632796347341,
          -0.035785682795126776,
          -0.06762373036405112,
          -0.06274954370825316,
          -0.06271898990153198,
          -0.03787414698523022,
          -0.025214974325118003,
          -0.04673954758787646,
          -0.033126413919972404,
          -0.04668976769897979,
          -0.06814965071104616,
          -0.08177220936782052,
          -0.07009306165892622,
          -0.02302960242496654,
          -0.05788562702174636,
          -0.01054135079368803,
          0.004356997903336138,
          -0.06814536409202832,
          -0.04889279248914399,
          -0.05499641735029377,
          -0.0178573597336636,
          0.1469274334924846,
          -0.03492521616272064,
          -0.028743555236551095,
          0.6569883240491907,
          0.0391446253718461,
          0.005784416225171443,
          -0.06295967814331267,
          -0.05698608889215561,
          -0.02385782972070388,
          0.10736107374615958,
          0.08478069423533711,
          -0.03944178646163412,
          -0.0720398634973679,
          -0.10014898750189395,
          -0.0746749607117389,
          -0.06464138411666813,
          -0.03959118639884887,
          -0.0850590876412483,
          0.0200167282019649,
          -0.0757754552398739,
          0.008580418638443197,
          0.19212669861337156,
          0.0164853028727471,
          -0.03141852828685866,
          -0.06428274014334756,
          -0.07447378702942468,
          -0.050774691575212035,
          -0.01589509034519427,
          -0.03408128224177398,
          -0.025226702209777577,
          -0.034248539959482155,
          0.5826536684373208,
          0.020045974568719736,
          -0.08298709330109888,
          -0.0307187887078415,
          -0.0017046025060055063,
          -0.04424416589877787,
          -0.05911765591293049,
          -0.032167286823378806,
          -0.06926620844799174,
          -0.003528766713432813,
          -0.05479334176541392,
          -0.05278970193288531,
          -0.08449604424136148,
          -0.09327167548780203,
          -0.05034205158932653,
          -0.028530409945871985,
          0.3773021840071286,
          -0.0342804431470729,
          -0.0040487771752824205,
          0.09227846188208144,
          -0.004285660703518727,
          0.26393343478830683,
          -0.05638921226032541,
          -0.06545210103203665,
          -0.038001083552962674,
          -0.03887933430393528,
          -0.03467840980042632,
          0.014516478748167392,
          -0.0342845477297543,
          -0.037020290823818164,
          -0.06781980724892714,
          0.043965927973593326,
          -0.04302707088148452,
          -0.04275504459842064,
          -0.07520949518063795,
          -0.03320602178455603,
          -0.026989656041442416,
          -0.03155832358503036,
          -0.07375844969571754,
          -0.016491910326667424,
          0.5287889634279997,
          -0.0475929251360475,
          -0.08109595175956236,
          -0.045929018406287075,
          -0.0680494873482866,
          0.10494490098944786,
          0.09997082544837183,
          -0.0025559222860125044,
          -0.044895102472508844,
          -0.06619061981079541,
          0.05428022510308588,
          -0.013116925354262243,
          -0.08968038809296465,
          -0.06283363172466494,
          0.00006988862432043502,
          -0.039276025434096626,
          0.5484676374482145,
          0.021284505752967163,
          -0.05509621271377743,
          -0.03264782776161249,
          0.06629136075377738,
          -0.0660610696744036,
          -0.0827059025392724,
          0.05504521577618635,
          -0.03391658873193937,
          0.09210134366315907,
          -0.024088460586415502,
          -0.039142757400597195,
          -0.04311866345887814,
          0.044402783231175066,
          0.11174629703654583,
          -0.018882947715593706,
          -0.07135959863470424,
          -0.017296288022332667,
          0.4161751667888259,
          0.26916139943600226,
          -0.09384051077985678,
          -0.0053566402210143745,
          0.17290340310517074,
          -0.10968733289974045,
          0.27421948550069475,
          0.07926961454306489,
          -0.08511730695063843,
          -0.09186768801833758,
          -0.06591243484122891,
          -0.12445089341336665,
          -0.09598253237542091,
          -0.01120971065242781,
          -0.06921025185029402,
          -0.0613861726988604,
          -0.013116925354262243,
          -0.07735094205301804,
          0.030405571981074547,
          -0.05979687103679887,
          -0.025288639095129368,
          -0.026757618200604537,
          -0.03227413906263681,
          -0.013116925354262243,
          -0.02541973101048131,
          0.33566256305691294,
          -0.01511665483624442,
          0.004271851476583871,
          -0.044981099755966474,
          -0.029505357825093895,
          -0.029555053349118048,
          -0.05952116893229032,
          -0.007001260327386773,
          -0.0030465217555813644,
          -0.028360616193403305,
          -0.026325336586504832,
          -0.0038069054868100412,
          0.00046406563267477845,
          -0.08414446882363058,
          0.1454379814863025,
          0.11098478332400392,
          -0.02680032740938884,
          0.005925573428149086,
          -0.043329623561759296,
          -0.005836427833711948,
          -0.022862402827703913,
          0.13591215322152725,
          -0.06265140902960742,
          0.07847267552353233,
          -0.030192322632018292,
          -0.024627482005558837,
          -0.049688364876843624,
          -0.08541989374319402,
          -0.042649794438978116,
          -0.03990536550361528,
          -0.07700991752937908,
          -0.05977301277486936,
          -0.02252861424783224,
          -0.03651620230634081,
          -0.05169505032304518,
          0.044995804305777425,
          -0.0794279035811363,
          -0.05439195197632257,
          -0.054471436714201744,
          -0.00893056587234806,
          -0.043404392308205086,
          -0.021059638291101843,
          -0.024887765918298534,
          -0.03563210999115117,
          -0.015632150701464623,
          -0.0254263483676695,
          -0.035246421303852506,
          -0.02079019099766573,
          -0.060562363293625215,
          -0.0418963176059176,
          -0.07676126670627648,
          -0.044268409574121405,
          0.07630209778017437,
          -0.06514658547477839,
          -0.03209475177333962,
          0.002344372845791473,
          -0.05749134588374996,
          -0.05652444564070712,
          -0.010247453009886208,
          -0.06002790359271421,
          -0.06296310479413113,
          -0.03413900045021177,
          -0.0613729745655989,
          -0.033873368688435435,
          -0.05873825301745683,
          -0.044724780971830996,
          -0.02534631634463757,
          -0.056529364995164366,
          -0.04922076834691487,
          -0.09285849854966707,
          -0.03166873716060699,
          -0.12445089341336665,
          -0.07127383061414241,
          -0.04676353117959349,
          -0.054750107331777924,
          0.015023091022133839,
          -0.0369035882980805,
          -0.03355719731679472,
          0.16636806989071795,
          -0.012721878360783078,
          -0.07572504306946598,
          -0.07210897653186277,
          -0.08083524216465249,
          -0.10372625145779897,
          -0.0899282620933531,
          -0.036004835287968585,
          -0.06246530627912414,
          -0.027866936950559945,
          -0.0010171470610478876,
          -0.03622397421291732,
          -0.06428274014334756,
          -0.07404571414475533,
          0.1507804737715181,
          -0.005019631510995007,
          0.021522463458753846,
          0.5472697389901042,
          -0.021411976138723417,
          -0.06138756930783486,
          0.08094455876565602,
          -0.08465430539242906,
          -0.00033770954708511793,
          -0.03128836988635616,
          -0.04927439701975774,
          0.2923586144684269,
          -0.02617366228446529,
          -0.06869393956681472,
          -0.05155742586019685,
          0.018419824888917986,
          -0.05836707130254134,
          -0.02410157182383049,
          -0.045442842230480875,
          -0.03340726410859395,
          -0.030680439715921864,
          -0.06493007448018626,
          -0.014527841105031762,
          -0.05745857477452532,
          -0.040505443612153476,
          0.07922716682023266,
          -0.03789503512031009,
          -0.026990240889498564,
          -0.06315918485324674,
          0.21458734093451365,
          -0.08855832306697317,
          0.14617184376660045,
          -0.07508358366642985,
          -0.044231046310046145,
          -0.13325549699920686,
          0.013703544721981752,
          0.4859235139267506,
          -0.08324954675837375,
          -0.03102974099703164,
          -0.0642721882390688,
          -0.03847917697317194,
          -0.008148687253808112,
          -0.014527841105031762,
          -0.07044075976975749,
          -0.055548546204368054,
          -0.03058070646513428,
          -0.05473533109497718,
          -0.0873087408507119,
          -0.029535438717865507,
          -0.013116925354262243,
          -0.048523435021222465,
          -0.03616087552252655,
          -0.09057074326844551,
          -0.12445089341336665,
          -0.03726658628822987,
          0.09313873286314964,
          -0.04344805581119305,
          0.022871126453764348,
          -0.09723534696830657,
          -0.0022844812228561074,
          -0.04627054542266146,
          -0.08971853044947468,
          -0.08602796329401266,
          -0.0783715565362959,
          -0.05136696353088511,
          -0.023377747494840687,
          -0.06250437413302005,
          -0.06578221560009116,
          -0.02311045339208054,
          -0.05636319106095078,
          -0.013116925354262243,
          -0.05917216790023117,
          -0.05188325223946813,
          -0.05156821974913061,
          -0.03514645568390946,
          -0.07558736365463599,
          -0.021238847335248553,
          -0.010482233786283265,
          -0.08637066474857819,
          0.1370655445309245,
          -0.044060610050075534,
          -0.004169664443623904,
          0.5174229527794585,
          0.08088494223351983,
          0.0522482697645785,
          0.28060574541583044,
          -0.025221985092089973,
          -0.05561393114413004,
          -0.03589869478460467,
          -0.00124665989766339,
          -0.0685536402622896,
          0.039250693282995575,
          -0.06177558467773272,
          -0.0379644641359326,
          0.16662700826227878,
          0.0010566732163524739,
          -0.07480132919575097,
          0.0063307343526318414,
          -0.021613568873432926,
          -0.016653682867979618,
          -0.0698140556918056,
          -0.062014729793421326,
          -0.026236691095030462,
          -0.01799340900743749,
          -0.030558292864694272,
          0.008722768400610025,
          -0.03149049052746862,
          0.17683095805649085,
          -0.07969449482472253,
          -0.024966777114500602,
          -0.10395792938467073,
          -0.02207109980831408,
          -0.06362277766570704,
          -0.008805619406424707,
          -0.04403714928650463,
          -0.06367155693724566,
          -0.07488435759871474,
          -0.10399013635747262,
          -0.11114141992746096,
          -0.05986147458735235,
          -0.05659911373385543,
          -0.032331760538903374,
          -0.032020304346976586,
          0.5465608407027759,
          -0.0035471463332487673,
          0.025263990473371918,
          0.04575368178434033,
          -0.04560503907072896,
          0.19218543824688056,
          -0.027933818085892338,
          0.29686758186047496,
          0.031940258474893894,
          -0.09457236841660326,
          -0.037701692919187756,
          0.006045088134211275,
          0.010664612982083583,
          -0.07879276653210479,
          -0.013116925354262243,
          -0.01572027295984692,
          -0.03544240786440276,
          -0.023159584851948863,
          -0.08318851846314249,
          -0.048504097636637426,
          -0.09962271628654433,
          -0.07514060162648684,
          -0.016778420231386034,
          -0.06341802719403514,
          -0.07150089072843177,
          -0.040019371292877554,
          -0.06788604991148525,
          -0.03023191275861271,
          -0.015445262411980147,
          -0.08255067626570078,
          -0.05726399778588117,
          -0.045197355654252154,
          -0.06753273337920232,
          -0.014964221382536783,
          -0.12445089341336665,
          -0.09328598185357403,
          -0.030371714200366953,
          -0.07397171248050913,
          -0.08389500449012254,
          -0.06220405441396614,
          -0.03373103145681552,
          -0.04815214414184007,
          0.03806976332644162,
          -0.030974584969251148,
          0.013425009729791097,
          -0.06590282837830923,
          -0.051872766921342225,
          -0.09063433766539016,
          -0.10124855542905142,
          -0.036075665242844515,
          -0.033126997654093854,
          -0.013914391673097345,
          -0.0344200757286555,
          -0.06273169756473493,
          -0.0900315623368729,
          0.2109560150047335,
          0.025830964213099446,
          -0.020773490853468628,
          -0.0586749485031294,
          -0.049521454611561135,
          -0.04668062391172911,
          -0.03498421171302782,
          -0.049201617341606906,
          0.07027752502093973,
          0.19795219608365727,
          -0.08293959211204556,
          0.03752492811179309,
          -0.011483541550922507,
          -0.10499538523617237,
          -0.02390176244342541,
          -0.018642783324436706,
          -0.02839799077253984,
          -0.032309801270992644,
          0.09092713938946106,
          -0.033106778701175066,
          0.02279551059763731,
          -0.027827822069872186,
          -0.036113062682521485,
          -0.1097774293795177,
          -0.0791050976202083,
          0.6472023593382499,
          0.22508521586687166,
          -0.09881448130981497,
          -0.05373562256980951,
          -0.015977445965146705,
          -0.020614071666672108,
          -0.025429946912323326,
          -0.05767452175443743,
          0.10831987695047846,
          -0.0038179732403587044,
          -0.03964471944166795,
          0.08848333817731234,
          -0.07205776230464075,
          -0.011920889618187429,
          -0.019158343304700932,
          -0.006848958808327511,
          -0.037244343109756696,
          -0.019270734613656627,
          -0.024067642307636365,
          -0.06518107930223856,
          -0.031107101427209953,
          -0.06354878433293473,
          0.08229358477542414,
          -0.04512524020576204,
          0.052394841987146994,
          0.2427047516089739,
          0.024728126218017583,
          -0.028404997933764522,
          -0.03380279982450578,
          -0.040816066907372495,
          -0.05677402987677513,
          -0.020866013712077778,
          -0.025195681134782672,
          0.08384431256381673,
          -0.02314451168876011,
          -0.06454022573914352,
          0.08597873732733083,
          -0.07748843829845996,
          -0.017918766688035537,
          -0.0015817438873311298,
          -0.032102133620280915,
          0.17556785202977052,
          0.10706835102107962,
          -0.04665594931152258,
          0.5150266848867435,
          -0.10646845323897225,
          0.00325344347684549,
          0.17018852450123237,
          0.09691168272700769,
          0.011191811085242778,
          0.1936284127837568,
          0.0015109023689089856,
          -0.07058801998925342,
          -0.03498081289209888,
          0.002600148827229317,
          0.10350006539233438,
          0.14489866022515951,
          -0.032872356761061525,
          -0.024657814870127866,
          -0.017483306081637753,
          -0.04704497532771915,
          0.12066895824596782,
          -0.04816822763060809,
          -0.010477279162018037,
          -0.03374716547347597,
          0.014188917392553901,
          -0.040930144980874335,
          -0.08252916277592229,
          -0.07586723560536816,
          -0.09038232537172505,
          -0.053208637033043814,
          0.11160270455521541,
          -0.020416762606425057,
          -0.0946281401894142,
          -0.06951957443229903,
          -0.02136588677342748,
          0.1061037650305741,
          -0.01268311313382415,
          -0.06811554357167512,
          -0.024777448470981907,
          -0.03333399107641033,
          0.4252664998544883,
          -0.07005876899708613,
          -0.1187642444763698,
          -0.022287799769507958,
          -0.09252825777765972,
          -0.07454338377201374,
          -0.0029954458908027374,
          -0.009010992590580268,
          0.04668333923639366,
          0.017743431485125197,
          -0.07169347462912673,
          -0.027255661893304618,
          -0.03237763612698554,
          -0.03329547365834055,
          -0.01841731354579775,
          0.011954395320452303,
          0.005067217110138872,
          -0.02340075382257721,
          -0.00656640964770358,
          -0.12445089341336665,
          -0.09133861263316563,
          -0.0624829313065539,
          -0.0466476144786077,
          -0.021882181268700802,
          -0.01041187521065814,
          -0.05013314819541611,
          -0.02671313328254745,
          -0.06275911883748508,
          0.0716397899446598,
          -0.02956525195733551,
          -0.008435706269529702,
          -0.07622828056109195,
          -0.05197970749378536,
          0.044631849670431004,
          -0.009541439156221382,
          -0.045786209395565554,
          -0.06767776287560577,
          -0.014095017201715817,
          -0.07695878829676493,
          -0.06533765383707994,
          -0.06799942754372054,
          0.1687807079133077,
          -0.04264088534916507,
          -0.06199883312588153,
          -0.00012336929108284535,
          -0.07680158633670006,
          -0.05436079119922533,
          0.11038066711518162,
          -0.04254354504567783,
          -0.018952095075078283,
          0.3593179958836328,
          -0.00395802559116792,
          0.2050982787421276,
          -0.025399294966202888,
          0.01667965073312346,
          -0.02500448639250667,
          -0.06793723340688614,
          -0.013781497670928127,
          -0.015875548194894534,
          -0.06454626753156434,
          -0.012201797289402419,
          0.013882712803763209,
          0.0959215360355961,
          -0.06458909657361041,
          -0.0023737036249254335,
          -0.06295644854101697,
          -0.021894089718244823,
          -0.06440699022733104,
          -0.07083916401716764,
          0.008057872069315344,
          0.43084451068730995,
          -0.050611012295268314,
          -0.021384161346905475,
          -0.023792155931261435,
          -0.05358737188739921,
          -0.02806641445873674,
          0.003910610671331017,
          -0.043633921476156044,
          -0.016261405600568712,
          -0.056398848521849336,
          -0.02879079837889882,
          -0.038765142461876956,
          0.07336058767875296,
          0.5499635881496714,
          -0.05201149232704054,
          -0.028534581593126045,
          0.005797067064419541,
          0.015531241330000754,
          0.260774118910589,
          0.02721520890191893,
          -0.07781106931841424,
          -0.030149750318705787,
          -0.07270101174681821,
          -0.011538420743694955,
          -0.009495791136875986,
          -0.01922902108809029,
          -0.08784934705103245,
          -0.026721700439066336,
          0.06137777093486084,
          0.09519577737647421,
          -0.08187059554810323,
          -0.035346121935065394,
          -0.07261962284702932,
          -0.013116925354262243,
          -0.05782810343488509,
          0.021476450752958634,
          0.6023874878876259,
          -0.05925402874327587,
          -0.05859831313393344,
          0.20097357166260849,
          -0.09046246373852852,
          0.014743014453882318,
          -0.0799067889711288,
          -0.01409984960509562,
          -0.01974119289413466,
          -0.13317577557110657,
          -0.04292951768184004,
          -0.00668295473664275,
          -0.0100866213518156,
          -0.012664901006303839,
          -0.018359890622558897,
          -0.004500886845066197,
          -0.008035186873783169,
          0.01977574477170929,
          -0.05956765137733602,
          0.03125388165461658,
          0.6138487898051097,
          0.15764115617234475,
          0.023764220190903598,
          -0.0653164289755145,
          -0.03579018870718192,
          -0.03919443625512734,
          -0.00003408081232779377,
          -0.0510575420040369,
          -0.049181259852961075,
          -0.057628592861704055,
          -0.08716082740058922,
          -0.06414363368882216,
          0.5578883317731533,
          -0.020554667065017462,
          -0.05215469122449242,
          -0.026711158542197376,
          -0.03992565999171811,
          0.06810046957900474,
          0.02311394624668685,
          0.0003635619358896264,
          -0.03705365740837118,
          -0.0893493418309866,
          -0.054996611156599734,
          0.051569651313427986,
          -0.013286747252398446,
          -0.09122397902907253,
          -0.12445089341336665,
          -0.06688185556161295,
          -0.07876265900476499,
          0.002411553828455943,
          -0.044707709902283184,
          -0.02098774202128588,
          -0.07155993591081512,
          -0.04883074876485086,
          -0.08690160837697188,
          -0.03393179386218767,
          -0.052794873940513826,
          -0.0318598686111022,
          -0.03327257930462029,
          0.5723888328714909,
          -0.07974609197967329,
          -0.06413380986928228,
          -0.008226538189398287,
          -0.0550869399070206,
          0.06707184236541322,
          0.0554522885469985,
          0.5581181942839836,
          -0.05520902408671846,
          -0.05042454716582825,
          0.2367832170171416,
          -0.042425405267146304,
          -0.03781520901174363,
          -0.049899766796674,
          0.15043619317033294,
          0.0789236356556121,
          -0.06209925234547613,
          0.024480985242324498,
          0.04705975863035749,
          0.21388537371005237,
          0.15057234025053148,
          -0.07077981914307288,
          -0.0807089823226613,
          -0.007904634980327624,
          -0.07910004411135343,
          -0.08688624500364409,
          -0.05896118621598698,
          -0.03160211847550302,
          -0.10880178977566052,
          -0.05232603927882123,
          -0.09869070796712094,
          -0.0001763899796643566,
          -0.05035543530983565,
          -0.025310235384102986,
          -0.014164241055669265,
          0.026685985768605074,
          -0.07227906241491831,
          -0.07254435492314366,
          -0.02894990559427992,
          -0.028543164383622775,
          -0.013368200989662255,
          -0.03156305738214118,
          -0.06779148412550771,
          -0.015611139198721338,
          -0.03292486102674368,
          0.011891469385737055,
          -0.050382074609870826,
          0.0470330548343238,
          -0.012110094369366267,
          0.0022526907434120827,
          -0.06182098759087098,
          -0.006429921869587817,
          -0.002825767593451478,
          -0.061082414650010894,
          -0.04123740280291169,
          0.02708858125288314,
          -0.05995872534340154,
          -0.06545210103203665,
          -0.03570329569536197,
          -0.07174826866213509,
          -0.08633658354564967,
          -0.04274264272309444,
          0.132254436259987,
          0.22727832783020468,
          -0.028761018679066847,
          -0.02416016581168038,
          0.010079405990002357,
          -0.059530872938927774,
          -0.05175631838911244,
          -0.027512317775726467,
          -0.08110308290045593,
          -0.022340681556027066,
          -0.05791067414852059,
          0.04848953788697192,
          0.24929508469786688,
          -0.06932869312309722,
          -0.08725033983815353,
          0.00116800853541458,
          -0.0035887333799549184,
          0.06515134541717425,
          -0.0028246604747505693,
          -0.06422704426954251,
          -0.0157380476632457,
          -0.04827583486699775,
          -0.04001197779616528,
          -0.08326024964561822,
          -0.04925205596706427,
          0.15703806871126616,
          -0.058472650085244104,
          -0.0368639529736789,
          0.015955011724115568,
          -0.049693887352329616,
          -0.028002013243264224,
          -0.00859021492821019,
          0.5042197521616276,
          -0.03549373822954955,
          -0.049087331284592736,
          -0.10963449278019248,
          -0.032575804772675195,
          -0.007840481494402193,
          -0.018019151302786137,
          -0.01994438982214598,
          -0.025359673971543865,
          -0.0036866615207515924,
          -0.038559444493249474,
          -0.06922534187299334,
          -0.0009996020871791788,
          -0.04339726430732636,
          -0.07999159764942591,
          -0.028677871810117245,
          -0.038864602744103284,
          -0.033171946570967226,
          -0.04385913704738617,
          -0.06757090342838777,
          -0.012320788332343985,
          -0.037831825322992986,
          -0.034248539959482155,
          -0.01069876385789989,
          -0.028169605496447595,
          -0.059408218944853354,
          0.10053294068825448,
          0.10978698403920627,
          0.008180192240999574,
          -0.01921621761012998,
          0.000993619934783111,
          -0.003798489336448461,
          -0.035034259264306,
          0.5257181378536685,
          -0.06590872306912732,
          0.05756828471774162,
          0.0675568064045854,
          0.6808149756369228,
          -0.044717187952417935,
          -0.04043370880726717,
          -0.01603814034325225,
          -0.0014502367144780517,
          0.1536488443026402,
          -0.03060949085486065,
          -0.04578028504252716,
          0.035235915193021695,
          0.4964720049231414,
          -0.07081817223066816,
          -0.023849275882199945,
          -0.0482195332357484,
          -0.04602139417151392,
          -0.08196096901855572,
          -0.023015053642617782,
          -0.008674050108359312,
          -0.0696655575846935,
          -0.0009272931161337283,
          0.0018558109267380275,
          -0.05074502855410534,
          -0.07341402187323721,
          -0.034783317408964225,
          -0.04933595125041455,
          -0.03786080380623518,
          -0.00008640959269224933,
          -0.014696212527093716,
          -0.07630774454358903,
          -0.01675385911078559,
          -0.05966301553364204,
          -0.03325697713120516,
          -0.051639887156611004,
          -0.12445089341336665,
          -0.09437317271132002,
          -0.02749293400682701,
          -0.09193086662862004,
          -0.057552840745698,
          -0.023678572714812114,
          -0.051104850256275404,
          -0.03563328107707714,
          -0.009072972520936336,
          -0.055798350321452646,
          -0.06550000965612135,
          -0.018070103036284337,
          -0.0814962991505995,
          -0.04639297663589307,
          -0.027909273290571145,
          -0.015787339806808055,
          -0.032789859188317734,
          -0.035876380323109,
          -0.005205793924430568,
          -0.029739310370009157,
          -0.019775330723035302,
          -0.010114170633819582,
          -0.020457430518820298,
          -0.07852067238435792,
          -0.04508904365257549,
          -0.026455210339164977,
          -0.04738300349753559,
          -0.06438072164993626,
          -0.076522963706415,
          0.10114975383046301,
          -0.02060718319069032,
          0.11842099286320326,
          -0.04521338065905722,
          -0.0009730778709183809,
          -0.034750419478153355,
          -0.06192228973059639,
          -0.06295967814331267,
          -0.045912078344856146,
          0.14180571447784787,
          -0.025911751573038426,
          -0.009607943310872277,
          -0.061360817453500735,
          -0.02589794998538346,
          -0.07481304774769838,
          -0.044006883366902144,
          -0.02921615993564009,
          -0.031095097445283146,
          -0.030470451185272585,
          -0.05508096369486283,
          -0.02918135372592794,
          -0.04998164275779429,
          -0.03405108124374764,
          -0.033214783988050244,
          -0.0464390086264093,
          -0.04518027474515058,
          -0.04979990546486886,
          -0.019548308917475027,
          -0.02998803080694629,
          -0.01835954928001793,
          -0.06083024953706208,
          -0.040180191285035805,
          0.20873923286278726,
          -0.08109595175956236,
          -0.05168834239962956,
          -0.014807330580826675,
          -0.039707175989249346,
          -0.060578996630919854,
          -0.02714714015117502,
          0.018968533468604266,
          0.0745526315477192,
          -0.07542988717569626,
          -0.01942719316815867,
          -0.08941693122288422,
          -0.029629382896139,
          -0.042420176700748394,
          -0.02820813739832067,
          -0.03147252069282203,
          -0.08191592368521321,
          0.08873315908648395,
          0.10484814646045959,
          -0.03191937321062834,
          -0.07623017597732334,
          -0.07221519289549125,
          -0.03744534636046172,
          -0.07376825995683081,
          -0.04997302937760842,
          -0.053450635498303437,
          -0.027657116085116475,
          -0.075600149040238,
          0.011446857939880612,
          -0.022580943987806273,
          -0.043886478132047615,
          -0.02106674658621056,
          -0.0772705338599357,
          -0.02089243000708528,
          -0.06287473630291203,
          -0.04081463922356631,
          -0.10014898750189395,
          -0.03883944148147354,
          -0.0591266714688581,
          0.059916446009165035,
          -0.08933439535397131,
          -0.052754456553713275,
          -0.05603782793834404,
          -0.017129773521195962,
          -0.020251047829213685,
          0.10704339289930799,
          -0.04744754298364813,
          0.14174066910920027,
          -0.0664507989837348,
          -0.05372801431528018,
          0.008232688159189504,
          0.042202810784985945,
          -0.03013481515620755,
          -0.0700890074071323,
          -0.0373073496311338,
          -0.05494260832662479,
          0.168670433603827,
          0.5964720428871845,
          -0.058676222602610226,
          -0.024627482005558837,
          -0.004958724825420025,
          -0.05871046262493259,
          0.6448053631966935,
          -0.0709620187730343,
          -0.0700752758094043,
          -0.03775191675150875,
          0.057256712685722376,
          -0.03428011361602527,
          0.13251999479952345,
          -0.029518844663191268,
          -0.029518844663191268,
          -0.029518844663191268,
          -0.029518844663191268,
          -0.036581197167722415,
          -0.029518844663191268,
          -0.029518844663191268,
          -0.029518844663191268,
          -0.029518844663191268,
          -0.029518844663191268,
          -0.029518844663191268,
          -0.029518844663191268,
          -0.029518844663191268,
          -0.029518844663191268,
          -0.029518844663191268,
          -0.029518844663191268,
          -0.029518844663191268,
          -0.029518844663191268,
          -0.029518844663191268,
          -0.029518844663191268,
          -0.029518844663191268,
          -0.029518844663191268,
          -0.029518844663191268,
          -0.029518844663191268,
          -0.029518844663191268,
          -0.029518844663191268,
          -0.029518844663191268,
          -0.029518844663191268,
          -0.029518844663191268,
          -0.029518844663191268,
          -0.029518844663191268,
          -0.029518844663191268,
          -0.03267035360656498,
          -0.11118489295665754,
          -0.042225751235584086,
          -0.04088003319660003,
          -0.0410716592207715,
          0.027786893239841577,
          -0.0660610696744036,
          -0.03902613417586228,
          0.024622693430162407,
          -0.056763840754074445,
          -0.06439728479147737,
          -0.036631932872016104,
          -0.021061824789295712,
          -0.0912815821969158,
          -0.08796975284700584,
          -0.10212950835156653,
          -0.04957130840522562,
          -0.0318709711854053,
          -0.0011538244279675322,
          0.13700049266164327,
          -0.038328786672094654,
          -0.08458273582588965,
          -0.061768757361484246,
          0.029217124051967056,
          -0.020390043324093332,
          -0.0301309635801073,
          -0.06077030377370725,
          -0.01605668021165022,
          -0.05132667797109139,
          -0.057638289330429915,
          -0.12445089341336665,
          -0.09598253237542091,
          -0.0639511775317612,
          -0.038859408892836164,
          -0.009754524608690177,
          -0.0580948145514481,
          -0.04905080746611804,
          -0.057050344408211065,
          0.7217387777134293,
          0.042801972998616725,
          -0.048890055006043466,
          -0.057269868195032,
          -0.07585984820714853,
          -0.06676828002371978,
          -0.034532552451314466,
          -0.08005950957769244,
          -0.02410157182383049,
          -0.015118777480653765,
          -0.12820199391406503,
          -0.03991183711859012,
          -0.012474398640385546,
          0.5438225137279801,
          -0.0262390038081694,
          -0.06421733208530171,
          -0.02095829108795146,
          -0.06940497713819545,
          -0.07508980396758795,
          -0.02227117869060924,
          -0.049652141306260715,
          0.14425575141675814,
          -0.07525358496685315,
          -0.04700240269605219,
          0.020530367832842338,
          -0.03434849862387194,
          -0.019837846543725904,
          0.4741650585749814,
          -0.08014010324760693,
          -0.039545541976645164,
          -0.09272810345868132,
          -0.017495384175287815,
          -0.01125819731538866,
          -0.04934267733873291,
          -0.07496342626967123,
          -0.013506838493393727,
          -0.1094982761566328,
          -0.04972683667908526,
          -0.026441202951753427,
          0.6319898126173562,
          -0.047199519539370224,
          -0.0362194154262334,
          -0.026103275476737936,
          -0.07989643790623392,
          -0.05352529915263813,
          -0.05484713439622301,
          -0.06298442140555485,
          -0.04508339938417751,
          -0.028001510713739786,
          -0.04666798148418436,
          -0.08232971779665355,
          -0.03824671419262593,
          0.21899590623281515,
          -0.02808068699399706,
          -0.0887832202970241,
          -0.05174492759443815,
          0.21372532846803838,
          0.21372532846803838,
          -0.02632488502767065,
          0.028319425912501653,
          -0.04865626879568152,
          -0.0177645059101,
          -0.036575941589898346,
          -0.07834880944345124,
          -0.023663006913170696,
          0.361076401292481,
          -0.04080594510604351,
          0.13209310115734063,
          -0.06026518067359538,
          0.17381299256164173,
          -0.03497799710651005,
          -0.019344442087165587,
          -0.12445089341336665,
          -0.09285849854966707,
          -0.06751160036859506,
          -0.03904528068463509,
          -0.04696593362961175,
          -0.07212767901484753,
          -0.07088184644962388,
          -0.09385076809411722,
          -0.07958123275880642,
          -0.0777977508186664,
          -0.07719105849866642,
          -0.06554599236216262,
          -0.07054918460277591,
          0.021839756385330967,
          -0.11488661452614286,
          -0.04860827307174254,
          -0.018686098281893868,
          -0.0566112842664836,
          -0.04928110211981332,
          0.4216506397461623,
          -0.014956475482832248,
          0.41012888717483553,
          -0.0014137979935773684,
          -0.10077672239192952,
          -0.03696019665890138,
          -0.012988667487426912,
          -0.003016976072938559,
          -0.03662151070578108,
          -0.07018605497879558,
          -0.015101600131554333,
          -0.07074603912701452,
          -0.042123289195988914,
          0.16015340245619453,
          -0.04943624582911523,
          -0.04922332297959527,
          -0.044372351842901885,
          -0.040498680924917534,
          -0.008945656040060444,
          -0.027320132610104478,
          -0.04783893123328346,
          0.004042787981305463,
          -0.058785728015474485,
          0.47891650333436825,
          -0.07457481559359681,
          -0.036524380315444326,
          -0.04399534488845263,
          0.02936470215453536,
          -0.06165391141104242,
          -0.11395086708074811,
          -0.07556427104387323,
          -0.06850519319790781,
          -0.027100010919816255,
          -0.08205548015455634,
          -0.007028183490196333,
          0.6588407892338829,
          0.050408254810552985,
          -0.07316119892619442,
          -0.00008763773563213584,
          -0.00992791885263502,
          -0.02282444344559282,
          -0.04824371765279121,
          -0.04113755185431429,
          -0.07707461309007152,
          0.19924862822882383,
          -0.035179938683273466,
          0.06441064781567013,
          -0.04148782260936416,
          -0.03713743036328589,
          0.0005070714175072021,
          0.056327074229549565,
          -0.027957834165042307,
          -0.011678925174457126,
          0.569128780572338,
          -0.03423734192396984,
          -0.046531702191013984,
          -0.055548546204368054,
          -0.03076253699542726,
          -0.031100878291822915,
          -0.07112739654588632,
          -0.0709384836943211,
          -0.09370061960665085,
          0.04888319186847317,
          -0.09057074326844551,
          0.01190298776591649,
          0.026318017725671813,
          -0.07123511238624046,
          -0.0037663982893514016,
          -0.05170736318458437,
          -0.0644951772135069,
          -0.06851003052319267,
          -0.0063164171579530555,
          -0.04946076577469996,
          -0.09087113146272971,
          -0.09148251943773379,
          -0.056449388611037134,
          -0.04218320014679743,
          -0.013116925354262243,
          -0.04926910213639854,
          -0.040289101085345266,
          -0.036505711477373894,
          -0.060008034746140214,
          -0.04469158838403881,
          -0.02258154531963024,
          -0.025394009071735574,
          -0.006460108206746042,
          -0.031560229320272006,
          0.10211225038546803,
          -0.028889996107690965,
          -0.045389222512690015,
          0.5489020979443514,
          -0.04924591117688614,
          0.5346903868714179,
          -0.001711160250958038,
          0.06900055966509348,
          -0.01486014418365761,
          0.14716670000993506,
          0.25061042235506825,
          -0.03477035540682261,
          0.23605120122166068,
          -0.06757140712316198,
          0.002365300888888716,
          -0.04135625615275822,
          -0.07905819280164327,
          -0.03594150476943897,
          -0.0293532314526855,
          0.4169485167885886,
          -0.02485889546541225,
          -0.04565810064948684,
          -0.018775849950801428,
          -0.05081227767927259,
          -0.013116925354262243,
          -0.05489234344486232,
          -0.080468529302299,
          -0.013116925354262243,
          -0.09394419288515318,
          -0.013116925354262243,
          -0.052796572952513,
          -0.013116925354262243,
          -0.013116925354262243,
          -0.013116925354262243,
          -0.034529198300830746,
          -0.004820933085370495,
          -0.040810583770647925,
          -0.012368156692734153,
          -0.021045622519149862,
          0.05876374230691372,
          -0.06693753669680819,
          -0.017254711984634255,
          -0.05192676835401433,
          0.2366075546415872,
          0.044402783231175066,
          -0.026374334378226897,
          0.028408025593538073,
          -0.0369194885298317,
          -0.059659006026431524,
          0.02209873754422268,
          -0.015419991754773373,
          -0.03925723238374224,
          0.08244374530803045,
          -0.010831845906884505,
          -0.03387866887754035,
          -0.0011374432071807488,
          -0.06393604961251216,
          -0.01739137951295052,
          -0.08795661909524351,
          0.002334737371440583,
          -0.04474947836093997,
          -0.0015916128038634659,
          -0.051009968321433785,
          -0.01062713705604712,
          -0.08026785784230901,
          0.48218318989592973,
          -0.010637107654873754,
          -0.013116925354262243,
          0.10056174455148267,
          -0.018272039776668855,
          0.19255392991731962,
          -0.07102357041882057,
          -0.02522833639216266,
          -0.06934073175936734,
          -0.015628760452087033,
          -0.0456247786811975,
          -0.029672135489217745,
          -0.05670944106229586,
          0.05924274167115451,
          0.5228445732702032,
          0.007142429435931588,
          -0.01163349730721598,
          -0.07255151295794829,
          -0.0510369469825187,
          0.001050780669888215,
          -0.048822117644332315,
          0.5009938359173394,
          -0.064691309823547,
          -0.044904866607013906,
          0.6097464660127371,
          -0.015643703792243502,
          0.6169571465807802,
          -0.03227123953180537,
          0.00456464720988103,
          -0.0827972784025941,
          0.4024182590826252,
          -0.05094815455904941,
          0.01129840909383214,
          0.026949825210726155,
          -0.03256002750592844,
          -0.09194473284964404,
          -0.03607954245278043,
          -0.03283460241455712,
          -0.008957166409126065,
          0.004911408379868335,
          -0.05622746936830356,
          -0.022731223489860078,
          -0.03206390049181328,
          -0.08020001051298742,
          -0.058768746761293664,
          -0.01677424813924189,
          -0.05894355347102403,
          0.25096320288710366,
          -0.06440699022733104,
          -0.03937901352290284,
          0.29577281978040043,
          -0.09370061960665085,
          -0.02485889546541225,
          -0.04896996104351196,
          -0.09328598185357403,
          -0.08126040815480882,
          -0.03906327674351337,
          -0.0796943924839947,
          -0.047275757923292604,
          -0.03143354357435538,
          -0.03921830662589048,
          -0.09981591953115351,
          -0.07342752463056051,
          -0.05533271009701361,
          -0.06920304293877669,
          -0.07135793226418097,
          -0.014328937523472196,
          -0.03211990873469652,
          0.008209289303711998,
          -0.07811230208849823,
          -0.08629497199111387,
          -0.0464043002132507,
          -0.02978839378019277,
          -0.07091743040041908,
          0.28820354535698534,
          -0.06817748818224785,
          -0.05241100360777907,
          -0.040681412500086125,
          -0.04186578711130389,
          -0.07980852980808546,
          -0.0628476823167268,
          -0.06812615915642202,
          -0.052283144721788355,
          -0.044516064783801254,
          -0.09181821054532935,
          0.01858985468828732,
          -0.03480835171352999,
          -0.07548085678169308,
          -0.046081219716619444,
          0.22865430965067082,
          -0.0726168397585468,
          0.246878859009106,
          -0.0473379554918465,
          -0.03822741214561523,
          0.07351266452398177,
          -0.0005879762911192001,
          -0.011115969307328524,
          -0.024252970442924633,
          -0.013046833694131746,
          -0.010572571463315713,
          -0.057659445003672205,
          -0.045131028416006407,
          -0.03199780910039886,
          0.029262381383990385,
          -0.05337570206697505,
          -0.005029180975442209,
          -0.08847625601029961,
          -0.05074354865017187,
          -0.07151540896351462,
          -0.07119438376946088,
          0.2580209143563038,
          -0.05274920697146347,
          0.06442185220065524,
          -0.054429691042087336,
          -0.02949599958685113,
          -0.0692837753385349,
          -0.008651412787505749,
          -0.07011459106844914,
          0.1880965757731003,
          -0.03653827171645856,
          -0.0468073255544495,
          0.005015853036044739,
          -0.020632097613424497,
          -0.0457480998908384,
          -0.029658290675177713,
          -0.04828999768935559,
          -0.06657504496382897,
          -0.030405509103195227,
          -0.08577116354429618,
          0.0022801821491789244,
          0.019624091972678795,
          -0.060299436934354245,
          -0.03652961148267728,
          0.041698701214236716,
          -0.02495366068636781,
          0.03463996061399518,
          -0.08097923896043045,
          -0.019020053479345583,
          0.0027251915048452425,
          -0.026314698487657176,
          -0.02875177439538756,
          0.1496544182615218,
          -0.057178345286577024,
          -0.0724445396474969,
          -0.11647501875042539,
          0.007440957962937949,
          -0.08054986263077703,
          -0.02253057167665787,
          -0.019917809431241783,
          -0.10045800744668451,
          0.48255984589594914,
          -0.07060362430742288,
          -0.016489897372709155,
          -0.0725616520857758,
          -0.03164989198500938,
          0.23979572793241608,
          0.13945527028392285,
          0.13095445402600758,
          -0.013116925354262243,
          -0.007678047688799798,
          0.16256446340809755,
          -0.08984640423012774,
          -0.08979876388669736,
          -0.0020923506917456514,
          -0.07729782990291591,
          -0.04830748992889482,
          -0.005590175229836239,
          -0.033151106827254084,
          -0.044906101474387304,
          -0.02892507960295769,
          -0.06404453320133621,
          -0.015619421356362304,
          0.13014898134784195,
          -0.040237270343181405,
          -0.06362801282258455,
          0.1328706784435386,
          -0.031105234940868445,
          -0.032912885769631646,
          -0.0770851125822828,
          -0.008406498811951109,
          -0.024276125090274145,
          0.05458585840877862,
          0.0016947715414235404,
          -0.07638945867932133,
          -0.057330999461678384,
          -0.047360810168874896,
          -0.08696275743598682,
          -0.06440699022733104,
          -0.00044837723411846124,
          -0.09370061960665085,
          -0.0695324192179948,
          -0.02485889546541225,
          -0.09133861263316563,
          -0.008890550928981904,
          -0.041542245221906984,
          -0.017107004377606476,
          -0.0015815023060746617,
          -0.09468913498461237,
          -0.0221949567082592,
          -0.07927921275436878,
          -0.06391197039805246,
          -0.06572495074626392,
          -0.036538190741254924,
          -0.08302852992852804,
          -0.07861690834780216,
          -0.08205147275380716,
          -0.05356012389067685,
          -0.07473964493141012,
          0.022762508676748467,
          -0.033035764319803367,
          -0.045615548028305586,
          -0.1033885320286871,
          -0.06880163752271852,
          -0.0676042245218836,
          -0.03701089430444326,
          -0.04948846530649872,
          -0.01866079284998516,
          0.01396277199845705,
          -0.054549449706893884,
          -0.08978605886583906,
          -0.030398135361927477,
          -0.036103514384098395,
          -0.08206018162176168,
          -0.031891378514176734,
          0.018862317059934044,
          -0.06051997163900526,
          -0.10656311993526209,
          -0.03956656879191385,
          -0.023453506501246012,
          -0.08578632861718767,
          -0.02664285996781733,
          0.4114254590436295,
          -0.006469439173107882,
          0.016990115689909994,
          0.1496544182615218,
          0.1637764579320067,
          0.002005800352523782,
          -0.008939653115215277,
          -0.04734245422900488,
          0.014788163972139275,
          -0.06767446138336747,
          -0.03593619678571551,
          -0.05162178793527465,
          -0.0875187878595788,
          -0.020312772021495167,
          -0.027283302574089972,
          -0.01744741001541642,
          -0.05760297618304238,
          -0.035076366166818196,
          -0.026949493534724863,
          -0.014537750642763057,
          0.0018643644849921836,
          -0.018711835126302742,
          -0.026591130469045186,
          -0.061165693095934094,
          -0.04684879357813525,
          -0.011012510927780881,
          0.2128463633795743,
          0.10172544406923682,
          -0.06177130506631194,
          0.10711086376697282,
          -0.07045361826403605,
          -0.03303873308068052,
          -0.0315970982981669,
          -0.07377529316917444,
          -0.06200208455005747,
          -0.09273887361218648,
          -0.053690712172062685,
          -0.08220685480617636,
          0.03382711526853801,
          0.6495937826881142,
          -0.060672446068343745,
          -0.018999165928479507,
          -0.03879987503429872,
          -0.0653847024110984,
          -0.033315865208420156,
          -0.09042349901929868,
          0.10460008228904791,
          -0.020156234858856127,
          0.007035304435026924,
          -0.10778440580262094,
          -0.03223084838062646,
          -0.11696828294531508,
          -0.06862028169273554,
          0.578350603992284,
          0.006128111702767337,
          0.09749999103047478,
          -0.10904956621207793,
          0.04555759655392552,
          -0.07139280791777941,
          0.0568683516904789,
          -0.08602806658595476,
          0.26857302442260844,
          -0.06981424532964846,
          -0.04371409668153514,
          -0.05533245373590624,
          -0.029598479462588756,
          -0.04793726025467547,
          -0.04826957917181878,
          -0.009994268521598654,
          0.40053808701440297,
          0.22050963842788437,
          -0.062241728717509465,
          0.03320006295875727,
          -0.008106811885951325,
          -0.038729258713512495,
          -0.03813069336719605,
          -0.03983304410636979,
          -0.03230921917539373,
          -0.07130091912381892,
          0.003910610671331017,
          -0.07455393177742965,
          -0.02846061989742499,
          -0.07447625564024932,
          0.02358589823226346,
          -0.04647829742685664,
          0.003910610671331017,
          -0.045934462383126144,
          -0.035567073078700516,
          0.018666216176327993,
          0.21310656033518743,
          -0.09229936891993828,
          -0.03159575007190777,
          -0.005641583502087142,
          0.012016681502472776,
          0.05382220796611886,
          -0.013584981921247038,
          0.13198329508807105,
          -0.051602381610874014,
          -0.1279549551556754,
          -0.0035368506879180574,
          0.4580990280923089,
          -0.01667587184154494,
          -0.0482378726395471,
          -0.009206387000504352,
          -0.0583989015835864,
          -0.0758122416302124,
          -0.048984198719507675,
          -0.07541902963870145,
          -0.021730912541044794,
          0.15316836445848397,
          -0.03414935115993871,
          -0.029077302853021188,
          0.10292825296653162,
          -0.0022237669706787924,
          0.005880692404711268,
          -0.01568903484876368,
          -0.07086816314344525,
          -0.09122397902907253,
          -0.02485889546541225,
          -0.040831161282071794,
          -0.05710253002636419,
          -0.020890429132223255,
          -0.021411976138723417,
          0.22293264018437223,
          -0.0006618046059683656,
          -0.05489234344486232,
          -0.0690155839987057,
          -0.030516424321675544,
          -0.07425976385554167,
          -0.07477011580175685,
          -0.08641930846877698,
          -0.08780231567715457,
          -0.06067441299746133,
          -0.10588133714403444,
          -0.07165635501286186,
          -0.05622560217537282,
          -0.06730562226645516,
          -0.0650229985771289,
          -0.10119100021282769,
          -0.036924632326712274,
          -0.06423498201360017,
          -0.0385613410275841,
          -0.03481732772339722,
          0.036847661323015805,
          -0.10758037960254384,
          -0.06315284125093537,
          0.23349747619822447,
          -0.02162156243794054,
          -0.03614208179864289,
          0.5495645732078828,
          0.062186585585329586,
          -0.02899803890004198,
          -0.02272175730918798,
          -0.0798317901201134,
          -0.026914055263894725,
          0.6314487092237587,
          -0.028575419449715568,
          0.11939276333307955,
          -0.008726709490779035,
          -0.0717378358666517,
          -0.026639261607800443,
          -0.07348648361173482,
          -0.07202163961162926,
          -0.08592601893375112,
          -0.07427381205325287,
          -0.08053135388917543,
          -0.017643983914475712,
          -0.10700349823765753,
          0.01897530969744212,
          0.017889042153908033,
          -0.008278477852535935,
          -0.059930493383560754,
          0.001833056241156964,
          0.02607015195381665,
          -0.05440546778737424,
          -0.06252986465027685,
          -0.11196526681579676,
          -0.10450178739880772,
          0.022995198555426668,
          -0.08428388761760763,
          -0.0863385162966267,
          -0.09902736058464852,
          -0.08871579199347332,
          -0.05140262393126022,
          0.01969405042498008,
          -0.018435561467719675,
          -0.024059640167492267,
          -0.013116925354262243,
          -0.09370061960665085,
          -0.09461442701710117,
          -0.03964822503635062,
          -0.07522499092443034,
          -0.036659979166263686,
          -0.023430606732328368,
          -0.0516551375963901,
          -0.03814929312747478,
          -0.09394492337368339,
          -0.015423345992996936,
          -0.03420952401228981,
          0.006910528745274093,
          -0.015409751237874485,
          0.63890580260138,
          -0.031545452506154835,
          -0.011704845407086089,
          -0.08727297221663902,
          -0.035223916994198474,
          0.08332049393308687,
          -0.06209175230490688,
          -0.03166570557414289,
          -0.08322084880801141,
          0.02473680821909349,
          0.017869763511819976,
          0.32812367114934143,
          0.039006079671827,
          -0.023332177930884372,
          -0.020975399001366843,
          0.07813061810749436,
          -0.026789203220678088,
          -0.029405491175226485,
          -0.06046062865076848,
          -0.05439195197632257,
          -0.07042049958036325,
          -0.0457787197577898,
          -0.022143835727053293,
          -0.05283348151928557,
          0.004085461047841021,
          -0.05444451390103164,
          -0.05416426957503411,
          0.055821892062971834,
          0.47331567161716437,
          0.06453933393442904,
          -0.019548348696370375,
          -0.07828954635848619,
          -0.05946239267276847,
          0.04520301795484505,
          -0.031008023086811505,
          0.11940677653198495,
          -0.033143196545598344,
          0.008607107452967583,
          -0.011737094002296314,
          -0.02220582275882704,
          -0.06711327271049879,
          0.08478557415803345,
          -0.06884756178017265,
          -0.12660147620529139,
          0.0008403147809259447,
          -0.0005127407544832427,
          -0.03809185588921507,
          -0.062357955572648456,
          0.03354405291804868,
          -0.10951634699615673,
          0.0687124922014635,
          -0.023089870736657025,
          -0.03218968021113262,
          -0.10767360790850046,
          -0.025336707896841608,
          0.19084625741210742,
          -0.009739496166792084,
          0.11954939135992877,
          0.03368963669985531,
          0.1414027605628452,
          0.0003706289314177562,
          0.06836219465691303,
          0.0001004888028598843,
          0.024771297138358305,
          -0.008136703192875629,
          0.6723841353659178,
          0.022401567174482447,
          0.06493509109631627,
          -0.000662935860987983,
          -0.08363813212166842,
          -0.09384290496878996,
          -0.0248948528753148,
          -0.0481525551281028,
          0.707795157005562,
          -0.08188257176367474,
          -0.009556202567514636,
          -0.04140691373618773,
          -0.08207474137539368,
          0.14177733462408756,
          0.019033367150942337,
          -0.017712899341305273,
          -0.00858622091941579,
          -0.08084470477707564,
          -0.03309516636192321,
          -0.11668461681159294,
          0.14002197925215915,
          -0.02454473805032782,
          -0.0505022055528926,
          -0.03475101103367826,
          -0.01636424448055661,
          0.003684281952891518,
          0.09892660696637283,
          0.44869427977455106,
          0.014113418400796569,
          -0.09283401356294843,
          0.14786595010180958,
          -0.06688185556161295,
          -0.09370061960665085,
          -0.09437317271132002,
          -0.02485889546541225,
          -0.02490951047516036,
          -0.025400289432462267,
          -0.06949938190258907,
          -0.0449799659943871,
          -0.10267010153326572,
          -0.07277122436500935,
          -0.085126616623338,
          -0.050205466549725006,
          -0.03854506491999349,
          -0.08922554373918759,
          -0.03928036048475856,
          -0.05428468723769029,
          -0.0877809012151459,
          -0.08688787537185429,
          -0.03911930996350807,
          -0.032966044012751154,
          -0.04914546630764591,
          -0.07143092837639972,
          -0.06533614370808515,
          -0.04477369955609656,
          -0.02905537511604799,
          -0.029185599725894604,
          -0.013227986939629975,
          -0.0336395717772412,
          0.02221997591328441,
          -0.02426779779043465,
          -0.028016564508882284,
          0.11550236482276972,
          0.03956256500630422,
          -0.01965320960529647,
          -0.06877429735780251,
          -0.037145263818698086,
          -0.0633256992145863,
          -0.0608399150467586,
          0.398002663989654,
          -0.036811049479352,
          -0.03132823142542077,
          0.04350801578498461,
          -0.05872488149713397,
          0.04077072815368324,
          0.26963421871235876,
          -0.031099125504270547,
          -0.021411976138723417,
          -0.06295967814331267,
          -0.07506010588538015,
          -0.04130436980361055,
          0.18394400055955643,
          -0.07128515521755464,
          -0.03366925607749506,
          -0.06308546287312848,
          -0.0020071042453080356,
          -0.011307294305364262,
          -0.09673674525621628,
          -0.07522563996963355,
          0.0007158082026257302,
          -0.04043975171923858,
          -0.08109595175956236,
          -0.04617102873941571,
          0.20760832219372619,
          -0.06008534015397303,
          -0.03450774684203596,
          -0.06271898408236795,
          -0.03590260026637882,
          -0.06589182097097568,
          -0.0822296428201538,
          -0.07987459020062294,
          -0.07464100043879345,
          -0.01148736858900007,
          0.008843700421218108,
          -0.04180679550582175,
          -0.05844759728083456,
          0.009690716428336419,
          -0.03392264096127458,
          -0.060190512048540985,
          -0.034293295964690766,
          -0.032095059266372,
          -0.05872671349395283,
          -0.08896862804296352,
          -0.05711186087617925,
          -0.03575540850583555,
          -0.009371311942749297,
          0.08334017160645026,
          -0.06549749634378617,
          -0.08231271256720399,
          -0.05685944096034913,
          -0.07858490301266972,
          -0.01759082505567266,
          -0.027793180926197175,
          0.013754403374930838,
          -0.04707537044393838,
          0.6937482840435459,
          -0.011560343922209488,
          -0.0070898273514387765,
          -0.01680892891723901,
          -0.04588924256887599,
          -0.05764749186997575,
          -0.04996534561036365,
          -0.040812908922392116,
          0.09625213621372858,
          -0.034248539959482155,
          -0.026257037560745385,
          -0.0849216353325392,
          -0.03309797924301336,
          0.21372532846803838,
          0.018103815174084246,
          -0.03310949363556267,
          -0.013116925354262243,
          -0.029724199500773894,
          0.030153858452220537,
          -0.02599740275445547,
          -0.05270724110370599,
          0.5842134270412039,
          -0.05115169707124463,
          -0.0011610391642410418,
          -0.07799654867622746,
          -0.06401516924385509,
          -0.06409923290379867,
          -0.04531062652113597,
          -0.06290696735753598,
          -0.04927731555469582,
          -0.008569083996384418,
          0.4245259286138687,
          -0.0881653202752081,
          -0.05946921492675432,
          0.21993268431359886,
          -0.0359970180892256,
          0.014715939939722446,
          0.047237268390976146,
          -0.04491367573104728,
          -0.011877086352900555,
          -0.0406956137329125,
          0.02178915481166872,
          0.06045744785359388,
          -0.0660610696744036,
          -0.06743132572339441,
          -0.09310365687376705,
          -0.05428273830512455,
          -0.07627423803958705,
          0.596319977266024,
          -0.07317287039091694,
          -0.10251624010306552,
          0.5025661118985192,
          0.08675171993435435,
          -0.02743872349234678,
          0.37510117866608306,
          0.4614118075789449,
          -0.02103132943703295,
          0.11929791654531641,
          -0.07482214143165127,
          0.04115459102206202,
          -0.06047964212346028,
          -0.10387588018965294,
          -0.018975768112492655,
          -0.028083252461773983,
          0.04584623144255459,
          -0.09370061960665085,
          -0.09598253237542091,
          -0.02485889546541225,
          -0.01954647210295327,
          -0.024149881499923247,
          0.0031482927509545104,
          -0.043464170544221144,
          -0.01638786525464813,
          -0.056041543384975266,
          -0.0017466970988559895,
          -0.06526900428596906,
          0.40212985827700815,
          -0.03602490110971813,
          -0.027396561847595147,
          0.010741818666044577,
          -0.017686422909895607,
          -0.02141718625263124,
          -0.052250232620570616,
          -0.06435316496272563,
          0.3391988938700535,
          0.01828094935301584,
          0.0019023775806214665,
          -0.07371428282066336,
          -0.036741554413964136,
          -0.03834257673177406,
          -0.08033102548079851,
          0.05384473579873282,
          -0.023919006922159328,
          0.1274364487650315,
          0.008496412686618013,
          0.011202377807583857,
          -0.03379841246629887,
          -0.03558875012810651,
          -0.032453164782149206,
          -0.0410982512409497,
          -0.06896539046606244,
          0.0130257331842333,
          -0.051706801431561165,
          -0.0789450569034481,
          0.03309697527855429,
          -0.05243703314690744,
          -0.05484534533292431,
          -0.02451557846737413,
          -0.02265641239851909,
          -0.019893707342093853,
          -0.04623435438117902,
          0.01069561490941345,
          -0.07858492812951733,
          -0.020176528725943867,
          -0.006810503490324296,
          -0.06434173255674967,
          -0.06203987931945975,
          -0.08746991975364217,
          -0.03283442802265858,
          0.021128141549741037,
          -0.012587573183458831,
          -0.02480191460658319,
          -0.02387551015763202,
          -0.08540370474597272,
          -0.03932970667180391,
          -0.0511454557592939,
          -0.031769384964507034,
          -0.018292407684767673,
          -0.07393858103745078,
          -0.04327926673741862,
          0.018932657194738817,
          -0.058106101790812284,
          -0.06297138032053164,
          -0.07719105849866642,
          0.053634388945257884,
          -0.03232973962254762,
          -0.07907140622661288,
          -0.040314222604094625,
          -0.03917409796692368,
          -0.09285849854966707,
          -0.024858895465412187,
          -0.09370061960665085,
          -0.03294247762398651,
          -0.03328344883295817,
          -0.02930784287028899,
          -0.07360916095776746,
          -0.032155214671852755,
          -0.01600470220502179,
          -0.06305274157024071,
          -0.030016746064372306,
          -0.06871278683828577,
          0.008715497117979823,
          0.0025162022124178667,
          -0.05314367570597864,
          -0.04994987960125657,
          0.017264830672614515,
          -0.06195267955836187,
          -0.0574792486699127,
          -0.12348885073932021,
          0.17441787802776745,
          0.2044071676237364,
          0.11957296696831222,
          -0.051372537536010385,
          0.009954101426538244,
          -0.06785186793384626,
          -0.0242708836716419,
          -0.067858524820762,
          -0.052009618536221124,
          -0.01767550468516396,
          -0.05417568758875319,
          -0.08205226589779822,
          -0.04830678753949945,
          -0.03633747166379406,
          -0.056959486344609365,
          -0.030743522519885054,
          0.5913457139448898,
          -0.020940758580789823,
          -0.06531846524017039,
          -0.10434921951635923,
          0.05185974610736118,
          -0.027503651233814746,
          -0.06424294386707648,
          -0.06396902022652712,
          0.0382136231371015,
          -0.00025988545164336443,
          -0.10951803481594376,
          -0.02755548492736682,
          -0.012444655398397543,
          -0.013528426390146439,
          -0.06215706504583866,
          -0.04395248905474592,
          -0.020073588079527707,
          -0.014285531874715065,
          -0.042350460155506274,
          -0.04548313420183298,
          -0.055548546204368054,
          -0.1026390003434825,
          -0.0336287851159172,
          -0.020279162945783327,
          -0.07679745927389132,
          -0.06932328257693754,
          -0.09370061960665085,
          -0.09057074326844551,
          -0.02485889546541225,
          0.06401687345662053,
          -0.05252002708052749,
          -0.04242791780744317,
          -0.05444434024143172,
          -0.014226424573836991,
          -0.05661103054861788,
          -0.04943068530814085,
          -0.041167830629497276,
          -0.04533422346735146,
          -0.013178810687287289,
          -0.059910855974709354,
          -0.045070532038753504,
          0.5490839249168473,
          -0.05021267874103256,
          -0.055308119810012386,
          -0.06816575385252528,
          -0.05426307098186487,
          -0.019248727370829298,
          0.026056363520757467,
          -0.005012278992466367,
          -0.06979503519342439,
          -0.030118091573139116,
          -0.08274377973267534,
          0.17911161545777768,
          -0.021118598414064785,
          0.5535771992335887,
          0.15119773686532223,
          -0.02909012638147894,
          0.13164413344809725,
          -0.0533922327778165,
          -0.08428513711459167,
          0.08194318899243186,
          -0.0049467988581444414,
          -0.03251471994752009,
          -0.053121800360039925,
          -0.016791716922594433,
          -0.03274678451286105,
          -0.041007066377852563,
          0.0011348516770508105,
          -0.04746750281853382,
          -0.013116925354262243,
          -0.054511665116329835,
          -0.06221732919000639,
          -0.088991731775734,
          0.012120324058408303,
          -0.03840071164497879,
          -0.057790590770060685,
          -0.032862783241075645,
          -0.0403555779595321,
          -0.06365569309096199,
          0.22607066199020676,
          0.17128897822860334,
          -0.04610164855994522,
          -0.0010542732792424964,
          -0.07460840594469095,
          -0.05032051830776145,
          -0.08255087327547654,
          -0.04022827509365446,
          -0.033431450534591886,
          0.03782310873400005,
          -0.07438482855623003,
          0.08195708005038432,
          0.03414465104066124,
          -0.00024231422424277578,
          -0.05843629121783663,
          -0.030257033469458367,
          -0.039856160581444526,
          0.06485418957899992,
          -0.0005114814476423339,
          0.06284736667255114,
          -0.1210646191359942,
          -0.02987907085659231,
          0.4989468589329219,
          -0.011611703604681785,
          -0.05297173592506249,
          0.000679665249461036,
          0.026166507133726417,
          -0.04599873083824218,
          -0.019265584007732935,
          -0.07665121200481224,
          -0.061535310916984436,
          -0.1160929336160735,
          0.20484622702225364,
          -0.044737326029941286,
          -0.03467748253308827,
          0.06189701337106832,
          -0.039103398022483166,
          0.09377948206913819,
          0.05028490434748984,
          -0.030945611295377887,
          -0.0711121476793373,
          -0.11304520678369051,
          -0.03897227889691423,
          -0.0768478252628435,
          0.011304370420355016,
          -0.046137733557893634,
          -0.01832607806843623,
          -0.08072430809388145,
          -0.022249974901298295,
          -0.046070427142481836,
          0.12329273150707584,
          -0.02315528449321967,
          -0.09328195036663595,
          -0.037257666718661195,
          -0.048749040663227564,
          -0.05341707485647034,
          0.009253545748610134,
          -0.014910460988785793,
          -0.06987776733874519,
          -0.06939865003765013,
          -0.04487900077371806,
          -0.06440699022733104,
          0.038499650206566434,
          0.020414860159654227,
          0.013477940533302913,
          -0.09370061960665085,
          -0.09328598185357403,
          -0.008134085897151064,
          -0.06058410819048498,
          -0.05667849362546929,
          -0.006240073039462591,
          -0.06748492006134131,
          -0.007631574651375432,
          0.689049515978681,
          -0.03553273047225661,
          -0.10318605385628367,
          -0.07879750558803973,
          -0.049650712444259754,
          -0.08812857772812532,
          -0.031758185872498505,
          -0.07413233833440991,
          -0.0742738120532529,
          -0.04749987073077617,
          -0.048606658605450256,
          -0.04675601231917283,
          -0.0537097354995889,
          -0.08578502986863361,
          -0.026511521885289557,
          -0.011845536930260915,
          -0.04972655293605394,
          -0.020890429132223255,
          -0.032052986274742366,
          -0.046603159765161994,
          -0.056608985303243674,
          -0.027325430277172796,
          -0.0086685792897754,
          -0.025458104054174924,
          -0.009875175321485912,
          -0.04506016358941791,
          -0.025396368633631556,
          0.20266773302518803,
          -0.007925539489703872,
          -0.0051914886640408164,
          -0.04631488062322027,
          -0.047006766978496255,
          0.6090920829906591,
          -0.02914876996614568,
          0.01452931197814611,
          -0.07346674253430749,
          -0.08518243914766879,
          -0.0016274053435754172,
          -0.01142303717062158,
          -0.01350209062226139,
          -0.026982974185009324,
          -0.01706974318538335,
          0.48291387923276136,
          0.156397005416436,
          0.006633538581660275,
          -0.018888747592940913,
          -0.07424834580916022,
          0.008394441617192801,
          -0.03950821908023467,
          0.6671634001997765,
          -0.0416014927978729,
          0.058959408640621706,
          -0.04969725511880101,
          -0.004760092611052467,
          -0.046017134424675706,
          -0.008121240001595654,
          -0.06552516697329018,
          -0.051509342520577504,
          0.0016398176929963144,
          0.028380523714357425,
          -0.06445855934014648,
          0.06404994358806264,
          -0.0658119907577838,
          -0.03327897348964002,
          0.3250313054338834,
          -0.08266320448556669,
          -0.030097993771076723,
          0.4565808135378035,
          0.5466399584787004,
          -0.010730674548467703,
          0.5656682952831514,
          -0.06197260428503653,
          -0.05120397153009057,
          -0.046252022099281496,
          -0.06899705248474891,
          0.02879808322273244,
          -0.03434112290264624,
          -0.01901871597185819,
          -0.001375259907230436,
          -0.07825514238178043,
          -0.0981895237749678,
          -0.0023145261241598663,
          -0.029789808575681885,
          -0.005964681885570618,
          -0.05028569946325406,
          -0.06586680973811303,
          0.65937042971445,
          -0.09909729895698909,
          -0.09936564315362355,
          -0.025928201617861177,
          -0.06400351624321413,
          -0.09592801489755874,
          -0.024840374308888736,
          -0.014259272701683551,
          -0.013773707087094671,
          -0.09210571581370486,
          0.07500738069452091,
          -0.0054416630171731685,
          -0.021057197367297255,
          -0.038239752025198886,
          -0.03697693683837176,
          -0.10412909189416587,
          -0.03007280269622657,
          0.057125362511754936,
          0.012940180279676606,
          -0.04545663066296481,
          0.22911467905933985,
          0.04086718048073162,
          0.006824254913691595,
          -0.04913199750705673,
          0.08300587574775481,
          -0.032637961528924855,
          -0.051094750611510545,
          0.2932998503947533,
          -0.02221531816412778,
          -0.1025828404856996,
          -0.040279671310245714,
          -0.03848979195787796,
          -0.07429846517122257,
          -0.08827226476407901,
          -0.0770851125822828,
          -0.045699855167727246,
          -0.07112652316689841,
          -0.07714120706493746,
          -0.053763418432549115,
          0.08341032412170517,
          0.06385300292940252,
          -0.06053433049192217,
          -0.09370061960665085,
          -0.09133861263316563,
          -0.04619037501950111,
          -0.03562688994632309,
          -0.06763514491450917,
          -0.05856098009773063,
          -0.032879708948261366,
          -0.018605914376682044,
          -0.07723880239530474,
          -0.09258348795986669,
          -0.04060611257096868,
          -0.06549434872037124,
          -0.06294726880423669,
          -0.05687849558764668,
          -0.018582583520717726,
          -0.030550838203471525,
          -0.05453030680144495,
          -0.05732734567945353,
          0.006398777188446448,
          -0.032852152693621246,
          -0.03878726636782549,
          -0.09890815447965615,
          -0.03808937818369923,
          -0.09550536222793521,
          -0.031851510864257665,
          -0.0774856118267958,
          0.0001239947588202649,
          0.1371666373183956,
          -0.05135291557413674,
          -0.014718983535343025,
          -0.08506405203897283,
          -0.04119591280489094,
          -0.041735777431352025,
          -0.001498259223505486,
          -0.04342972503430667,
          -0.044074007156069385,
          -0.026237640609682162,
          -0.08258935742403846,
          0.22928522445621605,
          0.5255752017913434,
          0.20231683485663765,
          0.0240274636496137,
          0.6044373651403373,
          -0.058259874461897114,
          0.24142893864333018,
          0.019961930170980136,
          0.0016304007948750743,
          0.01156960347527871,
          0.0536610576608863,
          -0.04239937755587937,
          -0.04706814518656963,
          -0.012125355513165252,
          -0.020857322621874036,
          -0.03752283095983286,
          -0.057587544241821324,
          -0.058484531367991824,
          -0.054391605526226634,
          -0.018120873788946383,
          -0.05491861913621702,
          -0.02328753988541196,
          -0.0070819617068665335,
          0.08457395217478993,
          0.6414505622245847,
          -0.04283927921993379,
          -0.04750814812192003,
          -0.02643421873187663,
          -0.0321613088327636,
          -0.043569277482499454,
          -0.0385986703243481,
          0.21916920343429455,
          -0.060227421517185846,
          -0.007806134787348153,
          -0.07424840235419004,
          -0.06116621412938276,
          0.20629469501852218,
          -0.0538894489929972,
          -0.040867178345914995,
          -0.04303212848000162,
          -0.012352080346826663,
          0.6034902326274939,
          0.1211849954254601,
          -0.02071721315964666,
          -0.04287983780560992,
          -0.06022211055494028,
          -0.0881450541838548,
          0.20538461086926652,
          -0.079781282691432,
          -0.014862713933927038,
          0.011776646752572133,
          -0.024365901735271936,
          0.2386117916331159,
          -0.04562989956671377,
          -0.02678497549055519,
          -0.02721451744932937,
          -0.11489615409151613,
          -0.030599473341949932,
          0.3952153102212404,
          -0.11715767953264897,
          -0.0026379090091826125,
          0.041591586897484545,
          -0.08666581625548433,
          0.09582819628258023,
          0.19722456946632122,
          -0.053368449509165826,
          -0.04262331408998017,
          -0.0185930634236322,
          -0.04023926407348705,
          0.6460300418571462,
          -0.044905477808394864,
          0.017905106524482,
          0.03643977979412471,
          0.024559164463711387,
          -0.031387468410149985,
          -0.04846789075471338,
          -0.01639011409293308,
          -0.07984517912980334,
          0.04843952879197227,
          0.4012823578441624,
          -0.014102854483046339,
          -0.030728459357723757,
          -0.027207179602871306,
          0.017501194014103882,
          0.21729912085645095,
          -0.03498665488274106,
          0.024811886750838532,
          0.6976281043013325,
          0.06690000627016826,
          -0.0611817587962318,
          -0.08627217391071675,
          -0.029690779447543517,
          -0.0740294195781949,
          -0.025378010549232746,
          0.039021187867249923,
          -0.0475721364545092,
          0.01626401862158386,
          0.03231661912854213,
          0.0052273748447885515,
          0.026996549605017513,
          -0.0529457177942305,
          -0.048942748233078176,
          -0.06538466795222152,
          -0.06926934194524735,
          0.4742008983378504,
          -0.0770851125822828,
          -0.017941296136991754,
          -0.0032566605437655037,
          -0.0031385599263785845,
          -0.018895998331723885,
          -0.04774859152983767,
          0.00046253695902973555,
          -0.0036082572010177187,
          -0.03531796578604552,
          0.10486848111996931,
          -0.06387831901379641,
          0.019768799044967016,
          -0.09370061960665085,
          -0.02485889546541225,
          -0.09122397902907253,
          -0.020890429132223255,
          0.08564597491331281,
          0.6304142407921417,
          -0.060056412109945174,
          -0.06118998396353994,
          -0.02279575556049415,
          -0.004027020216003006,
          -0.011691856221968527,
          -0.004970205236892858,
          -0.06721044483265894,
          -0.04052360488124393,
          -0.06072198499581397,
          -0.0539249896379266,
          -0.02304972171243528,
          -0.038147921465445066,
          -0.046792743474785695,
          0.014596149813188517,
          -0.07073141832640062,
          0.20359286314570743,
          -0.01765852815310831,
          -0.052329811852500414,
          -0.034513605454598605,
          -0.018377329097504648,
          -0.07609035880445171,
          -0.06002230537124769,
          0.027384005304535473,
          -0.08958221610072177,
          -0.034063801395550125,
          0.007478744996082644,
          -0.045765092142360755,
          -0.044697455663756706,
          0.1697434601633174,
          -0.03724676780545911,
          0.1222719939906863,
          -0.06893850231294073,
          -0.07864705871762796,
          -0.024998791165274835,
          0.15063555324631628,
          -0.05093476602135478,
          0.11603313092603042,
          0.058096278172402746,
          0.08573240991565889,
          -0.020048030053739122,
          -0.09485266043830222,
          -0.10710524441362555,
          -0.07463689085060765,
          -0.02891406378676015,
          -0.046956137110457284,
          -0.09860624368401222,
          -0.08615264174714864,
          -0.02027760896328954,
          -0.031289579759770585,
          0.006268889026743836,
          -0.04616791117316451,
          -0.01642744597311704,
          0.01214807385209714,
          -0.02814577732142975,
          0.05680961939257199,
          -0.0533910455741608,
          -0.02745281679379367,
          -0.04076455665871281,
          -0.05026087492206878,
          -0.0233669287580493,
          -0.06333001920644268,
          -0.052497962002810795,
          -0.05651060102780473,
          -0.028901178007945342,
          -0.029517507760329482,
          -0.0068875125059061825,
          -0.056518870399938304,
          0.027878775399073807,
          -0.07082414514853362,
          -0.06666880133075288,
          -0.0248472127945063,
          -0.006237431804185708,
          0.15897168055497707,
          0.09796424459745212,
          0.08349941063870367,
          -0.0904061072525923,
          -0.06798702706963143,
          -0.043738709689158106,
          -0.014490901503103969,
          -0.042218524000551004,
          -0.011281616638026754,
          0.005361187530825726,
          -0.00919469781792494,
          0.18178371725660142,
          -0.07730043037006967,
          -0.07937944837023099,
          -0.06295308635586537,
          -0.0615150495339641,
          0.00776823512104845,
          -0.05206103264501097,
          -0.028445809867332646,
          -0.06628629874425966,
          0.11764470078934049,
          -0.05757512612163163,
          -0.009039862716817174,
          -0.03900768043506303,
          -0.019439263453634555,
          -0.0417112036344839,
          -0.08233622871709297,
          -0.0942080507703688,
          -0.056825812250223165,
          -0.009579916573961986,
          0.671433140798425,
          -0.0814401619082699,
          -0.014377331204846827,
          -0.042696304382961146,
          0.01283998276678736,
          0.07706535374980271,
          0.03353238905626089,
          -0.018856766795730433,
          0.02995280221938986,
          -0.06028985598956162,
          -0.01272647892244865,
          -0.025359673971543865,
          0.15079343576348136,
          0.012841745154123155,
          0.00030043917548009487,
          0.14986508099072535,
          0.475047597455972,
          -0.08847888913886061,
          0.07114241124006655,
          0.004434579323611975,
          -0.06041970350518216,
          -0.060377857252404125,
          -0.06395819278645276,
          0.011222938746919124,
          0.11859601727355397,
          -0.07694317236320701,
          -0.09787418441463801,
          -0.01410399153079485,
          -0.03849758243531023,
          0.6273307656145836,
          0.2552595311528758,
          -0.005462515156517874,
          0.2649404139090422,
          -0.014695846401126866,
          -0.06724645145156635,
          -0.03728041362446298,
          -0.05617236262878992,
          -0.03730514949846974,
          -0.018214655066541515,
          -0.05283166089702846,
          -0.11556094930390949,
          -0.08659951538427679,
          -0.05396908738606176,
          0.059310491965202695,
          -0.021896497685449646,
          0.5793650335466302,
          0.029022175035069184,
          -0.04768044800886841,
          0.5831193568474802,
          -0.018510187452946254,
          -0.021203966381919303,
          -0.04140691373618773,
          -0.050459014415850746,
          0.14347237257390294,
          -0.029982423086640307,
          -0.04010394100942354,
          -0.031490376778866826,
          -0.05330855639854015,
          0.004673661858289841,
          -0.04065606210143354,
          -0.028391593534895888,
          -0.08275989730068689,
          -0.05625386595753935,
          0.05713064510886801,
          -0.021435021979662593,
          -0.12156497988370311,
          -0.08742159952163282,
          -0.04757570290004264,
          -0.05815774658629801,
          -0.04154163922130696,
          0.02950462733376841,
          -0.09370061960665085,
          -0.02485889546541225,
          -0.09437317271132002,
          0.18542061201913698,
          -0.06688185556161295,
          -0.036345466573585165,
          -0.060473296970776705,
          -0.013116925354262243,
          -0.044188131007308555,
          -0.023707265546089006,
          -0.09634313749479069,
          -0.08977799955464244,
          0.2282314007771906,
          -0.0605318978675891,
          -0.0012805888045114059,
          0.09023018774019193,
          -0.07559159164278172,
          -0.052040749180518764,
          -0.046912755031849454,
          -0.08187839627680384,
          -0.050224564089138835,
          0.011178377066968713,
          -0.04907522369488927,
          -0.030497506686763185,
          -0.0729507054634125,
          0.04721933668798383,
          -0.05521188639937081,
          -0.04453926556576727,
          -0.047636891360574335,
          -0.004730815734629561,
          -0.04027980775663707,
          -0.049568834011533905,
          -0.050513475790337825,
          -0.05009932598730512,
          -0.026694795516413992,
          0.12257049392227437,
          -0.024569693202302782,
          -0.0215783495468698,
          0.058676416428515614,
          -0.07533753441639493,
          -0.053274903432969076,
          -0.05266262592420446,
          -0.024837667418549418,
          -0.0016643562799876987,
          0.4343474709363732,
          -0.06295967814331267,
          -0.043360766277722354,
          -0.06192228973059636,
          -0.03660848855128762,
          0.19429720048169608,
          -0.031623255399009634,
          0.2702395766694854,
          -0.031099125504270547,
          -0.05993322038498963,
          -0.06044085617938609,
          -0.08447862064923573,
          -0.04384962915110143,
          -0.06263570234771426,
          -0.04319318591686151,
          -0.0071994635535723335,
          0.03258951095086347,
          -0.003779684056782384,
          0.001763331419430692,
          0.03689187910408808,
          0.04290418619064498,
          -0.012816037208315444,
          -0.03858073333181224,
          -0.008629315104425073,
          -0.07663755478934557,
          -0.013116925354262243,
          -0.03574123480433403,
          -0.04038600708776726,
          -0.022962793217833257,
          -0.05489234344486232,
          -0.04998553543788804,
          -0.06428274014334756,
          -0.013116925354262243,
          -0.040475393269057226,
          -0.09478767368630471,
          -0.013116925354262243,
          -0.013116925354262243,
          0.1276341485245415,
          -0.04438159164632268,
          -0.03961532021553218,
          -0.021400728501200686,
          -0.039400540005096824,
          -0.04266234245220041,
          -0.07642601440639757,
          -0.05453492155261997,
          -0.004605593281308753,
          -0.0836667284099324,
          -0.033794706334385284,
          -0.003062653775694791,
          -0.007901978616713962,
          -0.027847787510050525,
          -0.028194098649636717,
          -0.07912274579475465,
          -0.10566114201522386,
          -0.0653457922162577,
          -0.07304551307370614,
          -0.034131367067619094,
          -0.038415479204798465,
          0.06393492446316024,
          -0.04825886633608231,
          0.1004871103285361,
          0.15351239573011055,
          -0.058303962328750535,
          -0.07099864778826351,
          0.6091248806414613,
          -0.042593963765536015,
          -0.06981589496917365,
          -0.00019997536359954627,
          -0.04794980710664845,
          -0.04573064049303287,
          -0.031099125504270547,
          -0.06428274014334756,
          -0.06600417053398552,
          -0.0302081856749296,
          0.025614090832852248,
          0.03957123713944861,
          0.4100520286350384,
          -0.06522797559292524,
          0.09509132336355645,
          -0.052345808759744046,
          -0.10516738309002625,
          0.10582629879570613,
          -0.07704207762299457,
          -0.03125382241034846,
          -0.013116925354262243,
          0.0349693073965883,
          -0.04913465048658376,
          0.073474400262491,
          -0.023543252071702377,
          0.18984583081948964,
          -0.06089422717485402,
          -0.028817929693599167,
          0.023071117127751586,
          -0.0760933530872219,
          -0.013116925354262243,
          -0.0907506090839419,
          -0.0509209986890279,
          -0.04094570963296835,
          -0.0660610696744036,
          -0.09909729895698909,
          -0.12804422489512232,
          -0.04059307322122906,
          -0.06360645282545835,
          -0.06449636836097106,
          -0.03837958749861342,
          -0.030635363292571407,
          -0.04419002268533631,
          -0.05030145254702388,
          -0.11986523373963275,
          0.0018262437901351168,
          -0.05992832760704674,
          -0.040479203981085926,
          -0.05216102450964379,
          0.06006306741932465,
          0.07118322449121703,
          0.013138553001761163,
          -0.0739765962446087,
          0.6372483299125412,
          -0.023478579903615442,
          0.1581348101432144,
          -0.06336488035525153,
          -0.05186273233762645,
          -0.08132570003310252,
          -0.09370061960665085,
          -0.02485889546541225,
          0.07812615284847371,
          -0.09598253237542091,
          -0.07878547518847978,
          0.6239655698108755,
          -0.037489184232573775,
          -0.04816809549373595,
          -0.0039558175978531614,
          -0.08158900849102574,
          0.03787370299291218,
          -0.0643696077422183,
          -0.042100210854638526,
          -0.014623609919904593,
          -0.0732376259718422,
          -0.02743470929159098,
          -0.03657358230289344,
          -0.010471748246780165,
          -0.07083586159590755,
          -0.06429381737478651,
          -0.00738171446807543,
          -0.024497266278895563,
          -0.004970205236892858,
          -0.04001873622125633,
          -0.07666298502125969,
          -0.06378961298016594,
          -0.07508980396758795,
          0.0028165460727664383,
          0.21305882391439104,
          -0.012860645026441173,
          -0.03264268206418096,
          0.04229683655945647,
          -0.02994658395715822,
          -0.06582711010689316,
          -0.043257807485109975,
          0.009744788287280787,
          -0.040099632814110664,
          -0.06508451898262313,
          -0.02932445150208313,
          -0.02941360416551517,
          -0.0016433593796831094,
          -0.02814939681016205,
          -0.03937852154491993,
          -0.009702330776006081,
          -0.038030630819602035,
          -0.05406719019528323,
          -0.033541455880776026,
          -0.0007588270005168725,
          0.020844709916374694,
          -0.037217751155662615,
          -0.014869993147254899,
          -0.1077401310769243,
          -0.02927531778330819,
          -0.011597288013327484,
          -0.0476857795754279,
          -0.02416016581168038,
          -0.10282509989438196,
          -0.05926324574992544,
          -0.0574879697558598,
          0.23257908965029175,
          0.3545295414496475,
          -0.08968467011544676,
          -0.048089330925806924,
          -0.022267215328422976,
          0.6199129079499418,
          -0.012926504642699043,
          -0.06919755771832008,
          -0.06397398485355761,
          -0.054914124914740944,
          -0.07393858103745078,
          -0.045047137126658886,
          -0.009613308453056588,
          -0.07133425462207267,
          -0.0019122484251994148,
          -0.015127902702215076,
          -0.05893119467910894,
          -0.09551874637790153,
          0.07231334377643119,
          -0.0891414112314149,
          -0.09681855330156745,
          -0.011921084543978113,
          -0.09370061960665085,
          -0.02485889546541225,
          -0.09285849854966707,
          -0.07401629377642864,
          -0.03469870337471866,
          -0.022492724561678657,
          -0.059405405264816455,
          -0.06188242673937976,
          0.040107375528034,
          -0.03710846723347627,
          -0.006970812193516079,
          -0.03923317435108378,
          -0.024292974573920427,
          -0.05258186867930557,
          -0.07032591965057869,
          -0.0034597718653633196,
          -0.05517984009622636,
          -0.03929350791771961,
          -0.09498326151842049,
          -0.027378297784341744,
          0.030723816690950888,
          -0.055168622389474266,
          0.5664103075311807,
          -0.02115596295981787,
          -0.036814948644012246,
          -0.06854340686003496,
          -0.022324296632719752,
          0.5827740789074909,
          -0.0318840980565584,
          0.056823383605073614,
          -0.07364920643281204,
          -0.08205226589779822,
          -0.027375467261557315,
          -0.006393292893950936,
          -0.09555757813275993,
          -0.03076423435785567,
          0.015241929876258015,
          -0.04350566714856217,
          0.002232115457597694,
          0.07395038238572704,
          -0.024210011738676738,
          -0.08435390377265327,
          -0.11048681505999774,
          -0.04262031275844446,
          -0.058230670398655336,
          -0.09713551746119399,
          -0.07364037718558734,
          -0.09639132593692017,
          -0.060790473331267796,
          0.002216731116948669,
          -0.03926779127753929,
          -0.009587147915718644,
          -0.02244669428376848,
          -0.042852978341791095,
          -0.0584182006370989,
          -0.035171915437949036,
          -0.07451559247431297,
          -0.010131052044722555,
          -0.01810137432824956,
          -0.036998776973845765,
          0.03623605654091015,
          -0.032170360080174105,
          0.5173824187990431,
          -0.035201698049643834,
          -0.029771511972022147,
          -0.02201980915249633,
          -0.06395985354230375,
          -0.04030734290669447,
          -0.055548546204368054,
          -0.0904850347018635,
          -0.040635085850694745,
          -0.05789420962423643,
          -0.06440699022733104,
          -0.02485889546541225,
          -0.09057074326844551,
          0.027468464833581476,
          -0.09370061960665085,
          0.08360276106790762,
          0.06949173864702442,
          0.44820462437880343,
          -0.034367555868967864,
          -0.0424854738195817,
          -0.013116925354262243,
          -0.04215151461334595,
          0.5322835700535827,
          -0.03406098104591477,
          -0.03557020995127196,
          -0.033288866699345256,
          0.15857495123147972,
          -0.041535240631865915,
          -0.05939127324996531,
          -0.06752326233584828,
          -0.07457307793003592,
          -0.03831892674944118,
          -0.042581293769173856,
          0.041938071073046757,
          -0.07621700876622234,
          -0.09453148695853526,
          -0.02371572481859167,
          0.16799598350699793,
          0.5813046232695304,
          -0.02637093060519183,
          -0.08865153781965866,
          0.01453384561261463,
          -0.022714156167089963,
          -0.017202749913308432,
          -0.04734838816403326,
          -0.08109595175956236,
          -0.01914584721925673,
          -0.04003525256844277,
          0.5828573585272054,
          0.028708612500538713,
          0.5166945978767359,
          -0.10902480458703884,
          -0.06665944559740136,
          -0.04371646865513939,
          -0.0542216721101185,
          -0.02467722133206436,
          0.008283241485461253,
          -0.07371909704874789,
          -0.013116925354262243,
          -0.04248812218631979,
          -0.06765302478739209,
          -0.05876399732592418,
          -0.06254428642014166,
          -0.054770395136545115,
          -0.06873766998561583,
          -0.019543617229967183,
          -0.12842176313747042,
          -0.0010073361185836131,
          -0.026996626601441455,
          0.04500573830053442,
          -0.03834499274733829,
          -0.0733680115401394,
          -0.021412044870719765,
          -0.09394419288515318,
          0.04503279852450214,
          -0.07231386644525084,
          -0.013116925354262243,
          -0.07804339233263913,
          -0.04005212344054809,
          -0.025442504784351398,
          -0.06469105310161057,
          -0.03087869813231735,
          -0.01818917861260979,
          0.05707790522755248,
          -0.022197740473078115,
          -0.11908294413674676,
          0.06208205150194843,
          -0.045338621504454404,
          -0.04092635160093579,
          -0.005601203299983971,
          -0.02009166984027584,
          0.01028219505411785,
          -0.13167022020356842,
          -0.020881943940213022,
          -0.07252493762341798,
          -0.05124976106107207,
          -0.057393194983443356,
          -0.05009063744231576,
          -0.033223599423507534,
          0.001019639111012209,
          0.08798281790806846,
          -0.04379147560399473,
          -0.0030133445024323074,
          -0.043039140301862094,
          -0.028333785609742156,
          -0.012427977159491949,
          -0.013279324571543698,
          -0.007545314681764396,
          -0.044668070362347684,
          -0.06990510042475796,
          -0.06540360657240617,
          -0.05739381117953126,
          -0.022594233175531914,
          -0.03564795328430058,
          -0.06374608070265225,
          0.05772541857726677,
          -0.10810330135423984,
          -0.09813030539629215,
          -0.11402576847854619,
          -0.030991163637298834,
          -0.030596719161654233,
          -0.03596644117583531,
          0.002314680664058825,
          -0.0001756273400388869,
          -0.002740827656750635,
          -0.10444355740997477,
          -0.05377486491315817,
          -0.043625244516125615,
          -0.044492702696048714,
          0.044001315378158386,
          -0.025898000181215044,
          -0.030573869476836137,
          -0.008329145227833002,
          0.14613746917711154,
          -0.0032571833230587936,
          -0.10624997469620093,
          0.6129006500319358,
          -0.05768766321189592,
          0.0006209837124849649,
          0.012073983403412541,
          -0.041983307037975,
          -0.06407757448756042,
          -0.036553858503465916,
          -0.02250392468330934,
          -0.046475334757538796,
          -0.07697905213972603,
          -0.0897342144098527,
          -0.06440699022733104,
          0.021089704667248566,
          -0.09370061960665085,
          -0.02485889546541225,
          -0.09328598185357403,
          -0.05035543530983565,
          -0.0897248188155562,
          0.07834009462918955,
          -0.038532010593902176,
          -0.0518311254882827,
          -0.02685368580784174,
          -0.004020093886011991,
          -0.019967007757547766,
          -0.02602163148968678,
          -0.06969907530813485,
          -0.03661211875772499,
          -0.03486927468341958,
          -0.019812952884349734,
          -0.00010564444354209884,
          -0.02885137476764563,
          -0.02906006068386624,
          -0.030573991962714236,
          -0.073322592365416,
          -0.03528343467941846,
          -0.03475137129912936,
          -0.07770380410412112,
          -0.052210765470871896,
          -0.04442776455493082,
          -0.06850591160958414,
          0.12873736551170323,
          -0.04590995690850485,
          -0.07152880919206082,
          -0.026045572356949785,
          -0.0820745477889003,
          -0.06334882060516665,
          0.03451161094742475,
          -0.0008305537516393659,
          -0.015163021960816968,
          -0.035961927198272195,
          0.04123776231115817,
          0.00248766111208322,
          -0.04624759160465182,
          -0.0209381883299622,
          0.026843724439895793,
          -0.08621195466779796,
          -0.018790060409309205,
          -0.008987749767151918,
          -0.04845781079763867,
          -0.05065218525593622,
          -0.03460367318438774,
          -0.0499716712330407,
          0.03227998694113027,
          -0.024055808042082388,
          -0.055579896729322203,
          0.5629067659588766,
          -0.026570915544009057,
          -0.004317362585370253,
          -0.0783855408505446,
          -0.00974799357636185,
          0.004931262420260196,
          -0.05862807048986281,
          -0.04117708941859474,
          -0.010803045817307106,
          -0.030212818117226793,
          -0.05055120832615957
         ],
         "xaxis": "x",
         "y": [
          -0.12701022706804774,
          -0.13579690701321,
          -0.15122692113882605,
          -0.017368611588053678,
          -0.001266320583709691,
          -0.09629756401265588,
          0.04644982883038725,
          0.04900727190969371,
          0.13357986503771171,
          0.3347957684958748,
          0.08774139517505157,
          0.0014518267076522138,
          -0.018609336431123998,
          0.5301058479346162,
          -0.007755923937775707,
          -0.04410213592692456,
          -0.01489637379750803,
          0.11543440608442593,
          -0.06835810036347918,
          0.00003049807229055081,
          0.023325506650773056,
          -0.00865866140705315,
          0.18912248220552672,
          0.026275937650671405,
          -0.019261369192942076,
          0.022061771383943694,
          -0.029770124799593255,
          0.014795837218284489,
          0.04300627813968677,
          -0.030512967463670642,
          -0.045521239242121765,
          -0.019920042621600603,
          0.04247762300852248,
          -0.02747935423434273,
          -0.027215969971877356,
          0.041343470802523506,
          -0.05639805999073404,
          -0.31401198962167165,
          -0.005061581524859324,
          -0.11374718742500489,
          -0.0839441609295157,
          -0.1514007507894411,
          0.01192647914679421,
          -0.054995507844909496,
          0.02210316740735035,
          -0.04596666882075099,
          0.05478210731998702,
          -0.05895995735026798,
          0.20693234708763686,
          -0.017285938442191735,
          -0.05694860996563014,
          -0.09260378332549805,
          0.03385384695846726,
          -0.3163297066044995,
          0.2842834352987744,
          0.024577537658073613,
          -0.0881319270704221,
          -0.02859065956195735,
          0.0046039195403668465,
          -0.02241905495807885,
          0.02573494432335446,
          0.012701336173490669,
          -0.03807176138832338,
          -0.033152790399091296,
          -0.12164468505440897,
          -0.17800891818273049,
          -0.22424972726790784,
          -0.10343615939919798,
          0.009029364446335668,
          0.2979333127358194,
          -0.017713168145294677,
          -0.025290574035041143,
          -0.01161052384381486,
          0.24707826896764457,
          0.21967399912554444,
          -0.02564583949612077,
          -0.07041992949550015,
          -0.026502248779334377,
          0.044205605237878705,
          0.04339746335155369,
          0.16761396406419626,
          -0.14533020592030738,
          0.03929186970470769,
          0.13642202148985824,
          0.3342656985079364,
          0.530105847934616,
          0.28339359781957846,
          -0.02287015821554205,
          -0.11506873092788411,
          -0.107431773858821,
          -0.06108277870377138,
          -0.003615927529300869,
          -0.057204881332867254,
          -0.03555937217682538,
          -0.03835573937167199,
          0.016019374506197236,
          -0.02647498551423457,
          -0.023281304773414523,
          -0.004488158196013581,
          -0.011232793027419495,
          -0.02582336286155542,
          -0.002368292251529494,
          -0.02009083057827487,
          0.03607873231910356,
          0.05605240924727583,
          -0.031111231055366093,
          0.18718474470285776,
          0.015499182026604238,
          0.0020715838050327363,
          -0.38908320761221,
          -0.14189462236485897,
          -0.07409411135463789,
          -0.046769126555826004,
          0.10533222710221067,
          -0.05763004126179795,
          0.10849928463803267,
          -0.3556126382905925,
          -0.01674085088158613,
          -0.2656696650250604,
          0.04601910042149516,
          0.24025306339119312,
          -0.021406408692197915,
          -0.012241790040733332,
          -0.03694935739266586,
          -0.03973874298700186,
          0.005414768059417795,
          0.011717889615854552,
          0.08076684030706824,
          -0.10241378299639066,
          0.05023817873683174,
          0.2633913959154487,
          -0.029406592788130743,
          -0.0860625632652369,
          -0.005205529251935934,
          0.0024364991425895395,
          -0.04067169029648327,
          0.18026437738757536,
          0.2301462166074136,
          0.016038110850202004,
          -0.017528759681079593,
          0.03199491222337294,
          -0.11209801113012577,
          0.012169550232690927,
          0.057034828413359155,
          -0.01340343631424943,
          0.010559890599004567,
          -0.015323330569312524,
          -0.0014817317445016413,
          -0.0074953951582630626,
          -0.03936002562434344,
          -0.11903478590659267,
          0.16357594302947637,
          -0.22393028547945718,
          -0.022519591395804433,
          -0.009157469904433726,
          -0.008598316147495145,
          0.008575804480241648,
          -0.013808196492702814,
          -0.004685670258528268,
          0.03453859189921628,
          -0.0492268175947496,
          0.005525817736430458,
          -0.014847621937561393,
          -0.041159593615551625,
          0.018403308784387687,
          -0.08923900912003543,
          0.05606982617241573,
          -0.03815833209516772,
          0.07269762940053938,
          -0.05822012105772169,
          -0.38092946368053643,
          -0.0158678045920768,
          0.21347678781657714,
          -0.015658349072275528,
          -0.15259809508562167,
          0.026699478041400822,
          0.05276549875514726,
          0.0449017693505328,
          -0.003917335957051159,
          -0.07153685960779445,
          0.15245872868742724,
          -0.306193933269187,
          -0.03090393183841098,
          -0.05004031891809914,
          0.20184825712287302,
          0.09108421878413195,
          0.06936702906534035,
          0.06498302640422295,
          -0.06316231841902506,
          -0.003607976371555555,
          0.2979333127358194,
          -0.0741573526365617,
          0.023443098098214515,
          -0.01282839335912117,
          -0.061080310048285874,
          -0.009322588822951665,
          -0.06457154458618063,
          -0.022924557142560562,
          -0.15535399759822818,
          -0.04535488947379954,
          0.11796484903552053,
          0.24222583689651644,
          -0.09769568887498171,
          -0.051223676627044155,
          0.17114613607675505,
          0.0017958789021452108,
          0.530105847934616,
          0.3359237233607882,
          0.015648252974009954,
          0.07091931190430201,
          -0.014378828972971635,
          0.04330564471500867,
          0.03705932627594631,
          0.1682449578045446,
          0.005306661860431982,
          0.006953147741996056,
          -0.0010622126005756646,
          0.00801447232650565,
          -0.003060282287948008,
          0.020759122171497977,
          -0.06024682051092892,
          0.2196786269775539,
          0.030624084382842615,
          -0.033263341171706026,
          -0.02675070109283937,
          -0.08236521789271381,
          -0.023778275609174622,
          0.09532099382946754,
          0.0018860809142417774,
          -0.03979197023479706,
          0.13079390546626693,
          -0.04147938553915062,
          0.012429235126542768,
          -0.016358962313013287,
          -0.015326898802542158,
          0.01819086690816872,
          0.022105053118526286,
          0.012997447099652417,
          0.018651256888181724,
          -0.017298680110569457,
          -0.10380434641958516,
          -0.03227362516229375,
          -0.3200561738838154,
          0.002584603878529173,
          0.14381416607383263,
          -0.1121676670534922,
          0.0047990216027060575,
          0.023799322141127816,
          -0.11809769061467378,
          0.12937332326392223,
          -0.00013271605334184267,
          -0.34129774553783254,
          -0.05099032505875081,
          -0.06959086644062382,
          -0.057012209955467935,
          -0.006694699589184996,
          0.06454440580832074,
          0.024327950918251014,
          -0.36420711380753784,
          0.04235707316979639,
          0.005349413262681647,
          -0.001904156606266551,
          -0.017729255102129176,
          -0.12763092956046482,
          -0.21487275708541037,
          -0.026009771592692656,
          0.006076065576367913,
          0.005249384529050027,
          -0.03186379188724032,
          0.005730034244629,
          -0.0536507818760305,
          0.016583000293702604,
          0.0769974196683593,
          -0.05961319078036132,
          0.2023335064876968,
          0.005866786342424482,
          -0.17754005440285292,
          -0.06595980154547912,
          -0.37914855578109496,
          0.0920781327669757,
          -0.3601047970102877,
          -0.08574541142730763,
          -0.00972177343080448,
          -0.03191952568151078,
          -0.023247553308140968,
          0.01595753188859632,
          0.08858391027235031,
          0.027218423325437672,
          -0.0028410932818756693,
          0.24613674731942467,
          0.14447891313597908,
          -0.3389447242651487,
          0.08046220247011864,
          -0.27351458773092885,
          -0.03730334405886942,
          0.023963286747095074,
          -0.12523132399639972,
          0.010291978836995976,
          0.005278522393421557,
          -0.06021549370444124,
          -0.001445728435866704,
          -0.04576316438630671,
          0.020741290628866194,
          -0.023690292059326375,
          0.07024981480001234,
          -0.00836475376066246,
          -0.03562830400760672,
          0.1841009620769964,
          -0.06452542540013864,
          -0.007317821050791973,
          0.09882737915280705,
          -0.029731226732126116,
          -0.00936352636578972,
          -0.060289438509645514,
          -0.030632569699874563,
          -0.010435744169884978,
          -0.013303374572038083,
          -0.015287533185198307,
          -0.07296263843386067,
          0.22104587835279085,
          0.024926818362306292,
          -0.3950310007891642,
          0.17666155003943926,
          0.06679386137467762,
          -0.08592368726349336,
          -0.04896902363374208,
          -0.34385410189188415,
          -0.00048740628526617956,
          -0.4275309975852622,
          -0.006857529937643187,
          0.0049430890201259845,
          -0.19156074355335878,
          -0.05475676774958013,
          0.16570641553527582,
          0.05905739007025815,
          -0.048614214902846606,
          -0.3375342587313088,
          -0.12223248777555625,
          0.00329747196898285,
          0.08922776687308326,
          0.005278522393421557,
          -0.06249935325986536,
          0.13341061694769238,
          -0.24685353511421684,
          -0.030979386728557882,
          -0.15159611571003498,
          0.06118896878486393,
          0.26137006450719336,
          -0.1630422059106655,
          -0.013814610638316772,
          -0.388642787461702,
          0.07983192007251075,
          -0.05169259596328943,
          -0.004401680629039823,
          -0.14084138745958288,
          0.1269119962779155,
          -0.00325835569001805,
          0.33128970884566933,
          0.530105847934616,
          0.05445583180902671,
          -0.05717525283173756,
          -0.09810837101852685,
          0.04347032407960753,
          -0.013923479444399662,
          -0.03231663590460128,
          0.03720860994685203,
          -0.0015552251332978972,
          -0.003192833417039494,
          -0.019366400370032615,
          -0.08455417847268148,
          -0.0011384282624548234,
          0.05691581205845367,
          0.032139850046611865,
          0.24421831894777582,
          -0.02812971024009089,
          -0.03264386800429596,
          0.03761402801347153,
          -0.023180935854388445,
          0.013328602089069563,
          0.011297466189619128,
          -0.03454124216283497,
          -0.010053321322660807,
          0.05693810145311623,
          -0.08203064166687832,
          0.23744424220187949,
          0.020728668664113527,
          -0.3659808440647574,
          0.14381416607383263,
          -0.021700148912966934,
          0.02639679746496643,
          -0.009067923041658857,
          -0.3931083690009387,
          -0.07662502901143586,
          -0.11777723806558706,
          0.041796023256315436,
          0.001274072643368251,
          -0.12498344875785095,
          -0.1220615094866018,
          -0.12093739361367516,
          0.0006254797040771394,
          -0.0626943256663394,
          -0.01920249449252498,
          -0.030864763021658723,
          -0.004948473359942818,
          0.08586203400229167,
          -0.008413961029103795,
          0.055182231094628525,
          -0.3574824168145366,
          -0.05841831978683238,
          -0.018905598197262796,
          -0.005346940125830182,
          -0.06553985142129815,
          0.019754119828149997,
          0.022425695254418964,
          0.23413170467509156,
          -0.037364158244694703,
          -0.0011243753368376437,
          -0.02628024898568706,
          0.0006780110626596144,
          0.1129396032596222,
          0.06877575917763153,
          -0.0032533302937147474,
          -0.011676707921524195,
          -0.006684215964199943,
          0.08029537276810565,
          -0.03944817819422454,
          -0.020184222052342393,
          -0.25101363865277804,
          -0.09486612766591401,
          -0.01266419133467803,
          -0.05080195835502678,
          0.0063087492611360015,
          -0.0021360325280140816,
          0.14615668872993193,
          0.012017535276274237,
          0.09369409695512804,
          0.005278522393421557,
          -0.0881918265359815,
          0.008322993957839147,
          0.03062321641727763,
          0.005854217557061249,
          0.013165252528954105,
          0.10834941018625197,
          -0.007944688076293113,
          -0.4130909800932289,
          0.05493304828243597,
          -0.00016553464575375378,
          0.03318316845311219,
          -0.3947206889147166,
          -0.01377354560275817,
          0.2645313243438343,
          -0.022796661256329172,
          0.03681502738675975,
          -0.14921026829697542,
          0.005278522393421557,
          0.01623240900278771,
          -0.0682674254750264,
          0.003063352170391928,
          -0.006276054550172952,
          -0.004292860062185571,
          0.0035660422717972875,
          -0.03893207916389099,
          0.10598811084621815,
          -0.32134634742632034,
          -0.0026514988437755928,
          -0.006716564051647805,
          0.09089407013548606,
          -0.060789518615481056,
          0.04770088034502615,
          -0.26441695272202576,
          -0.06694393427789429,
          -0.33582962909774106,
          -0.24085166109816133,
          -0.02686280966923166,
          -0.049459828095319604,
          -0.05287007245450053,
          -0.07625469593579254,
          0.011034296107526341,
          -0.002032704596816237,
          0.019163891987923894,
          0.05078956824194929,
          -0.009491954724717032,
          -0.06478970556984541,
          0.14610249018831162,
          -0.03310029754241112,
          0.002097475508140767,
          0.26478649539352656,
          0.04792150868028557,
          -0.03909451271760267,
          -0.07186558519495059,
          -0.0018244947983159685,
          -0.039961048087921086,
          -0.026550652791667382,
          0.11981822278380727,
          -0.307658012857257,
          -0.03460871225396496,
          0.1269119962779155,
          -0.10339962430926247,
          -0.006446784983405343,
          0.530105847934616,
          0.3332235123678578,
          -0.020448980304580675,
          0.06343029493596934,
          0.014726587391935313,
          0.03836102217043913,
          -0.08589340388414939,
          0.004017098861003081,
          0.0068327199169392885,
          0.01907942087437816,
          -0.011867060885625287,
          -0.00997196524222121,
          -0.009637098622421845,
          -0.02901378595652711,
          0.0555220247322871,
          0.0345539674233976,
          0.00026321360924665507,
          0.01308959648902921,
          0.04158918253891455,
          0.024044413374616977,
          0.002930205140995513,
          0.09941141700554303,
          0.02108208131963477,
          0.2822096821149881,
          0.0071268779263299106,
          0.10394869038679488,
          -0.025702677258582482,
          -0.011682228061571064,
          0.0019181262638340252,
          -0.053555904263557684,
          -0.03426135762427589,
          -0.046036284726206154,
          -0.06283073984511497,
          0.010947735540009787,
          -0.09062300628496205,
          -0.055443050182846045,
          -0.05017215822735132,
          -0.11738103068128039,
          0.13145848920060507,
          0.18724175428347964,
          -0.024742222813292768,
          0.03276455425205002,
          -0.05829837175229024,
          -0.07465376207952214,
          0.0869600515376412,
          0.1130623193566211,
          0.13410912024413518,
          0.0854904752190806,
          0.25445690108371066,
          0.08801279010044372,
          0.10321283039209701,
          0.10922291407524959,
          0.16657955726552678,
          0.09198570470634639,
          0.16377212257204457,
          0.10507701602129944,
          -0.006038666209009433,
          0.09056522816817206,
          0.005085493390268202,
          0.04724898558405025,
          -0.014059556162630856,
          0.03355143180834997,
          0.020720059968125943,
          -0.05076328638510902,
          0.005489595643961068,
          0.0054239298612579305,
          0.008326517771371137,
          -0.01128255767457099,
          -0.005459833058678689,
          -0.03753987450776323,
          -0.03635957291468938,
          0.00924395488559782,
          0.009286880208988156,
          0.05472809204865411,
          0.2764047410924338,
          -0.006877433057633027,
          -0.019874389223890912,
          0.20218928862232605,
          -0.04046710803044378,
          0.051545048177269855,
          -0.10770607684871951,
          0.005611550517225133,
          0.018658794719255013,
          -0.09621330477863989,
          0.0363910382307382,
          0.019916618676000235,
          0.026688253769118694,
          0.017328154084865845,
          -0.00991622076783726,
          -0.04419217505090414,
          0.004541963271529611,
          0.015943668181083667,
          -0.03278713867224805,
          0.0434621004159384,
          0.01118194226026899,
          -0.030957967663971478,
          -0.02185034584153337,
          -0.014600768960302709,
          -0.06447400548507881,
          0.036419701610160476,
          0.16746426840083636,
          -0.02423953107703378,
          0.0030867795491982676,
          -0.18812543251236843,
          0.0509192246365233,
          -0.022358011208692567,
          0.03154191862886582,
          -0.10740098960499042,
          -0.03459944478726382,
          -0.06536195010634617,
          0.03016447754812238,
          0.0912658205910246,
          -0.04135430050722691,
          0.03016031779859189,
          0.025537892938148652,
          0.02590548402482764,
          0.018649276603078663,
          -0.31551691390813963,
          0.2389931812550681,
          -0.09934146438704239,
          -0.10967786307713197,
          -0.02057196155183352,
          -0.006276054550172952,
          0.00558766765740015,
          -0.278397876536428,
          -0.15249319080288956,
          -0.0006137998446735933,
          0.26548140889273153,
          0.011987727376432847,
          -0.135922472404365,
          0.033780226271777,
          -0.07146757847364245,
          0.0018407193678062238,
          -0.12334295951785479,
          -0.12752028250643663,
          0.010877009917440445,
          0.015283715246070303,
          0.0005506216760570361,
          -0.1929351826270505,
          -0.05096695797528476,
          -0.09248203777142817,
          -0.016374771811179238,
          -0.1891858431925015,
          0.11823398462024699,
          -0.1304165742886807,
          -0.029698320956926944,
          -0.14576487054635054,
          -0.07679929279803435,
          -0.07228152072604394,
          -0.00945683108396094,
          0.1750729538585097,
          0.2453171964927724,
          0.19187706173576297,
          0.17331371371902102,
          -0.032534824352184306,
          -0.04103558351190739,
          0.03685869915077187,
          0.041985953065882445,
          -0.004319956057338105,
          0.015146708937637048,
          -0.013871455425157773,
          -0.021093917128142837,
          0.12076617990697049,
          -0.09846852795738706,
          -0.1384961014870907,
          0.1715518255590867,
          -0.04343608965407257,
          -0.2662521236683495,
          0.530105847934616,
          -0.006963752580343313,
          0.0788024786036934,
          -0.013949889396191637,
          0.33445159096627697,
          0.0039468759798321285,
          -0.07975053679577405,
          0.015168316172075862,
          -0.020715877703522553,
          -0.0654595028961394,
          0.043777951323709006,
          0.021014950336404836,
          0.019421967302395943,
          -0.0024381375128687834,
          0.05702923503057937,
          -0.008366640172526736,
          -0.04368954259528262,
          0.005028326264992044,
          0.040591328880516066,
          0.012782852749318114,
          0.030979207690370082,
          -0.028215159816988356,
          0.023873093782369247,
          -0.012241039834151127,
          -0.021001256062693985,
          0.017695196866807723,
          0.0357613405711308,
          -0.007369824586541888,
          -0.023424628177803785,
          -0.2793469140036363,
          0.012510348769443352,
          -0.01766331247256152,
          0.07023747734579584,
          -0.03960745399755476,
          0.03675429019294821,
          0.11964662152139384,
          0.013568751585068754,
          -0.021110060664546557,
          0.020742540587011808,
          0.09716526620765863,
          -0.0013495670014572842,
          0.1148765018123223,
          0.23655073269069696,
          0.008562324323568226,
          -0.004409388060314545,
          -0.017310268228031413,
          -0.04032644205812273,
          -0.09222893670702399,
          -0.07983391722685902,
          -0.0031021108306787098,
          -0.34175712292956056,
          -0.10207994160653544,
          -0.035174787346000956,
          0.03771976594068569,
          0.04433949672209852,
          0.02450572758448085,
          -0.10346400875777528,
          -0.0028914571949898537,
          -0.029639348689171223,
          0.00013960808005147757,
          0.07825562215847678,
          -0.0008067125527329471,
          0.2602954114003779,
          -0.05804170639152221,
          -0.046906877264342346,
          0.0036862802427879123,
          -0.009638025998991065,
          -0.04918096361723286,
          -0.03940518755802541,
          0.020246342739910578,
          0.02862059449444963,
          0.025734567399850614,
          0.04334387800187355,
          -0.004538582511583217,
          -0.048404082851740846,
          -0.025968932272839265,
          -0.18555140889232283,
          -0.08300441679207467,
          -0.0223214229721849,
          -0.14637760927568036,
          -0.02803139296173493,
          0.09954888928007809,
          0.0316077734461585,
          0.05252064307909437,
          0.07202180695550908,
          0.04120198036123152,
          -0.03658390716001457,
          0.03510839714928854,
          -0.010278893618363474,
          0.012362895077526465,
          0.06635461319095207,
          -0.1957966213410434,
          0.021278863121875942,
          0.008320486329967408,
          -0.03584161172974888,
          -0.09734688532104761,
          -0.02001789885871089,
          -0.04298278704470062,
          0.011725726232791516,
          -0.07934370909341217,
          -0.03468904361710244,
          0.04383043521420828,
          0.17843378665779613,
          -0.019311927441437636,
          -0.07088128799757291,
          0.03682428584422172,
          -0.1347097889685433,
          -0.15067956141739558,
          -0.05207905216184874,
          -0.015617435106278325,
          -0.018006813138095528,
          0.005278522393421557,
          -0.07462845593466787,
          0.024433616146356377,
          0.024516996750037573,
          0.005305932797336847,
          0.17752485475924826,
          -0.007728962255127934,
          -0.04608544135821295,
          -0.029094160726302262,
          -0.045618126787237895,
          0.029994553668163292,
          0.001318993303627972,
          -0.02723533767156643,
          -0.01011390943481233,
          0.03497088583808436,
          0.030698268999726858,
          0.007732929895818038,
          -0.055794035003341534,
          -0.018951396008952345,
          0.002525408349149537,
          0.024738462882909054,
          0.084571073733258,
          -0.038884277706090764,
          0.07415538361116064,
          -0.38719970269148096,
          -0.04273861968454107,
          -0.010034302226326564,
          0.0707271940795529,
          0.34967517678486776,
          -0.390116074281466,
          0.059080588678563015,
          0.04028558573171159,
          0.05942419247954218,
          -0.09048336377420531,
          0.530105847934616,
          0.37578893584914347,
          0.0018127323288985478,
          0.04176827745356553,
          -0.004840223062395348,
          0.005278522393421557,
          0.1041832064127443,
          -0.04703383603371185,
          0.011910885697344498,
          0.03513015707668892,
          -0.003201341366858705,
          0.015927539159307415,
          0.005278522393421557,
          0.0023194007869426396,
          -0.012278454708677895,
          -0.021440403272263042,
          -0.04958606019943654,
          0.003383288074933729,
          0.005866786342424482,
          -0.006882470642039502,
          -0.011548092554712884,
          -0.01760602598752428,
          -0.06951941715585548,
          -0.0027236865377243047,
          0.003821054060574293,
          -0.07021859971413216,
          -0.0385995416262343,
          0.20325738204052737,
          -0.3092581082469905,
          0.06498593831516007,
          -0.024556088777263965,
          -0.07968949554534371,
          -0.13541835884486317,
          -0.10415660569703791,
          -0.02235855261668448,
          -0.22168731794552324,
          -0.031003870159174204,
          0.017675092374806262,
          0.07355449657412387,
          0.005477348034563744,
          -0.001146955598082613,
          0.030845038364562993,
          -0.08450212250001013,
          0.023488292444243494,
          0.08780201852722581,
          -0.018171165313133612,
          -0.037597873167372835,
          -0.006316132717776994,
          -0.01810989089226258,
          -0.023433782995778654,
          0.003998030354422208,
          0.01907942087437816,
          -0.0578152093110494,
          0.05046245019204999,
          -0.030802648379450247,
          0.012526588015099647,
          -0.12186334981908649,
          -0.08390944897129503,
          0.013174523879902093,
          -0.003036128469066041,
          -0.03346999567182486,
          0.03877345487011834,
          -0.07481521288546429,
          -0.02199986376352678,
          -0.08437177242738082,
          -0.08488756437117072,
          -0.12282037590388888,
          -0.057536819289784845,
          -0.08708657337359282,
          -0.043248841332606765,
          -0.0841808800601265,
          -0.11236169974126113,
          -0.030358285126088565,
          -0.056006190914764734,
          0.2184560416014012,
          -0.010883709557639109,
          0.02548705653718127,
          -0.05468267340645558,
          -0.037133899436258576,
          -0.008552279982698958,
          -0.06227328440440447,
          0.029978167923288883,
          -0.012257345943492811,
          0.3767978416313228,
          0.05410064794669572,
          0.530105847934616,
          -0.0011231393721712567,
          0.016870631366011864,
          0.019718924954859687,
          0.10100544703724224,
          -0.015535231001541706,
          -0.0058421459195493845,
          -0.1161834745852676,
          -0.01881805588702455,
          0.04724763886291597,
          -0.1023241887340361,
          -0.010575705791300393,
          0.13126917497857116,
          0.008544550532909567,
          0.006670962830107239,
          0.0054630761785599,
          0.011323791909347031,
          -0.030889684291854087,
          -0.04143028847698322,
          0.03771976594068569,
          0.0512086407047396,
          -0.12011598951342443,
          -0.03352427684503441,
          -0.05988139709738989,
          0.05543549765458757,
          0.000829552713364982,
          -0.02534188594674998,
          0.14606776877557154,
          -0.0029030319595104246,
          -0.052076154189505744,
          -0.04862443378316204,
          0.015966655709957978,
          0.07603106829429924,
          0.021831929192103954,
          -0.0186443148214081,
          -0.09611055407372658,
          0.14272674538493754,
          -0.0378187147725405,
          -0.014794831661676578,
          -0.05405443974323471,
          -0.02092071777715964,
          -0.03529197689838963,
          0.08918598657250525,
          -0.03407245194137524,
          0.13082955448194739,
          -0.05944375390216083,
          -0.12392081347010026,
          -0.06562469438585941,
          -0.08757635488312318,
          0.03870005362514341,
          -0.04594178731446873,
          -0.007614245133105375,
          -0.26399932281732286,
          -0.06715383852475308,
          -0.1459523004776395,
          0.10366357500022308,
          -0.10513994514315826,
          0.19096450059954564,
          0.2789216809696037,
          -0.05438503036879152,
          -0.09769281777108571,
          -0.08465519664259163,
          -0.07441037466790783,
          -0.03407245194137524,
          0.04608361866535563,
          0.044205605237878705,
          -0.04888053673293363,
          -0.054603796630454754,
          -0.0030459373049960266,
          -0.03982617509116837,
          0.005278522393421557,
          -0.08183909810518171,
          -0.05574215519222966,
          0.376217625009572,
          0.530105847934616,
          0.005582571992577592,
          -0.10203853960568958,
          -0.029392875049686604,
          -0.04504754998935281,
          0.04410837113071608,
          -0.07330663279432843,
          -0.011688913920040301,
          0.07294445739195925,
          0.09218849081583072,
          0.024907577324704465,
          -0.005156402013753484,
          -0.03573760290079421,
          -0.010560117552876608,
          -0.028325556816231865,
          -0.055871461927083664,
          -0.014266904155150379,
          0.005278522393421557,
          0.008752107117640271,
          0.10254564717182318,
          0.015389431534003782,
          -0.022391621508611747,
          0.041938623961732084,
          -0.03237607409785681,
          0.013598582013102817,
          0.060488127234542124,
          -0.20983509820330354,
          0.04852209405453913,
          -0.10946080045434464,
          -0.21315847839176374,
          0.05692303898839804,
          -0.05539048477547047,
          0.03301139575997198,
          -0.02505885914174509,
          -0.05214873018409152,
          -0.030787818608002143,
          -0.03997494540504277,
          0.034120808571989784,
          -0.08935394105080031,
          -0.12340252504957437,
          -0.055929378376364726,
          0.0471934324665409,
          -0.11698638802252877,
          0.0301283150452068,
          -0.13104064942629087,
          0.06019899726531049,
          -0.04387422712272358,
          -0.05895615085545792,
          0.002694756467417295,
          0.013127862165488183,
          0.03019527720666398,
          -0.10440518528343627,
          -0.028161244443397185,
          0.0011246356391528408,
          -0.042734024626734736,
          0.024547358558360283,
          -0.048557041370758995,
          -0.013569634429953433,
          -0.0797929301599775,
          -0.009884331452634114,
          -0.07544672373798929,
          -0.011880065407083003,
          -0.12543228748721483,
          0.11514209107606951,
          -0.01223288595488932,
          0.02969567128559405,
          -0.03752835058064329,
          0.007561698712405503,
          -0.023447495333058545,
          -0.1073575097616532,
          0.1947561877192245,
          -0.100175299639173,
          -0.09256042651118086,
          -0.1226533452680323,
          -0.015895119039707733,
          -0.3776172415784419,
          -0.06158750825421832,
          0.01024477626386474,
          -0.044411793526374414,
          0.05177945775355036,
          -0.039448607048566335,
          -0.08783264734069383,
          -0.017336892619373247,
          0.019712562162672437,
          0.005278522393421557,
          -0.02184805310804389,
          0.06317207024867284,
          0.0029534962232087903,
          0.20227316504489684,
          0.025817602661683127,
          0.23527048044480747,
          0.17669389652427103,
          -0.02509294790334477,
          0.07220530115851445,
          0.02364151809573945,
          -0.05385878781578314,
          0.10656690451496022,
          -0.05162848277940936,
          -0.03256550954779016,
          0.0027591271238307834,
          -0.11133042583088078,
          -0.0540373529628134,
          0.13598488834805122,
          0.007598541184397444,
          0.530105847934616,
          0.37950589626181597,
          0.010276412064565836,
          0.13302752146863656,
          0.018542616627894075,
          0.039784776811309534,
          -0.0629292781796527,
          0.013489753725816726,
          -0.02612533534568237,
          0.02958600174938688,
          -0.07168307164660938,
          0.07797455788498503,
          0.20783456603903422,
          0.042608168456739905,
          0.06124477605312746,
          0.007578409585647634,
          -0.06328381802629507,
          -0.048690694613635406,
          0.07542629443622392,
          0.006511985582552095,
          -0.0038509794176155693,
          -0.11345991719182685,
          -0.001252167684404734,
          -0.012519947653422608,
          0.002304715562355379,
          0.19749038702683663,
          -0.005203490157396712,
          -0.028808001655085447,
          0.030203694532627428,
          0.01745171148068857,
          0.10610284398014916,
          0.03731801481363455,
          0.04294924098650633,
          -0.0799450436526714,
          -0.0333953242910711,
          -0.12382156869391543,
          -0.020085572357012704,
          -0.07133042841888221,
          0.05435109830846971,
          0.02696276950243542,
          -0.02645575682045478,
          0.03484100035395846,
          -0.10901168035836793,
          -0.12438757664427252,
          0.22625257338367194,
          -0.031835733964657685,
          0.22675854835269135,
          -0.0023914340615413514,
          0.049797934662260394,
          0.013863258792960948,
          -0.02259287413714192,
          -0.01684158188647862,
          -0.03265344241006026,
          0.035210553093608446,
          -0.034708043900428254,
          -0.13384758690752369,
          -0.01654572186195407,
          -0.06480910545948612,
          0.19847683878884792,
          -0.017340555270404595,
          0.01650618552416169,
          -0.1338896786727218,
          -0.004172558015942888,
          -0.018231741090538912,
          -0.041110224230805084,
          -0.01956302568487298,
          -0.06089267919940712,
          -0.03745584934761825,
          0.011463383128609379,
          0.11978761832453742,
          0.15277898314778388,
          0.02198530107294266,
          -0.11895092346947429,
          -0.003031464997695509,
          0.016017839789960072,
          0.0013932155370439887,
          -0.006622878655487232,
          -0.005037907903763264,
          -0.0605935356691409,
          0.009523115166291087,
          -0.025522333728102076,
          -0.004431350723316437,
          -0.15233633876480837,
          0.038941286253370795,
          -0.05070280887256297,
          -0.05861978924195615,
          -0.04927992860577945,
          -0.1426633043606526,
          -0.10032713467456353,
          0.054624693122665095,
          0.19838627433889738,
          0.08143112312008334,
          -0.038476776644631845,
          -0.30869878150466884,
          -0.11057760558680949,
          -0.027628174113055643,
          -0.11002515217823965,
          -0.017084141710851288,
          0.010426978329552401,
          -0.051920989838993625,
          0.00006934085433378786,
          -0.18284657616041336,
          -0.27915685848956906,
          -0.11549218339714863,
          -0.054519343798766974,
          -0.0958999603544787,
          -0.02695814855683169,
          -0.21580177630437059,
          -0.01944771461509502,
          -0.03734642961405077,
          -0.06414894631661625,
          0.1211725231903927,
          -0.013722765667674443,
          0.04504282857565336,
          -0.12367894908366604,
          0.01402942914281038,
          -0.032360279133275695,
          -0.021207070660285595,
          -0.05560094507080218,
          0.15241230414733117,
          -0.024555980164752644,
          -0.04133575701040065,
          -0.03232474791543703,
          -0.10220427885462162,
          -0.03097016596137954,
          -0.07037517720902321,
          -0.06412002968127908,
          0.08822001534161149,
          -0.09203672754469937,
          0.2619745944334829,
          -0.0439135195467794,
          -0.0500193552619914,
          0.12654544257315456,
          -0.05062160768155942,
          -0.1288234299399045,
          0.000009783677113481784,
          -0.12927863436709697,
          0.02830424904441833,
          -0.017256256039712804,
          -0.07147435374699805,
          -0.010779670592977669,
          -0.03071308918759331,
          0.0015838754455933552,
          -0.08238624956534095,
          -0.053717223466569444,
          -0.13471677789217865,
          0.530105847934616,
          0.37181838860270167,
          -0.01409525448815537,
          0.00028332075919238896,
          -0.07468062973631291,
          -0.0398006185476291,
          0.005659690441233415,
          -0.008773130411009682,
          0.040112049057353556,
          -0.028014024931423073,
          -0.0468453532153194,
          -0.03303253770166355,
          0.0524694310240265,
          -0.051220150763088855,
          -0.028746761202406535,
          -0.015099798813428433,
          -0.027666656230865325,
          0.02570774999457129,
          0.00984564205146675,
          0.09059773977966819,
          0.06950092932748964,
          0.02033342112434746,
          0.050207313308221875,
          -0.060420261373361685,
          -0.008998718855078209,
          0.0250603541835207,
          0.027804360319900138,
          0.00041020639214420354,
          -0.15320911099857173,
          -0.019493182322600285,
          -0.008080579878823595,
          -0.3344699368346991,
          -0.05742544167695334,
          -0.3425902902881495,
          0.008285018256756692,
          -0.06299093052083837,
          -0.07379416016804281,
          -0.0025658849428772863,
          -0.050386826688967525,
          -0.053885356237229,
          -0.016380789330378315,
          -0.038429957686944266,
          -0.09439483861585327,
          0.10431047782202588,
          0.054756692537886995,
          -0.09293387869406204,
          -0.029408029441410393,
          0.0222810888887645,
          0.1269119962779155,
          0.0420801475523196,
          -0.10936285052669129,
          0.08016780410884906,
          -0.05932466266769298,
          -0.00009652588613348,
          -0.08088222861513056,
          0.04605425736672843,
          -0.06965635254435393,
          -0.023603311609115125,
          -0.08952035846949835,
          0.0010442361324263317,
          0.005678028968717542,
          0.007394947948468672,
          -0.020727288145855668,
          -0.10287240072476335,
          0.06443890249058987,
          0.01610554909328778,
          -0.0996668582630511,
          -0.04057306555003867,
          0.002493554296353223,
          -0.3738525871754362,
          -0.016291280918616174,
          0.08606762588450857,
          0.004855985938197551,
          -0.017215592811437003,
          -0.14422898245246035,
          -0.02268004179723167,
          0.06304986741345973,
          0.09165082460890323,
          -0.020156159841035748,
          0.08902631943747621,
          0.017110302382801933,
          -0.08537745189996661,
          -0.027727722621939902,
          -0.00729594672893015,
          0.005278522393421557,
          -0.061699206460385375,
          0.03519990838676581,
          0.2842834352987744,
          0.006722219337205967,
          0.02189159147745525,
          -0.16843236806102085,
          0.0031808754387810307,
          -0.14267423128229526,
          0.014885943721545293,
          -0.04368018900256253,
          -0.07032035685897305,
          0.016561013201594685,
          -0.08717728455310957,
          0.0027038224485779754,
          -0.11498367357141917,
          -0.009307112487945213,
          -0.0002513861736773201,
          0.006866711557058673,
          -0.04458632698079283,
          -0.09856249233570218,
          0.09089407013548606,
          -0.14577466741863215,
          0.21367903554501563,
          -0.227501461523755,
          -0.022044212140420148,
          0.00028928143925487294,
          -0.07211326723925825,
          -0.04567904098893937,
          -0.11618712531131649,
          -0.005317819919933506,
          -0.01129508208655013,
          -0.02667261432436627,
          0.4300759878093137,
          0.03444025514936395,
          0.1864781259854843,
          -0.09481459678295599,
          -0.06900430078237757,
          -0.005018948290522563,
          0.04975918850057114,
          -0.03394472476659697,
          -0.15253023773312002,
          0.03476228795801343,
          0.013593589247874103,
          0.06594870006533282,
          0.10608724313559781,
          -0.02658185092218688,
          -0.09242629085386297,
          0.37468299984368114,
          0.530105847934616,
          0.0788024786036934,
          -0.028388528677233026,
          -0.03959006034453155,
          -0.01716166844419028,
          -0.01899484093909614,
          0.0531931797425388,
          0.043197106550145796,
          0.0003943188044519291,
          -0.017539416095999148,
          0.014220213395687928,
          -0.013232833551937375,
          0.06272363672811888,
          0.25791288697031817,
          0.01647248963694391,
          -0.01719000116306818,
          -0.02987019170606926,
          0.03456608769597013,
          -0.06402517755187292,
          0.031087511856817195,
          0.22569089498877676,
          0.0029720946534704,
          0.02414763047637826,
          -0.3506100195480434,
          -0.0018282814541238448,
          -0.008529623790150981,
          -0.042327266351886036,
          -0.19923039031426498,
          -0.15477984164481445,
          -0.012154468278158203,
          -0.05348642976506525,
          -0.04694328788490376,
          -0.11151860711298384,
          0.012808826778188667,
          0.06447098613928182,
          0.04255520085507667,
          0.09790327536307115,
          0.15410253212101777,
          0.09293075814053701,
          0.0503307398027356,
          0.024233545486177146,
          0.10058910452914933,
          0.06856048519049172,
          0.15391898089165237,
          -0.03756161785657241,
          0.02473610426073291,
          -0.017423056316259143,
          -0.01716847236208893,
          -0.0934260901511328,
          0.019325284022340482,
          0.010180158230625728,
          -0.09291459968121094,
          -0.03167425934218812,
          0.012293463508910188,
          -0.009205044610857456,
          0.00298963808077607,
          0.007235527632947305,
          -0.0003729979235835677,
          -0.11156641465705573,
          0.04497220266548869,
          0.01566534180493342,
          -0.013015809546020371,
          -0.04658301870353887,
          -0.007895541886543575,
          -0.06104006277822516,
          -0.1018456821587089,
          -0.05447054490843374,
          -0.053710961224552295,
          0.09871804625386144,
          0.0017872977897023595,
          0.05252064307909437,
          -0.05774764166205762,
          0.05276939671138771,
          0.10072356784798424,
          0.07702247909462495,
          -0.13573037225775525,
          -0.3735393015731237,
          0.046988863148316164,
          0.09532099382946754,
          -0.0059878021954164785,
          0.05514321813221321,
          0.052599622227382827,
          -0.036837988143151625,
          0.011894306388518634,
          -0.0013560671799502683,
          0.016262394566698316,
          -0.008229294609385759,
          -0.3352424124341927,
          -0.0542670759573652,
          -0.001922558896505127,
          -0.05227011088126854,
          -0.027510990754835356,
          0.009502407264221678,
          -0.07825098782986158,
          0.025928831528549932,
          -0.02439208598495562,
          -0.03938826079857018,
          0.030558812196038797,
          0.017017434889813374,
          0.008642636288676737,
          -0.31182135217787466,
          -0.0034121569314316687,
          -0.017813037747847794,
          0.00031378978257096005,
          -0.06641484642713408,
          -0.02335450747969699,
          -0.02110518846286882,
          0.20870133425161508,
          0.08525160469992749,
          -0.09906008414914173,
          0.14944036874862165,
          0.0015648192829103393,
          -0.0778729963297025,
          -0.007175777219895557,
          -0.028135662718619763,
          0.012500947292720433,
          -0.06866928457383474,
          0.012679265598542428,
          -0.011790949172660818,
          -0.043631228967649024,
          0.06854788374931237,
          0.09142495677731717,
          0.005298236679267556,
          -0.045574239293898096,
          -0.030644560054959892,
          -0.005652672008261619,
          0.1381923485215935,
          -0.06899873946020771,
          -0.00755330767245376,
          0.00013960808005147757,
          -0.02529395630344435,
          -0.048525828276897706,
          -0.0035223141542363645,
          0.03973370322937172,
          -0.07831727410095211,
          -0.15773425625330872,
          -0.09607972904074488,
          -0.03758605679483672,
          0.02690107235244151,
          -0.01955576230369081,
          0.21172967664338938,
          -0.04152089773525914,
          -0.20044090875351533,
          0.023337696645816672,
          0.16316409498476814,
          -0.07057322343321507,
          0.043399437379976605,
          0.03940662436928288,
          -0.04108984934898914,
          0.09619638741557275,
          -0.024959222415075987,
          -0.09380383786060409,
          -0.03586554373928987,
          0.0837379777521637,
          0.1402214960052006,
          -0.08201584682293829,
          0.06605822538913501,
          -0.010501266039115095,
          0.12526089785223338,
          0.14648287771069526,
          -0.02323092163450983,
          0.03501317940441558,
          0.012969263505760286,
          -0.043381695541430836,
          0.01734776731911553,
          0.006395980156270736,
          0.02142656095051136,
          -0.006655474124848641,
          -0.07296828750505167,
          0.015698374607502615,
          -0.056651131034069255,
          0.19423594905002897,
          0.010484918991158072,
          -0.04160479329116115,
          -0.02602853367561573,
          -0.04663422992767884,
          0.530105847934616,
          0.37645094711969374,
          -0.002461872583949156,
          0.1596849313831378,
          0.00374487656104881,
          -0.020854572839167838,
          -0.007537600807360221,
          0.017364964826902914,
          0.08452184391175195,
          -0.03951308004181363,
          0.02004652188910841,
          0.011948357549050362,
          0.0717131886018842,
          0.03881295385753581,
          0.06476092124824528,
          -0.039751783138954326,
          0.005043694058585641,
          0.004431138889907551,
          0.05110924788201867,
          -0.0319486405935853,
          0.0005637311348933646,
          -0.020212173368968137,
          0.056354439440958776,
          0.011667323514432166,
          -0.033938882799567444,
          -0.06753127056211522,
          -0.02626351139447281,
          0.07548366710048504,
          0.14042073126104923,
          -0.09592403425862876,
          0.018263312696777907,
          -0.10444078200901033,
          -0.031772224899142866,
          -0.030389302215970308,
          -0.018587663225827906,
          0.02311919308920093,
          0.11964662152139384,
          0.02925856903771673,
          -0.15692746216366282,
          -0.021596824522805376,
          0.02101168595575596,
          0.0029874917485467533,
          -0.05632932860634613,
          0.03410579896507006,
          0.0029534465382390013,
          -0.035911795946938656,
          -0.10095752461096985,
          -0.020195482727616777,
          -0.06929304422679963,
          -0.062033636883371525,
          0.03338470438125278,
          -0.04125169546578261,
          -0.016717814292778303,
          -0.02932487144660503,
          -0.049833187562309623,
          -0.006961998953120901,
          -0.02242565805681513,
          -0.029622192704456176,
          0.027816519452294998,
          -0.0501764539124936,
          -0.0036841594829033248,
          -0.3578509480952737,
          0.17843378665779613,
          -0.04131497054266653,
          -0.051979310825141296,
          0.055039520591738444,
          0.0872644857602903,
          -0.0018797653061274815,
          -0.009030645620988641,
          -0.08929472758109451,
          0.014016649040221894,
          0.043285816694574306,
          0.03190975526711468,
          -0.0023515274527760185,
          0.012038354392605526,
          -0.02525860508675038,
          -0.07246022775954113,
          0.12103653648166016,
          -0.07098523361257564,
          -0.10756894175709568,
          -0.027882850668906497,
          0.12369215409055423,
          -0.01736134360525378,
          -0.00637765113105237,
          0.04644732350643262,
          -0.061287819546039055,
          0.018760703763804135,
          -0.051018901850323525,
          0.012443328987956841,
          0.01033383458127348,
          -0.013878479574266816,
          -0.06449651890031757,
          -0.02143212137324329,
          -0.00042680689652760357,
          -0.030076638201724095,
          0.10404948377728027,
          -0.026766216409360225,
          0.23655073269069696,
          0.007524283823434165,
          -0.09355693101366953,
          -0.22048060976081532,
          0.14754825619903625,
          0.0017860316860990367,
          -0.01567723008789268,
          -0.0638006741089142,
          -0.02809544744972483,
          0.15336743997506666,
          -0.08070490022258714,
          -0.2992386270830711,
          0.07162770558295774,
          0.12089354376394663,
          -0.053564251885402266,
          -0.00804679672572055,
          -0.05275515479483863,
          -0.08330140508998311,
          -0.004224685128890749,
          -0.030921520122960674,
          0.07094594911289205,
          0.24957712160754528,
          -0.009562757268914387,
          0.005477348034563744,
          -0.11465395377709629,
          -0.07216921210139253,
          0.13049190570535504,
          0.07342048229770558,
          0.02241507184116685,
          -0.07100201393500756,
          0.03997703701060243,
          -0.056629843644313824,
          -0.019124149852331303,
          0.017244208149001235,
          0.017244208149001235,
          0.017244208149001235,
          0.017244208149001235,
          0.02041993722834684,
          0.017244208149001235,
          0.017244208149001235,
          0.017244208149001235,
          0.017244208149001235,
          0.017244208149001235,
          0.017244208149001235,
          0.017244208149001235,
          0.017244208149001235,
          0.017244208149001235,
          0.017244208149001235,
          0.017244208149001235,
          0.017244208149001235,
          0.017244208149001235,
          0.017244208149001235,
          0.017244208149001235,
          0.017244208149001235,
          0.017244208149001235,
          0.017244208149001235,
          0.017244208149001235,
          0.017244208149001235,
          0.017244208149001235,
          0.017244208149001235,
          0.017244208149001235,
          0.017244208149001235,
          0.017244208149001235,
          0.017244208149001235,
          0.017244208149001235,
          0.019972017642306522,
          0.10605970366693362,
          -0.06510190872964171,
          0.053466316973796876,
          0.025939106722641225,
          -0.12657921579399506,
          0.029994553668163292,
          -0.08226080411709517,
          -0.016477916633298426,
          -0.003977832086800268,
          -0.07884113100730067,
          0.0007440634733582549,
          -0.06797013648254167,
          -0.055849989346878785,
          0.01227832318866166,
          0.020992009011864998,
          -0.01867732862194923,
          0.008760216111181983,
          -0.14794026766778792,
          -0.2734226775514508,
          -0.022368864250464433,
          0.06674724090889228,
          0.17955477081296747,
          -0.08534071328361796,
          -0.01250481012160216,
          -0.015745661662595483,
          0.016487840579242245,
          -0.06677489104118757,
          -0.003424105974316343,
          0.06929052983894446,
          0.530105847934616,
          0.37578893584914347,
          -0.05418434925931042,
          -0.006473099571788732,
          -0.034624115232364534,
          0.02698381531919807,
          0.00671696478510959,
          0.04021782379021395,
          0.16068918928643722,
          -0.02840114602226571,
          0.021298511868643937,
          -0.0024675066471129027,
          0.03209236610859503,
          0.011902181094647923,
          -0.02805127895723603,
          -0.014216758886471122,
          -0.014794831661676578,
          -0.1356455297181733,
          0.09053877903651691,
          0.0034154229939650257,
          -0.018816009470635837,
          0.04196361005845049,
          -0.049472234638209794,
          0.015852588289472423,
          0.0023424224223322697,
          0.11855416772794644,
          0.19907719073767138,
          -0.06710618388121754,
          -0.015839965464232508,
          -0.13861132308979385,
          0.04350169771200382,
          0.018215595680972942,
          0.0013250666152696351,
          -0.07028082150562728,
          -0.04321202821485345,
          0.010735340074637249,
          0.024910549512052124,
          0.10914320771742292,
          -0.04852269522597212,
          -0.033022707319143814,
          -0.138057877119446,
          0.004329354011219494,
          0.07702342285499372,
          -0.026541665700050284,
          0.08604495286523382,
          -0.018184917379202862,
          -0.019205188606394447,
          0.17588346626537205,
          0.005500535076614342,
          -0.0642363497699545,
          -0.002159152968139761,
          0.0067772555152766185,
          -0.033439503250204596,
          -0.05152549825520666,
          -0.059041716443112756,
          -0.03503120203291126,
          -0.005768802540970716,
          -0.026616029646654993,
          0.008986291108257983,
          -0.02566742435438586,
          -0.31458757693954803,
          0.012751192214822321,
          -0.008864423704917818,
          0.21795719994373186,
          0.026139570507935205,
          0.026139570507935205,
          -0.06774570473657221,
          -0.13756288854108667,
          -0.05425329223723187,
          -0.11327651686522841,
          -0.050315763184619604,
          0.013803968480015394,
          -0.021241468251873896,
          0.10864888190840848,
          -0.03251576141610177,
          -0.13911739146868346,
          -0.10567810038601126,
          -0.12152499677388408,
          0.024617097693625547,
          0.007265336255129532,
          0.530105847934616,
          0.3767978416313228,
          0.058261861646409924,
          -0.006973253259406881,
          0.017917347964752573,
          0.09552967910291521,
          0.03775034899206267,
          0.019354998960312484,
          0.034545341478169546,
          0.03588122122061119,
          0.06843200312469841,
          -0.04654733830211866,
          0.00826552985656028,
          -0.057721150265951364,
          0.06093201922008304,
          -0.03630821640899642,
          0.06915994135210835,
          0.012458912896727582,
          0.12178390521785222,
          0.15012218713864048,
          -0.02587399469021692,
          0.20276389366062536,
          -0.01135744081881548,
          0.012887042521827074,
          -0.009676091035008846,
          -0.04541350547882982,
          0.040445956296786045,
          -0.029148700038627504,
          -0.014518649660099315,
          -0.005959707335426375,
          0.05549669615321523,
          0.017508394832461967,
          -0.032850541950268604,
          -0.03092195218201585,
          -0.0056705390860404175,
          0.05434877944642949,
          -0.04206184575064422,
          0.048235248716184266,
          -0.09849214623794474,
          0.0009301120132044463,
          -0.1329170850236439,
          -0.0019483607082694345,
          0.07887708090407068,
          -0.06562501566347484,
          -0.0659521003007142,
          -0.006030644211387497,
          0.04604076139652399,
          -0.01394409286848049,
          0.03414164813630754,
          0.12248781917937276,
          0.004172445175144155,
          -0.07592476711632039,
          0.0009791490325219705,
          -0.055759807065763334,
          0.13243840422990577,
          -0.1306196506560822,
          -0.003600848465630322,
          -0.06824642118427977,
          -0.04868968366440798,
          -0.041118441217116844,
          -0.008312605667008326,
          -0.12445951836303028,
          0.2161898808228057,
          -0.14467623603832758,
          -0.05953071558049025,
          -0.042261074353317996,
          -0.019654964797932443,
          -0.029315367122818986,
          -0.08922649770379597,
          -0.13631777383460195,
          -0.025507536234257673,
          -0.08450239802548884,
          0.07290474257856111,
          -0.02446203684571699,
          0.004132386781415641,
          0.044205605237878705,
          -0.057269337377550314,
          -0.02629359623550065,
          0.03677931878966354,
          0.1127602215750267,
          0.5394269276806496,
          -0.01230584994895337,
          0.376217625009572,
          -0.003914954125938097,
          0.07482524079530016,
          -0.02211457037721686,
          -0.0053890484075106845,
          0.04070802437352615,
          0.03636658152809362,
          0.027829346489679305,
          -0.025923279395174113,
          -0.012057673828113383,
          0.024232426107121254,
          0.0335347788246659,
          -0.024089664885132266,
          -0.013376353752065848,
          0.005278522393421557,
          0.06503130486224043,
          -0.014045418340474618,
          -0.010416341053903776,
          0.19793063993587948,
          -0.0169653281560617,
          -0.002013834950126827,
          -0.018526348407686178,
          -0.0017931038233616886,
          -0.03279692518017155,
          -0.03012432887061231,
          -0.06836753547051125,
          0.0024124410846190197,
          0.23800911691771304,
          0.042733265330209214,
          0.20553093227303582,
          -0.07195517266673386,
          -0.1109502181718496,
          -0.04353014632057539,
          -0.34498752457268433,
          0.1910234832140025,
          -0.011659331400232556,
          -0.11127016062294588,
          -0.04745328869274216,
          -0.05703811917530299,
          0.022048108176004992,
          -0.01981657838713343,
          -0.07894012198150051,
          0.006104922271818104,
          0.18462766411625192,
          0.41274488035836165,
          -0.08880046793229433,
          0.025287993620778167,
          -0.03453152155338811,
          0.005278522393421557,
          0.0334219222763646,
          0.05878187787562029,
          0.005278522393421557,
          0.25445690108371066,
          0.005278522393421557,
          0.022072658769469664,
          0.005278522393421557,
          0.005278522393421557,
          0.005278522393421557,
          0.007983405487103273,
          0.03966474677726459,
          -0.041541682375036776,
          -0.12031787969429397,
          -0.00706253767718122,
          0.0930041918593631,
          0.09584874234231423,
          0.0110083367783061,
          0.0056431914437745844,
          0.04594364456938986,
          -0.018951396008952345,
          -0.0009351738310436952,
          -0.16902890277118832,
          -0.010083896459758195,
          -0.006980532181771149,
          -0.025153439834377282,
          -0.0371038823733154,
          -0.0018977765812492728,
          0.007690303405092422,
          0.010873335617414681,
          -0.0006488013099096301,
          -0.07503692533455811,
          0.004901974560381322,
          -0.05363530869056405,
          0.09993415782130083,
          -0.03973967737369119,
          0.014825908813077996,
          -0.08362573009519847,
          0.2678394625789556,
          -0.025880690991924523,
          0.02206396063521351,
          0.1357461953984296,
          -0.05639814724110877,
          0.005278522393421557,
          -0.15142489305695983,
          -0.004839883017062672,
          -0.2473787133178496,
          0.0309080528338594,
          -0.009962737278577419,
          -0.009544080717211415,
          0.03574232558266795,
          0.007360434182396191,
          -0.11233243111725673,
          -0.03551544083609564,
          -0.026271074293200004,
          0.2057228531017332,
          -0.03297313899245688,
          -0.05788511588876969,
          0.020875040335292173,
          -0.0685848148841279,
          -0.010988704180383484,
          -0.08731459796287028,
          0.18166131791153373,
          -0.02088916432253986,
          -0.05924528596769125,
          0.14736586106895985,
          -0.0951846437265158,
          0.20643732324863823,
          -0.056255573310602124,
          0.04742860878863234,
          -0.041537890546880334,
          0.13608101634303427,
          -0.016238086092751715,
          -0.008340226629238353,
          0.007571972914139324,
          -0.05818111213924255,
          0.2979333127358194,
          0.00966722853215502,
          -0.1003328971349353,
          -0.04336314905151692,
          -0.09264085135517541,
          -0.0032224151038851203,
          -0.04977806837796252,
          -0.024212927299499448,
          -0.08573617977260391,
          -0.06057648039774637,
          -0.0844387204607527,
          -0.0023818298059229523,
          0.1241814837625424,
          0.1269119962779155,
          -0.10880786755337166,
          0.14166130861741252,
          0.5394269276806496,
          0.41274488035836165,
          -0.005876558597606017,
          0.37950589626181597,
          0.19482062020527738,
          0.027231693686668897,
          -0.056958147547496334,
          0.005430589288121971,
          -0.04404700792426176,
          -0.04096136514085028,
          0.05115560067058068,
          0.04811647943860944,
          -0.02185139504355242,
          0.027310108728969704,
          -0.013313357516145752,
          -0.06981282795793455,
          -0.04883079548507565,
          -0.005804552971549846,
          0.013901642515526823,
          0.04783191401541031,
          -0.0963823903960785,
          -0.008826525207794195,
          -0.005367754880985295,
          0.061688490891472283,
          -0.026752399616206304,
          0.01577096235556484,
          -0.035970221809949056,
          -0.0150764556986475,
          -0.006139735583293005,
          -0.012218917951322334,
          0.03995217625939826,
          0.0010065119330480122,
          -0.0280075502011809,
          0.2040231797869976,
          -0.02634003993585728,
          -0.01889210981849827,
          0.03356885945305554,
          -0.010590211281931296,
          -0.18423013838625907,
          0.07774789274234621,
          -0.38101649971519036,
          -0.01855500345349331,
          -0.0660605742139451,
          -0.004984112377920093,
          -0.01642676654955152,
          -0.04048168694802204,
          -0.09362116255341692,
          0.013864364422271087,
          -0.04907381809018234,
          -0.03656892729696277,
          -0.02455226459192807,
          0.005129945671172274,
          -0.07385506984434533,
          0.023808900750142283,
          -0.13977029444899133,
          0.022010611592412473,
          -0.02562747327983146,
          -0.004992855511760145,
          -0.010182139787831682,
          -0.3928329422164878,
          0.054331507429809585,
          0.005878344734606972,
          0.015185604279028354,
          -0.04087651722019985,
          0.1167337853611479,
          -0.0014379449110864598,
          0.04357612220791284,
          -0.3801643802050879,
          -0.08766167118512784,
          0.02100914853426722,
          -0.02350224971812516,
          -0.043362170911602056,
          -0.06432018787407198,
          0.0071840563501468545,
          -0.013467085226155508,
          0.06275874475842763,
          -0.17018588083384956,
          0.15444842094873823,
          0.0014043484944036323,
          -0.13204823727708961,
          0.02321116037953449,
          -0.05399391049944235,
          -0.06199299615780834,
          -0.0032117236660412153,
          0.08381202858143369,
          0.03930576658895378,
          0.0034580831232410986,
          -0.05146239829341286,
          -0.06297304013278508,
          0.0007463769816318313,
          0.004095283616625391,
          -0.0000452002491926683,
          0.031497396626753174,
          0.07832422459889495,
          -0.008986238160133572,
          0.0313280761946024,
          -0.08697940270878145,
          -0.03859685290858864,
          0.014593424082882413,
          0.19628597164519715,
          -0.014656928592182634,
          -0.002159885137837641,
          0.06961770090468816,
          -0.05312617333719683,
          -0.3585279000990152,
          0.05763653355693347,
          0.15004276682500106,
          0.005278522393421557,
          -0.03961964847007956,
          -0.3295083307654342,
          -0.07369714195774672,
          0.011051731701737842,
          -0.15570191976603537,
          -0.08234068470871762,
          0.004828427926106967,
          -0.07306132146908116,
          -0.0033842178315171174,
          -0.1053106430647734,
          -0.0028442155179420527,
          0.03588736568912083,
          -0.09902485630282491,
          -0.07798697417552873,
          -0.09812303110505072,
          -0.1268394436552494,
          -0.29546647633240297,
          -0.13899856098496452,
          -0.08961128528211044,
          0.32071223471937904,
          -0.08971444989634302,
          -0.035171952580428344,
          -0.0029921675743106234,
          -0.07519425329088376,
          -0.07571593482627738,
          0.014096148258617795,
          -0.008043957325873072,
          0.05765352437243808,
          0.1269119962779155,
          -0.0940553000138382,
          0.5394269276806496,
          -0.00973538321251799,
          0.41274488035836165,
          0.37181838860270167,
          -0.03688936344845688,
          -0.0290773359113735,
          0.003066815415612221,
          -0.025821250027002335,
          0.00898517150888271,
          0.002242849381922342,
          -0.005438725995042734,
          -0.05433369379970728,
          0.011809942875317177,
          -0.026041152336415085,
          -0.014366640677660891,
          0.026798387570869702,
          -0.019479874310651738,
          -0.022406281696808986,
          0.0031978727167801192,
          -0.16680359750434554,
          0.015103429219315704,
          0.039173141442741706,
          0.05146410913501652,
          -0.016644050282843183,
          0.03364272556240714,
          0.029722428567506134,
          0.016709500935411736,
          0.018972996642590237,
          0.04287813299611046,
          -0.01890712060453726,
          0.08748740629553958,
          0.14004508092723475,
          -0.07192853219596575,
          -0.021116673636456723,
          0.0010815838930026305,
          -0.0665433029407427,
          -0.005565760121399225,
          0.0958377630681022,
          -0.01048423109752585,
          0.0021871805473048954,
          0.08172477447613022,
          -0.039238807628730804,
          0.06861209858966165,
          -0.012003307267882072,
          -0.10387640530616822,
          0.004095283616625391,
          -0.2747026509705168,
          -0.03309767043781925,
          0.0009442616095542746,
          -0.11276623999853778,
          -0.11731034929262547,
          -0.0031782623359920747,
          -0.07283586134692903,
          0.09745159710593104,
          0.014112611915765872,
          -0.09237395022343807,
          -0.03339728760327069,
          -0.10888219717348672,
          -0.09544653081170242,
          0.0688699194907183,
          -0.1255116690352403,
          -0.015157768737356732,
          0.0289172727833098,
          -0.08524879463913272,
          -0.014541589494935371,
          -0.02785862503297582,
          -0.14246866050607834,
          -0.04146518756370664,
          -0.3559380107627623,
          -0.043397811437256954,
          -0.033102683744213234,
          -0.14716960946765012,
          0.013273355653700084,
          0.0381944086036442,
          0.018069421951642826,
          0.0975801462301049,
          -0.12888698020376596,
          0.00016672076385106628,
          0.11645134186979851,
          -0.03543975126373086,
          -0.036974388971142774,
          0.234164621656357,
          0.0045437764970426365,
          -0.09466940698273416,
          -0.09006244298016391,
          0.03127673161179882,
          -0.007623995166033008,
          -0.12127657961050166,
          -0.020146607777973103,
          -0.05876607686029175,
          -0.063570287758293,
          0.03380256309971232,
          -0.046009337181708396,
          0.11598862407453894,
          0.17354192077682445,
          0.16705997026332367,
          -0.06481491184667318,
          -0.09468616318170373,
          0.1202289118542664,
          0.11314677458835398,
          0.021670798447921476,
          0.09477887178843836,
          0.13953880579491526,
          0.03900687148085495,
          -0.00612417267020471,
          -0.03618661029412955,
          -0.028387246537671967,
          -0.1076786511698663,
          0.030816603046428137,
          -0.09417870838850058,
          -0.007394007410463792,
          -0.2536351255342278,
          -0.371886147219353,
          0.008139909660110628,
          0.006618358046514896,
          -0.031145976710992476,
          -0.04003133796445334,
          -0.018880973555008018,
          -0.01786299226261759,
          -0.016635065269464542,
          0.012674533839429647,
          -0.023603311609115125,
          0.03173729554669436,
          -0.08421504892076954,
          0.015376700458262147,
          -0.016732319831024405,
          -0.05993931080811261,
          -0.023603311609115125,
          -0.09049072734701281,
          -0.15397518682398106,
          -0.15176126288199776,
          -0.4027906226230911,
          -0.004594712688376436,
          0.006796835257731217,
          -0.05736022914384514,
          -0.04447915453393296,
          -0.07411190627675933,
          -0.05846752644474296,
          -0.14711020854401552,
          -0.05480987397495048,
          0.03571053011847977,
          -0.08793498582437236,
          0.051711744530989624,
          -0.0600024247011027,
          -0.006924287873013671,
          -0.07802281872536639,
          0.2015560370799869,
          -0.04070510606777521,
          0.05368986338153195,
          0.05020972920872409,
          -0.08856136893171161,
          -0.030759970389096208,
          -0.05633150321732257,
          -0.11467854286231072,
          -0.2782103025173771,
          -0.039521032177132334,
          -0.06991307991983543,
          -0.0051458286274380476,
          0.11674843531699186,
          0.37468299984368114,
          0.41274488035836165,
          -0.03471255001266708,
          -0.008833168249656288,
          0.03836102217043913,
          0.000829552713364982,
          -0.3413213745874517,
          -0.09250447104843094,
          0.0334219222763646,
          -0.017816111062072933,
          -0.04612999473354365,
          0.04656022284962201,
          0.0013721327342058871,
          -0.004498805970595901,
          -0.02043111742730082,
          0.01923330951138655,
          0.003891307635931523,
          0.013743573498959542,
          0.06571706245257618,
          0.004006315807040921,
          -0.022849242211634244,
          -0.0062650813280320196,
          -0.013265297604080885,
          0.00849113142531016,
          0.028088320736834364,
          0.025890334086870748,
          0.08062377955626064,
          0.10754541361412762,
          -0.011731785681653345,
          -0.3686541134711483,
          -0.0307415786717272,
          0.0012476840315581608,
          0.24596226571258287,
          -0.09754551520603488,
          -0.050999319942592686,
          -0.007704046186653024,
          0.056790057189612254,
          -0.0023855623731254267,
          0.23932686830902827,
          -0.001195427062560626,
          -0.21789374291476435,
          -0.003217587581307743,
          -0.07326616295430344,
          0.0018187558076117377,
          0.019341251397998006,
          0.03341568929342756,
          0.0370017747084124,
          0.010076971102084664,
          0.0200602566288309,
          -0.013918629992736442,
          0.03790519328718547,
          -0.11622524652598132,
          -0.13081820225116766,
          -0.0584734079353061,
          0.07922430312665332,
          0.02132631779882684,
          -0.06862238787275292,
          0.10736441938801042,
          0.11163260658889546,
          0.032870275384930966,
          0.12105467330063514,
          0.01167929495792112,
          0.07486762773386715,
          0.06419718346852693,
          0.08394787672474323,
          0.015744463004501105,
          0.06598415822735329,
          -0.12819320958705313,
          -0.1321594762426962,
          -0.09000043601875814,
          0.005278522393421557,
          0.5394269276806496,
          0.039609528854239684,
          -0.012416339669942565,
          -0.010042659390439088,
          -0.04322830135372922,
          0.08557105933421898,
          0.012601635791960676,
          -0.0014720314975279595,
          0.11505828553038265,
          0.05134936298712067,
          -0.0891415025836016,
          -0.09458409542899972,
          -0.0613600148089026,
          0.2347867700886928,
          -0.08840786703107344,
          -0.03599264659244732,
          0.16208990235171958,
          -0.0091275499065603,
          -0.1930885343572603,
          0.1030766961920273,
          -0.031479176194676786,
          0.037579484923857646,
          -0.08717023625608925,
          -0.06527375403401656,
          0.005596007563234817,
          0.03524009717907896,
          0.009546189069326477,
          -0.07475625953422703,
          0.0276207174012625,
          -0.04333165498086382,
          -0.028097786655062632,
          -0.06344798096092841,
          0.01907942087437816,
          0.12172834875190336,
          0.10729498659505261,
          -0.060654579868273155,
          0.05030276743810074,
          -0.05298307361424006,
          0.011895978274297312,
          0.011392414555886172,
          0.05352115826900791,
          0.003637036963814638,
          0.03830921223282272,
          -0.025547487781604237,
          0.00912818819605488,
          -0.005013097275940322,
          0.0611383128775669,
          -0.036638079499132385,
          -0.2507395778106726,
          -0.01954188578754886,
          -0.023759845783775463,
          0.01691748111044796,
          -0.02471757471831754,
          -0.016166384565303536,
          0.04447228040183844,
          -0.07652562958382121,
          0.11114060532553773,
          -0.013852749789856799,
          -0.05082029674834724,
          -0.004184374018432093,
          -0.023833421420493862,
          -0.021513831672940097,
          0.08436542768497204,
          -0.1529305145178375,
          -0.04561930395226295,
          -0.006001917056589759,
          0.03646376633476445,
          -0.008047955162405323,
          -0.33353378648035814,
          -0.053826091044534514,
          0.0055444164134375385,
          -0.13758294143321823,
          0.06057191612631516,
          -0.06918348737276957,
          0.018653625874651338,
          -0.016625110523056884,
          0.07591482394698254,
          -0.0959282966038525,
          0.21177120954752632,
          0.031935224468798706,
          0.04230310992124944,
          -0.0029758718438633518,
          -0.020938167943837495,
          0.04054142427020574,
          0.028004039821534748,
          -0.010603153448140444,
          0.26591961989320223,
          0.1396214822621045,
          -0.07708481119092474,
          -0.00945683108396094,
          0.27342356997593276,
          -0.1041443575344789,
          -0.09104308268341493,
          0.06229564916407414,
          -0.07451050395040443,
          0.01087455496114,
          0.014012866236379649,
          0.014686897866845194,
          -0.060103622302160514,
          0.04561837700396285,
          0.011210077999525314,
          0.009209516753214594,
          -0.03559067326640503,
          -0.12625166183371114,
          0.08728816521717045,
          0.0224876412592254,
          -0.0293680297746537,
          0.18145655284013762,
          0.08686898209913084,
          0.0788024786036934,
          0.5394269276806496,
          0.37645094711969374,
          0.41274488035836165,
          -0.004873918737279926,
          0.007893232082014798,
          0.011499422981951843,
          -0.03211415446368658,
          0.024583533398585683,
          -0.03421642016225092,
          -0.03243794622381788,
          -0.006810720019628935,
          0.0010267104621558133,
          0.02383628669956947,
          -0.04378513221761053,
          0.050356595964119476,
          0.019630271311947008,
          -0.016492024775924635,
          -0.01673627300990614,
          -0.006824448867378374,
          0.007720668494489747,
          0.024903966186375262,
          -0.041469482474713555,
          0.009348339377105106,
          0.009094841572242007,
          0.0028857104974374017,
          -0.08848268508304077,
          0.0302384754751766,
          -0.057949922949037155,
          0.09445726546189237,
          -0.02630354947954873,
          -0.058116874464020064,
          0.06617691264785172,
          -0.007793176650029315,
          0.011865039846592174,
          0.011254998279775517,
          0.03313229050458162,
          0.016395258364664274,
          0.17492422134177726,
          0.046386313148532386,
          0.013210861299241922,
          -0.08244991101707629,
          -0.06620799095678996,
          -0.133436398345844,
          -0.004766661541847894,
          0.05276549875514726,
          0.000829552713364982,
          0.11964662152139384,
          0.12690324507343995,
          0.08478023490090601,
          -0.20712183061175196,
          0.11021916980848191,
          0.0666811325570378,
          -0.002845716081780743,
          -0.10024248947514491,
          -0.07165579135498358,
          0.04192732109699218,
          0.006772299150847723,
          0.033541273002010895,
          -0.06104501379791049,
          0.17843378665779613,
          -0.09252424652687806,
          -0.40669120675288434,
          0.02605825426129012,
          -0.0022010645220195122,
          0.12932360107658555,
          -0.13012267828562024,
          0.005128590818015637,
          0.00924855179661241,
          0.009104006242621436,
          0.0364873441123253,
          -0.0029433990963085356,
          -0.02429548915587678,
          -0.0584871619824937,
          0.05143602180251348,
          -0.17797209731602048,
          -0.07787212187559422,
          -0.08886874758611639,
          -0.02487627559416224,
          -0.07962386545658585,
          0.03908275770301241,
          -0.020566901265212916,
          0.14140229889172481,
          -0.011578275168967903,
          -0.012552333833608173,
          0.0023548111816740235,
          0.07614733014785754,
          0.021902975405880147,
          -0.00010354142555261329,
          0.09202362862337708,
          -0.024748995614630037,
          -0.10488637659784422,
          0.008885624553876093,
          0.01342429611666736,
          0.2869802061804497,
          -0.08500733702104156,
          0.025097364949007158,
          -0.03546597829371132,
          0.06743484902395151,
          0.021551902258292104,
          -0.014484736100148074,
          -0.0024009447588016113,
          -0.028718093916558364,
          0.00013960808005147757,
          -0.08008786023730938,
          0.04650934188228601,
          -0.022900776801451316,
          0.026139570507935205,
          -0.04406187366672386,
          -0.007641070926061875,
          0.005278522393421557,
          0.000838935130390454,
          0.0021922187013141982,
          -0.03274022365907539,
          0.14850954457466573,
          0.22358652408481028,
          -0.0028252656800704405,
          -0.0005944669526316654,
          0.013735951312915546,
          -0.05344939004160359,
          -0.022033586890353188,
          0.012537316105834499,
          0.02012774575972817,
          -0.019109477961832936,
          -0.12353034005850905,
          0.17238268020085232,
          -0.051279423609793644,
          0.0484745664835409,
          -0.14026492135805452,
          0.014085441286374139,
          -0.01966903000526875,
          0.0075385989019608,
          -0.002725656174518985,
          -0.07780971337532686,
          0.030678185299300897,
          -0.07382176107053556,
          -0.013947910648698415,
          0.029994553668163292,
          -0.07132784909426254,
          -0.04265736812724899,
          -0.09139015319210028,
          0.023798880203158995,
          0.25437278984037875,
          0.02498235026279084,
          0.05241765528197939,
          0.1764252734163931,
          0.0021611896652176145,
          -0.11794449501624558,
          0.17540078623642974,
          0.057184324354515995,
          -0.14351350965459334,
          -0.2740646778607176,
          0.2232079794696723,
          0.05118735480761886,
          0.03764792652982169,
          0.08452389847632326,
          -0.010602273661418622,
          -0.06296097214507695,
          -0.045888324513520734,
          0.5394269276806496,
          0.37578893584914347,
          0.41274488035836165,
          -0.03222037727157816,
          -0.03583706246493045,
          0.000740342306229291,
          0.021791611544762644,
          -0.028387959345274296,
          0.02117740474029204,
          -0.013620365240043269,
          -0.00802867416924197,
          0.11028237030822838,
          0.006591406217463965,
          -0.013395443336287727,
          -0.02627726770637199,
          -0.012529724968260957,
          0.03325427117695328,
          0.08779615800685879,
          0.007458981534376156,
          0.11394974591301452,
          -0.017321297632854758,
          -0.017428575370064186,
          -0.036617240126783475,
          0.012892841671323192,
          0.03100648222007055,
          0.20836886972646787,
          -0.10991900516940405,
          -0.04721319395231108,
          -0.2567701376032831,
          0.03805275570799519,
          0.014874070104417419,
          -0.041464998123917754,
          -0.005542688271941824,
          -0.1098208695825227,
          -0.04166291525361067,
          0.03238832772501505,
          -0.10693045729550671,
          -0.08642995941884596,
          0.04271664024249608,
          -0.02350484865065015,
          -0.028522427850970995,
          0.02268763088116947,
          -0.1090067527658957,
          0.0356367620906372,
          -0.01705429021855833,
          -0.023428015618347755,
          0.00795494687518249,
          0.018010623569293994,
          -0.0011336820343899297,
          -0.06229317557960857,
          0.012072434059997,
          -0.037856615819224164,
          0.01469985322107933,
          0.06693448153794009,
          -0.15377316349848125,
          -0.08690612529065705,
          -0.11491950540835012,
          -0.0019353922336465183,
          0.0141324075974103,
          -0.07588022520509197,
          -0.11728810526700212,
          -0.04104899698347227,
          -0.049514694361094666,
          0.3499977294580933,
          -0.029758835061298235,
          -0.11929432952532809,
          -0.023121967084564474,
          0.039043002767011975,
          0.06843200312469841,
          -0.13035503374554794,
          -0.018523445077484615,
          0.09134029437583531,
          0.00836641475620802,
          -0.012804432531371571,
          0.3767978416313228,
          0.41274488035836204,
          0.5394269276806496,
          0.048126053833202946,
          -0.02589515117037465,
          -0.018103656176613935,
          0.041780579201861325,
          -0.07766574769492317,
          -0.09251788964410715,
          0.04019388503215744,
          -0.025567195062770935,
          0.014425336436946925,
          -0.07285400831559376,
          -0.01991971806066522,
          0.016990166912669802,
          -0.01954704517792071,
          -0.13049701156952487,
          -0.009934202987205185,
          -0.004704858122858142,
          -0.0038549197100865183,
          -0.059591066017135624,
          -0.38216264389770016,
          -0.05854611544863797,
          0.006240738501640143,
          -0.031749872669771736,
          0.015489503260414338,
          -0.1017195678350209,
          0.014213535807397086,
          0.006813601082299191,
          -0.1490627070237334,
          0.02140410124215996,
          0.03385384695846726,
          -0.0826623561261232,
          0.009131035397308465,
          -0.09282636100846066,
          0.04134738198830184,
          0.22872744396555483,
          -0.06703166026437835,
          0.10513421675467455,
          -0.02369631517313336,
          0.021112170270339334,
          -0.04569154103792992,
          -0.01503056783595995,
          -0.11645159301260646,
          -0.11206479219868677,
          -0.026723719609034788,
          0.1510009487262072,
          -0.020247627826895365,
          -0.0530611066881211,
          -0.07083975636851914,
          0.20756439223907683,
          -0.11451900488651336,
          -0.06203939842458839,
          -0.08669011015844272,
          -0.08895933670347538,
          -0.05607790607904776,
          0.044205605237878705,
          0.22364735981376369,
          -0.09196747339767304,
          -0.034501889618400755,
          0.016648877025725217,
          0.12834110525640335,
          0.5394269276806496,
          0.376217625009572,
          0.41274488035836165,
          -0.023454685356642285,
          -0.018497606454316008,
          -0.02144008106139451,
          0.011194400555595153,
          -0.0014756699377918624,
          0.017561471393717585,
          0.009799796286703305,
          -0.0035535688588948233,
          -0.052957794860052185,
          0.06436758049205274,
          0.10886265474783448,
          0.00841004997141331,
          0.20674394075713456,
          -0.009352610702323483,
          0.01576651103435156,
          -0.005885342772214081,
          -0.003636682503461113,
          0.006567049925736905,
          -0.09943013760422907,
          -0.009392603377837275,
          0.032301478491223376,
          -0.0585086604942679,
          0.030130668641725263,
          -0.34815634910271476,
          -0.11978424190718799,
          0.2235304597866627,
          -0.3186192786098114,
          -0.112564562792311,
          -0.25759971350697874,
          0.11787591615336926,
          0.0097448008037135,
          -0.1850355104231903,
          -0.029485504505246007,
          -0.09071358301083418,
          -0.05939389892939621,
          0.04246289945323245,
          -0.04320451543465716,
          0.018397406973509802,
          0.029861394980208397,
          -0.08627954701661103,
          0.005278522393421557,
          -0.01812871428305957,
          -0.062352725295958165,
          -0.03994337114097341,
          -0.1079376394445655,
          -0.0670800357310376,
          0.08958070623366098,
          -0.025965691149963332,
          -0.012821933802396216,
          -0.015954460594093663,
          0.08926470476245284,
          0.030878617349253498,
          -0.01565754373762769,
          -0.05552268811416695,
          0.02914179170859545,
          -0.010083110894387702,
          0.1199807922629476,
          -0.01994950445224901,
          -0.04414969518075994,
          0.005977344800023873,
          0.014002724850357636,
          0.06790458700182504,
          -0.03042927630260692,
          -0.08018609353619731,
          0.028278624054881425,
          0.06375033898024127,
          -0.018997271892356775,
          -0.1384203325238508,
          -0.03491525077395991,
          -0.045716313591435645,
          0.13205235733371623,
          0.021574659516712752,
          0.07324773397272384,
          -0.024750270783228973,
          -0.0006242304569893521,
          -0.00923544677351103,
          0.011512499196127011,
          -0.04897297896020072,
          -0.005983421756287977,
          -0.030119891254927016,
          0.004586675951586622,
          0.02095322413642088,
          -0.35547175762849464,
          -0.03909528612089534,
          -0.05227754571391165,
          -0.026682060163435765,
          -0.05014979604585584,
          0.0077622330620243955,
          -0.1271746620416827,
          -0.08890912628884873,
          -0.018064470357964324,
          0.01564237868218729,
          -0.04520876593299889,
          0.06849861846458292,
          -0.13618669043990048,
          -0.09652871753730088,
          -0.12274775816327056,
          0.08201528548527379,
          -0.09775438688817394,
          -0.13735504656750694,
          -0.041973607241945946,
          0.017675373881638336,
          0.24353686928099005,
          -0.05127205294989435,
          0.008990063130731384,
          -0.02952676973156061,
          0.03688697409387796,
          -0.03177752953273734,
          -0.054045656047408304,
          -0.028682674808139463,
          -0.060209158100681344,
          0.1269119962779155,
          -0.0021348601329262504,
          -0.07817554142572147,
          -0.027138517640787736,
          0.5394269276806496,
          0.37950589626181597,
          0.22876362228417776,
          0.05210712011659228,
          -0.039950685767156734,
          0.004421613872439563,
          0.029128110461980803,
          0.0013952963263432342,
          0.3009803292395488,
          -0.050476732510965745,
          0.2212158909623466,
          0.0860659233926454,
          -0.014976565449781529,
          0.06460174136927889,
          0.003112906761609819,
          0.18931371994768847,
          0.010076971102084702,
          0.03190518717234611,
          -0.006824820189861341,
          -0.025832888924299836,
          0.010050213133535033,
          0.11604096075712476,
          -0.02089893603172269,
          -0.0681112234773168,
          -0.006545593919662223,
          0.03836102217043913,
          0.01402144204121152,
          -0.007543512816334173,
          0.057576306024715945,
          0.031210219672705434,
          -0.036864524702596484,
          -0.04085597232843558,
          -0.02341187570751615,
          -0.00548075019039333,
          -0.04602407288255036,
          -0.18098555872211416,
          -0.056484954829027476,
          -0.027700111871560594,
          0.009560015213175201,
          0.020655774353612166,
          0.24712836855784195,
          -0.06204747163723728,
          0.032912082506726906,
          0.006400434407624833,
          0.10402797063954698,
          -0.026960881209998018,
          -0.11824056500072291,
          -0.015043056148485489,
          -0.04158472495139953,
          -0.0015051269532405471,
          0.18367215956937427,
          -0.3288114639032585,
          -0.04413662111372016,
          -0.02106387989561385,
          0.015815568328876883,
          -0.07775971623708293,
          0.00021505369691367845,
          0.2606335836719778,
          -0.017444383141226236,
          -0.076537207603789,
          -0.05310305721831976,
          0.08303053840162933,
          -0.06409890522103097,
          -0.14226418704378088,
          0.04887722900792099,
          0.07079668081455678,
          -0.04022275878462393,
          0.01605981184257207,
          -0.03089591655521108,
          -0.009468848307662132,
          -0.02201737005379833,
          -0.01624336375722232,
          0.014233547201307949,
          0.03272220691702793,
          -0.0008491173768591614,
          -0.32502918250441715,
          0.1694969951628211,
          -0.04848924568255888,
          0.20629159745780837,
          0.02054399425776476,
          0.025912074573908886,
          0.07583145186699095,
          0.0922675646640127,
          0.0031662477246995214,
          -0.02890872559554411,
          -0.00886859893999977,
          -0.005693424682975874,
          -0.020712920057106714,
          0.09244969167050363,
          -0.03353347426268728,
          0.004020549069799475,
          0.02619946517209863,
          0.019218764055267533,
          -0.025297018399928744,
          0.2739046565638568,
          0.17666155003943926,
          0.1595289711638503,
          -0.03549124967739384,
          -0.10426004219522661,
          0.013686542654299515,
          -0.0175243773421125,
          -0.027778977869266256,
          -0.06622253944440583,
          -0.12093496020045084,
          0.11352690173661319,
          -0.0027010320808611384,
          -0.06665861000820321,
          -0.013739491121485857,
          -0.07374047623230075,
          0.11286243140684024,
          -0.028164118196930626,
          -0.058959054320042614,
          -0.07648181679300094,
          -0.0559230618941267,
          -0.3994298186915331,
          -0.0603615256029051,
          -0.06184076192695334,
          -0.05125801786112145,
          0.047206184057727404,
          -0.05759339522705029,
          -0.09603059526751827,
          0.024638709145582607,
          -0.031546930761752,
          0.11778589425522648,
          -0.041869524308501736,
          -0.009855901995378362,
          0.03393319678637944,
          0.008503972154225813,
          0.32071223471937904,
          -0.02112211170207648,
          0.010466590792671673,
          0.002389652098164834,
          -0.09055222255675721,
          -0.15240519632927502,
          -0.09692385915572176,
          0.11658827299660982,
          0.5394269276806496,
          0.37181838860270167,
          0.10001132313665234,
          -0.018427795080925083,
          0.05319570519646936,
          -0.002349793604081099,
          0.009341678819854218,
          0.007722574115715347,
          0.0034479745175783794,
          0.06507330879579536,
          0.007558685918690876,
          -0.0034714715140422973,
          0.023823479666022968,
          -0.031501589018939506,
          -0.023463166530375865,
          0.021113556881415807,
          0.005158026593447896,
          0.05651461591200396,
          -0.07828183063357051,
          -0.022774384723740066,
          0.08351084559045074,
          0.050507350198418316,
          -0.0043258440313261055,
          0.008992818609936136,
          0.050860775504121866,
          -0.09034443876991036,
          -0.057677765764518746,
          0.056080657280352435,
          -0.030110054660552152,
          -0.01485016978857509,
          -0.011731067944873498,
          0.035944511441214785,
          0.026591039893424304,
          -0.0875985087808361,
          -0.006476955622369332,
          0.0335912937690508,
          -0.007086282452285371,
          0.09086481200691728,
          -0.2873986127887423,
          0.24931444928291266,
          -0.36921644310653967,
          -0.015560900195229774,
          0.24851451950193038,
          -0.09296977233086035,
          -0.36436205893753254,
          -0.034052530080133064,
          -0.07595418937939984,
          -0.025888848999277795,
          -0.020206631124632484,
          -0.0014254352669088156,
          -0.02199635570059974,
          -0.02140784530952793,
          -0.07753732319930223,
          0.0033132216772556455,
          0.009701383940619507,
          -0.016305998452382463,
          0.03319667774047123,
          -0.056355814150210126,
          -0.01062488983460526,
          0.03988474826131619,
          -0.013378938542364252,
          0.05461049259663154,
          0.2915633069210267,
          0.03103705709272919,
          -0.030965720422350625,
          -0.057815652002948,
          -0.030726157325457797,
          -0.04093736378638515,
          -0.002001418615421593,
          -0.262963995014892,
          0.012258261438159222,
          0.002100520757328766,
          -0.009995408953206043,
          0.07091379447721764,
          -0.357652595270793,
          -0.03449725769744201,
          0.0147168162247334,
          -0.05329983297788605,
          0.00942599862894169,
          0.25152515128738734,
          0.06707667971379692,
          -0.013869028342981092,
          0.045720288553651775,
          0.11925291356143199,
          0.08772892899573223,
          -0.17527568308194524,
          0.039073189677040675,
          -0.029156507424337015,
          -0.08162851190388327,
          0.01209358410199999,
          -0.22980223167909833,
          -0.019492890913451237,
          -0.043987737762434774,
          0.01005104318409177,
          0.09417040390261726,
          0.033593303039532466,
          0.15192591791212826,
          0.010126327240196064,
          -0.08691343975515235,
          0.06223618621157449,
          -0.035908707982362224,
          -0.16191120662288722,
          0.04558468892134363,
          0.12868206844808566,
          -0.024991054810168976,
          -0.08069744439558567,
          -0.017299947771563493,
          0.11262992356261815,
          -0.004103974247264723,
          -0.035301534505389656,
          0.04781078985596093,
          -0.0493755907319713,
          -0.005564439610908865,
          -0.06685203014537483,
          -0.01289379374862353,
          -0.002866075593937391,
          0.0009903788302692588,
          -0.33514021155256485,
          -0.05695053813349014,
          -0.013209397026809677,
          -0.11056496386122165,
          0.006452779651972984,
          -0.40536627335369907,
          -0.09987066195248173,
          -0.15089786409711345,
          0.2991144024824811,
          -0.16207691084748205,
          0.06273803384386939,
          -0.011154301659649762,
          -0.020414119287070397,
          -0.005870967352829265,
          -0.025596764405461356,
          -0.03679659638496392,
          -0.02031327936084792,
          -0.0977002542120985,
          -0.04126429761263159,
          -0.060481569533241485,
          -0.022473745584151963,
          0.12265931761761362,
          -0.05659208664001586,
          0.03143503342032504,
          0.007711696057594148,
          0.20172150023625793,
          0.32071223471937904,
          0.00040142151019569955,
          -0.00383304242592721,
          -0.06023848131609715,
          -0.013594586316893443,
          -0.055691320462984965,
          -0.06806545219405864,
          0.03361931325545446,
          -0.07424771039585172,
          -0.15430888447361668,
          0.12743678517491241,
          -0.02903428689918603,
          0.5394269276806496,
          0.41274488035836165,
          0.37468299984368114,
          0.03836102217043913,
          0.0022973880791373642,
          0.2874624777435155,
          0.010374234541427088,
          -0.0704702998353004,
          0.0031113690694179377,
          -0.03820394918735411,
          -0.010704704767174993,
          -0.012155299172787336,
          -0.0395475315885632,
          -0.04998644977709769,
          0.04501636472020946,
          0.09001283077512186,
          0.006227251400963659,
          -0.005784222974864354,
          0.023189232448812946,
          0.01332591387764462,
          0.04518560904092218,
          -0.0008608039918694056,
          -0.0458360899920497,
          0.05511933917884443,
          -0.017826031222310915,
          -0.036842296531453905,
          -0.043243194253528794,
          0.042329886849839515,
          -0.06179575321392805,
          -0.004050782865623715,
          -0.09027891785648054,
          -0.026529860597997584,
          -0.0010869898207840323,
          -0.053264183445564835,
          -0.10514524961885625,
          -0.030432426364193205,
          -0.28716197515215924,
          0.018876236584387984,
          0.01878098899323905,
          -0.07906763056274563,
          -0.2700427491994458,
          -0.037597189891972,
          -0.2422416528639456,
          0.03962306458298913,
          -0.1757412736983626,
          -0.050871541945483205,
          0.08738974380784605,
          0.08583661824040636,
          0.06958179723076537,
          0.09426723757914526,
          0.050592897860811434,
          0.062067424893832504,
          0.043654974319930186,
          -0.05443740870552905,
          0.017867207337332127,
          -0.05644970952293945,
          0.0635868158637275,
          -0.031214166288526263,
          -0.04596429401500768,
          -0.05515756650018866,
          -0.07831475098117856,
          0.08609031604302257,
          -0.0060320442696327435,
          0.003816225753731843,
          -0.001140992420774823,
          -0.06163529271953603,
          -0.02167588148528896,
          0.019259637878750364,
          0.008976554950264637,
          0.03551970708719031,
          -0.0696909643441359,
          -0.11325121411540053,
          0.011862110889995442,
          -0.12517929010870565,
          -0.015307337155218393,
          0.007492935314972905,
          0.0051443766072808705,
          -0.10124059302489187,
          -0.1907175613767354,
          0.04063640027996928,
          0.05025672534593536,
          0.040161361870815294,
          0.018968901104501352,
          0.005438037102356539,
          -0.05698762133786689,
          -0.004212884348536042,
          -0.04562567927081846,
          0.0038940311263663584,
          0.026383237288927372,
          -0.17676072888733446,
          0.02835721016582933,
          0.09428089661143708,
          0.11823149705252735,
          -0.014050929516893611,
          0.15828021927447405,
          -0.008360469777850758,
          -0.021082909581391706,
          0.014987955002454773,
          -0.2339660010924557,
          0.024018539363421777,
          -0.05328526262799335,
          -0.03277034990131943,
          0.0006579716416663281,
          -0.058140244331890543,
          0.08352393504379262,
          0.015334277066938549,
          0.10173158007245771,
          -0.02610616786696495,
          0.26828274295896815,
          0.010477686367789505,
          -0.018965837259747452,
          -0.10897546250028235,
          0.003308786717821035,
          -0.16287580016109315,
          -0.002990397894034001,
          0.02725407980872909,
          0.026137669108684047,
          0.05460104601329863,
          -0.053045758719532446,
          0.012500947292720433,
          -0.06897663371976633,
          -0.02625543402100823,
          -0.07413043251915875,
          -0.3478756597362985,
          -0.057881441345208055,
          0.02157005594209103,
          -0.011235189481888298,
          -0.08954845264445997,
          0.1347299455096084,
          -0.0386328352064965,
          0.04997031475012334,
          -0.17134708912897298,
          -0.26111044265346595,
          0.07018720210452234,
          0.026356821684003252,
          -0.0247753162085983,
          -0.1151370317146344,
          0.3210096031966887,
          -0.33259073249280047,
          -0.014836583254827371,
          -0.0463163583170371,
          -0.12744799666930448,
          0.1150789806754933,
          -0.1327784337971879,
          -0.08265870582354148,
          -0.08783038218686574,
          -0.05079818466794918,
          -0.027178120117155345,
          0.052720559720054225,
          -0.020040308730221553,
          0.059211448528889724,
          -0.13439705138213126,
          -0.06045450100118277,
          0.16038273761497573,
          -0.12317612465837582,
          -0.05067477637626076,
          0.10512355581498121,
          -0.04816113635685408,
          -0.03924247640843831,
          -0.00945683108396094,
          0.2703640390809482,
          -0.09165734175516196,
          -0.0646230271716561,
          -0.0702263883821713,
          -0.0610647126650961,
          -0.004887841184724353,
          -0.029121277814191538,
          -0.040818550179919526,
          0.01457934213291029,
          0.06621474044347349,
          0.02497201225706927,
          -0.07950088836944659,
          -0.10493207596230497,
          0.12547628712464365,
          0.01864722549198879,
          -0.07640138454956562,
          0.11929416101049312,
          -0.10175894620436811,
          -0.07673018691752169,
          0.5394269276806496,
          0.41274488035836165,
          0.37645094711969374,
          -0.07068816198451755,
          0.0788024786036934,
          0.015250728425547143,
          0.12879926887388427,
          0.005278522393421557,
          -0.02479382003450942,
          -0.06701777216916965,
          0.028730888057547293,
          0.03524650358878491,
          -0.1742026869866943,
          -0.030476159939025423,
          -0.015802429998649507,
          -0.1753397493612513,
          0.1374470134613984,
          0.059647653851153865,
          -0.004218357606363075,
          0.04435353673842367,
          0.001135290792741978,
          -0.05545536501349948,
          -0.019498507979550325,
          0.017586131663470467,
          0.017638027328972166,
          -0.00832915463892099,
          0.019052581218283845,
          -0.04839613800679203,
          -0.05719864028752121,
          -0.01444048252164472,
          -0.060019849598713315,
          -0.015159198520990916,
          -0.04009283860524237,
          0.035089395103949254,
          -0.025399199159422174,
          -0.11351223574108073,
          0.10179085001113013,
          0.03326228643184744,
          -0.005605570446121671,
          -0.009014708294492274,
          0.0362614533004463,
          -0.0407002828986205,
          0.009937344823939244,
          -0.04377565816276394,
          -0.15939698533444477,
          0.11964662152139384,
          -0.010893171587544222,
          0.023119193089200903,
          0.021450235094640155,
          0.09774006656332432,
          0.06258378321841541,
          -0.4459611289063653,
          0.05276549875514726,
          0.130153585553598,
          -0.054201308057774816,
          0.027529893681947342,
          0.008207459614110008,
          -0.011079558246193217,
          -0.0094644718659062,
          -0.01541320476477007,
          -0.021563228187569377,
          -0.0055371664259708095,
          0.0006731551694357126,
          0.009104134913966222,
          -0.18618707503755022,
          -0.0833430640907908,
          -0.004713937019075007,
          -0.03690735831242114,
          0.008472079624122051,
          0.005278522393421557,
          -0.008259917798436102,
          0.03409613193723694,
          0.017322939033948725,
          0.0334219222763646,
          -0.005000489164924347,
          0.03771976594068569,
          0.005278522393421557,
          -0.004920525848552595,
          0.01694675216328211,
          0.005278522393421557,
          0.005278522393421557,
          -0.27746632179749997,
          0.008692767874672222,
          0.01485175460578385,
          -0.02337021985446486,
          -0.004198394769279141,
          0.0778190454847695,
          -0.00664535128337761,
          -0.05879530358930335,
          -0.05970096240049318,
          0.15187605319301117,
          -0.042512119064930035,
          0.06127743109586128,
          -0.045730840360402876,
          -0.020677508312963076,
          -0.03846841097416123,
          0.13035340007279353,
          0.04486829302055206,
          0.027043187169492843,
          0.027031019833776693,
          0.0076548348799187795,
          -0.0012709709799994975,
          0.06527861299353167,
          0.04268992456669156,
          0.05112764288964572,
          -0.3113707763898019,
          0.03047201635346554,
          0.08677209820238253,
          0.23560567372082178,
          -0.010191146974061118,
          0.06169987849221828,
          -0.04918881013896115,
          -0.039189328793991514,
          -0.022472681823450177,
          0.05276549875514726,
          0.03771976594068569,
          0.03882297215277459,
          -0.0358761164694994,
          0.01642502910954493,
          -0.10616397497526608,
          0.20044242560242928,
          0.012949081036509512,
          -0.11293435523449173,
          0.006383182934017717,
          0.013596570588510515,
          -0.07866521039338796,
          0.06272988051404554,
          -0.019640046483945097,
          0.005278522393421557,
          0.010774361582404213,
          0.01591131630755438,
          -0.28104436189903725,
          -0.014960365067449636,
          -0.33722010946973763,
          -0.031768669905547366,
          -0.05456143339786079,
          -0.09937109440554294,
          0.04517298555692389,
          0.005278522393421557,
          0.019051037718888147,
          0.04855755484923458,
          -0.11332081336974222,
          0.029994553668163292,
          0.17666155003943926,
          0.0245675683370218,
          -0.0818899323289829,
          -0.014263270151013169,
          -0.0132281087738085,
          -0.07473667001563744,
          0.02604387456491957,
          -0.06664305197797098,
          -0.08889081905825141,
          0.3162026277954487,
          -0.05471914095946685,
          0.07109734244061215,
          0.03924093461576362,
          -0.07082439300568687,
          -0.12496257728703668,
          -0.14350338941768312,
          0.04547771155373896,
          0.26336678009294656,
          0.2265707837445593,
          -0.0036784859564217903,
          -0.297730204397421,
          0.05038798928262626,
          -0.0847562657063551,
          0.061633128406610706,
          0.5394269276806496,
          0.41274488035836165,
          0.00932369106400131,
          0.37578893584914347,
          0.0999395413275538,
          0.29911885920974046,
          0.0018146748561315303,
          -0.032192461852674444,
          -0.02262131841825766,
          -0.007391197835751356,
          0.014052279950641598,
          0.07164821152208631,
          -0.006332043951734671,
          -0.02722984955393762,
          0.029988576676881012,
          0.029337024618698023,
          -0.0453743864736874,
          -0.012859875248099633,
          0.03364975660192722,
          -0.010966596138090411,
          0.0017644206898935202,
          0.003100961515011903,
          -0.012155299172787336,
          0.02698704913520469,
          -0.006074606275878544,
          0.0018888203031502395,
          0.19907719073767138,
          -0.03680129127402225,
          -0.43187334912300845,
          -0.10825657825390463,
          0.05600406108116688,
          0.005487581346430691,
          -0.07718409949154545,
          0.016638578974208545,
          -0.0014634953228621346,
          0.04789978061756251,
          -0.03814607856709469,
          0.013586584454696975,
          -0.0071313105378811754,
          -0.07554933184973348,
          0.03872991221142592,
          -0.09971333185622297,
          -0.046674886968499765,
          -0.1083781636691442,
          -0.09162142576929515,
          0.07872420238487036,
          -0.050195135477983766,
          0.016901982628504775,
          -0.03370156707262777,
          -0.0866985184633091,
          -0.009924060667109123,
          0.0196887816254391,
          -0.0748806722968193,
          -0.15251639195775082,
          0.009279677279059416,
          0.09532099382946754,
          0.06364847138333223,
          0.003846324725399427,
          -0.0382071954729505,
          -0.10815543949980162,
          0.03402424030219632,
          0.0065502328016738085,
          -0.052421728324843674,
          0.013943561035984695,
          0.12487686648034385,
          -0.04924484139275568,
          -0.008634914108891886,
          -0.030726362132338224,
          -0.0871930855573363,
          0.3499977294580933,
          -0.019813625761476487,
          -0.07134166926222596,
          -0.020882511827057786,
          -0.02044322783055075,
          -0.11239253821443458,
          0.020242168310224115,
          -0.027886612384333063,
          -0.023741434508023573,
          0.029145899265876855,
          0.041668903267399866,
          -0.050404891069953474,
          0.5394269276806496,
          0.41274488035836165,
          0.3767978416313228,
          0.019966906315723107,
          0.09468962493362228,
          -0.0881063771359573,
          0.1302514448656962,
          -0.02247790424788362,
          -0.023412989632457276,
          0.03271567676272317,
          -0.07977309448994138,
          0.004169909967527179,
          -0.05523060836493953,
          -0.002875413120400123,
          0.0025193827742075662,
          0.010142946615022063,
          -0.004699688764259517,
          -0.013417658702115807,
          0.03865120711589331,
          -0.03724495025312259,
          -0.0972460773527356,
          0.03789939107468217,
          0.1488229668673218,
          -0.03969109009077276,
          0.03285051814018032,
          -0.059362846020465,
          -0.003378532704522107,
          0.24755125552162896,
          0.024130661561370188,
          -0.01592388874675071,
          0.008239300561723305,
          0.03385384695846726,
          -0.08328670222553067,
          -0.010787522429960264,
          0.01787983973975761,
          -0.09446052935665866,
          -0.1644716321969192,
          0.02996844083352271,
          -0.126617685744696,
          -0.04040247726273186,
          -0.015362289637905398,
          0.08157049181689115,
          0.05434418210598633,
          -0.0037602526578608994,
          -0.022950436380027972,
          0.013340725897594734,
          0.025110157440181368,
          -0.0131335223560564,
          -0.0312604266446701,
          -0.019240482522798988,
          -0.08899897375121116,
          -0.09459067601220233,
          -0.060561513817386566,
          -0.11530859760564305,
          0.15021347320170078,
          -0.04164001793885417,
          0.220533961309261,
          -0.07709133575305722,
          -0.10228802384010131,
          -0.019513291036381452,
          -0.012265428714015631,
          -0.05881550614471666,
          0.20963296335521323,
          0.030434319526142305,
          -0.03386823915214812,
          -0.007352619488882342,
          0.10572092784897663,
          -0.03221983769114791,
          0.044205605237878705,
          0.048619969649363395,
          -0.04084405906764698,
          -0.07257515007219668,
          0.1269119962779155,
          0.41274488035836165,
          0.376217625009572,
          -0.006417380966726418,
          0.5394269276806496,
          -0.010037336566487613,
          -0.04908001345412578,
          0.20595270988480877,
          -0.0038539434861395642,
          -0.009259916321855593,
          0.005278522393421557,
          0.07286571902845125,
          0.26365693037097515,
          -0.0435049893015515,
          -0.012392693885563971,
          0.06034891440642855,
          -0.014640961030225481,
          -0.016890871515373274,
          0.00220551997373873,
          0.01824001647036654,
          -0.008325896099785225,
          -0.02750192814115009,
          0.01449255067648304,
          0.14866584078988593,
          0.05614780928264196,
          0.07094217393720334,
          -0.019806603698755032,
          0.006310516659895182,
          0.21719119045627533,
          -0.026297370014844335,
          0.038469499093131056,
          -0.08994109147769801,
          -0.04593316742137854,
          -0.07667498173826813,
          -0.06887278353353218,
          0.17843378665779613,
          -0.03571077365792216,
          -0.06800156045881774,
          0.2140389931920496,
          -0.039609335191298875,
          0.17773096526805113,
          0.024504620299103594,
          -0.013483201266779283,
          0.09888901267591252,
          -0.03835425585517962,
          -0.06578101692044554,
          -0.023049917442890852,
          -0.012909945475726096,
          0.005278522393421557,
          -0.04790375762029264,
          0.21695291296307542,
          -0.036362887653847584,
          -0.0008864964364538163,
          0.001711022387587562,
          0.06427043449605543,
          -0.0037875617183322787,
          0.12809073968635407,
          -0.012395918746442528,
          0.019546781498101296,
          -0.11034100913600685,
          -0.010865183101113403,
          0.024785298474980736,
          -0.007815134988485862,
          0.25445690108371066,
          0.04270723126733279,
          0.009309726209220257,
          0.005278522393421557,
          0.019392990651383727,
          -0.07216277948656452,
          -0.009981922897446314,
          0.07790717586598506,
          -0.02691937762331188,
          0.010112625078808475,
          0.044153309809610616,
          -0.013799491225210726,
          0.07542198238918509,
          0.024914627584929624,
          -0.0033318860657987363,
          -0.015711556745965867,
          -0.08387526643526073,
          -0.0189940107243476,
          -0.02306729981485886,
          0.008272890970880516,
          0.017536992767791283,
          0.07873228806053498,
          -0.005198217452140379,
          -0.012214228175990395,
          -0.01905815131055395,
          -0.0784029984397938,
          -0.07205736648793284,
          -0.026098796899394188,
          -0.10434824821366902,
          -0.08320928430666276,
          -0.10650179770528816,
          -0.06361383416854675,
          -0.058762156571097,
          -0.14421965828001732,
          -0.010761775555720433,
          -0.026299505450715428,
          -0.004512370628455877,
          -0.012332283206504611,
          0.044282566073234574,
          -0.01205253455829871,
          -0.06963320254019169,
          -0.06193432887419046,
          -0.01692843374916211,
          0.21738022450248862,
          0.048107133999502935,
          0.09519100748172152,
          -0.030246678997239897,
          -0.028908407179374082,
          -0.012328043209807385,
          -0.04461542506904999,
          -0.029815436174750888,
          -0.06723797275236057,
          0.012738160228220297,
          -0.08577490533006746,
          -0.03416846040767696,
          0.012142953788339529,
          0.059646644309276325,
          -0.0076401611660523875,
          0.023975368983095414,
          -0.033224287392869215,
          0.057119501238527465,
          -0.006758602566665358,
          0.19584739575865337,
          0.2651403737179093,
          0.2202431145214084,
          0.02109064915770262,
          -0.04592380727205062,
          0.05472458134522022,
          -0.022885016394161104,
          0.016631935858805454,
          -0.06427447644166348,
          0.008247592196624257,
          0.04948574294442215,
          0.018280126092057605,
          0.1269119962779155,
          -0.0027096678836414866,
          0.5394269276806496,
          0.41274488035836165,
          0.37950589626181597,
          0.02473610426073291,
          -0.005488401385022448,
          -0.15886001548077394,
          -0.003646775320446108,
          0.13839692025362962,
          -0.052985194667875636,
          -0.04157958707358084,
          -0.049370122574220056,
          0.009922819694922806,
          0.05414224689729796,
          -0.007234502513348241,
          -0.015468088493884292,
          0.020185056579089547,
          -0.007504140262331252,
          -0.010889742088274588,
          -0.016372607644088065,
          -0.027267875357709172,
          -0.0052225252971082655,
          -0.0548625060736922,
          -0.0025836196242365996,
          -0.0017956624313546317,
          0.13959728886451897,
          0.00792494735357478,
          -0.006148287555740462,
          -0.19406158631709763,
          -0.03785490996046629,
          0.0105378555669703,
          -0.014017235467367259,
          0.10363471743504726,
          0.02022430018095479,
          0.06614678674681596,
          -0.000911438069814557,
          -0.0852055684685953,
          -0.024519248653420457,
          -0.031180584625662883,
          -0.012000507196289681,
          0.00806062716901957,
          -0.022170276878430744,
          -0.052960407120692145,
          0.13003432671312404,
          -0.06032491385926392,
          -0.01187511935343452,
          -0.04435979250490327,
          0.09852273421284101,
          -0.02314439268885783,
          -0.020490864268204338,
          -0.005054446171348185,
          -0.030027795926686682,
          -0.006609615885995883,
          0.06849660806164683,
          0.04068775454371109,
          -0.0497759347777348,
          -0.023530666380997847,
          -0.01606859568863479,
          -0.017079059710864916,
          0.02856020782022995,
          -0.007171296556521045,
          -0.0881060007142541,
          -0.035796551969251855,
          0.011973367796375003
         ],
         "yaxis": "y"
        }
       ],
       "layout": {
        "coloraxis": {
         "colorbar": {
          "title": {
           "text": "clusters"
          }
         },
         "colorscale": [
          [
           0,
           "#0d0887"
          ],
          [
           0.1111111111111111,
           "#46039f"
          ],
          [
           0.2222222222222222,
           "#7201a8"
          ],
          [
           0.3333333333333333,
           "#9c179e"
          ],
          [
           0.4444444444444444,
           "#bd3786"
          ],
          [
           0.5555555555555556,
           "#d8576b"
          ],
          [
           0.6666666666666666,
           "#ed7953"
          ],
          [
           0.7777777777777778,
           "#fb9f3a"
          ],
          [
           0.8888888888888888,
           "#fdca26"
          ],
          [
           1,
           "#f0f921"
          ]
         ]
        },
        "legend": {
         "tracegroupgap": 0
        },
        "margin": {
         "t": 60
        },
        "template": {
         "data": {
          "bar": [
           {
            "error_x": {
             "color": "#2a3f5f"
            },
            "error_y": {
             "color": "#2a3f5f"
            },
            "marker": {
             "line": {
              "color": "#E5ECF6",
              "width": 0.5
             },
             "pattern": {
              "fillmode": "overlay",
              "size": 10,
              "solidity": 0.2
             }
            },
            "type": "bar"
           }
          ],
          "barpolar": [
           {
            "marker": {
             "line": {
              "color": "#E5ECF6",
              "width": 0.5
             },
             "pattern": {
              "fillmode": "overlay",
              "size": 10,
              "solidity": 0.2
             }
            },
            "type": "barpolar"
           }
          ],
          "carpet": [
           {
            "aaxis": {
             "endlinecolor": "#2a3f5f",
             "gridcolor": "white",
             "linecolor": "white",
             "minorgridcolor": "white",
             "startlinecolor": "#2a3f5f"
            },
            "baxis": {
             "endlinecolor": "#2a3f5f",
             "gridcolor": "white",
             "linecolor": "white",
             "minorgridcolor": "white",
             "startlinecolor": "#2a3f5f"
            },
            "type": "carpet"
           }
          ],
          "choropleth": [
           {
            "colorbar": {
             "outlinewidth": 0,
             "ticks": ""
            },
            "type": "choropleth"
           }
          ],
          "contour": [
           {
            "colorbar": {
             "outlinewidth": 0,
             "ticks": ""
            },
            "colorscale": [
             [
              0,
              "#0d0887"
             ],
             [
              0.1111111111111111,
              "#46039f"
             ],
             [
              0.2222222222222222,
              "#7201a8"
             ],
             [
              0.3333333333333333,
              "#9c179e"
             ],
             [
              0.4444444444444444,
              "#bd3786"
             ],
             [
              0.5555555555555556,
              "#d8576b"
             ],
             [
              0.6666666666666666,
              "#ed7953"
             ],
             [
              0.7777777777777778,
              "#fb9f3a"
             ],
             [
              0.8888888888888888,
              "#fdca26"
             ],
             [
              1,
              "#f0f921"
             ]
            ],
            "type": "contour"
           }
          ],
          "contourcarpet": [
           {
            "colorbar": {
             "outlinewidth": 0,
             "ticks": ""
            },
            "type": "contourcarpet"
           }
          ],
          "heatmap": [
           {
            "colorbar": {
             "outlinewidth": 0,
             "ticks": ""
            },
            "colorscale": [
             [
              0,
              "#0d0887"
             ],
             [
              0.1111111111111111,
              "#46039f"
             ],
             [
              0.2222222222222222,
              "#7201a8"
             ],
             [
              0.3333333333333333,
              "#9c179e"
             ],
             [
              0.4444444444444444,
              "#bd3786"
             ],
             [
              0.5555555555555556,
              "#d8576b"
             ],
             [
              0.6666666666666666,
              "#ed7953"
             ],
             [
              0.7777777777777778,
              "#fb9f3a"
             ],
             [
              0.8888888888888888,
              "#fdca26"
             ],
             [
              1,
              "#f0f921"
             ]
            ],
            "type": "heatmap"
           }
          ],
          "heatmapgl": [
           {
            "colorbar": {
             "outlinewidth": 0,
             "ticks": ""
            },
            "colorscale": [
             [
              0,
              "#0d0887"
             ],
             [
              0.1111111111111111,
              "#46039f"
             ],
             [
              0.2222222222222222,
              "#7201a8"
             ],
             [
              0.3333333333333333,
              "#9c179e"
             ],
             [
              0.4444444444444444,
              "#bd3786"
             ],
             [
              0.5555555555555556,
              "#d8576b"
             ],
             [
              0.6666666666666666,
              "#ed7953"
             ],
             [
              0.7777777777777778,
              "#fb9f3a"
             ],
             [
              0.8888888888888888,
              "#fdca26"
             ],
             [
              1,
              "#f0f921"
             ]
            ],
            "type": "heatmapgl"
           }
          ],
          "histogram": [
           {
            "marker": {
             "pattern": {
              "fillmode": "overlay",
              "size": 10,
              "solidity": 0.2
             }
            },
            "type": "histogram"
           }
          ],
          "histogram2d": [
           {
            "colorbar": {
             "outlinewidth": 0,
             "ticks": ""
            },
            "colorscale": [
             [
              0,
              "#0d0887"
             ],
             [
              0.1111111111111111,
              "#46039f"
             ],
             [
              0.2222222222222222,
              "#7201a8"
             ],
             [
              0.3333333333333333,
              "#9c179e"
             ],
             [
              0.4444444444444444,
              "#bd3786"
             ],
             [
              0.5555555555555556,
              "#d8576b"
             ],
             [
              0.6666666666666666,
              "#ed7953"
             ],
             [
              0.7777777777777778,
              "#fb9f3a"
             ],
             [
              0.8888888888888888,
              "#fdca26"
             ],
             [
              1,
              "#f0f921"
             ]
            ],
            "type": "histogram2d"
           }
          ],
          "histogram2dcontour": [
           {
            "colorbar": {
             "outlinewidth": 0,
             "ticks": ""
            },
            "colorscale": [
             [
              0,
              "#0d0887"
             ],
             [
              0.1111111111111111,
              "#46039f"
             ],
             [
              0.2222222222222222,
              "#7201a8"
             ],
             [
              0.3333333333333333,
              "#9c179e"
             ],
             [
              0.4444444444444444,
              "#bd3786"
             ],
             [
              0.5555555555555556,
              "#d8576b"
             ],
             [
              0.6666666666666666,
              "#ed7953"
             ],
             [
              0.7777777777777778,
              "#fb9f3a"
             ],
             [
              0.8888888888888888,
              "#fdca26"
             ],
             [
              1,
              "#f0f921"
             ]
            ],
            "type": "histogram2dcontour"
           }
          ],
          "mesh3d": [
           {
            "colorbar": {
             "outlinewidth": 0,
             "ticks": ""
            },
            "type": "mesh3d"
           }
          ],
          "parcoords": [
           {
            "line": {
             "colorbar": {
              "outlinewidth": 0,
              "ticks": ""
             }
            },
            "type": "parcoords"
           }
          ],
          "pie": [
           {
            "automargin": true,
            "type": "pie"
           }
          ],
          "scatter": [
           {
            "fillpattern": {
             "fillmode": "overlay",
             "size": 10,
             "solidity": 0.2
            },
            "type": "scatter"
           }
          ],
          "scatter3d": [
           {
            "line": {
             "colorbar": {
              "outlinewidth": 0,
              "ticks": ""
             }
            },
            "marker": {
             "colorbar": {
              "outlinewidth": 0,
              "ticks": ""
             }
            },
            "type": "scatter3d"
           }
          ],
          "scattercarpet": [
           {
            "marker": {
             "colorbar": {
              "outlinewidth": 0,
              "ticks": ""
             }
            },
            "type": "scattercarpet"
           }
          ],
          "scattergeo": [
           {
            "marker": {
             "colorbar": {
              "outlinewidth": 0,
              "ticks": ""
             }
            },
            "type": "scattergeo"
           }
          ],
          "scattergl": [
           {
            "marker": {
             "colorbar": {
              "outlinewidth": 0,
              "ticks": ""
             }
            },
            "type": "scattergl"
           }
          ],
          "scattermapbox": [
           {
            "marker": {
             "colorbar": {
              "outlinewidth": 0,
              "ticks": ""
             }
            },
            "type": "scattermapbox"
           }
          ],
          "scatterpolar": [
           {
            "marker": {
             "colorbar": {
              "outlinewidth": 0,
              "ticks": ""
             }
            },
            "type": "scatterpolar"
           }
          ],
          "scatterpolargl": [
           {
            "marker": {
             "colorbar": {
              "outlinewidth": 0,
              "ticks": ""
             }
            },
            "type": "scatterpolargl"
           }
          ],
          "scatterternary": [
           {
            "marker": {
             "colorbar": {
              "outlinewidth": 0,
              "ticks": ""
             }
            },
            "type": "scatterternary"
           }
          ],
          "surface": [
           {
            "colorbar": {
             "outlinewidth": 0,
             "ticks": ""
            },
            "colorscale": [
             [
              0,
              "#0d0887"
             ],
             [
              0.1111111111111111,
              "#46039f"
             ],
             [
              0.2222222222222222,
              "#7201a8"
             ],
             [
              0.3333333333333333,
              "#9c179e"
             ],
             [
              0.4444444444444444,
              "#bd3786"
             ],
             [
              0.5555555555555556,
              "#d8576b"
             ],
             [
              0.6666666666666666,
              "#ed7953"
             ],
             [
              0.7777777777777778,
              "#fb9f3a"
             ],
             [
              0.8888888888888888,
              "#fdca26"
             ],
             [
              1,
              "#f0f921"
             ]
            ],
            "type": "surface"
           }
          ],
          "table": [
           {
            "cells": {
             "fill": {
              "color": "#EBF0F8"
             },
             "line": {
              "color": "white"
             }
            },
            "header": {
             "fill": {
              "color": "#C8D4E3"
             },
             "line": {
              "color": "white"
             }
            },
            "type": "table"
           }
          ]
         },
         "layout": {
          "annotationdefaults": {
           "arrowcolor": "#2a3f5f",
           "arrowhead": 0,
           "arrowwidth": 1
          },
          "autotypenumbers": "strict",
          "coloraxis": {
           "colorbar": {
            "outlinewidth": 0,
            "ticks": ""
           }
          },
          "colorscale": {
           "diverging": [
            [
             0,
             "#8e0152"
            ],
            [
             0.1,
             "#c51b7d"
            ],
            [
             0.2,
             "#de77ae"
            ],
            [
             0.3,
             "#f1b6da"
            ],
            [
             0.4,
             "#fde0ef"
            ],
            [
             0.5,
             "#f7f7f7"
            ],
            [
             0.6,
             "#e6f5d0"
            ],
            [
             0.7,
             "#b8e186"
            ],
            [
             0.8,
             "#7fbc41"
            ],
            [
             0.9,
             "#4d9221"
            ],
            [
             1,
             "#276419"
            ]
           ],
           "sequential": [
            [
             0,
             "#0d0887"
            ],
            [
             0.1111111111111111,
             "#46039f"
            ],
            [
             0.2222222222222222,
             "#7201a8"
            ],
            [
             0.3333333333333333,
             "#9c179e"
            ],
            [
             0.4444444444444444,
             "#bd3786"
            ],
            [
             0.5555555555555556,
             "#d8576b"
            ],
            [
             0.6666666666666666,
             "#ed7953"
            ],
            [
             0.7777777777777778,
             "#fb9f3a"
            ],
            [
             0.8888888888888888,
             "#fdca26"
            ],
            [
             1,
             "#f0f921"
            ]
           ],
           "sequentialminus": [
            [
             0,
             "#0d0887"
            ],
            [
             0.1111111111111111,
             "#46039f"
            ],
            [
             0.2222222222222222,
             "#7201a8"
            ],
            [
             0.3333333333333333,
             "#9c179e"
            ],
            [
             0.4444444444444444,
             "#bd3786"
            ],
            [
             0.5555555555555556,
             "#d8576b"
            ],
            [
             0.6666666666666666,
             "#ed7953"
            ],
            [
             0.7777777777777778,
             "#fb9f3a"
            ],
            [
             0.8888888888888888,
             "#fdca26"
            ],
            [
             1,
             "#f0f921"
            ]
           ]
          },
          "colorway": [
           "#636efa",
           "#EF553B",
           "#00cc96",
           "#ab63fa",
           "#FFA15A",
           "#19d3f3",
           "#FF6692",
           "#B6E880",
           "#FF97FF",
           "#FECB52"
          ],
          "font": {
           "color": "#2a3f5f"
          },
          "geo": {
           "bgcolor": "white",
           "lakecolor": "white",
           "landcolor": "#E5ECF6",
           "showlakes": true,
           "showland": true,
           "subunitcolor": "white"
          },
          "hoverlabel": {
           "align": "left"
          },
          "hovermode": "closest",
          "mapbox": {
           "style": "light"
          },
          "paper_bgcolor": "white",
          "plot_bgcolor": "#E5ECF6",
          "polar": {
           "angularaxis": {
            "gridcolor": "white",
            "linecolor": "white",
            "ticks": ""
           },
           "bgcolor": "#E5ECF6",
           "radialaxis": {
            "gridcolor": "white",
            "linecolor": "white",
            "ticks": ""
           }
          },
          "scene": {
           "xaxis": {
            "backgroundcolor": "#E5ECF6",
            "gridcolor": "white",
            "gridwidth": 2,
            "linecolor": "white",
            "showbackground": true,
            "ticks": "",
            "zerolinecolor": "white"
           },
           "yaxis": {
            "backgroundcolor": "#E5ECF6",
            "gridcolor": "white",
            "gridwidth": 2,
            "linecolor": "white",
            "showbackground": true,
            "ticks": "",
            "zerolinecolor": "white"
           },
           "zaxis": {
            "backgroundcolor": "#E5ECF6",
            "gridcolor": "white",
            "gridwidth": 2,
            "linecolor": "white",
            "showbackground": true,
            "ticks": "",
            "zerolinecolor": "white"
           }
          },
          "shapedefaults": {
           "line": {
            "color": "#2a3f5f"
           }
          },
          "ternary": {
           "aaxis": {
            "gridcolor": "white",
            "linecolor": "white",
            "ticks": ""
           },
           "baxis": {
            "gridcolor": "white",
            "linecolor": "white",
            "ticks": ""
           },
           "bgcolor": "#E5ECF6",
           "caxis": {
            "gridcolor": "white",
            "linecolor": "white",
            "ticks": ""
           }
          },
          "title": {
           "x": 0.05
          },
          "xaxis": {
           "automargin": true,
           "gridcolor": "white",
           "linecolor": "white",
           "ticks": "",
           "title": {
            "standoff": 15
           },
           "zerolinecolor": "white",
           "zerolinewidth": 2
          },
          "yaxis": {
           "automargin": true,
           "gridcolor": "white",
           "linecolor": "white",
           "ticks": "",
           "title": {
            "standoff": 15
           },
           "zerolinecolor": "white",
           "zerolinewidth": 2
          }
         }
        },
        "xaxis": {
         "anchor": "y",
         "domain": [
          0,
          1
         ],
         "title": {
          "text": "pc_1"
         }
        },
        "yaxis": {
         "anchor": "x",
         "domain": [
          0,
          1
         ],
         "title": {
          "text": "pc_2"
         }
        }
       }
      }
     },
     "metadata": {},
     "output_type": "display_data"
    }
   ],
   "source": [
    "import plotly.express as px\n",
    "fig = px.scatter(df_standardized_pca, x=\"pc_1\", y=\"pc_2\", color=\"clusters\", hover_data='headline.main')\n",
    "fig.show()"
   ]
  },
  {
   "cell_type": "code",
   "execution_count": 79,
   "metadata": {},
   "outputs": [
    {
     "data": {
      "text/html": [
       "<div>\n",
       "<style scoped>\n",
       "    .dataframe tbody tr th:only-of-type {\n",
       "        vertical-align: middle;\n",
       "    }\n",
       "\n",
       "    .dataframe tbody tr th {\n",
       "        vertical-align: top;\n",
       "    }\n",
       "\n",
       "    .dataframe thead th {\n",
       "        text-align: right;\n",
       "    }\n",
       "</style>\n",
       "<table border=\"1\" class=\"dataframe\">\n",
       "  <thead>\n",
       "    <tr style=\"text-align: right;\">\n",
       "      <th></th>\n",
       "      <th>pc_1</th>\n",
       "      <th>pc_2</th>\n",
       "      <th>clusters</th>\n",
       "    </tr>\n",
       "  </thead>\n",
       "  <tbody>\n",
       "    <tr>\n",
       "      <th>0</th>\n",
       "      <td>-0.013978</td>\n",
       "      <td>-0.127010</td>\n",
       "      <td>1</td>\n",
       "    </tr>\n",
       "    <tr>\n",
       "      <th>1</th>\n",
       "      <td>0.106190</td>\n",
       "      <td>-0.135797</td>\n",
       "      <td>0</td>\n",
       "    </tr>\n",
       "    <tr>\n",
       "      <th>2</th>\n",
       "      <td>0.148595</td>\n",
       "      <td>-0.151227</td>\n",
       "      <td>33</td>\n",
       "    </tr>\n",
       "    <tr>\n",
       "      <th>3</th>\n",
       "      <td>-0.000985</td>\n",
       "      <td>-0.017369</td>\n",
       "      <td>51</td>\n",
       "    </tr>\n",
       "    <tr>\n",
       "      <th>4</th>\n",
       "      <td>-0.089641</td>\n",
       "      <td>-0.001266</td>\n",
       "      <td>75</td>\n",
       "    </tr>\n",
       "    <tr>\n",
       "      <th>...</th>\n",
       "      <td>...</td>\n",
       "      <td>...</td>\n",
       "      <td>...</td>\n",
       "    </tr>\n",
       "    <tr>\n",
       "      <th>3901</th>\n",
       "      <td>-0.058628</td>\n",
       "      <td>0.028560</td>\n",
       "      <td>71</td>\n",
       "    </tr>\n",
       "    <tr>\n",
       "      <th>3902</th>\n",
       "      <td>-0.041177</td>\n",
       "      <td>-0.007171</td>\n",
       "      <td>58</td>\n",
       "    </tr>\n",
       "    <tr>\n",
       "      <th>3903</th>\n",
       "      <td>-0.010803</td>\n",
       "      <td>-0.088106</td>\n",
       "      <td>30</td>\n",
       "    </tr>\n",
       "    <tr>\n",
       "      <th>3904</th>\n",
       "      <td>-0.030213</td>\n",
       "      <td>-0.035797</td>\n",
       "      <td>85</td>\n",
       "    </tr>\n",
       "    <tr>\n",
       "      <th>3905</th>\n",
       "      <td>-0.050551</td>\n",
       "      <td>0.011973</td>\n",
       "      <td>53</td>\n",
       "    </tr>\n",
       "  </tbody>\n",
       "</table>\n",
       "<p>3906 rows × 3 columns</p>\n",
       "</div>"
      ],
      "text/plain": [
       "          pc_1      pc_2  clusters\n",
       "0    -0.013978 -0.127010         1\n",
       "1     0.106190 -0.135797         0\n",
       "2     0.148595 -0.151227        33\n",
       "3    -0.000985 -0.017369        51\n",
       "4    -0.089641 -0.001266        75\n",
       "...        ...       ...       ...\n",
       "3901 -0.058628  0.028560        71\n",
       "3902 -0.041177 -0.007171        58\n",
       "3903 -0.010803 -0.088106        30\n",
       "3904 -0.030213 -0.035797        85\n",
       "3905 -0.050551  0.011973        53\n",
       "\n",
       "[3906 rows x 3 columns]"
      ]
     },
     "execution_count": 79,
     "metadata": {},
     "output_type": "execute_result"
    }
   ],
   "source": [
    "df_standardized_pca"
   ]
  },
  {
   "cell_type": "code",
   "execution_count": null,
   "metadata": {},
   "outputs": [],
   "source": []
  },
  {
   "cell_type": "code",
   "execution_count": 31,
   "metadata": {},
   "outputs": [],
   "source": [
    "import numpy as np\n",
    "import matplotlib.pyplot as plt\n",
    "from sklearn.neighbors import NearestNeighbors # for selecting the optimal eps value when using DBSCAN\n",
    "def findOptimalEps(n_neighbors, data):\n",
    "    '''\n",
    "    function to find optimal eps distance when using DBSCAN; based on this article: https://towardsdatascience.com/machine-learning-clustering-dbscan-determine-the-optimal-value-for-epsilon-eps-python-example-3100091cfbc\n",
    "    '''\n",
    "    neigh = NearestNeighbors(n_neighbors=n_neighbors)\n",
    "    nbrs = neigh.fit(data)\n",
    "    distances, indices = nbrs.kneighbors(data)\n",
    "    distances = np.sort(distances, axis=0)\n",
    "    distances = distances[:,1]\n",
    "    plt.plot(distances)"
   ]
  },
  {
   "cell_type": "code",
   "execution_count": 73,
   "metadata": {},
   "outputs": [
    {
     "data": {
      "image/png": "[encoded data removed]",
      "text/plain": [
       "<Figure size 640x480 with 1 Axes>"
      ]
     },
     "metadata": {},
     "output_type": "display_data"
    }
   ],
   "source": [
    "findOptimalEps(2, textdf_sub_tfidf)"
   ]
  },
  {
   "cell_type": "code",
   "execution_count": 74,
   "metadata": {},
   "outputs": [
    {
     "data": {
      "text/plain": [
       "array([0], dtype=int64)"
      ]
     },
     "execution_count": 74,
     "metadata": {},
     "output_type": "execute_result"
    }
   ],
   "source": [
    "dbscan = DBSCAN(eps=0.8, metric=\"euclidean\")\n",
    "dbscan_labels = dbscan.fit_predict(df_text_pca)\n",
    "df_abstracts_dbscan = textdf_sub.copy()\n",
    "df_abstracts_dbscan[\"cluster\"] = dbscan_labels\n",
    "df_abstracts_dbscan[\"cluster\"].unique()"
   ]
  },
  {
   "cell_type": "code",
   "execution_count": 68,
   "metadata": {},
   "outputs": [
    {
     "data": {
      "text/html": [
       "<div>\n",
       "<style scoped>\n",
       "    .dataframe tbody tr th:only-of-type {\n",
       "        vertical-align: middle;\n",
       "    }\n",
       "\n",
       "    .dataframe tbody tr th {\n",
       "        vertical-align: top;\n",
       "    }\n",
       "\n",
       "    .dataframe thead th {\n",
       "        text-align: right;\n",
       "    }\n",
       "</style>\n",
       "<table border=\"1\" class=\"dataframe\">\n",
       "  <thead>\n",
       "    <tr style=\"text-align: right;\">\n",
       "      <th></th>\n",
       "      <th>key_text</th>\n",
       "      <th>cluster</th>\n",
       "    </tr>\n",
       "  </thead>\n",
       "  <tbody>\n",
       "  </tbody>\n",
       "</table>\n",
       "</div>"
      ],
      "text/plain": [
       "Empty DataFrame\n",
       "Columns: [key_text, cluster]\n",
       "Index: []"
      ]
     },
     "execution_count": 68,
     "metadata": {},
     "output_type": "execute_result"
    }
   ],
   "source": [
    "df_abstracts_dbscan[df_abstracts_dbscan[\"cluster\"] == 1][[\"key_text\", \"cluster\"]]"
   ]
  },
  {
   "cell_type": "code",
   "execution_count": 69,
   "metadata": {},
   "outputs": [
    {
     "data": {
      "text/plain": [
       "{0}"
      ]
     },
     "execution_count": 69,
     "metadata": {},
     "output_type": "execute_result"
    }
   ],
   "source": [
    "set([item for item in dbscan_labels])"
   ]
  },
  {
   "cell_type": "code",
   "execution_count": 58,
   "metadata": {},
   "outputs": [
    {
     "data": {
      "text/html": [
       "<div>\n",
       "<style scoped>\n",
       "    .dataframe tbody tr th:only-of-type {\n",
       "        vertical-align: middle;\n",
       "    }\n",
       "\n",
       "    .dataframe tbody tr th {\n",
       "        vertical-align: top;\n",
       "    }\n",
       "\n",
       "    .dataframe thead th {\n",
       "        text-align: right;\n",
       "    }\n",
       "</style>\n",
       "<table border=\"1\" class=\"dataframe\">\n",
       "  <thead>\n",
       "    <tr style=\"text-align: right;\">\n",
       "      <th></th>\n",
       "      <th>0</th>\n",
       "      <th>1</th>\n",
       "      <th>2</th>\n",
       "      <th>3</th>\n",
       "      <th>4</th>\n",
       "      <th>5</th>\n",
       "      <th>6</th>\n",
       "      <th>7</th>\n",
       "      <th>8</th>\n",
       "      <th>9</th>\n",
       "    </tr>\n",
       "  </thead>\n",
       "  <tbody>\n",
       "    <tr>\n",
       "      <th>0</th>\n",
       "      <td>-0.013978</td>\n",
       "      <td>-0.127010</td>\n",
       "      <td>-0.044716</td>\n",
       "      <td>0.242725</td>\n",
       "      <td>-0.025963</td>\n",
       "      <td>-0.045249</td>\n",
       "      <td>-0.011766</td>\n",
       "      <td>0.075800</td>\n",
       "      <td>-0.005765</td>\n",
       "      <td>0.010508</td>\n",
       "    </tr>\n",
       "    <tr>\n",
       "      <th>1</th>\n",
       "      <td>0.106190</td>\n",
       "      <td>-0.135797</td>\n",
       "      <td>0.096387</td>\n",
       "      <td>0.024526</td>\n",
       "      <td>-0.030499</td>\n",
       "      <td>-0.060616</td>\n",
       "      <td>-0.004190</td>\n",
       "      <td>-0.045896</td>\n",
       "      <td>-0.037312</td>\n",
       "      <td>0.067584</td>\n",
       "    </tr>\n",
       "    <tr>\n",
       "      <th>2</th>\n",
       "      <td>0.148595</td>\n",
       "      <td>-0.151227</td>\n",
       "      <td>0.096840</td>\n",
       "      <td>0.199832</td>\n",
       "      <td>-0.072792</td>\n",
       "      <td>0.008445</td>\n",
       "      <td>-0.021414</td>\n",
       "      <td>0.228981</td>\n",
       "      <td>0.008268</td>\n",
       "      <td>-0.089336</td>\n",
       "    </tr>\n",
       "    <tr>\n",
       "      <th>3</th>\n",
       "      <td>-0.000985</td>\n",
       "      <td>-0.017369</td>\n",
       "      <td>-0.049409</td>\n",
       "      <td>0.108021</td>\n",
       "      <td>0.055116</td>\n",
       "      <td>0.003405</td>\n",
       "      <td>0.133412</td>\n",
       "      <td>-0.155542</td>\n",
       "      <td>0.016635</td>\n",
       "      <td>0.145353</td>\n",
       "    </tr>\n",
       "    <tr>\n",
       "      <th>4</th>\n",
       "      <td>-0.089641</td>\n",
       "      <td>-0.001266</td>\n",
       "      <td>-0.100691</td>\n",
       "      <td>-0.162318</td>\n",
       "      <td>0.171421</td>\n",
       "      <td>-0.167832</td>\n",
       "      <td>0.237042</td>\n",
       "      <td>0.318601</td>\n",
       "      <td>0.321098</td>\n",
       "      <td>0.068682</td>\n",
       "    </tr>\n",
       "    <tr>\n",
       "      <th>...</th>\n",
       "      <td>...</td>\n",
       "      <td>...</td>\n",
       "      <td>...</td>\n",
       "      <td>...</td>\n",
       "      <td>...</td>\n",
       "      <td>...</td>\n",
       "      <td>...</td>\n",
       "      <td>...</td>\n",
       "      <td>...</td>\n",
       "      <td>...</td>\n",
       "    </tr>\n",
       "    <tr>\n",
       "      <th>3901</th>\n",
       "      <td>-0.058628</td>\n",
       "      <td>0.028560</td>\n",
       "      <td>-0.035310</td>\n",
       "      <td>-0.106484</td>\n",
       "      <td>-0.068483</td>\n",
       "      <td>0.016131</td>\n",
       "      <td>-0.017148</td>\n",
       "      <td>-0.031526</td>\n",
       "      <td>-0.011258</td>\n",
       "      <td>-0.090744</td>\n",
       "    </tr>\n",
       "    <tr>\n",
       "      <th>3902</th>\n",
       "      <td>-0.041177</td>\n",
       "      <td>-0.007171</td>\n",
       "      <td>-0.009410</td>\n",
       "      <td>-0.028959</td>\n",
       "      <td>-0.062913</td>\n",
       "      <td>0.060935</td>\n",
       "      <td>-0.099575</td>\n",
       "      <td>-0.065586</td>\n",
       "      <td>-0.028886</td>\n",
       "      <td>0.015959</td>\n",
       "    </tr>\n",
       "    <tr>\n",
       "      <th>3903</th>\n",
       "      <td>-0.010803</td>\n",
       "      <td>-0.088106</td>\n",
       "      <td>-0.008131</td>\n",
       "      <td>0.224834</td>\n",
       "      <td>-0.065440</td>\n",
       "      <td>0.007043</td>\n",
       "      <td>0.005364</td>\n",
       "      <td>0.152107</td>\n",
       "      <td>0.007094</td>\n",
       "      <td>-0.041275</td>\n",
       "    </tr>\n",
       "    <tr>\n",
       "      <th>3904</th>\n",
       "      <td>-0.030213</td>\n",
       "      <td>-0.035797</td>\n",
       "      <td>-0.066207</td>\n",
       "      <td>0.052096</td>\n",
       "      <td>0.008626</td>\n",
       "      <td>-0.033936</td>\n",
       "      <td>0.057338</td>\n",
       "      <td>-0.117956</td>\n",
       "      <td>-0.001897</td>\n",
       "      <td>0.081374</td>\n",
       "    </tr>\n",
       "    <tr>\n",
       "      <th>3905</th>\n",
       "      <td>-0.050551</td>\n",
       "      <td>0.011973</td>\n",
       "      <td>-0.036861</td>\n",
       "      <td>-0.058589</td>\n",
       "      <td>-0.016062</td>\n",
       "      <td>0.046373</td>\n",
       "      <td>-0.027411</td>\n",
       "      <td>0.103748</td>\n",
       "      <td>0.017167</td>\n",
       "      <td>0.033590</td>\n",
       "    </tr>\n",
       "  </tbody>\n",
       "</table>\n",
       "<p>3906 rows × 10 columns</p>\n",
       "</div>"
      ],
      "text/plain": [
       "             0         1         2         3         4         5         6  \\\n",
       "0    -0.013978 -0.127010 -0.044716  0.242725 -0.025963 -0.045249 -0.011766   \n",
       "1     0.106190 -0.135797  0.096387  0.024526 -0.030499 -0.060616 -0.004190   \n",
       "2     0.148595 -0.151227  0.096840  0.199832 -0.072792  0.008445 -0.021414   \n",
       "3    -0.000985 -0.017369 -0.049409  0.108021  0.055116  0.003405  0.133412   \n",
       "4    -0.089641 -0.001266 -0.100691 -0.162318  0.171421 -0.167832  0.237042   \n",
       "...        ...       ...       ...       ...       ...       ...       ...   \n",
       "3901 -0.058628  0.028560 -0.035310 -0.106484 -0.068483  0.016131 -0.017148   \n",
       "3902 -0.041177 -0.007171 -0.009410 -0.028959 -0.062913  0.060935 -0.099575   \n",
       "3903 -0.010803 -0.088106 -0.008131  0.224834 -0.065440  0.007043  0.005364   \n",
       "3904 -0.030213 -0.035797 -0.066207  0.052096  0.008626 -0.033936  0.057338   \n",
       "3905 -0.050551  0.011973 -0.036861 -0.058589 -0.016062  0.046373 -0.027411   \n",
       "\n",
       "             7         8         9  \n",
       "0     0.075800 -0.005765  0.010508  \n",
       "1    -0.045896 -0.037312  0.067584  \n",
       "2     0.228981  0.008268 -0.089336  \n",
       "3    -0.155542  0.016635  0.145353  \n",
       "4     0.318601  0.321098  0.068682  \n",
       "...        ...       ...       ...  \n",
       "3901 -0.031526 -0.011258 -0.090744  \n",
       "3902 -0.065586 -0.028886  0.015959  \n",
       "3903  0.152107  0.007094 -0.041275  \n",
       "3904 -0.117956 -0.001897  0.081374  \n",
       "3905  0.103748  0.017167  0.033590  \n",
       "\n",
       "[3906 rows x 10 columns]"
      ]
     },
     "execution_count": 58,
     "metadata": {},
     "output_type": "execute_result"
    }
   ],
   "source": [
    "df_text_pca"
   ]
  },
  {
   "cell_type": "code",
   "execution_count": null,
   "metadata": {},
   "outputs": [],
   "source": []
  },
  {
   "cell_type": "code",
   "execution_count": null,
   "metadata": {},
   "outputs": [],
   "source": []
  }
 ],
 "metadata": {
  "kernelspec": {
   "display_name": ".venv",
   "language": "python",
   "name": "python3"
  },
  "language_info": {
   "codemirror_mode": {
    "name": "ipython",
    "version": 3
   },
   "file_extension": ".py",
   "mimetype": "text/x-python",
   "name": "python",
   "nbconvert_exporter": "python",
   "pygments_lexer": "ipython3",
   "version": "3.11.4"
  }
 },
 "nbformat": 4,
 "nbformat_minor": 2
}
