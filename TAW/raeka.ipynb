{
 "cells": [
  {
   "cell_type": "code",
   "execution_count": null,
   "metadata": {},
   "outputs": [],
   "source": []
  },
  {
   "cell_type": "code",
   "execution_count": 1,
   "metadata": {},
   "outputs": [],
   "source": [
    "import time\n",
    "\n",
    "def nayra_test(): \n",
    "    print(\"Nayra has a big booty!\")\n",
    "    time.sleep(2)\n",
    "    print(\"Raeka is a genius! Deep down, you agree, I can read your mind.\")\n",
    "    time.sleep(3)\n",
    "    print(\"Nayra has a tiny brain, Raeka's brain is giant.(Hint!)\")\n",
    "    print(\"Are you smarter than Raeka? Y/N\")\n",
    "    answer=input()\n",
    "    ctr = 0\n",
    "    while answer not in [\"Y\", \"N\"]:\n",
    "        print(\"Sorry, your answer does not compute. Please enter a Y or a N!\")\n",
    "        answer = input()\n",
    "        ctr+=1\n",
    "    if ctr > 1:\n",
    "        print(\"Finally a valid answer!\")\n",
    "\n",
    "    if answer==\"Y\":\n",
    "        print(\"Your brain is incredibly small if you do not know such common knowledge! You are incorrect.\")\n",
    "    else:\n",
    "        print(\"Your brain has a large capacity (still smaller than Raeka's though) your answer is correct!\")\n"
   ]
  },
  {
   "cell_type": "code",
   "execution_count": null,
   "metadata": {},
   "outputs": [],
   "source": []
  },
  {
   "cell_type": "code",
   "execution_count": null,
   "metadata": {},
   "outputs": [],
   "source": []
  },
  {
   "cell_type": "code",
   "execution_count": null,
   "metadata": {},
   "outputs": [],
   "source": []
  },
  {
   "cell_type": "code",
   "execution_count": null,
   "metadata": {},
   "outputs": [],
   "source": []
  },
  {
   "cell_type": "code",
   "execution_count": 2,
   "metadata": {},
   "outputs": [
    {
     "name": "stdout",
     "output_type": "stream",
     "text": [
      "Nayra has a big booty!\n",
      "Raeka is a genius! Deep down, you agree, I can read your mind.\n",
      "Nayra has a tiny brain, Raeka's brain is giant.(Hint!)\n",
      "Are you smarter than Raeka? Y/N\n",
      "Sorry, your answer does not compute. Please enter a Y or a N!\n",
      "Your brain is incredibly small if you do not know such common knowledge! You are incorrect.\n"
     ]
    }
   ],
   "source": [
    "nayra_test()"
   ]
  }
 ],
 "metadata": {
  "kernelspec": {
   "display_name": ".venv",
   "language": "python",
   "name": "python3"
  },
  "language_info": {
   "codemirror_mode": {
    "name": "ipython",
    "version": 3
   },
   "file_extension": ".py",
   "mimetype": "text/x-python",
   "name": "python",
   "nbconvert_exporter": "python",
   "pygments_lexer": "ipython3",
   "version": "3.11.4"
  }
 },
 "nbformat": 4,
 "nbformat_minor": 2
}
